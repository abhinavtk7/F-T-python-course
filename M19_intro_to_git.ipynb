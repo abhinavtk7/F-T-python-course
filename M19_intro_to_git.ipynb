{
  "cells": [
    {
      "cell_type": "code",
      "execution_count": 1,
      "metadata": {
        "hideCode": true,
        "colab": {
          "base_uri": "https://localhost:8080/",
          "height": 17
        },
        "id": "v2Qi5IIT2nwA",
        "outputId": "a7be0398-3795-456c-d482-d8bd42af1800"
      },
      "outputs": [
        {
          "output_type": "display_data",
          "data": {
            "text/plain": [
              "<IPython.core.display.Javascript object>"
            ],
            "application/javascript": [
              "requirejs.config({\n",
              "    paths: {\n",
              "        'GitgraphJS': ['//cdn.jsdelivr.net/npm/@gitgraph/js?noext'],\n",
              "    },\n",
              "});\n",
              "\n",
              "window.getGitGraph = function (element, callback) {\n",
              "    require(['GitgraphJS'], function(GitgraphJS) {\n",
              "        // Get the graph container HTML element.\n",
              "        var graphContainer2 = element[0];\n",
              "        console.log(graphContainer2);\n",
              "\n",
              "        // Instantiate the graph.\n",
              "        var gitgraph = GitgraphJS.createGitgraph(graphContainer2, {\n",
              "            orientation: 'horizontal',\n",
              "            mode: 'compact'\n",
              "        })\n",
              "        callback(gitgraph);\n",
              "    });\n",
              "}\n"
            ]
          },
          "metadata": {}
        }
      ],
      "source": [
        "%%javascript\n",
        "requirejs.config({\n",
        "    paths: {\n",
        "        'GitgraphJS': ['//cdn.jsdelivr.net/npm/@gitgraph/js?noext'],\n",
        "    },\n",
        "});\n",
        "\n",
        "window.getGitGraph = function (element, callback) {\n",
        "    require(['GitgraphJS'], function(GitgraphJS) {\n",
        "        // Get the graph container HTML element.\n",
        "        var graphContainer2 = element[0];\n",
        "        console.log(graphContainer2);\n",
        "\n",
        "        // Instantiate the graph.\n",
        "        var gitgraph = GitgraphJS.createGitgraph(graphContainer2, {\n",
        "            orientation: 'horizontal',\n",
        "            mode: 'compact'\n",
        "        })\n",
        "        callback(gitgraph);\n",
        "    });\n",
        "}"
      ]
    },
    {
      "cell_type": "markdown",
      "metadata": {
        "id": "_GxUVcm82nwF"
      },
      "source": [
        "# Basic git via command-line"
      ]
    },
    {
      "cell_type": "markdown",
      "metadata": {
        "id": "txCllICJ2nwH"
      },
      "source": [
        "This exercise abuses Jupyter notebooks a little to run bash commands (starting with `!`). We will walk through a relatively simple git scenario, with the intent of giving a hands-on understanding of what's happening under the Github/Sourcetree/etc hood."
      ]
    },
    {
      "cell_type": "code",
      "execution_count": 2,
      "metadata": {
        "colab": {
          "base_uri": "https://localhost:8080/"
        },
        "id": "2b90dA5Q2nwH",
        "outputId": "8db63403-0c1d-4b6f-9419-6007cb17e442"
      },
      "outputs": [
        {
          "output_type": "stream",
          "name": "stdout",
          "text": [
            "\u001b[33mhint: Using 'master' as the name for the initial branch. This default branch name\u001b[m\n",
            "\u001b[33mhint: is subject to change. To configure the initial branch name to use in all\u001b[m\n",
            "\u001b[33mhint: of your new repositories, which will suppress this warning, call:\u001b[m\n",
            "\u001b[33mhint: \u001b[m\n",
            "\u001b[33mhint: \tgit config --global init.defaultBranch <name>\u001b[m\n",
            "\u001b[33mhint: \u001b[m\n",
            "\u001b[33mhint: Names commonly chosen instead of 'master' are 'main', 'trunk' and\u001b[m\n",
            "\u001b[33mhint: 'development'. The just-created branch can be renamed via this command:\u001b[m\n",
            "\u001b[33mhint: \u001b[m\n",
            "\u001b[33mhint: \tgit branch -m <name>\u001b[m\n",
            "Initialized empty Git repository in /content/.git/\n"
          ]
        }
      ],
      "source": [
        "!git init"
      ]
    },
    {
      "cell_type": "markdown",
      "metadata": {
        "id": "IYeAjUfy2nwI"
      },
      "source": [
        "This has created the folder `.git` - that's git's entire memory as long as it is on our computer. Most git commands from here on will consult that directory to find out, store and amend git's history."
      ]
    },
    {
      "cell_type": "code",
      "execution_count": 3,
      "metadata": {
        "colab": {
          "base_uri": "https://localhost:8080/"
        },
        "id": "JmGesAzt2nwI",
        "outputId": "0a23b5b5-c40f-4f1d-8b98-1a338d63e3a7"
      },
      "outputs": [
        {
          "output_type": "stream",
          "name": "stdout",
          "text": [
            "On branch master\n",
            "\n",
            "No commits yet\n",
            "\n",
            "Untracked files:\n",
            "  (use \"git add <file>...\" to include in what will be committed)\n",
            "\t\u001b[31m.config/\u001b[m\n",
            "\t\u001b[31msample_data/\u001b[m\n",
            "\n",
            "nothing added to commit but untracked files present (use \"git add\" to track)\n"
          ]
        }
      ],
      "source": [
        "!git status"
      ]
    },
    {
      "cell_type": "markdown",
      "metadata": {
        "id": "QyS_9lU92nwJ"
      },
      "source": [
        "`git status` is the simplest way to get a snapshot of the current repository as you are using it - what's edited, what's not."
      ]
    },
    {
      "cell_type": "code",
      "execution_count": 4,
      "metadata": {
        "id": "6AiN1Rln2nwJ"
      },
      "outputs": [],
      "source": [
        "!mkdir -p test"
      ]
    },
    {
      "cell_type": "markdown",
      "metadata": {
        "id": "lrdZ57FH2nwJ"
      },
      "source": [
        "Sneakily, we have already told git not to worry about the `Introduction to git.ipynb` and `example.py` files (more info below)."
      ]
    },
    {
      "cell_type": "code",
      "execution_count": 5,
      "metadata": {
        "colab": {
          "base_uri": "https://localhost:8080/"
        },
        "id": "cO93R3bx2nwJ",
        "outputId": "e38f601d-e156-463d-f303-2e8ea9b0484b"
      },
      "outputs": [
        {
          "output_type": "stream",
          "name": "stdout",
          "text": [
            "On branch master\n",
            "\n",
            "No commits yet\n",
            "\n",
            "Untracked files:\n",
            "  (use \"git add <file>...\" to include in what will be committed)\n",
            "\t\u001b[31m.config/\u001b[m\n",
            "\t\u001b[31msample_data/\u001b[m\n",
            "\n",
            "nothing added to commit but untracked files present (use \"git add\" to track)\n"
          ]
        }
      ],
      "source": [
        "!git status"
      ]
    },
    {
      "cell_type": "markdown",
      "metadata": {
        "id": "EvnYDY7h2nwK"
      },
      "source": [
        "You will notice that the creation of a `test` directory was not noticed - directories only matter to git if they contain files that it is (or would) track..."
      ]
    },
    {
      "cell_type": "code",
      "execution_count": null,
      "metadata": {
        "id": "nZBYusnl2nwK",
        "collapsed": true
      },
      "outputs": [],
      "source": [
        "!cp ../example.py test"
      ]
    },
    {
      "cell_type": "markdown",
      "metadata": {
        "id": "TMrdcjzc2nwK"
      },
      "source": [
        "We have now added a file to the test directory..."
      ]
    },
    {
      "cell_type": "code",
      "execution_count": 8,
      "metadata": {
        "id": "YfZ2x87E2nwK",
        "outputId": "02c2f029-e583-4991-ed95-e172f478333e",
        "colab": {
          "base_uri": "https://localhost:8080/"
        }
      },
      "outputs": [
        {
          "output_type": "stream",
          "name": "stdout",
          "text": [
            "example.py\n"
          ]
        }
      ],
      "source": [
        "!ls test"
      ]
    },
    {
      "cell_type": "code",
      "execution_count": 9,
      "metadata": {
        "id": "W7mjJJlI2nwL",
        "outputId": "a4f2c3b3-2b63-4641-aa51-677119ea8756",
        "colab": {
          "base_uri": "https://localhost:8080/"
        }
      },
      "outputs": [
        {
          "output_type": "stream",
          "name": "stdout",
          "text": [
            "On branch master\n",
            "\n",
            "No commits yet\n",
            "\n",
            "Untracked files:\n",
            "  (use \"git add <file>...\" to include in what will be committed)\n",
            "\t\u001b[31m.config/\u001b[m\n",
            "\t\u001b[31msample_data/\u001b[m\n",
            "\t\u001b[31mtest/\u001b[m\n",
            "\n",
            "nothing added to commit but untracked files present (use \"git add\" to track)\n"
          ]
        }
      ],
      "source": [
        "!git status"
      ]
    },
    {
      "cell_type": "markdown",
      "metadata": {
        "id": "brB29IeU2nwL"
      },
      "source": [
        "Now you can see `test` has appeared as \"Untracked\" -- git notices it, but is not yet tracking it, versioning it, or otherwise observing it."
      ]
    },
    {
      "cell_type": "code",
      "execution_count": 10,
      "metadata": {
        "id": "LhvWbwmX2nwL"
      },
      "outputs": [],
      "source": [
        "!git add test"
      ]
    },
    {
      "cell_type": "markdown",
      "metadata": {
        "id": "N8EJXEkW2nwL"
      },
      "source": [
        "We tell git that it matters... then we can see it now wants to version (commit) its contents."
      ]
    },
    {
      "cell_type": "code",
      "execution_count": 11,
      "metadata": {
        "id": "wPMZRdyQ2nwL",
        "outputId": "436acdc0-0d2f-4b7c-c33d-fb6c76e46005",
        "colab": {
          "base_uri": "https://localhost:8080/"
        }
      },
      "outputs": [
        {
          "output_type": "stream",
          "name": "stdout",
          "text": [
            "On branch master\n",
            "\n",
            "No commits yet\n",
            "\n",
            "Changes to be committed:\n",
            "  (use \"git rm --cached <file>...\" to unstage)\n",
            "\t\u001b[32mnew file:   test/example.py\u001b[m\n",
            "\n",
            "Untracked files:\n",
            "  (use \"git add <file>...\" to include in what will be committed)\n",
            "\t\u001b[31m.config/\u001b[m\n",
            "\t\u001b[31msample_data/\u001b[m\n",
            "\n"
          ]
        }
      ],
      "source": [
        "!git status"
      ]
    },
    {
      "cell_type": "markdown",
      "metadata": {
        "id": "gggm96Mh2nwM"
      },
      "source": [
        "We snapshot a version - commit it..."
      ]
    },
    {
      "cell_type": "code",
      "execution_count": 12,
      "metadata": {
        "id": "2XcqRYyK2nwM"
      },
      "outputs": [],
      "source": [
        "!git config --global user.email \"abhinav.tk@flaxandteal.co.uk\"\n",
        "!git config --global user.name \"abhinavtk7\""
      ]
    },
    {
      "cell_type": "code",
      "execution_count": 13,
      "metadata": {
        "id": "M-mOZsFP2nwM",
        "outputId": "a48aad65-fc0d-4d2f-bdb8-59deee97d397",
        "colab": {
          "base_uri": "https://localhost:8080/"
        }
      },
      "outputs": [
        {
          "output_type": "stream",
          "name": "stdout",
          "text": [
            "[master (root-commit) ecef8c1] Initial commit\n",
            " 1 file changed, 9 insertions(+)\n",
            " create mode 100644 test/example.py\n"
          ]
        }
      ],
      "source": [
        "!git commit -m \"Initial commit\""
      ]
    },
    {
      "cell_type": "markdown",
      "metadata": {
        "id": "HaNsdAvj2nwM"
      },
      "source": [
        "And we now have a git repository like any other - it has a first commit, with a file, and whatever happens to that file, we can now roll back to our committed version."
      ]
    },
    {
      "cell_type": "code",
      "execution_count": 14,
      "metadata": {
        "hideCode": true,
        "id": "YRlNzXZ-2nwM",
        "outputId": "0141d738-b979-4409-d645-4febfec0405b",
        "colab": {
          "base_uri": "https://localhost:8080/",
          "height": 17
        }
      },
      "outputs": [
        {
          "output_type": "display_data",
          "data": {
            "text/plain": [
              "<IPython.core.display.Javascript object>"
            ],
            "application/javascript": [
              "\n",
              "getGitGraph(element, function (gitgraph) {\n",
              "    console.log(gitgraph);\n",
              "    var master = gitgraph.branch(\"master\");\n",
              "    master.commit(\"Initial commit\");\n",
              "});\n"
            ]
          },
          "metadata": {}
        }
      ],
      "source": [
        "%%javascript\n",
        "\n",
        "getGitGraph(element, function (gitgraph) {\n",
        "    console.log(gitgraph);\n",
        "    var master = gitgraph.branch(\"master\");\n",
        "    master.commit(\"Initial commit\");\n",
        "});"
      ]
    },
    {
      "cell_type": "markdown",
      "metadata": {
        "id": "aPfc9DHl2nwM"
      },
      "source": [
        "Above is a simple representation of the current git-tree (these are not live-updating so will only be accurate if you're following the steps closely!).\n",
        "\n",
        "It has a single dot, indicating a commit, beside a branch-name -- master. This is comparable to, for instance, trunk in SVN, but git is a _decentralized_ version control system, and so you have your own `master` branch locally, independent from the \"remote\" `master` branch (and any other remote branches)"
      ]
    },
    {
      "cell_type": "markdown",
      "metadata": {
        "id": "4sZlsV-C2nwN"
      },
      "source": [
        "Lets suppose we wish to update example.py - use [this link](https://jh.ev.openindustry.in/hub/user-redirect/edit/python-course/019-git/test/example.py) or go to the file browser, and open `python-course/019-git/test/example.py`"
      ]
    },
    {
      "cell_type": "markdown",
      "metadata": {
        "id": "qfTytPWT2nwN"
      },
      "source": [
        "## Status & Committing"
      ]
    },
    {
      "cell_type": "markdown",
      "metadata": {
        "id": "qXt0U5jQ2nwN"
      },
      "source": [
        "Lets begin by improving the doc-string - the text at the start of the file."
      ]
    },
    {
      "cell_type": "markdown",
      "metadata": {
        "id": "CiKVVECo2nwN"
      },
      "source": [
        "Change:\n",
        "\n",
        "    This is an example Python file\n",
        "\n",
        "to:\n",
        "\n",
        "    Text manipulation utilities"
      ]
    },
    {
      "cell_type": "markdown",
      "metadata": {
        "id": "HF10logr2nwN"
      },
      "source": [
        "and save. Git can tell this has changed:"
      ]
    },
    {
      "cell_type": "code",
      "execution_count": 15,
      "metadata": {
        "id": "Uvu6yXzi2nwN",
        "outputId": "926a0401-821e-4966-a658-ae14b36d5f8a",
        "colab": {
          "base_uri": "https://localhost:8080/"
        }
      },
      "outputs": [
        {
          "output_type": "stream",
          "name": "stdout",
          "text": [
            "On branch master\n",
            "Changes not staged for commit:\n",
            "  (use \"git add <file>...\" to update what will be committed)\n",
            "  (use \"git restore <file>...\" to discard changes in working directory)\n",
            "\t\u001b[31mmodified:   test/example.py\u001b[m\n",
            "\n",
            "Untracked files:\n",
            "  (use \"git add <file>...\" to include in what will be committed)\n",
            "\t\u001b[31m.config/\u001b[m\n",
            "\t\u001b[31msample_data/\u001b[m\n",
            "\n",
            "no changes added to commit (use \"git add\" and/or \"git commit -a\")\n"
          ]
        }
      ],
      "source": [
        "!git status"
      ]
    },
    {
      "cell_type": "markdown",
      "metadata": {
        "id": "QEQ3PcO92nwO"
      },
      "source": [
        "We can add and commit these changes in two steps (a combined shortcut is possible, but doing them separately is strongly recommended)."
      ]
    },
    {
      "cell_type": "code",
      "execution_count": 16,
      "metadata": {
        "id": "_CR3Ma4O2nwO",
        "outputId": "ea2baaa7-4820-4086-8199-db051a0d0b42",
        "colab": {
          "base_uri": "https://localhost:8080/"
        }
      },
      "outputs": [
        {
          "output_type": "stream",
          "name": "stdout",
          "text": [
            "[master 5be1bf1] improve utility file docstring\n",
            " 1 file changed, 1 insertion(+), 1 deletion(-)\n"
          ]
        }
      ],
      "source": [
        "!git add test/example.py\n",
        "!git commit -m \"improve utility file docstring\""
      ]
    },
    {
      "cell_type": "markdown",
      "metadata": {
        "id": "WkCs3Rix2nwO"
      },
      "source": [
        "These are now recorded. You can continue changing the file, and know that you can find and return to this version."
      ]
    },
    {
      "cell_type": "markdown",
      "metadata": {
        "id": "Ee509DY82nwO"
      },
      "source": [
        "You'll notice that git gives a handy summary of the scale of changes you just committed -- keep an eye on that, it's often an easy mistake to commit files you did not intend ( _if you haven't pushed your changes to a remote git server_ , you may be able to adjust with `git commit`'s `--amend` flag, but _only_ if you haven't yet sent them anywhere!)"
      ]
    },
    {
      "cell_type": "code",
      "execution_count": 19,
      "metadata": {
        "hideCode": true,
        "id": "VrKR3aiB2nwO",
        "outputId": "b374dec7-1ed2-4b15-a12b-822231d410cd",
        "colab": {
          "base_uri": "https://localhost:8080/",
          "height": 17
        }
      },
      "outputs": [
        {
          "output_type": "display_data",
          "data": {
            "text/plain": [
              "<IPython.core.display.Javascript object>"
            ],
            "application/javascript": [
              "\n",
              "getGitGraph(element, function (gitgraph) {\n",
              "    console.log(gitgraph);\n",
              "    var master = gitgraph.branch(\"master\");\n",
              "    master.commit(\"Initial commit\");\n",
              "    master.commit(\"improve utility file docstring\");\n",
              "});\n"
            ]
          },
          "metadata": {}
        }
      ],
      "source": [
        "%%javascript\n",
        "\n",
        "getGitGraph(element, function (gitgraph) {\n",
        "    console.log(gitgraph);\n",
        "    var master = gitgraph.branch(\"master\");\n",
        "    master.commit(\"Initial commit\");\n",
        "    master.commit(\"improve utility file docstring\");\n",
        "});"
      ]
    },
    {
      "cell_type": "markdown",
      "metadata": {
        "id": "uNGyh6Dp2nwP"
      },
      "source": [
        "## The Index & Diff"
      ]
    },
    {
      "cell_type": "markdown",
      "metadata": {
        "id": "T33eq4NK2nwP"
      },
      "source": [
        "We notice that the `capitalize` method is using the `.lower` method, woops -- edit that, changing `.lower` to `.upper` and save it now."
      ]
    },
    {
      "cell_type": "code",
      "execution_count": 20,
      "metadata": {
        "id": "v6wj9PzL2nwP",
        "outputId": "fc7b4e34-4389-4bd8-9d62-cd58fd0a9674",
        "colab": {
          "base_uri": "https://localhost:8080/"
        }
      },
      "outputs": [
        {
          "output_type": "stream",
          "name": "stdout",
          "text": [
            "TESTING\n"
          ]
        }
      ],
      "source": [
        "!python3 test/example.py"
      ]
    },
    {
      "cell_type": "markdown",
      "metadata": {
        "id": "NN8cIvPY2nwY"
      },
      "source": [
        "Git can tell this has changed..."
      ]
    },
    {
      "cell_type": "code",
      "execution_count": 21,
      "metadata": {
        "id": "XuGe2-nT2nwY",
        "outputId": "e10ff1a0-8672-40a3-b5f5-ae53399ffedc",
        "colab": {
          "base_uri": "https://localhost:8080/"
        }
      },
      "outputs": [
        {
          "output_type": "stream",
          "name": "stdout",
          "text": [
            "On branch master\n",
            "Untracked files:\n",
            "  (use \"git add <file>...\" to include in what will be committed)\n",
            "\t\u001b[31m.config/\u001b[m\n",
            "\t\u001b[31msample_data/\u001b[m\n",
            "\n",
            "nothing added to commit but untracked files present (use \"git add\" to track)\n"
          ]
        }
      ],
      "source": [
        "!git status"
      ]
    },
    {
      "cell_type": "markdown",
      "metadata": {
        "id": "xsRZUETW2nwZ"
      },
      "source": [
        "You should notice that there is a line `modified:   test/example.py` indicating that you have changes that are not committed. This means the repo is \"dirty\".\n",
        "\n",
        "Moreover, it is under a section `Changes not staged for commit`. Git has a concept of staging - the _index_ - where you add you changes (additions/modifications/removals) and all of the staged changes are committed at once.\n",
        "\n",
        "You can stage your changes (git add), unstage them, stage a few different changes, but none of it is permanently recorded."
      ]
    },
    {
      "cell_type": "code",
      "execution_count": 22,
      "metadata": {
        "id": "5y5yjR8F2nwZ",
        "outputId": "0c10b305-18f7-4e46-8fc3-d380b01c7923",
        "colab": {
          "base_uri": "https://localhost:8080/"
        }
      },
      "outputs": [
        {
          "output_type": "stream",
          "name": "stdout",
          "text": [
            "On branch master\n",
            "Changes to be committed:\n",
            "  (use \"git restore --staged <file>...\" to unstage)\n",
            "\t\u001b[32mmodified:   test/example.py\u001b[m\n",
            "\n",
            "Untracked files:\n",
            "  (use \"git add <file>...\" to include in what will be committed)\n",
            "\t\u001b[31m.config/\u001b[m\n",
            "\t\u001b[31msample_data/\u001b[m\n",
            "\n"
          ]
        }
      ],
      "source": [
        "!git add test/example.py && git status"
      ]
    },
    {
      "cell_type": "markdown",
      "metadata": {
        "id": "Ba-IGRqv2nwZ"
      },
      "source": [
        "This time, we only did the first step - `add`. The `test/example.py` change is now \"staged\", ready to be committed. However, before doing so, we realise that `capitalize` and `upper` are very different things..."
      ]
    },
    {
      "cell_type": "markdown",
      "metadata": {
        "id": "uXltJjYx2nwZ"
      },
      "source": [
        "Change the example.py text from `.upper()` to `.capitalize()` and save it."
      ]
    },
    {
      "cell_type": "code",
      "execution_count": 23,
      "metadata": {
        "id": "1mcQFoIz2nwZ",
        "outputId": "6f4a753f-7094-4c4f-c1d9-0600400932ce",
        "colab": {
          "base_uri": "https://localhost:8080/"
        }
      },
      "outputs": [
        {
          "output_type": "stream",
          "name": "stdout",
          "text": [
            "On branch master\n",
            "Changes to be committed:\n",
            "  (use \"git restore --staged <file>...\" to unstage)\n",
            "\t\u001b[32mmodified:   test/example.py\u001b[m\n",
            "\n",
            "Changes not staged for commit:\n",
            "  (use \"git add <file>...\" to update what will be committed)\n",
            "  (use \"git restore <file>...\" to discard changes in working directory)\n",
            "\t\u001b[31mmodified:   test/example.py\u001b[m\n",
            "\n",
            "Untracked files:\n",
            "  (use \"git add <file>...\" to include in what will be committed)\n",
            "\t\u001b[31m.config/\u001b[m\n",
            "\t\u001b[31msample_data/\u001b[m\n",
            "\n"
          ]
        }
      ],
      "source": [
        "!git status"
      ]
    },
    {
      "cell_type": "markdown",
      "metadata": {
        "id": "pcccFbT_2nwa"
      },
      "source": [
        "Now you can explicitly see that we have a record of our \"staged\" change (.lower->.upper) under \"Changes to be committed\", but also our not-yet-staged change (.upper->.capitalize)."
      ]
    },
    {
      "cell_type": "markdown",
      "metadata": {
        "id": "9dlZDMJ52nwa"
      },
      "source": [
        "Lets see the differences between them. Firstly, how is our local copy of `example.py` different from the staged version?"
      ]
    },
    {
      "cell_type": "code",
      "execution_count": 24,
      "metadata": {
        "id": "NsA_ECps2nwa",
        "outputId": "5745ec6d-cbe4-4bf4-8819-19e223dfe9af",
        "colab": {
          "base_uri": "https://localhost:8080/"
        }
      },
      "outputs": [
        {
          "output_type": "stream",
          "name": "stdout",
          "text": [
            "\u001b[1mdiff --git a/test/example.py b/test/example.py\u001b[m\n",
            "\u001b[1mindex f0023bd..4423559 100644\u001b[m\n",
            "\u001b[1m--- a/test/example.py\u001b[m\n",
            "\u001b[1m+++ b/test/example.py\u001b[m\n",
            "\u001b[36m@@ -3,7 +3,7 @@\u001b[m \u001b[mText manipulation utilities...\u001b[m\n",
            " \"\"\"\u001b[m\n",
            " \u001b[m\n",
            " def capitalize(text):\u001b[m\n",
            "\u001b[31m-    return text.upper()\u001b[m\n",
            "\u001b[32m+\u001b[m\u001b[32m    return text.capitalize()\u001b[m\n",
            " \u001b[m\n",
            " if __name__ == \"__main__\":\u001b[m\n",
            "     print(capitalize(\"testing\"))\u001b[m\n"
          ]
        }
      ],
      "source": [
        "!git diff"
      ]
    },
    {
      "cell_type": "markdown",
      "metadata": {
        "id": "0n_k4FEC2nwa"
      },
      "source": [
        "This shows several things - firstly, coloured, the difference between two files. It mentions the index (staging area), which is our default reference copy, and it tells us the mode of the file (644: not executable, readable by anyone, editable by its owner). Now lets see the difference between the index and the last actual commit."
      ]
    },
    {
      "cell_type": "code",
      "execution_count": 25,
      "metadata": {
        "id": "dib3Skqk2nwa",
        "outputId": "6cb4c9ce-7220-4ef4-ef3c-e59e75189ffa",
        "colab": {
          "base_uri": "https://localhost:8080/"
        }
      },
      "outputs": [
        {
          "output_type": "stream",
          "name": "stdout",
          "text": [
            "\u001b[1mdiff --git a/test/example.py b/test/example.py\u001b[m\n",
            "\u001b[1mindex ecb1d6c..f0023bd 100644\u001b[m\n",
            "\u001b[1m--- a/test/example.py\u001b[m\n",
            "\u001b[1m+++ b/test/example.py\u001b[m\n",
            "\u001b[36m@@ -1,5 +1,5 @@\u001b[m\n",
            " \"\"\"\u001b[m\n",
            "\u001b[31m-Text manipulation utilities\u001b[m\n",
            "\u001b[32m+\u001b[m\u001b[32mText manipulation utilities...\u001b[m\n",
            " \"\"\"\u001b[m\n",
            " \u001b[m\n",
            " def capitalize(text):\u001b[m\n"
          ]
        }
      ],
      "source": [
        "!git diff --staged"
      ]
    },
    {
      "cell_type": "markdown",
      "metadata": {
        "id": "0b3fSAcX2nwa"
      },
      "source": [
        "The staged flag tells git we want to compare between our last commit (also known as HEAD) and the index - i.e. what is staged, ready to be committed?"
      ]
    },
    {
      "cell_type": "markdown",
      "metadata": {
        "id": "OKu_tHqp2nwa"
      },
      "source": [
        "We can also ignore the index, staging area, and say, \"what is different between my local file and the last commit\"?"
      ]
    },
    {
      "cell_type": "code",
      "source": [
        "!git diff HEAD"
      ],
      "metadata": {
        "colab": {
          "base_uri": "https://localhost:8080/"
        },
        "id": "v0MvKXDXncI5",
        "outputId": "e69a43d0-d2d8-4b56-c897-fd01d112e7ff"
      },
      "execution_count": 26,
      "outputs": [
        {
          "output_type": "stream",
          "name": "stdout",
          "text": [
            "\u001b[1mdiff --git a/test/example.py b/test/example.py\u001b[m\n",
            "\u001b[1mindex ecb1d6c..4423559 100644\u001b[m\n",
            "\u001b[1m--- a/test/example.py\u001b[m\n",
            "\u001b[1m+++ b/test/example.py\u001b[m\n",
            "\u001b[36m@@ -1,9 +1,9 @@\u001b[m\n",
            " \"\"\"\u001b[m\n",
            "\u001b[31m-Text manipulation utilities\u001b[m\n",
            "\u001b[32m+\u001b[m\u001b[32mText manipulation utilities...\u001b[m\n",
            " \"\"\"\u001b[m\n",
            " \u001b[m\n",
            " def capitalize(text):\u001b[m\n",
            "\u001b[31m-    return text.upper()\u001b[m\n",
            "\u001b[32m+\u001b[m\u001b[32m    return text.capitalize()\u001b[m\n",
            " \u001b[m\n",
            " if __name__ == \"__main__\":\u001b[m\n",
            "     print(capitalize(\"testing\"))\u001b[m\n"
          ]
        }
      ]
    },
    {
      "cell_type": "markdown",
      "metadata": {
        "id": "2j6bQaQC2nwb"
      },
      "source": [
        "HEAD is a shortcut name for the last commit made on the currently checked out branch (see below) - we could use any other commit here, or branch, or tag, and git will tell us the different between that and our current local file."
      ]
    },
    {
      "cell_type": "code",
      "execution_count": 27,
      "metadata": {
        "id": "aVwnNRFx2nwb",
        "outputId": "73bf7782-9c68-48b3-e27e-36fd0c3e0f52",
        "colab": {
          "base_uri": "https://localhost:8080/"
        }
      },
      "outputs": [
        {
          "output_type": "stream",
          "name": "stdout",
          "text": [
            "\u001b[1mdiff --git a/test/example.py b/test/example.py\u001b[m\n",
            "\u001b[1mindex f5b8601..4423559 100644\u001b[m\n",
            "\u001b[1m--- a/test/example.py\u001b[m\n",
            "\u001b[1m+++ b/test/example.py\u001b[m\n",
            "\u001b[36m@@ -1,9 +1,9 @@\u001b[m\n",
            " \"\"\"\u001b[m\n",
            "\u001b[31m-This is an example Python file\u001b[m\n",
            "\u001b[32m+\u001b[m\u001b[32mText manipulation utilities...\u001b[m\n",
            " \"\"\"\u001b[m\n",
            " \u001b[m\n",
            " def capitalize(text):\u001b[m\n",
            "\u001b[31m-    return text.upper()\u001b[m\n",
            "\u001b[32m+\u001b[m\u001b[32m    return text.capitalize()\u001b[m\n",
            " \u001b[m\n",
            " if __name__ == \"__main__\":\u001b[m\n",
            "     print(capitalize(\"testing\"))\u001b[m\n"
          ]
        }
      ],
      "source": [
        "!git diff HEAD~1"
      ]
    },
    {
      "cell_type": "markdown",
      "metadata": {
        "id": "K_tFeac52nwb"
      },
      "source": [
        "We can even ask git to do some maths with commits - the above asks \"what are the differences between my current file, and the commit-before-last\"?"
      ]
    },
    {
      "cell_type": "markdown",
      "metadata": {
        "id": "mudadeiV2nwb"
      },
      "source": [
        "While these diff outputs can sometimes be hard to read - code editors often make them a bit simpler to read, using interactive features - they are very powerful. You can take a copy of one, and \"apply\" it as a \"patch\" to reproduce a set of changes on top of a known code-base.\n",
        "\n",
        "If you are working with Github, Gitlab or Bitbucket, you will be familiar with this format in the browser - they also provide integrated tools for code review, and identifying when and where something changed, on top of the diff view.\n",
        "\n",
        "Lets unstage our changes, as we didn't want to commit the change to \"upper\" any more..."
      ]
    },
    {
      "cell_type": "code",
      "execution_count": 28,
      "metadata": {
        "id": "IBUfcmy32nwc",
        "outputId": "e680c9ac-7438-44fa-f5bd-200492ed7d4b",
        "colab": {
          "base_uri": "https://localhost:8080/"
        }
      },
      "outputs": [
        {
          "output_type": "stream",
          "name": "stdout",
          "text": [
            "Unstaged changes after reset:\n",
            "M\ttest/example.py\n"
          ]
        }
      ],
      "source": [
        "!git reset"
      ]
    },
    {
      "cell_type": "markdown",
      "metadata": {
        "id": "MIN4lycD2nwc"
      },
      "source": [
        "You can try the git diffs to see what the current situation looks like - the index is no longer different from the last commit, and your local file contains only the \"capitalize\" change. You can commit it."
      ]
    },
    {
      "cell_type": "code",
      "source": [
        "!git add test/example.py\n",
        "!git commit -m \"bugfix: capitalize and upper are different concepts\""
      ],
      "metadata": {
        "colab": {
          "base_uri": "https://localhost:8080/"
        },
        "id": "uT3ZFCZWprHt",
        "outputId": "0779eed4-b82a-42e7-a7b2-d0ac25c9be55"
      },
      "execution_count": 29,
      "outputs": [
        {
          "output_type": "stream",
          "name": "stdout",
          "text": [
            "[master 7bf6636] bugfix: capitalize and upper are different concepts\n",
            " 1 file changed, 2 insertions(+), 2 deletions(-)\n"
          ]
        }
      ]
    },
    {
      "cell_type": "markdown",
      "metadata": {
        "id": "Vd-lj7qa2nwc"
      },
      "source": [
        "Your git graph - the representation of your commits - now looks like this."
      ]
    },
    {
      "cell_type": "code",
      "execution_count": 30,
      "metadata": {
        "hideCode": true,
        "id": "7xIcl1GS2nwc",
        "outputId": "3cfa3343-a9af-4b6a-c3b9-2fb76f2869b7",
        "colab": {
          "base_uri": "https://localhost:8080/",
          "height": 17
        }
      },
      "outputs": [
        {
          "output_type": "display_data",
          "data": {
            "text/plain": [
              "<IPython.core.display.Javascript object>"
            ],
            "application/javascript": [
              "\n",
              "getGitGraph(element, function (gitgraph) {\n",
              "    console.log(gitgraph);\n",
              "    var master = gitgraph.branch(\"master\");\n",
              "    master.commit(\"Initial commit\");\n",
              "    master.commit(\"improve utility file docstring\");\n",
              "    master.commit(\"bugfix: capitalize and upper are different concepts\");\n",
              "});\n"
            ]
          },
          "metadata": {}
        }
      ],
      "source": [
        "%%javascript\n",
        "\n",
        "getGitGraph(element, function (gitgraph) {\n",
        "    console.log(gitgraph);\n",
        "    var master = gitgraph.branch(\"master\");\n",
        "    master.commit(\"Initial commit\");\n",
        "    master.commit(\"improve utility file docstring\");\n",
        "    master.commit(\"bugfix: capitalize and upper are different concepts\");\n",
        "});"
      ]
    },
    {
      "cell_type": "markdown",
      "metadata": {
        "id": "urqXe57k2nwd"
      },
      "source": [
        "You can examine differences between historic commits using their hashes. Hashes are their permanent, unique names - these long random sequences of letters and numbers, but you can refer to a commit by the first few characters, provided they are sufficient to distinguish it from all the other commits. Conventionally, git (and most git-based tools) show the first 6 characters by default."
      ]
    },
    {
      "cell_type": "code",
      "execution_count": 31,
      "metadata": {
        "id": "o5kjfWX12nwd",
        "outputId": "41e180dc-c2a5-4727-b41a-ff978c4c2ab0",
        "colab": {
          "base_uri": "https://localhost:8080/"
        }
      },
      "outputs": [
        {
          "output_type": "stream",
          "name": "stdout",
          "text": [
            "\u001b[33m7bf6636\u001b[m\u001b[33m (\u001b[m\u001b[1;36mHEAD -> \u001b[m\u001b[1;32mmaster\u001b[m\u001b[33m)\u001b[m bugfix: capitalize and upper are different concepts\n",
            "\u001b[33m5be1bf1\u001b[m improve utility file docstring\n",
            "\u001b[33mecef8c1\u001b[m Initial commit\n"
          ]
        }
      ],
      "source": [
        "!git log --oneline"
      ]
    },
    {
      "cell_type": "markdown",
      "metadata": {
        "id": "3HVMa9QD2nwd"
      },
      "source": [
        "## Branches & Merges"
      ]
    },
    {
      "cell_type": "markdown",
      "metadata": {
        "id": "bY7F0wxR2nwd"
      },
      "source": [
        "So far our commits have been very, well, linear. One after the next - if development was that easy, we wouldn't need complex tools like git. Most of you will have come across Github branches, and merge/pull requests, but its helpful to see that on the command line to understand the how and why."
      ]
    },
    {
      "cell_type": "markdown",
      "metadata": {
        "id": "ZC9VbvjE2nwd"
      },
      "source": [
        "Our default branch is called `master`. Beyond that, practice varies, but most common flows will have code ultimately being brought back to master, as the most stable, slowly-moving reference version. However, for developing or collaborating on new features and bug-fixes, changes are generally first created on other branches.\n",
        "\n",
        "Lets create a new branch."
      ]
    },
    {
      "cell_type": "code",
      "execution_count": 32,
      "metadata": {
        "id": "_fBvWgV_2nwd"
      },
      "outputs": [],
      "source": [
        "!git branch feature-reverse-string"
      ]
    },
    {
      "cell_type": "markdown",
      "metadata": {
        "id": "Eq1sd8Mj2nwe"
      },
      "source": [
        "This has now created a new branch, at the same point as master. However, we are still sitting on master - any commits we do will go there. We need to \"checkout\" our branch, to switch to it."
      ]
    },
    {
      "cell_type": "code",
      "execution_count": 33,
      "metadata": {
        "id": "B86sadPU2nwe",
        "outputId": "e57457ad-e96c-4cec-ea01-c5714d63654d",
        "colab": {
          "base_uri": "https://localhost:8080/"
        }
      },
      "outputs": [
        {
          "output_type": "stream",
          "name": "stdout",
          "text": [
            "Switched to branch 'feature-reverse-string'\n"
          ]
        }
      ],
      "source": [
        "!git checkout feature-reverse-string"
      ]
    },
    {
      "cell_type": "markdown",
      "metadata": {
        "id": "z7-wHWZ-2nwe"
      },
      "source": [
        "It is possible to do those in one movement - `git checkout -b feature-reverse-string`, which will create and checkout a new branch for you."
      ]
    },
    {
      "cell_type": "code",
      "execution_count": 35,
      "metadata": {
        "id": "aWLILYru2nwe",
        "outputId": "4d38fa52-9c09-4483-8fd9-4938b59d4f6b",
        "colab": {
          "base_uri": "https://localhost:8080/"
        }
      },
      "outputs": [
        {
          "output_type": "stream",
          "name": "stdout",
          "text": [
            "On branch feature-reverse-string\n",
            "Untracked files:\n",
            "  (use \"git add <file>...\" to include in what will be committed)\n",
            "\t\u001b[31m.config/\u001b[m\n",
            "\n",
            "nothing added to commit but untracked files present (use \"git add\" to track)\n"
          ]
        }
      ],
      "source": [
        "!git status"
      ]
    },
    {
      "cell_type": "markdown",
      "metadata": {
        "id": "NilyrWDr2nwe"
      },
      "source": [
        "It is generally a good idea to do `git status` at this point (if not before) to make sure you do not have changes you meant to commit to the previous branch, still hanging about."
      ]
    },
    {
      "cell_type": "markdown",
      "metadata": {
        "id": "kKr6bwZl2nwe"
      },
      "source": [
        "Here is a short Python function - it exploits the \"step\" option in slicing to step backwards, instead of forwards, and create a reversed string (or list, etc.)."
      ]
    },
    {
      "cell_type": "code",
      "execution_count": 36,
      "metadata": {
        "id": "Zx2laTkP2nwf"
      },
      "outputs": [],
      "source": [
        "def reverse(text):\n",
        "    return text[::-1]"
      ]
    },
    {
      "cell_type": "code",
      "execution_count": 37,
      "metadata": {
        "id": "MmywsepM2nwf",
        "outputId": "a4ec47cf-cf4a-441b-ab66-6690bbb45b7c",
        "colab": {
          "base_uri": "https://localhost:8080/"
        }
      },
      "outputs": [
        {
          "output_type": "stream",
          "name": "stdout",
          "text": [
            "gnitseT\n"
          ]
        }
      ],
      "source": [
        "print(reverse(\"Testing\"))"
      ]
    },
    {
      "cell_type": "markdown",
      "metadata": {
        "id": "sjEfwPlc2nwf"
      },
      "source": [
        "Add this to `example.py` - the reverse function directly below the capitalize function, and the print-statement at the very end of the file, indented to match the `print(capitalize('testing'))` line. We will go more into testing later in the course, but think of this as a minimal way to check our code!"
      ]
    },
    {
      "cell_type": "code",
      "execution_count": 38,
      "metadata": {
        "id": "hr9aZgM82nwf",
        "outputId": "456e29ac-10bb-4cbf-d662-18ef42e271cd",
        "colab": {
          "base_uri": "https://localhost:8080/"
        }
      },
      "outputs": [
        {
          "output_type": "stream",
          "name": "stdout",
          "text": [
            "Testing\n",
            "gnitseT\n"
          ]
        }
      ],
      "source": [
        "!python3 test/example.py"
      ]
    },
    {
      "cell_type": "markdown",
      "metadata": {
        "id": "sbzFjDvg2nwf"
      },
      "source": [
        "Let's now add and commit that."
      ]
    },
    {
      "cell_type": "code",
      "execution_count": 39,
      "metadata": {
        "id": "15fT5FOW2nwf",
        "outputId": "ba1448e6-5585-4350-b2c7-3c22d754039b",
        "colab": {
          "base_uri": "https://localhost:8080/"
        }
      },
      "outputs": [
        {
          "output_type": "stream",
          "name": "stdout",
          "text": [
            "[feature-reverse-string 813cd33] added a utility to reverse a string\n",
            " 1 file changed, 3 insertions(+)\n"
          ]
        }
      ],
      "source": [
        "!git add test/example.py\n",
        "!git commit -m \"added a utility to reverse a string\""
      ]
    },
    {
      "cell_type": "markdown",
      "metadata": {
        "id": "dcJ-VjPk2nwg"
      },
      "source": [
        "Our git graph looks like this:"
      ]
    },
    {
      "cell_type": "code",
      "execution_count": 40,
      "metadata": {
        "hideCode": true,
        "id": "iuHlf2T32nwg",
        "outputId": "f04fc370-f6a5-424b-a497-38a47a47f02b",
        "colab": {
          "base_uri": "https://localhost:8080/",
          "height": 17
        }
      },
      "outputs": [
        {
          "output_type": "display_data",
          "data": {
            "text/plain": [
              "<IPython.core.display.Javascript object>"
            ],
            "application/javascript": [
              "\n",
              "getGitGraph(element, function (gitgraph) {\n",
              "    console.log(gitgraph);\n",
              "    var master = gitgraph.branch(\"master\");\n",
              "    master.commit(\"Initial commit\");\n",
              "    master.commit(\"improve utility file docstring\");\n",
              "    master.commit(\"bugfix: capitalize and upper are different concepts\");\n",
              "    var feature = master.branch(\"feature-reverse-string\");\n",
              "    feature.commit(\"added a utility to reverse a string\")\n",
              "});\n"
            ]
          },
          "metadata": {}
        }
      ],
      "source": [
        "%%javascript\n",
        "\n",
        "getGitGraph(element, function (gitgraph) {\n",
        "    console.log(gitgraph);\n",
        "    var master = gitgraph.branch(\"master\");\n",
        "    master.commit(\"Initial commit\");\n",
        "    master.commit(\"improve utility file docstring\");\n",
        "    master.commit(\"bugfix: capitalize and upper are different concepts\");\n",
        "    var feature = master.branch(\"feature-reverse-string\");\n",
        "    feature.commit(\"added a utility to reverse a string\")\n",
        "});"
      ]
    },
    {
      "cell_type": "markdown",
      "metadata": {
        "id": "K-byyeAj2nwg"
      },
      "source": [
        "We could do a merge back into master at this point, but particularly as you are likely to have seen this in one form or other a number of times before, we will look at what happens in the non-trivial case. Lets suppose an urgent bug-report comes in. A hot-fix needs to be created to address the case where text is a list of characters, rather than a string."
      ]
    },
    {
      "cell_type": "code",
      "execution_count": 41,
      "metadata": {
        "id": "3rDQmtWv2nwg"
      },
      "outputs": [],
      "source": [
        "another_text = list(\"another text\")"
      ]
    },
    {
      "cell_type": "code",
      "execution_count": 42,
      "metadata": {
        "id": "IqySq_3w2nwh",
        "outputId": "95d28c3c-cdeb-47ee-a4bf-599b0429e65c",
        "colab": {
          "base_uri": "https://localhost:8080/",
          "height": 35
        }
      },
      "outputs": [
        {
          "output_type": "execute_result",
          "data": {
            "text/plain": [
              "'Another text'"
            ],
            "application/vnd.google.colaboratory.intrinsic+json": {
              "type": "string"
            }
          },
          "metadata": {},
          "execution_count": 42
        }
      ],
      "source": [
        "def capitalize(text):\n",
        "    if type(text) is not str:\n",
        "        text = ''.join(text)\n",
        "    return text.capitalize()\n",
        "\n",
        "capitalize(another_text)"
      ]
    },
    {
      "cell_type": "markdown",
      "metadata": {
        "id": "gfvcr8ov2nwh"
      },
      "source": [
        "This will fix our problem (it'll do for this example!). However, the change is urgent, so how do we apply the fix, and commit it without accidentally dragging in our new feature?"
      ]
    },
    {
      "cell_type": "markdown",
      "metadata": {
        "id": "Ujr_W7-F2nwh"
      },
      "source": [
        "This is a key point of branches. Having checked our feature branch is clean - i.e. that we have committed any changes - we switch back to master."
      ]
    },
    {
      "cell_type": "code",
      "execution_count": 56,
      "metadata": {
        "id": "BIvTfzQX2nwh",
        "outputId": "e9cb70a7-8bb7-490f-8330-4c864573d75c",
        "colab": {
          "base_uri": "https://localhost:8080/"
        }
      },
      "outputs": [
        {
          "output_type": "stream",
          "name": "stdout",
          "text": [
            "Switched to branch 'master'\n"
          ]
        }
      ],
      "source": [
        "!git checkout master"
      ]
    },
    {
      "cell_type": "markdown",
      "metadata": {
        "id": "OI1hhGc_2nwh"
      },
      "source": [
        "You can check the example.py file to confirm that our new feature has gone."
      ]
    },
    {
      "cell_type": "code",
      "execution_count": null,
      "metadata": {
        "id": "DC3Kw0iZ2nwh"
      },
      "outputs": [],
      "source": [
        "!git checkout -b fix-ensure-lists-do-not-break-capitalize"
      ]
    },
    {
      "cell_type": "markdown",
      "metadata": {
        "id": "Njyufq772nwh"
      },
      "source": [
        "We now swap in our capitalize method to example.py. Let's also add this check at the bottom of the file..."
      ]
    },
    {
      "cell_type": "code",
      "execution_count": 46,
      "metadata": {
        "id": "UrGbxile2nwi",
        "colab": {
          "base_uri": "https://localhost:8080/"
        },
        "outputId": "4b4c81cf-e584-4bb2-e9e6-bc4d3520d470"
      },
      "outputs": [
        {
          "output_type": "stream",
          "name": "stdout",
          "text": [
            "Ab c\n"
          ]
        }
      ],
      "source": [
        "print(capitalize(['a', 'b', ' ', 'c']))"
      ]
    },
    {
      "cell_type": "markdown",
      "metadata": {
        "id": "3d7h6RA82nwi"
      },
      "source": [
        "We add and commit our change..."
      ]
    },
    {
      "cell_type": "code",
      "execution_count": 55,
      "metadata": {
        "id": "W7_9J09T2nwi",
        "outputId": "c606de13-7580-4cc3-aa1f-5232db241353",
        "colab": {
          "base_uri": "https://localhost:8080/"
        }
      },
      "outputs": [
        {
          "output_type": "stream",
          "name": "stdout",
          "text": [
            "[fix-ensure-lists-do-not-break-capitalize a6a38ba] ensure lists do not break capitalization utility\n",
            " 1 file changed, 2 insertions(+)\n"
          ]
        }
      ],
      "source": [
        "!git add test/example.py\n",
        "!git commit -m \"ensure lists do not break capitalization utility\""
      ]
    },
    {
      "cell_type": "markdown",
      "metadata": {
        "id": "vgQ-BK_02nwi"
      },
      "source": [
        "Our git tree now looks like this:"
      ]
    },
    {
      "cell_type": "code",
      "execution_count": 48,
      "metadata": {
        "hideCode": true,
        "id": "Kk2flemI2nwi",
        "outputId": "bd3222ce-eda9-4722-8765-5427ef6ebe6b",
        "colab": {
          "base_uri": "https://localhost:8080/",
          "height": 17
        }
      },
      "outputs": [
        {
          "output_type": "display_data",
          "data": {
            "text/plain": [
              "<IPython.core.display.Javascript object>"
            ],
            "application/javascript": [
              "\n",
              "getGitGraph(element, function (gitgraph) {\n",
              "    console.log(gitgraph);\n",
              "    var master = gitgraph.branch(\"master\");\n",
              "    master.commit(\"Initial commit\");\n",
              "    master.commit(\"improve utility file docstring\");\n",
              "    master.commit(\"bugfix: capitalize and upper are different concepts\");\n",
              "    var feature = master.branch(\"feature-reverse-string\");\n",
              "    feature.commit(\"added a utility to reverse a string\");\n",
              "    var hotfix = master.branch(\"fix-ensure-lists-do-not-break-capitalize\");\n",
              "    hotfix.commit(\"ensure lists do not break capitalization utility\");\n",
              "});\n"
            ]
          },
          "metadata": {}
        }
      ],
      "source": [
        "%%javascript\n",
        "\n",
        "getGitGraph(element, function (gitgraph) {\n",
        "    console.log(gitgraph);\n",
        "    var master = gitgraph.branch(\"master\");\n",
        "    master.commit(\"Initial commit\");\n",
        "    master.commit(\"improve utility file docstring\");\n",
        "    master.commit(\"bugfix: capitalize and upper are different concepts\");\n",
        "    var feature = master.branch(\"feature-reverse-string\");\n",
        "    feature.commit(\"added a utility to reverse a string\");\n",
        "    var hotfix = master.branch(\"fix-ensure-lists-do-not-break-capitalize\");\n",
        "    hotfix.commit(\"ensure lists do not break capitalization utility\");\n",
        "});"
      ]
    },
    {
      "cell_type": "markdown",
      "metadata": {
        "id": "kvslxXl12nwi"
      },
      "source": [
        "Git can also visualize this in ASCII-art:"
      ]
    },
    {
      "cell_type": "code",
      "source": [
        "!git log --all --decorate --oneline --graph"
      ],
      "metadata": {
        "colab": {
          "base_uri": "https://localhost:8080/"
        },
        "id": "b_Fl5Y_FvLTZ",
        "outputId": "3b0ee165-e8bd-4d7e-ab2e-04ca36973b57"
      },
      "execution_count": 58,
      "outputs": [
        {
          "output_type": "stream",
          "name": "stdout",
          "text": [
            "* \u001b[33ma6a38ba\u001b[m\u001b[33m (\u001b[m\u001b[1;32mfix-ensure-lists-do-not-break-capitalize\u001b[m\u001b[33m)\u001b[m ensure lists do not break capitalization utility\n",
            "\u001b[31m|\u001b[m * \u001b[33m5f83da1\u001b[m\u001b[33m (\u001b[m\u001b[1;36mHEAD -> \u001b[m\u001b[1;32mmaster\u001b[m\u001b[33m)\u001b[m ensure lists do not break capitalization utility\n",
            "\u001b[31m|\u001b[m\u001b[31m/\u001b[m  \n",
            "\u001b[31m|\u001b[m * \u001b[33m813cd33\u001b[m\u001b[33m (\u001b[m\u001b[1;32mfeature-reverse-string\u001b[m\u001b[33m)\u001b[m added a utility to reverse a string\n",
            "\u001b[31m|\u001b[m\u001b[31m/\u001b[m  \n",
            "* \u001b[33m7bf6636\u001b[m bugfix: capitalize and upper are different concepts\n",
            "* \u001b[33m5be1bf1\u001b[m improve utility file docstring\n",
            "* \u001b[33mecef8c1\u001b[m Initial commit\n"
          ]
        }
      ]
    },
    {
      "cell_type": "markdown",
      "metadata": {
        "id": "fzwSQuRw2nwj"
      },
      "source": [
        "Now, in reality, we would push this to a remote server, and create a merge/pull request to be reviewed, but for simplicity here, let's assume we can merge it ourselves (or that we have pulled these changes from someone else, and are manually merging it for them)."
      ]
    },
    {
      "cell_type": "code",
      "execution_count": 59,
      "metadata": {
        "id": "6hYJTOd12nwj",
        "outputId": "7a971fb2-53c3-4149-fb94-eebe2cafe8f5",
        "colab": {
          "base_uri": "https://localhost:8080/"
        }
      },
      "outputs": [
        {
          "output_type": "stream",
          "name": "stdout",
          "text": [
            "M\ttest/example.py\n",
            "Already on 'master'\n"
          ]
        }
      ],
      "source": [
        "!git checkout master"
      ]
    },
    {
      "cell_type": "code",
      "execution_count": 60,
      "metadata": {
        "id": "2X6DQV9q2nwj",
        "outputId": "122df3fc-4eaf-4082-f507-3fbf7b34fb68",
        "colab": {
          "base_uri": "https://localhost:8080/"
        }
      },
      "outputs": [
        {
          "output_type": "stream",
          "name": "stdout",
          "text": [
            "Your local changes to the following files would be overwritten by merge:\n",
            "  test/example.py"
          ]
        }
      ],
      "source": [
        "!git merge fix-ensure-lists-do-not-break-capitalize"
      ]
    },
    {
      "cell_type": "markdown",
      "metadata": {
        "id": "gN3mjufC2nwj"
      },
      "source": [
        "This has just applied the changes from the hotfix to master."
      ]
    },
    {
      "cell_type": "code",
      "execution_count": 61,
      "metadata": {
        "hideCode": true,
        "id": "fy9ePBUD2nwj",
        "outputId": "d3e44e92-29ca-4e38-87e7-3e579f9c489b",
        "colab": {
          "base_uri": "https://localhost:8080/",
          "height": 17
        }
      },
      "outputs": [
        {
          "output_type": "display_data",
          "data": {
            "text/plain": [
              "<IPython.core.display.Javascript object>"
            ],
            "application/javascript": [
              "\n",
              "getGitGraph(element, function (gitgraph) {\n",
              "    console.log(gitgraph);\n",
              "    var master = gitgraph.branch(\"master\");\n",
              "    master.commit(\"Initial commit\");\n",
              "    master.commit(\"improve utility file docstring\");\n",
              "    master.commit(\"bugfix: capitalize and upper are different concepts\");\n",
              "    var feature = master.branch(\"feature-reverse-string\");\n",
              "    feature.commit(\"added a utility to reverse a string\");\n",
              "    var hotfix = master.branch(\"fix-ensure-lists-do-not-break-capitalize\");\n",
              "    hotfix.commit(\"ensure lists do not break capitalization utility\");\n",
              "    master.merge(hotfix);\n",
              "});\n"
            ]
          },
          "metadata": {}
        }
      ],
      "source": [
        "%%javascript\n",
        "\n",
        "getGitGraph(element, function (gitgraph) {\n",
        "    console.log(gitgraph);\n",
        "    var master = gitgraph.branch(\"master\");\n",
        "    master.commit(\"Initial commit\");\n",
        "    master.commit(\"improve utility file docstring\");\n",
        "    master.commit(\"bugfix: capitalize and upper are different concepts\");\n",
        "    var feature = master.branch(\"feature-reverse-string\");\n",
        "    feature.commit(\"added a utility to reverse a string\");\n",
        "    var hotfix = master.branch(\"fix-ensure-lists-do-not-break-capitalize\");\n",
        "    hotfix.commit(\"ensure lists do not break capitalization utility\");\n",
        "    master.merge(hotfix);\n",
        "});"
      ]
    },
    {
      "cell_type": "markdown",
      "metadata": {
        "id": "3dNvI2_r2nwj"
      },
      "source": [
        "Let's now go back to our feature branch and merge it into master too."
      ]
    },
    {
      "cell_type": "code",
      "execution_count": 62,
      "metadata": {
        "id": "3NkPwMrZ2nwk",
        "outputId": "a925b30e-883f-4c29-906d-a9dcd2e0395e",
        "colab": {
          "base_uri": "https://localhost:8080/"
        }
      },
      "outputs": [
        {
          "output_type": "stream",
          "name": "stdout",
          "text": [
            "Your local changes to the following files would be overwritten by merge:\n",
            "  test/example.py"
          ]
        }
      ],
      "source": [
        "!git merge feature-reverse-string"
      ]
    },
    {
      "cell_type": "markdown",
      "metadata": {
        "id": "mpWqCNI_2nwk"
      },
      "source": [
        "In this case, we may see a Merge conflict -- this means that git was not able to automatically merge the hotfix changes already on master, with the feature branch changes you are now merging. Probably because both added lines in the same place, so it doesn't know how to order them, or if only one should be chosen.\n",
        "\n",
        "In fact, it has left us up-in-the-air - the file mention (test/example.py) contains \"merge annotations\", textual notes showing what we need to manually fix, before the merge can finish.\n",
        "\n",
        "You'll find it looks something like this."
      ]
    },
    {
      "cell_type": "markdown",
      "metadata": {
        "id": "Z7eqtW2o2nwk"
      },
      "source": [
        "```\n",
        "\"\"\"\n",
        "This is an example Python file\n",
        "\"\"\"\n",
        "\n",
        "def capitalize(text):\n",
        "<<<<<<< HEAD\n",
        "...\n",
        "\n",
        "=======\n",
        "...\n",
        ">>>>>>> feature-reverse-string\n",
        "```"
      ]
    },
    {
      "cell_type": "markdown",
      "metadata": {
        "id": "ik5mFd8u2nwk"
      },
      "source": [
        "You have to manually work out which parts between `<<<<<<< HEAD` and `======` should be kept/deleted, and which parts between `======` and `>>>>>>>> feature-reverse-string` should be kept/deleted. Make 100% sure to delete the merge annotations themselves! When you are confident the script should work as intended, double-check:"
      ]
    },
    {
      "cell_type": "code",
      "execution_count": 63,
      "metadata": {
        "id": "4lkS8QF32nwk",
        "outputId": "b054e85d-52b1-4e4f-83ba-b531a21b0c19",
        "colab": {
          "base_uri": "https://localhost:8080/"
        }
      },
      "outputs": [
        {
          "output_type": "stream",
          "name": "stdout",
          "text": [
            "Testing\n"
          ]
        }
      ],
      "source": [
        "!python3 test/example.py"
      ]
    },
    {
      "cell_type": "markdown",
      "metadata": {
        "id": "iMNdV3-o2nwl"
      },
      "source": [
        "Finally, complete the merge:"
      ]
    },
    {
      "cell_type": "code",
      "execution_count": 64,
      "metadata": {
        "id": "Aoq6ggTs2nwl",
        "outputId": "319599d4-e00a-4a52-dc60-a6a1699f4334",
        "colab": {
          "base_uri": "https://localhost:8080/"
        }
      },
      "outputs": [
        {
          "output_type": "stream",
          "name": "stdout",
          "text": [
            "[master b795181] merged lists hotfix and reversing feature\n",
            " 1 file changed, 2 deletions(-)\n"
          ]
        }
      ],
      "source": [
        "!git add test/example.py\n",
        "!git commit -m \"merged lists hotfix and reversing feature\""
      ]
    },
    {
      "cell_type": "markdown",
      "metadata": {
        "id": "iGodJnS_2nwl"
      },
      "source": [
        "The git tree now looks like:"
      ]
    },
    {
      "cell_type": "code",
      "execution_count": 65,
      "metadata": {
        "hideCode": true,
        "hideOutput": false,
        "id": "GB4pUurS2nwl",
        "outputId": "f4f18244-368c-4f12-cc1b-dc136cb567f7",
        "colab": {
          "base_uri": "https://localhost:8080/",
          "height": 17
        }
      },
      "outputs": [
        {
          "output_type": "display_data",
          "data": {
            "text/plain": [
              "<IPython.core.display.Javascript object>"
            ],
            "application/javascript": [
              "\n",
              "getGitGraph(element, function (gitgraph) {\n",
              "    console.log(gitgraph);\n",
              "    var master = gitgraph.branch(\"master\");\n",
              "    master.commit(\"Initial commit\");\n",
              "    master.commit(\"improve utility file docstring\");\n",
              "    master.commit(\"bugfix: capitalize and upper are different concepts\");\n",
              "    var feature = master.branch(\"feature-reverse-string\");\n",
              "    feature.commit(\"added a utility to reverse a string\");\n",
              "    var hotfix = master.branch(\"fix-ensure-lists-do-not-break-capitalize\");\n",
              "    hotfix.commit(\"ensure lists do not break capitalization utility\");\n",
              "    master.merge(hotfix);\n",
              "    master.merge(feature);\n",
              "});\n"
            ]
          },
          "metadata": {}
        }
      ],
      "source": [
        "%%javascript\n",
        "\n",
        "getGitGraph(element, function (gitgraph) {\n",
        "    console.log(gitgraph);\n",
        "    var master = gitgraph.branch(\"master\");\n",
        "    master.commit(\"Initial commit\");\n",
        "    master.commit(\"improve utility file docstring\");\n",
        "    master.commit(\"bugfix: capitalize and upper are different concepts\");\n",
        "    var feature = master.branch(\"feature-reverse-string\");\n",
        "    feature.commit(\"added a utility to reverse a string\");\n",
        "    var hotfix = master.branch(\"fix-ensure-lists-do-not-break-capitalize\");\n",
        "    hotfix.commit(\"ensure lists do not break capitalization utility\");\n",
        "    master.merge(hotfix);\n",
        "    master.merge(feature);\n",
        "});"
      ]
    },
    {
      "cell_type": "code",
      "execution_count": 66,
      "metadata": {
        "id": "OVyy_SM-2nwl",
        "outputId": "3aa15c4e-7667-44f6-b1fa-b3408398f5c6",
        "colab": {
          "base_uri": "https://localhost:8080/"
        }
      },
      "outputs": [
        {
          "output_type": "stream",
          "name": "stdout",
          "text": [
            "* \u001b[33mb795181\u001b[m\u001b[33m (\u001b[m\u001b[1;36mHEAD -> \u001b[m\u001b[1;32mmaster\u001b[m\u001b[33m)\u001b[m merged lists hotfix and reversing feature\n",
            "* \u001b[33m5f83da1\u001b[m ensure lists do not break capitalization utility\n",
            "\u001b[31m|\u001b[m * \u001b[33ma6a38ba\u001b[m\u001b[33m (\u001b[m\u001b[1;32mfix-ensure-lists-do-not-break-capitalize\u001b[m\u001b[33m)\u001b[m ensure lists do not break capitalization utility\n",
            "\u001b[31m|\u001b[m\u001b[31m/\u001b[m  \n",
            "\u001b[31m|\u001b[m * \u001b[33m813cd33\u001b[m\u001b[33m (\u001b[m\u001b[1;32mfeature-reverse-string\u001b[m\u001b[33m)\u001b[m added a utility to reverse a string\n",
            "\u001b[31m|\u001b[m\u001b[31m/\u001b[m  \n",
            "* \u001b[33m7bf6636\u001b[m bugfix: capitalize and upper are different concepts\n",
            "* \u001b[33m5be1bf1\u001b[m improve utility file docstring\n",
            "* \u001b[33mecef8c1\u001b[m Initial commit\n"
          ]
        }
      ],
      "source": [
        "!git log --all --decorate --oneline --graph"
      ]
    },
    {
      "cell_type": "markdown",
      "metadata": {
        "id": "HqoWlt9U2nwl"
      },
      "source": [
        "It's good to be able to diagnose and manage git problems from the command line - at some point, Github or your Git user interface will not provide all the tools you need, and some complex issues can only be solved via CLI. `git log` has a number of options for pretty-printing the commit history."
      ]
    },
    {
      "cell_type": "markdown",
      "metadata": {
        "id": "_fDRs6CR2nwm"
      },
      "source": [
        "## Magic Files"
      ]
    },
    {
      "cell_type": "markdown",
      "metadata": {
        "id": "VXEiYRSU2nwm"
      },
      "source": [
        "There are a couple of files that live in your gitroot (the top directory in git), and start with `.git`"
      ]
    },
    {
      "cell_type": "markdown",
      "metadata": {
        "id": "Op2qUNhe2nwm"
      },
      "source": [
        "Two are particularly important for new users..."
      ]
    },
    {
      "cell_type": "code",
      "source": [
        "!cat .gitignore"
      ],
      "metadata": {
        "colab": {
          "base_uri": "https://localhost:8080/"
        },
        "id": "sdE_FhtsydoS",
        "outputId": "dbb15025-9b45-4dd8-f4a1-a74f6c2fa1f2"
      },
      "execution_count": 67,
      "outputs": [
        {
          "output_type": "stream",
          "name": "stdout",
          "text": [
            "cat: .gitignore: No such file or directory\n"
          ]
        }
      ]
    },
    {
      "cell_type": "code",
      "execution_count": null,
      "metadata": {
        "id": "gkEmTtXr2nwm",
        "outputId": "3940137e-5e8d-4d32-c9d3-f2830c7d4f49"
      },
      "outputs": [
        {
          "name": "stdout",
          "output_type": "stream",
          "text": [
            ".ipynb_checkpoints\r\n",
            "/example.py\r\n",
            "/Introduction to git.ipynb\r\n",
            "/.gitignore"
          ]
        }
      ],
      "source": [
        "!cat .gitignore"
      ]
    },
    {
      "cell_type": "markdown",
      "metadata": {
        "id": "chGJ0BDR2nwm"
      },
      "source": [
        "This file is checked by git - if a pattern in it matches any given file in the directories below, git ignores it. You can use `*` to identify part of a file, or `/` to state that that filename should only only be ignored if in the root directory of your git."
      ]
    },
    {
      "cell_type": "markdown",
      "metadata": {
        "id": "sv0-jIf72nwm"
      },
      "source": [
        "In particular, the final task will highlight that git is not magical - it is a set of files in the `.git` directory. If you copy that directory, you have copied the entire git state - a good way of taking a quick back-up before trying any experiments is to copy your whole git folder, as (if you correctly copy it!) you can then safely delete the original without losing any git information. Lets wipe the git we created..."
      ]
    },
    {
      "cell_type": "code",
      "execution_count": 68,
      "metadata": {
        "id": "g8e5QGHu2nwm"
      },
      "outputs": [],
      "source": [
        "!rm -rf .git"
      ]
    },
    {
      "cell_type": "markdown",
      "metadata": {
        "id": "SXRQ4IYj2nwm"
      },
      "source": [
        "### Exercise: Switching Lines"
      ]
    },
    {
      "cell_type": "markdown",
      "metadata": {
        "id": "wbfOaxqO2nwm"
      },
      "source": [
        "Git graphs can get very complex - this project has largely recreated the Paris Metro in one: https://github.com/vbarbaresi/MetroGit"
      ]
    },
    {
      "cell_type": "markdown",
      "metadata": {
        "id": "hVFDW-VS2nwn"
      },
      "source": [
        "Can you create the NI Railways map in a git tree?\n",
        "\n",
        "![Translink route map](https://upload.wikimedia.org/wikipedia/commons/e/ea/NI_Railways_Map.svg)\n",
        "\n",
        "<small>[SVG Map of NI Railways](https://commons.wikimedia.org/wiki/File:NI_Railways_Map.svg). [RaviC](https://commons.wikimedia.org/wiki/User:RaviC) CC-BY-SA 4.0</small>"
      ]
    },
    {
      "cell_type": "markdown",
      "metadata": {
        "id": "wl2DmI3w2nwo"
      },
      "source": [
        "Ignore any halts (anything that isn't a circle). Hint: you may find it quickest to start from Lanyon Place as your initial commit.\n",
        "\n",
        "Rather than having to create content every time you want to commit, you can use `git commit --allow-empty -m \"Lurgan\"`"
      ]
    },
    {
      "cell_type": "code",
      "execution_count": null,
      "metadata": {
        "id": "sjEWaVGx2nwo"
      },
      "outputs": [],
      "source": [
        "!git init .\n",
        "!git commit --allow-empty -m \"Lanyon Place\""
      ]
    }
  ],
  "metadata": {
    "kernelspec": {
      "display_name": "Python 3 (ipykernel)",
      "language": "python",
      "name": "python3"
    },
    "language_info": {
      "codemirror_mode": {
        "name": "ipython",
        "version": 3
      },
      "file_extension": ".py",
      "mimetype": "text/x-python",
      "name": "python",
      "nbconvert_exporter": "python",
      "pygments_lexer": "ipython3",
      "version": "3.11.5"
    },
    "colab": {
      "provenance": []
    }
  },
  "nbformat": 4,
  "nbformat_minor": 0
}