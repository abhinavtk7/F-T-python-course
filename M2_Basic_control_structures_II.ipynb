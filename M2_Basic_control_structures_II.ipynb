{
  "cells": [
    {
      "cell_type": "markdown",
      "metadata": {
        "hideCode": false,
        "hidePrompt": false,
        "id": "vXloQLJtmggW"
      },
      "source": [
        "# Basic control structures and variables II\n",
        "\n",
        "## The Swiss Army Hammer"
      ]
    },
    {
      "cell_type": "markdown",
      "metadata": {
        "hideCode": false,
        "hidePrompt": false,
        "id": "S4HA8DUkmggb"
      },
      "source": [
        "Yesterday, we covered some central components of Python, such as:"
      ]
    },
    {
      "cell_type": "markdown",
      "metadata": {
        "hideCode": false,
        "hidePrompt": false,
        "id": "TsL0SCdvmggc"
      },
      "source": [
        "* types, e.g. `int`, `str`"
      ]
    },
    {
      "cell_type": "markdown",
      "metadata": {
        "hideCode": false,
        "hidePrompt": false,
        "id": "Y4nEzi6nmggd"
      },
      "source": [
        "* loops, e.g. `for`, `while`"
      ]
    },
    {
      "cell_type": "markdown",
      "metadata": {
        "hideCode": false,
        "hidePrompt": false,
        "id": "t9HPT--cmgge"
      },
      "source": [
        "* modules, e.g. `math`, `numpy`"
      ]
    },
    {
      "cell_type": "markdown",
      "metadata": {
        "hideCode": false,
        "hidePrompt": false,
        "id": "NQ9rw3Yomgge"
      },
      "source": [
        "Today will be a shorter equipment session, followed by more hands on coding. As you should have basic familiarity with coding concepts, I am going to assume object-oriented programming is familiar to you - if not, there is a brief Python-based intro to the key ideas at the bottom (\"PS Introduction to objects...\")"
      ]
    },
    {
      "cell_type": "markdown",
      "metadata": {
        "hideCode": false,
        "hidePrompt": false,
        "id": "E6YOP3NMmggf"
      },
      "source": [
        "A couple of basic variables we will use in this module - please re-run this cell now to set them, or later to reset them, if needed."
      ]
    },
    {
      "cell_type": "code",
      "execution_count": null,
      "metadata": {
        "hideCode": false,
        "hidePrompt": false,
        "id": "8a_NXY-7mggg"
      },
      "outputs": [],
      "source": [
        "things_to_do = ['Learn Python', 'Finish PhD', 'Publish research',\n",
        "                'Accept Nobel prize', 'Inspire a new generation']\n",
        "\n",
        "my_meetup_dot_com_profile = {\n",
        "    \"first name\": \"Ignatius\",\n",
        "    \"favourite number\": 9,\n",
        "    \"favourite programming language\": \"FORTRAN66\",\n",
        "    3: \"is the magic number\"\n",
        "}\n",
        "my_meetup_dot_com_profile[\"Interests\"] = [\"Python2\", \"Python3\", \"Scientific Python\", \"Pottery\"]"
      ]
    },
    {
      "cell_type": "markdown",
      "metadata": {
        "hideCode": false,
        "hidePrompt": false,
        "id": "BUhjClhVmggi"
      },
      "source": [
        "# Classes"
      ]
    },
    {
      "cell_type": "markdown",
      "metadata": {
        "hideCode": false,
        "hidePrompt": false,
        "id": "4PaN8Uvfmggj"
      },
      "source": [
        "The basic syntax for classes is pretty succinct:"
      ]
    },
    {
      "cell_type": "code",
      "execution_count": null,
      "metadata": {
        "hideCode": false,
        "hidePrompt": false,
        "id": "IXXqbJ8qmggj"
      },
      "outputs": [],
      "source": [
        "class MyClass(object):\n",
        "    some_attribute = \"default_value\"\n",
        "\n",
        "    def __init__(self, some_attribute, arg2, arg3):\n",
        "        # Some initialization (over-riding default)\n",
        "        self.some_attribute = some_attribute\n",
        "\n",
        "    def some_method(self):\n",
        "        return self.some_attribute\n",
        "\n",
        "    def another_method(self, arg1):\n",
        "        if arg1 == \"example\":\n",
        "            output = self.some_method()\n",
        "            return output"
      ]
    },
    {
      "cell_type": "markdown",
      "metadata": {
        "hideCode": false,
        "hidePrompt": false,
        "id": "WmVhgf0xmggk"
      },
      "source": [
        "A few points to note: `class` is just a block like any other. Default values can be supplied at its top level, but be careful - often it is better to set defaults in the initializer. Methods are defined as functions, but inside the class block. All of them have a first argument `self`, which is the object itself. Like, say, `this` in C++ (but without dereferencing required).\n",
        "\n",
        "Python classes don't have a particularly strong approach to private/public access, but starting with an underscore is a conventional approach to indicate a member shouldn't be touched by anything outside the class. We subclass from `object` - additional classes may be added by comma-separation. Subclassing from `object` is actually the default in Python3 if no parentheses (or parent class) are provided - so-called *new-style classes*.\n",
        "\n",
        "You also see your first magic method - the `__init__` function. This is the constructor, called when the class is created. Here we use it to override a default from the arguments it is passed."
      ]
    },
    {
      "cell_type": "code",
      "execution_count": null,
      "metadata": {
        "hideCode": false,
        "hidePrompt": false,
        "id": "il1C-iEZmggk"
      },
      "outputs": [],
      "source": [
        "aninstance = MyClass(\"non-default value\", 1, 2)"
      ]
    },
    {
      "cell_type": "markdown",
      "metadata": {
        "hideCode": false,
        "hidePrompt": false,
        "id": "XbiWVGFdmggk"
      },
      "source": [
        "Here, you see the arguments to the `__init__` function."
      ]
    },
    {
      "cell_type": "code",
      "execution_count": null,
      "metadata": {
        "hideCode": false,
        "hidePrompt": false,
        "colab": {
          "base_uri": "https://localhost:8080/",
          "height": 35
        },
        "id": "-YjkfiWSmggl",
        "outputId": "5fe88c41-6062-44db-e120-cf6c0859e6ef"
      },
      "outputs": [
        {
          "output_type": "execute_result",
          "data": {
            "text/plain": [
              "'non-default value'"
            ],
            "application/vnd.google.colaboratory.intrinsic+json": {
              "type": "string"
            }
          },
          "metadata": {},
          "execution_count": 4
        }
      ],
      "source": [
        "aninstance.another_method(\"example\")"
      ]
    },
    {
      "cell_type": "markdown",
      "metadata": {
        "hideCode": false,
        "hidePrompt": false,
        "id": "98rQQ2uWmggl"
      },
      "source": [
        "And, one method has called the next and returned the value we asked. We can check the type and dir of this like any other object."
      ]
    },
    {
      "cell_type": "code",
      "execution_count": null,
      "metadata": {
        "hideCode": false,
        "hidePrompt": false,
        "colab": {
          "base_uri": "https://localhost:8080/"
        },
        "id": "Du19m9e1mggl",
        "outputId": "f50069a4-7754-462f-a047-b2222320b52f"
      },
      "outputs": [
        {
          "output_type": "stream",
          "name": "stdout",
          "text": [
            "<class '__main__.MyClass'>\n",
            "__class__, __delattr__, __dict__, __dir__, __doc__, __eq__, __format__, __ge__, __getattribute__, __gt__, __hash__, __init__, __init_subclass__, __le__, __lt__, __module__, __ne__, __new__, __reduce__, __reduce_ex__, __repr__, __setattr__, __sizeof__, __str__, __subclasshook__, __weakref__, another_method, some_attribute, some_method\n"
          ]
        }
      ],
      "source": [
        "print(type(aninstance))\n",
        "print(\", \".join(dir(aninstance)))"
      ]
    },
    {
      "cell_type": "markdown",
      "metadata": {
        "hideCode": false,
        "hidePrompt": false,
        "id": "Q21C8X_Lmggm"
      },
      "source": [
        "Note that you can call a override a method in a parent class (for example `a_method` in `MyParentClass`) by defining a method with the same name. If you want to effectively wrap it, you can use the format\n",
        "\n",
        "```python\n",
        "class MyClass(MyParentClass):\n",
        "    ...\n",
        "    def a_method(self, arg1, arg2):\n",
        "        val = MyParentClass.mymethod(self, arg1, arg2)\n",
        "        # Do something to val\n",
        "        return val\n",
        "```\n",
        "\n",
        "Note that you must explicitly pass \"`self`\" in this case."
      ]
    },
    {
      "cell_type": "markdown",
      "metadata": {
        "hideCode": false,
        "hidePrompt": false,
        "id": "jJ3eEU0Tmggm"
      },
      "source": [
        "### Exercise: University Classes"
      ]
    },
    {
      "cell_type": "code",
      "execution_count": null,
      "metadata": {
        "hideCode": false,
        "hidePrompt": false,
        "id": "AswuXs6amggm"
      },
      "outputs": [],
      "source": [
        "class Institution:\n",
        "    location = \"(unknown)\"\n",
        "\n",
        "    def __init__(self, location):\n",
        "        self.location = location\n",
        "\n",
        "    def __str__(self):\n",
        "        return \"Institution in %s\" % self.location\n"
      ]
    },
    {
      "cell_type": "code",
      "execution_count": null,
      "metadata": {
        "hideCode": false,
        "hidePrompt": false,
        "colab": {
          "base_uri": "https://localhost:8080/",
          "height": 35
        },
        "id": "e5s_xrRzmggm",
        "outputId": "747acfc1-f2ce-4242-972d-48f8ee5847d0"
      },
      "outputs": [
        {
          "output_type": "execute_result",
          "data": {
            "text/plain": [
              "'Institution in Paris'"
            ],
            "application/vnd.google.colaboratory.intrinsic+json": {
              "type": "string"
            }
          },
          "metadata": {},
          "execution_count": 14
        }
      ],
      "source": [
        "my_institution = Institution(\"Paris\")\n",
        "str(my_institution)"
      ]
    },
    {
      "cell_type": "code",
      "execution_count": null,
      "metadata": {
        "hideCode": false,
        "hidePrompt": false,
        "id": "IW7xjODOmggm"
      },
      "outputs": [],
      "source": [
        "class University(Institution):\n",
        "    ..."
      ]
    },
    {
      "cell_type": "code",
      "execution_count": null,
      "metadata": {
        "hideCode": false,
        "hidePrompt": false,
        "colab": {
          "base_uri": "https://localhost:8080/"
        },
        "id": "Ymi7pOqbmggn",
        "outputId": "bf88244f-5e81-4b52-f796-60554d4fd203"
      },
      "outputs": [
        {
          "output_type": "execute_result",
          "data": {
            "text/plain": [
              "False"
            ]
          },
          "metadata": {},
          "execution_count": 18
        }
      ],
      "source": [
        "my_institution = University(\"Belfast\")\n",
        "your_institution = University(\"Paris\")\n",
        "str(my_institution) == \"University in Belfast\" and str(your_institution) == \"University in Paris\""
      ]
    },
    {
      "cell_type": "markdown",
      "metadata": {
        "hideCode": false,
        "hidePrompt": false,
        "id": "d93v0XaBmggn"
      },
      "source": [
        "Can you alter the `__str__` magic method so that the final cell prints True?"
      ]
    },
    {
      "cell_type": "code",
      "source": [
        "class University(Institution):\n",
        "    def __str__(self):\n",
        "        return \"University in %s\" % self.location"
      ],
      "metadata": {
        "id": "IO_I6QA7rbMn"
      },
      "execution_count": null,
      "outputs": []
    },
    {
      "cell_type": "code",
      "source": [
        "my_institution = University(\"Belfast\")\n",
        "your_institution = University(\"Paris\")\n",
        "str(my_institution) == \"University in Belfast\" and str(your_institution) == \"University in Paris\""
      ],
      "metadata": {
        "colab": {
          "base_uri": "https://localhost:8080/"
        },
        "id": "Vw8aTbgZsr8B",
        "outputId": "5d9996e4-328f-462f-a87c-96795680916b"
      },
      "execution_count": null,
      "outputs": [
        {
          "output_type": "execute_result",
          "data": {
            "text/plain": [
              "True"
            ]
          },
          "metadata": {},
          "execution_count": 20
        }
      ]
    },
    {
      "cell_type": "markdown",
      "metadata": {
        "hideCode": false,
        "hidePrompt": false,
        "id": "k9zwzJL0mggn"
      },
      "source": [
        "### Exercise: Going Pottery"
      ]
    },
    {
      "cell_type": "markdown",
      "metadata": {
        "hideCode": false,
        "hidePrompt": false,
        "id": "BWSz9fetmggn"
      },
      "source": [
        "By now, this should make sense to you:"
      ]
    },
    {
      "cell_type": "code",
      "execution_count": null,
      "metadata": {
        "hideCode": false,
        "hidePrompt": false,
        "colab": {
          "base_uri": "https://localhost:8080/",
          "height": 35
        },
        "id": "FU4ZASO8mggn",
        "outputId": "a9aac8b8-d15f-4077-f9b6-bf18af9c49a2"
      },
      "outputs": [
        {
          "output_type": "execute_result",
          "data": {
            "text/plain": [
              "'Python2,Python3,Scientific Python,Pottery'"
            ],
            "application/vnd.google.colaboratory.intrinsic+json": {
              "type": "string"
            }
          },
          "metadata": {},
          "execution_count": 10
        }
      ],
      "source": [
        "delimiter = \",\"\n",
        "delimiter.join(my_meetup_dot_com_profile[\"Interests\"])"
      ]
    },
    {
      "cell_type": "markdown",
      "metadata": {
        "hideCode": false,
        "hidePrompt": false,
        "id": "0xXpTSi5mggo"
      },
      "source": [
        "It uses the `join` method on a string (the delimiter) to join the entires of a list together, into one big string."
      ]
    },
    {
      "cell_type": "markdown",
      "metadata": {
        "hideCode": false,
        "hidePrompt": false,
        "id": "J87nd0gYmggo"
      },
      "source": [
        "Below, we subclass `str` and call it `MyString`. It has one method, called `join` to override the usual `join` functionality that strings have - that method only calls the original `join` on `str` so, currently, `MyString` strings behave exactly as any other Python strings.\n",
        "\n",
        "Exercise: make this overridden `join` method check if the iterable you are joining does _not_ have \"Pottery\" in it and, if so, make it raise a RuntimeError.\n",
        "\n",
        "Extension: instead of raising an error, silently replace \"Pottery\" with \"More Python\" before passing the iterable to `str.join`"
      ]
    },
    {
      "cell_type": "code",
      "execution_count": null,
      "metadata": {
        "hideCode": false,
        "hidePrompt": false,
        "colab": {
          "base_uri": "https://localhost:8080/",
          "height": 35
        },
        "id": "v94gtiGAmggo",
        "outputId": "8f246e75-6e85-400b-e58b-364b539e93ae"
      },
      "outputs": [
        {
          "output_type": "execute_result",
          "data": {
            "text/plain": [
              "'Python2,Python3,Scientific Python,Pottery'"
            ],
            "application/vnd.google.colaboratory.intrinsic+json": {
              "type": "string"
            }
          },
          "metadata": {},
          "execution_count": 21
        }
      ],
      "source": [
        "class MyString(str):\n",
        "    def join(self, iterable):\n",
        "        # Replace this with your Pottery-checker statement\n",
        "        # ...\n",
        "        # then continue as normal:\n",
        "        return str.join(self, iterable)\n",
        "\n",
        "delimiter = MyString(\",\")\n",
        "delimiter.join(my_meetup_dot_com_profile[\"Interests\"])"
      ]
    },
    {
      "cell_type": "markdown",
      "metadata": {
        "hideCode": false,
        "hidePrompt": false,
        "id": "-vJsWOfemggo"
      },
      "source": [
        "NB: I do not endorse subclassing `str` for real-world applications! From the above you can see that, even though it is a basic type, it is also a class - this is important - but you should also note that supplanting basic types unexpectedly makes code less intuitive and maintainable (again, see Pythonic...)"
      ]
    },
    {
      "cell_type": "markdown",
      "metadata": {
        "hideCode": false,
        "hidePrompt": false,
        "id": "SiaS1Fx8mggo"
      },
      "source": [
        "# Exceptions\n",
        "## Are something extraordinary"
      ]
    },
    {
      "cell_type": "markdown",
      "metadata": {
        "hideCode": false,
        "hidePrompt": false,
        "id": "gEQ4K_AUmggo"
      },
      "source": [
        "In the words of one of early computing's most idiosyncratic legends, Rear Admiral Dr Grace Murray Hopper, \"It is often easier to ask for forgiveness than to ask for permission\". A distinguishing feature of Python is that it is built from the ground up with this maxim in mind, known as EAFP. In practice, this means preferring exceptions over tests, so using a `try-except` block (or, elsewhere, `try-catch`, etc.) instead of an `if` statement when checking whether you can perform an action."
      ]
    },
    {
      "cell_type": "markdown",
      "metadata": {
        "hideCode": false,
        "hidePrompt": false,
        "id": "7yhPMIAomggp"
      },
      "source": [
        "Simple examples where you are more likely to use an exception in Python than another language:"
      ]
    },
    {
      "cell_type": "markdown",
      "metadata": {
        "hideCode": false,
        "hidePrompt": false,
        "id": "Zlx7XgkImggp"
      },
      "source": [
        "* When making a directory"
      ]
    },
    {
      "cell_type": "markdown",
      "metadata": {
        "hideCode": false,
        "hidePrompt": false,
        "id": "pqDpdIECmggp"
      },
      "source": [
        "Can you see why this might be useful? If you use an `if` to check for non-existence, there is a potential race condition: by the time you reach the body, it could be made. If you catch the exception, you know it existed exactly when you tried to make it. (Although, the recommended routine, `os.makedirs`, has an optional don't-complain-if-dir-exists argument, which is probably even better)"
      ]
    },
    {
      "cell_type": "markdown",
      "metadata": {
        "hideCode": false,
        "hidePrompt": false,
        "id": "NusAyjJOmggp"
      },
      "source": [
        "* When testing file existence"
      ]
    },
    {
      "cell_type": "markdown",
      "metadata": {
        "hideCode": false,
        "hidePrompt": false,
        "id": "7qgC_N9Wmggp"
      },
      "source": [
        "Again with the race condition - this is in fact a security issue, as an attacker can create the file between you checking for existence and opening it for writing. If they create it, of course, then they set the permissions and can see the content regardless of your attempts to block reading."
      ]
    },
    {
      "cell_type": "markdown",
      "metadata": {
        "hideCode": false,
        "hidePrompt": false,
        "id": "7Szn3rwEmggp"
      },
      "source": [
        "* Checking type"
      ]
    },
    {
      "cell_type": "markdown",
      "metadata": {
        "hideCode": false,
        "hidePrompt": false,
        "id": "rpKk082Nmggv"
      },
      "source": [
        "We talked a lot about duck-typing... the underlying principle is that you never reject input types *as long as they work*. Now imagine you have a routine with an argument `x`, where you want to do one thing if `x` is numeric type and another if it's, say, a string... if you use `if` and check their type, well what if this is some weird subclass of float that your routine has been sent, or the author of this type has carefully implemented all the necessary magic functions to make it quack like a float, but it's a completely unrelated class?\n",
        "\n",
        "Push the boat out and see if it floats. Try casting to a float and if it doesn't work catch the exception. Then try casting to a string. Everything should cast to a string somehow. Now you have made checking numeric-ness a problem of `float`, which is infinitely more qualified to do this than you are."
      ]
    },
    {
      "cell_type": "markdown",
      "metadata": {
        "hideCode": false,
        "hidePrompt": false,
        "id": "90wXCWBGmggv"
      },
      "source": [
        "* Checking for a dictionary key"
      ]
    },
    {
      "cell_type": "markdown",
      "metadata": {
        "hideCode": false,
        "hidePrompt": false,
        "id": "sKvL8oeLmggw"
      },
      "source": [
        "Maybe what you think is a dictionary isn't - it's something that, when you request `thingy[\"something\"]` will check whether `\"something\"` is something it might dynamically add, and, if so, will gladly return the result. If you check first (`if \"something\" in thingy:`), either the answer is misleading (\"no\"), or what looks like an innocent if-clause is modifying your dictionary. Moreover, even for an ordinary dictionary, having an if-clause followed by a retrieval hits your dictionary scan twice - try-catch only searches once."
      ]
    },
    {
      "cell_type": "markdown",
      "metadata": {
        "hideCode": false,
        "hidePrompt": false,
        "id": "w3dMEPOGmggw"
      },
      "source": [
        "Hopefully this motivates the idea of exceptions before tests - EAFP. Why then have you been repeatedly told not to do this in, as Python calls them, LBYL (Look Before You Leap) languages? The answer is usually that exceptions are horrendously slow and inefficient. In Python this isn't true, by design. They are so fundamental to the language that every loop in fact ends, not with a failing test, but when the iterable throws a specific exception (the `StopIteration` exception)."
      ]
    },
    {
      "cell_type": "markdown",
      "metadata": {
        "hideCode": false,
        "hidePrompt": false,
        "id": "Hu99AKzDmggw"
      },
      "source": [
        "# Try a try"
      ]
    },
    {
      "cell_type": "markdown",
      "metadata": {
        "hideCode": false,
        "hidePrompt": false,
        "id": "Emu2mMBwmggw"
      },
      "source": [
        "Here is an example of a piece of code that throws an exception:"
      ]
    },
    {
      "cell_type": "code",
      "execution_count": null,
      "metadata": {
        "hideCode": false,
        "hidePrompt": false,
        "colab": {
          "base_uri": "https://localhost:8080/",
          "height": 158
        },
        "id": "WqsnLglUmggw",
        "outputId": "17d67636-a53c-4612-e48c-292deca4ced6"
      },
      "outputs": [
        {
          "output_type": "error",
          "ename": "NameError",
          "evalue": "name 'something_stupid' is not defined",
          "traceback": [
            "\u001b[0;31m---------------------------------------------------------------------------\u001b[0m",
            "\u001b[0;31mNameError\u001b[0m                                 Traceback (most recent call last)",
            "\u001b[0;32m<ipython-input-22-c166759e02d3>\u001b[0m in \u001b[0;36m<cell line: 1>\u001b[0;34m()\u001b[0m\n\u001b[0;32m----> 1\u001b[0;31m \u001b[0msomething_stupid\u001b[0m\u001b[0;34m(\u001b[0m\u001b[0;34m)\u001b[0m\u001b[0;34m\u001b[0m\u001b[0;34m\u001b[0m\u001b[0m\n\u001b[0m\u001b[1;32m      2\u001b[0m \u001b[0mprint\u001b[0m\u001b[0;34m(\u001b[0m\u001b[0;34m\"Next step\"\u001b[0m\u001b[0;34m)\u001b[0m\u001b[0;34m\u001b[0m\u001b[0;34m\u001b[0m\u001b[0m\n",
            "\u001b[0;31mNameError\u001b[0m: name 'something_stupid' is not defined"
          ]
        }
      ],
      "source": [
        "something_stupid()\n",
        "print(\"Next step\")"
      ]
    },
    {
      "cell_type": "markdown",
      "metadata": {
        "hideCode": false,
        "hidePrompt": false,
        "id": "z1k3mWQgmggw"
      },
      "source": [
        "Python provides lots of useful information about an _exception_ by default - in this case, that `something_stupid` is not defined. However, the default approach interrupts the flow - \"Next step\" is never printed. Sometimes, we need a more nuanced approach, where we can make decisions about an exception within our code."
      ]
    },
    {
      "cell_type": "markdown",
      "metadata": {
        "hideCode": false,
        "hidePrompt": false,
        "id": "r_phec_0mggx"
      },
      "source": [
        "The actual syntax is similar to what you will likely have seen in other languages:"
      ]
    },
    {
      "cell_type": "code",
      "execution_count": null,
      "metadata": {
        "hideCode": false,
        "hidePrompt": false,
        "colab": {
          "base_uri": "https://localhost:8080/"
        },
        "id": "UBXgq3GYmggx",
        "outputId": "c59cfb02-a375-4fe3-b4b9-7e8fb75a8c7e"
      },
      "outputs": [
        {
          "output_type": "stream",
          "name": "stdout",
          "text": [
            "Doh!\n",
            "Next step\n"
          ]
        }
      ],
      "source": [
        "try:\n",
        "    something_stupid()\n",
        "except:\n",
        "    print('Doh!')\n",
        "print('Next step')"
      ]
    },
    {
      "cell_type": "markdown",
      "metadata": {
        "hideCode": false,
        "hidePrompt": false,
        "id": "g-2Qdi2nmggx"
      },
      "source": [
        "Well, the first thing is that we didn't define *something_stupid*. So we get an exception and our extremely generic `except` provides no useful information.\n",
        "\n",
        "However, \"Next step\" has been printed - our try-except block has caught the exception, and allowed the flow to continue onto the next command."
      ]
    },
    {
      "cell_type": "markdown",
      "metadata": {
        "hideCode": false,
        "hidePrompt": false,
        "id": "O5b-Ai4imggx"
      },
      "source": [
        "## An improvement"
      ]
    },
    {
      "cell_type": "markdown",
      "metadata": {
        "hideCode": false,
        "hidePrompt": false,
        "id": "y--TT1DEmggx"
      },
      "source": [
        "Realistically, when catching an exception, you probably want to do something about it. Perhaps print an explanatory error message."
      ]
    },
    {
      "cell_type": "code",
      "execution_count": null,
      "metadata": {
        "hideCode": false,
        "hidePrompt": false,
        "colab": {
          "base_uri": "https://localhost:8080/"
        },
        "id": "pTvi1FVjmggx",
        "outputId": "89e05698-7ddd-4f60-c3aa-c25a428f993f"
      },
      "outputs": [
        {
          "output_type": "stream",
          "name": "stdout",
          "text": [
            "Doh! You forgot that name 'something_stupid' is not defined\n"
          ]
        }
      ],
      "source": [
        "try:\n",
        "    something_stupid()\n",
        "except Exception as e:\n",
        "    print('Doh! You forgot that', e)"
      ]
    },
    {
      "cell_type": "markdown",
      "metadata": {
        "hideCode": false,
        "hidePrompt": false,
        "id": "2Q8M8-aGmggx"
      },
      "source": [
        "Definitely better, and note that `print` will cast `e`, the exception, to a string - it is actually a more complex object:"
      ]
    },
    {
      "cell_type": "code",
      "execution_count": null,
      "metadata": {
        "hideCode": false,
        "hidePrompt": false,
        "colab": {
          "base_uri": "https://localhost:8080/"
        },
        "id": "Sr9Xjk0Xmggy",
        "outputId": "33ed04a8-69ab-4afe-b57a-a7073dc4be8c"
      },
      "outputs": [
        {
          "output_type": "stream",
          "name": "stdout",
          "text": [
            "__cause__, __class__, __context__, __delattr__, __dict__, __dir__, __doc__, __eq__, __format__, __ge__, __getattribute__, __gt__, __hash__, __init__, __init_subclass__, __le__, __lt__, __ne__, __new__, __reduce__, __reduce_ex__, __repr__, __setattr__, __setstate__, __sizeof__, __str__, __subclasshook__, __suppress_context__, __traceback__, args, name, with_traceback\n"
          ]
        }
      ],
      "source": [
        "try:\n",
        "    something_stupid()\n",
        "except Exception as e:\n",
        "    print(', '.join(dir(e)))"
      ]
    },
    {
      "cell_type": "markdown",
      "metadata": {
        "hideCode": false,
        "hidePrompt": false,
        "id": "dFXpPMzemggy"
      },
      "source": [
        "Note in particular that `e` can have arguments when it is thrown - retrieved via `e.args`. Suppose we don't actually want to stop the exception bubbling up, just to some logging or tidy-up on the way through."
      ]
    },
    {
      "cell_type": "code",
      "execution_count": null,
      "metadata": {
        "hideCode": false,
        "hidePrompt": false,
        "colab": {
          "base_uri": "https://localhost:8080/",
          "height": 315
        },
        "id": "G3BIVtHbmggy",
        "outputId": "fbde1b48-3c6d-4737-944a-599f95c20a39"
      },
      "outputs": [
        {
          "output_type": "stream",
          "name": "stdout",
          "text": [
            "I am *not* cleaning your mess for you, deal with it yourself!\n"
          ]
        },
        {
          "output_type": "error",
          "ename": "NameError",
          "evalue": "name 'something_stupid' is not defined",
          "traceback": [
            "\u001b[0;31m---------------------------------------------------------------------------\u001b[0m",
            "\u001b[0;31mNameError\u001b[0m                                 Traceback (most recent call last)",
            "\u001b[0;32m<ipython-input-16-9db2be1a68ae>\u001b[0m in \u001b[0;36m<cell line: 1>\u001b[0;34m()\u001b[0m\n\u001b[1;32m      3\u001b[0m \u001b[0;32mexcept\u001b[0m \u001b[0mException\u001b[0m \u001b[0;32mas\u001b[0m \u001b[0me\u001b[0m\u001b[0;34m:\u001b[0m\u001b[0;34m\u001b[0m\u001b[0;34m\u001b[0m\u001b[0m\n\u001b[1;32m      4\u001b[0m     \u001b[0mprint\u001b[0m\u001b[0;34m(\u001b[0m\u001b[0;34m'I am *not* cleaning your mess for you, deal with it yourself!'\u001b[0m\u001b[0;34m)\u001b[0m\u001b[0;34m\u001b[0m\u001b[0;34m\u001b[0m\u001b[0m\n\u001b[0;32m----> 5\u001b[0;31m     \u001b[0;32mraise\u001b[0m \u001b[0me\u001b[0m\u001b[0;34m\u001b[0m\u001b[0;34m\u001b[0m\u001b[0m\n\u001b[0m",
            "\u001b[0;32m<ipython-input-16-9db2be1a68ae>\u001b[0m in \u001b[0;36m<cell line: 1>\u001b[0;34m()\u001b[0m\n\u001b[1;32m      1\u001b[0m \u001b[0;32mtry\u001b[0m\u001b[0;34m:\u001b[0m\u001b[0;34m\u001b[0m\u001b[0;34m\u001b[0m\u001b[0m\n\u001b[0;32m----> 2\u001b[0;31m     \u001b[0msomething_stupid\u001b[0m\u001b[0;34m(\u001b[0m\u001b[0;34m)\u001b[0m\u001b[0;34m\u001b[0m\u001b[0;34m\u001b[0m\u001b[0m\n\u001b[0m\u001b[1;32m      3\u001b[0m \u001b[0;32mexcept\u001b[0m \u001b[0mException\u001b[0m \u001b[0;32mas\u001b[0m \u001b[0me\u001b[0m\u001b[0;34m:\u001b[0m\u001b[0;34m\u001b[0m\u001b[0;34m\u001b[0m\u001b[0m\n\u001b[1;32m      4\u001b[0m     \u001b[0mprint\u001b[0m\u001b[0;34m(\u001b[0m\u001b[0;34m'I am *not* cleaning your mess for you, deal with it yourself!'\u001b[0m\u001b[0;34m)\u001b[0m\u001b[0;34m\u001b[0m\u001b[0;34m\u001b[0m\u001b[0m\n\u001b[1;32m      5\u001b[0m     \u001b[0;32mraise\u001b[0m \u001b[0me\u001b[0m\u001b[0;34m\u001b[0m\u001b[0;34m\u001b[0m\u001b[0m\n",
            "\u001b[0;31mNameError\u001b[0m: name 'something_stupid' is not defined"
          ]
        }
      ],
      "source": [
        "try:\n",
        "    something_stupid()\n",
        "except Exception as e:\n",
        "    print('I am *not* cleaning your mess for you, deal with it yourself!')\n",
        "    raise e"
      ]
    },
    {
      "cell_type": "markdown",
      "metadata": {
        "hideCode": false,
        "hidePrompt": false,
        "id": "3AdE7KsRmggy"
      },
      "source": [
        "Now we get the same exception we would have got the last time, but the `raise` keyword has kept it moving on past. This is quite useful, as Python exceptions tend to have lots of juicy info we wouldn't want to lose by ending our except block with a boring `print('oh no')` and program exit.\n",
        "\n",
        "In fact this is how we can throw a brand new exception - we take one of the standard types, e.g. \"`RuntimeError`\" and `raise` it with an explanatory argument:"
      ]
    },
    {
      "cell_type": "code",
      "execution_count": null,
      "metadata": {
        "hideCode": false,
        "hidePrompt": false,
        "colab": {
          "base_uri": "https://localhost:8080/",
          "height": 141
        },
        "id": "CHjC698Wmggy",
        "outputId": "0efcfe51-4885-4030-e091-6332ab337f9d"
      },
      "outputs": [
        {
          "output_type": "error",
          "ename": "RuntimeError",
          "evalue": "Something quite generic went wrong",
          "traceback": [
            "\u001b[0;31m---------------------------------------------------------------------------\u001b[0m",
            "\u001b[0;31mRuntimeError\u001b[0m                              Traceback (most recent call last)",
            "\u001b[0;32m<ipython-input-17-d34155c72103>\u001b[0m in \u001b[0;36m<cell line: 1>\u001b[0;34m()\u001b[0m\n\u001b[0;32m----> 1\u001b[0;31m \u001b[0;32mraise\u001b[0m \u001b[0mRuntimeError\u001b[0m\u001b[0;34m(\u001b[0m\u001b[0;34m\"Something quite generic went wrong\"\u001b[0m\u001b[0;34m)\u001b[0m\u001b[0;34m\u001b[0m\u001b[0;34m\u001b[0m\u001b[0m\n\u001b[0m",
            "\u001b[0;31mRuntimeError\u001b[0m: Something quite generic went wrong"
          ]
        }
      ],
      "source": [
        "raise RuntimeError(\"Something quite generic went wrong\")"
      ]
    },
    {
      "cell_type": "markdown",
      "metadata": {
        "hideCode": false,
        "hidePrompt": false,
        "id": "IVUaMAOimggy"
      },
      "source": [
        "# Better yet"
      ]
    },
    {
      "cell_type": "markdown",
      "metadata": {
        "hideCode": false,
        "hidePrompt": false,
        "id": "D7NOjMmxmggz"
      },
      "source": [
        "This is a very broad error, and a parent class of most of the exceptions we have seen. It doesn't make it easy for calling functions to pin-point what went wrong...\n",
        "\n",
        "Looking at it from the other end, just as we should be more specific about what we catch, we should be more specific about what we catch. This is a good idea, as, usually when we catch an exception, it is because we expect a particular thing to go wrong. As a case in point:"
      ]
    },
    {
      "cell_type": "code",
      "execution_count": null,
      "metadata": {
        "id": "znaBf_2omggz"
      },
      "outputs": [],
      "source": [
        "import os"
      ]
    },
    {
      "cell_type": "code",
      "execution_count": null,
      "metadata": {
        "hideCode": false,
        "hidePrompt": false,
        "colab": {
          "base_uri": "https://localhost:8080/"
        },
        "id": "ohvRAktMmggz",
        "outputId": "7040b11f-1069-4dc3-e465-eb753422a24f"
      },
      "outputs": [
        {
          "output_type": "stream",
          "name": "stdout",
          "text": [
            "just mucking about with my friend dirname\n"
          ]
        }
      ],
      "source": [
        "try:\n",
        "    os.makedirs(dirname)\n",
        "except:\n",
        "    # Great, someone has already created that directory\n",
        "    # We can carry on!\n",
        "    pass\n",
        "# lalalalala...\n",
        "print(\"just mucking about with my friend dirname\")"
      ]
    },
    {
      "cell_type": "markdown",
      "metadata": {
        "hideCode": false,
        "hidePrompt": false,
        "id": "Ln5WmAFUmggz"
      },
      "source": [
        "First note `pass`. This is required because every block must have at least one non-comment line - if nothing else is there, we can use `pass` - it is Python's `no-op` if that helps.\n",
        "\n",
        "Now ask yourself, \"did we ever actually define dirname?\" No? Then as soon as we use it after our supposed check, we will get an unhandled NameError exception."
      ]
    },
    {
      "cell_type": "markdown",
      "metadata": {
        "hideCode": false,
        "hidePrompt": false,
        "id": "frlO0d0jmggz"
      },
      "source": [
        "We can specify what type of exceptions we catch... dir-already-exists have type `OSError`."
      ]
    },
    {
      "cell_type": "code",
      "execution_count": null,
      "metadata": {
        "hideCode": false,
        "hidePrompt": false,
        "colab": {
          "base_uri": "https://localhost:8080/",
          "height": 211
        },
        "id": "LPreq9t6mggz",
        "outputId": "ade15f6a-f307-4c02-c9da-6c45e6041637"
      },
      "outputs": [
        {
          "output_type": "error",
          "ename": "NameError",
          "evalue": "name 'dirname' is not defined",
          "traceback": [
            "\u001b[0;31m---------------------------------------------------------------------------\u001b[0m",
            "\u001b[0;31mNameError\u001b[0m                                 Traceback (most recent call last)",
            "\u001b[0;32m<ipython-input-25-d91b62215455>\u001b[0m in \u001b[0;36m<cell line: 1>\u001b[0;34m()\u001b[0m\n\u001b[1;32m      1\u001b[0m \u001b[0;32mtry\u001b[0m\u001b[0;34m:\u001b[0m\u001b[0;34m\u001b[0m\u001b[0;34m\u001b[0m\u001b[0m\n\u001b[0;32m----> 2\u001b[0;31m     \u001b[0mos\u001b[0m\u001b[0;34m.\u001b[0m\u001b[0mmakedirs\u001b[0m\u001b[0;34m(\u001b[0m\u001b[0mdirname\u001b[0m\u001b[0;34m)\u001b[0m\u001b[0;34m\u001b[0m\u001b[0;34m\u001b[0m\u001b[0m\n\u001b[0m\u001b[1;32m      3\u001b[0m \u001b[0;32mexcept\u001b[0m \u001b[0mOSError\u001b[0m\u001b[0;34m:\u001b[0m\u001b[0;34m\u001b[0m\u001b[0;34m\u001b[0m\u001b[0m\n\u001b[1;32m      4\u001b[0m     \u001b[0mprint\u001b[0m\u001b[0;34m(\u001b[0m\u001b[0;34m\"We had an error creating the directory\"\u001b[0m\u001b[0;34m)\u001b[0m\u001b[0;34m\u001b[0m\u001b[0;34m\u001b[0m\u001b[0m\n\u001b[1;32m      5\u001b[0m \u001b[0;31m# lalalalala...\u001b[0m\u001b[0;34m\u001b[0m\u001b[0;34m\u001b[0m\u001b[0m\n",
            "\u001b[0;31mNameError\u001b[0m: name 'dirname' is not defined"
          ]
        }
      ],
      "source": [
        "try:\n",
        "    os.makedirs(dirname)\n",
        "except OSError:\n",
        "    print(\"We had an error creating the directory\")\n",
        "# lalalalala...\n",
        "print(\"just mucking about with my friend dirname\")"
      ]
    },
    {
      "cell_type": "markdown",
      "metadata": {
        "hideCode": false,
        "hidePrompt": false,
        "id": "S_JAfl1Vmgg0"
      },
      "source": [
        "Now we have stepped out of the way of genuine errors coming through. We can actually handle different exception types in different ways - there are plenty of cases this might be useful, if you want to do something awkward which could fail in five different directions."
      ]
    },
    {
      "cell_type": "markdown",
      "metadata": {
        "id": "CERKDguwmgg0"
      },
      "source": [
        "### Exercise: Yes, but no, but yes, but no"
      ]
    },
    {
      "cell_type": "markdown",
      "metadata": {
        "id": "o56QyQ9tmgg0"
      },
      "source": [
        "Can you create a function that will:\n",
        "\n",
        " * accept a key and a dictionary as arguments, then\n",
        " * throw a KeyError if the key is not in the dictionary,\n",
        " * _unless the missing key contains the text \"haha\" somewhere_ in which case...\n",
        " * it should throw a RuntimeError with text \"Now you're just having a laugh\""
      ]
    },
    {
      "cell_type": "code",
      "execution_count": null,
      "metadata": {
        "colab": {
          "base_uri": "https://localhost:8080/",
          "height": 321
        },
        "id": "OsQgYCnTmgg0",
        "outputId": "2fab0e43-31d0-4df6-e320-0e85f671bf80"
      },
      "outputs": [
        {
          "output_type": "error",
          "ename": "KeyError",
          "evalue": "'hohoho'",
          "traceback": [
            "\u001b[0;31m---------------------------------------------------------------------------\u001b[0m",
            "\u001b[0;31mKeyError\u001b[0m                                  Traceback (most recent call last)",
            "\u001b[0;32m<ipython-input-28-577b63f626b0>\u001b[0m in \u001b[0;36m<cell line: 17>\u001b[0;34m()\u001b[0m\n\u001b[1;32m     15\u001b[0m \u001b[0;34m\u001b[0m\u001b[0m\n\u001b[1;32m     16\u001b[0m \u001b[0mcheck_dictionary\u001b[0m\u001b[0;34m(\u001b[0m\u001b[0;34m'myhaha'\u001b[0m\u001b[0;34m,\u001b[0m \u001b[0mmy_dictionary\u001b[0m\u001b[0;34m)\u001b[0m \u001b[0;31m# fine\u001b[0m\u001b[0;34m\u001b[0m\u001b[0;34m\u001b[0m\u001b[0m\n\u001b[0;32m---> 17\u001b[0;31m \u001b[0mcheck_dictionary\u001b[0m\u001b[0;34m(\u001b[0m\u001b[0;34m'hohoho'\u001b[0m\u001b[0;34m,\u001b[0m \u001b[0mmy_dictionary\u001b[0m\u001b[0;34m)\u001b[0m \u001b[0;31m# KeyError\u001b[0m\u001b[0;34m\u001b[0m\u001b[0;34m\u001b[0m\u001b[0m\n\u001b[0m",
            "\u001b[0;32m<ipython-input-28-577b63f626b0>\u001b[0m in \u001b[0;36mcheck_dictionary\u001b[0;34m(key, dct)\u001b[0m\n\u001b[1;32m     12\u001b[0m         \u001b[0;32mif\u001b[0m \u001b[0;34m'haha'\u001b[0m \u001b[0;32min\u001b[0m \u001b[0mkey\u001b[0m\u001b[0;34m:\u001b[0m\u001b[0;34m\u001b[0m\u001b[0;34m\u001b[0m\u001b[0m\n\u001b[1;32m     13\u001b[0m             \u001b[0;32mraise\u001b[0m \u001b[0mRuntimeError\u001b[0m\u001b[0;34m(\u001b[0m\u001b[0;34m\"Now you're just having a laugh\"\u001b[0m\u001b[0;34m)\u001b[0m\u001b[0;34m\u001b[0m\u001b[0;34m\u001b[0m\u001b[0m\n\u001b[0;32m---> 14\u001b[0;31m         \u001b[0;32mraise\u001b[0m \u001b[0me\u001b[0m\u001b[0;34m\u001b[0m\u001b[0;34m\u001b[0m\u001b[0m\n\u001b[0m\u001b[1;32m     15\u001b[0m \u001b[0;34m\u001b[0m\u001b[0m\n\u001b[1;32m     16\u001b[0m \u001b[0mcheck_dictionary\u001b[0m\u001b[0;34m(\u001b[0m\u001b[0;34m'myhaha'\u001b[0m\u001b[0;34m,\u001b[0m \u001b[0mmy_dictionary\u001b[0m\u001b[0;34m)\u001b[0m \u001b[0;31m# fine\u001b[0m\u001b[0;34m\u001b[0m\u001b[0;34m\u001b[0m\u001b[0m\n",
            "\u001b[0;32m<ipython-input-28-577b63f626b0>\u001b[0m in \u001b[0;36mcheck_dictionary\u001b[0;34m(key, dct)\u001b[0m\n\u001b[1;32m      8\u001b[0m \u001b[0;32mdef\u001b[0m \u001b[0mcheck_dictionary\u001b[0m\u001b[0;34m(\u001b[0m\u001b[0mkey\u001b[0m\u001b[0;34m,\u001b[0m \u001b[0mdct\u001b[0m\u001b[0;34m)\u001b[0m\u001b[0;34m:\u001b[0m\u001b[0;34m\u001b[0m\u001b[0;34m\u001b[0m\u001b[0m\n\u001b[1;32m      9\u001b[0m     \u001b[0;32mtry\u001b[0m\u001b[0;34m:\u001b[0m\u001b[0;34m\u001b[0m\u001b[0;34m\u001b[0m\u001b[0m\n\u001b[0;32m---> 10\u001b[0;31m         \u001b[0mdct\u001b[0m\u001b[0;34m[\u001b[0m\u001b[0mkey\u001b[0m\u001b[0;34m]\u001b[0m\u001b[0;34m\u001b[0m\u001b[0;34m\u001b[0m\u001b[0m\n\u001b[0m\u001b[1;32m     11\u001b[0m     \u001b[0;32mexcept\u001b[0m \u001b[0mKeyError\u001b[0m \u001b[0;32mas\u001b[0m \u001b[0me\u001b[0m\u001b[0;34m:\u001b[0m\u001b[0;34m\u001b[0m\u001b[0;34m\u001b[0m\u001b[0m\n\u001b[1;32m     12\u001b[0m         \u001b[0;32mif\u001b[0m \u001b[0;34m'haha'\u001b[0m \u001b[0;32min\u001b[0m \u001b[0mkey\u001b[0m\u001b[0;34m:\u001b[0m\u001b[0;34m\u001b[0m\u001b[0;34m\u001b[0m\u001b[0m\n",
            "\u001b[0;31mKeyError\u001b[0m: 'hohoho'"
          ]
        }
      ],
      "source": [
        "my_dictionary = {\n",
        "    'hoho': 1,\n",
        "    'hehe': 2,\n",
        "    'myhaha': 3\n",
        "}\n",
        "# hoho, hehe, myhaha are fine; anything else gives a KeyError, unless it contains the text \"haha\"\n",
        "\n",
        "def check_dictionary(key, dct):\n",
        "    try:\n",
        "        dct[key]\n",
        "    except KeyError as e:\n",
        "        if 'haha' in key:\n",
        "            raise RuntimeError(\"Now you're just having a laugh\")\n",
        "        raise e\n",
        "\n",
        "check_dictionary('myhaha', my_dictionary) # fine\n",
        "check_dictionary('hohoho', my_dictionary) # KeyError\n"
      ]
    },
    {
      "cell_type": "code",
      "source": [
        "check_dictionary('hohohaha', my_dictionary) # RuntimeError"
      ],
      "metadata": {
        "colab": {
          "base_uri": "https://localhost:8080/",
          "height": 408
        },
        "id": "uC8NEnplt7jg",
        "outputId": "b2d0b066-0443-4142-e5fe-089438015175"
      },
      "execution_count": null,
      "outputs": [
        {
          "output_type": "error",
          "ename": "RuntimeError",
          "evalue": "Now you're just having a laugh",
          "traceback": [
            "\u001b[0;31m---------------------------------------------------------------------------\u001b[0m",
            "\u001b[0;31mKeyError\u001b[0m                                  Traceback (most recent call last)",
            "\u001b[0;32m<ipython-input-28-577b63f626b0>\u001b[0m in \u001b[0;36mcheck_dictionary\u001b[0;34m(key, dct)\u001b[0m\n\u001b[1;32m      9\u001b[0m     \u001b[0;32mtry\u001b[0m\u001b[0;34m:\u001b[0m\u001b[0;34m\u001b[0m\u001b[0;34m\u001b[0m\u001b[0m\n\u001b[0;32m---> 10\u001b[0;31m         \u001b[0mdct\u001b[0m\u001b[0;34m[\u001b[0m\u001b[0mkey\u001b[0m\u001b[0;34m]\u001b[0m\u001b[0;34m\u001b[0m\u001b[0;34m\u001b[0m\u001b[0m\n\u001b[0m\u001b[1;32m     11\u001b[0m     \u001b[0;32mexcept\u001b[0m \u001b[0mKeyError\u001b[0m \u001b[0;32mas\u001b[0m \u001b[0me\u001b[0m\u001b[0;34m:\u001b[0m\u001b[0;34m\u001b[0m\u001b[0;34m\u001b[0m\u001b[0m\n",
            "\u001b[0;31mKeyError\u001b[0m: 'hohohaha'",
            "\nDuring handling of the above exception, another exception occurred:\n",
            "\u001b[0;31mRuntimeError\u001b[0m                              Traceback (most recent call last)",
            "\u001b[0;32m<ipython-input-29-f5dc129a883d>\u001b[0m in \u001b[0;36m<cell line: 1>\u001b[0;34m()\u001b[0m\n\u001b[0;32m----> 1\u001b[0;31m \u001b[0mcheck_dictionary\u001b[0m\u001b[0;34m(\u001b[0m\u001b[0;34m'hohohaha'\u001b[0m\u001b[0;34m,\u001b[0m \u001b[0mmy_dictionary\u001b[0m\u001b[0;34m)\u001b[0m \u001b[0;31m# RuntimeError\u001b[0m\u001b[0;34m\u001b[0m\u001b[0;34m\u001b[0m\u001b[0m\n\u001b[0m",
            "\u001b[0;32m<ipython-input-28-577b63f626b0>\u001b[0m in \u001b[0;36mcheck_dictionary\u001b[0;34m(key, dct)\u001b[0m\n\u001b[1;32m     11\u001b[0m     \u001b[0;32mexcept\u001b[0m \u001b[0mKeyError\u001b[0m \u001b[0;32mas\u001b[0m \u001b[0me\u001b[0m\u001b[0;34m:\u001b[0m\u001b[0;34m\u001b[0m\u001b[0;34m\u001b[0m\u001b[0m\n\u001b[1;32m     12\u001b[0m         \u001b[0;32mif\u001b[0m \u001b[0;34m'haha'\u001b[0m \u001b[0;32min\u001b[0m \u001b[0mkey\u001b[0m\u001b[0;34m:\u001b[0m\u001b[0;34m\u001b[0m\u001b[0;34m\u001b[0m\u001b[0m\n\u001b[0;32m---> 13\u001b[0;31m             \u001b[0;32mraise\u001b[0m \u001b[0mRuntimeError\u001b[0m\u001b[0;34m(\u001b[0m\u001b[0;34m\"Now you're just having a laugh\"\u001b[0m\u001b[0;34m)\u001b[0m\u001b[0;34m\u001b[0m\u001b[0;34m\u001b[0m\u001b[0m\n\u001b[0m\u001b[1;32m     14\u001b[0m         \u001b[0;32mraise\u001b[0m \u001b[0me\u001b[0m\u001b[0;34m\u001b[0m\u001b[0;34m\u001b[0m\u001b[0m\n\u001b[1;32m     15\u001b[0m \u001b[0;34m\u001b[0m\u001b[0m\n",
            "\u001b[0;31mRuntimeError\u001b[0m: Now you're just having a laugh"
          ]
        }
      ]
    },
    {
      "cell_type": "markdown",
      "metadata": {
        "id": "y_Eaa1_wmgg0"
      },
      "source": [
        "There are several ways to accomplish this, but focus on try-except."
      ]
    },
    {
      "cell_type": "markdown",
      "metadata": {
        "id": "UgZFpi12mgg0"
      },
      "source": [
        "## More Exceptions"
      ]
    },
    {
      "cell_type": "code",
      "execution_count": null,
      "metadata": {
        "hideCode": false,
        "hidePrompt": false,
        "colab": {
          "base_uri": "https://localhost:8080/"
        },
        "id": "PHUOnZCimgg1",
        "outputId": "adda2949-a6f2-44c6-88ec-927d0529d964"
      },
      "outputs": [
        {
          "output_type": "stream",
          "name": "stdout",
          "text": [
            "\n",
            "    This is the third code example\n",
            "    where you haven't defined `dirname`.\n",
            "    Seriously, catch yourself on.\n",
            "    \n",
            "just mucking about with my friend dirname\n"
          ]
        }
      ],
      "source": [
        "try:\n",
        "    os.makedirs(dirname)\n",
        "except OSError:\n",
        "    # Great, someone has already created that directory\n",
        "    # We can carry on!\n",
        "    pass\n",
        "except NameError:\n",
        "    print(\"\"\"\n",
        "    This is the third code example\n",
        "    where you haven't defined `dirname`.\n",
        "    Seriously, catch yourself on.\n",
        "    \"\"\")\n",
        "# lalalalala...\n",
        "print(\"just mucking about with my friend dirname\")"
      ]
    },
    {
      "cell_type": "markdown",
      "metadata": {
        "hideCode": false,
        "hidePrompt": false,
        "id": "-QNEvBB6mgg1"
      },
      "source": [
        "Useful tool just slotted in there: multi-line strings. If you start a string with three quotes, you can keep going on and on until you hit another three."
      ]
    },
    {
      "cell_type": "markdown",
      "metadata": {
        "hideCode": false,
        "hidePrompt": false,
        "id": "h9X-T4iqmgg1"
      },
      "source": [
        "One final example to show how, for this particular case, you really can be a little more specific."
      ]
    },
    {
      "cell_type": "code",
      "execution_count": null,
      "metadata": {
        "hideCode": false,
        "hidePrompt": false,
        "colab": {
          "base_uri": "https://localhost:8080/"
        },
        "id": "BFmV3FJnmgg1",
        "outputId": "5c9ad91f-8908-4ec1-bb09-5bafb3b6f390"
      },
      "outputs": [
        {
          "output_type": "stream",
          "name": "stdout",
          "text": [
            "just mucking about with my friend /etc/passwd\n"
          ]
        }
      ],
      "source": [
        "dirname = \"/etc/passwd\"\n",
        "try:\n",
        "    os.makedirs(dirname)\n",
        "except OSError:\n",
        "    # Great, someone has already created that directory\n",
        "    # We can carry on!\n",
        "    pass\n",
        "# lalalalala...\n",
        "print(\"just mucking about with my friend\", dirname)"
      ]
    },
    {
      "cell_type": "markdown",
      "metadata": {
        "hideCode": false,
        "hidePrompt": false,
        "id": "PfdjReV9mgg1"
      },
      "source": [
        "Emm...we tried to make a directory with the same name as a key system file and are blithely assuming that every failure in doing so is simply because it is an existing directory. Not so good."
      ]
    },
    {
      "cell_type": "code",
      "execution_count": null,
      "metadata": {
        "hideCode": false,
        "hidePrompt": false,
        "colab": {
          "base_uri": "https://localhost:8080/"
        },
        "id": "thQbPy1vmgg2",
        "outputId": "a0d5d7cf-3517-4e48-dd70-614b7ed3d77f"
      },
      "outputs": [
        {
          "output_type": "stream",
          "name": "stdout",
          "text": [
            "just mucking about with my friend /etc/pass\n"
          ]
        }
      ],
      "source": [
        "import errno\n",
        "\n",
        "dirname = \"/etc/pass\"\n",
        "\n",
        "try:\n",
        "    os.makedirs(dirname)\n",
        "except OSError as e:\n",
        "    if e.errno != errno.EEXIST:\n",
        "        raise\n",
        "    # Great, someone has already created that directory\n",
        "    # We can carry on!\n",
        "# lalalalala...\n",
        "print(\"just mucking about with my friend\", dirname)"
      ]
    },
    {
      "cell_type": "markdown",
      "metadata": {
        "hideCode": false,
        "hidePrompt": false,
        "id": "BXPljO6Kmgg2"
      },
      "source": [
        "This emphasises the fact that subclasses of `Exception` often have additional contextually-relevant properties, which you should use. It also points out that `if` statements still have their place in error-handling!\n",
        "\n",
        "When `raise` has no argument, it re-raises whichever exception it was that got us into this mess."
      ]
    },
    {
      "cell_type": "markdown",
      "metadata": {
        "hideCode": false,
        "hidePrompt": false,
        "id": "G-ACmvn6mgg2"
      },
      "source": [
        "# A few important Exceptions\n",
        "## That you might want to catch\n",
        "\n",
        "* KeyError - `box_of_tricks[\"not here\"]`\n",
        "* TypeError - `1 + \"banana\"`\n",
        "* IOError - `open('/etc/passwd', 'w')`\n"
      ]
    },
    {
      "cell_type": "markdown",
      "metadata": {
        "hideCode": false,
        "hidePrompt": false,
        "id": "t48Fd2WNmgg2"
      },
      "source": [
        "Exceptions are often more *pythonic* than pre-checking. [This Python2 doc](https://docs.python.org/2/howto/doanddont.html#exceptions) is a good start on that road. CRUCIAL READING!\n"
      ]
    },
    {
      "cell_type": "markdown",
      "metadata": {
        "hideCode": false,
        "hidePrompt": false,
        "id": "iKG5TdMpmgg2"
      },
      "source": [
        "# Tuples\n",
        "## The Ice-List"
      ]
    },
    {
      "cell_type": "markdown",
      "metadata": {
        "hideCode": false,
        "hidePrompt": false,
        "id": "EqJTuOzTmgg2"
      },
      "source": [
        "Tuples are basically frozen lists..."
      ]
    },
    {
      "cell_type": "code",
      "execution_count": null,
      "metadata": {
        "hideCode": false,
        "hidePrompt": false,
        "colab": {
          "base_uri": "https://localhost:8080/"
        },
        "id": "CLH7--dxmgg2",
        "outputId": "85f890ad-6ae2-4853-826b-416c155abd63"
      },
      "outputs": [
        {
          "output_type": "stream",
          "name": "stdout",
          "text": [
            "56 N -5 E\n"
          ]
        }
      ],
      "source": [
        "target_coordinates = (56, -5)\n",
        "print(target_coordinates[0], \"N\", target_coordinates[1], \"E\")"
      ]
    },
    {
      "cell_type": "markdown",
      "metadata": {
        "hideCode": false,
        "hidePrompt": false,
        "id": "HFdeo5vsmgg2"
      },
      "source": [
        "...but it's fixed, so you can't do this..."
      ]
    },
    {
      "cell_type": "code",
      "execution_count": null,
      "metadata": {
        "hideCode": false,
        "hidePrompt": false,
        "colab": {
          "base_uri": "https://localhost:8080/",
          "height": 141
        },
        "id": "E9hQIMY4mgg3",
        "outputId": "3e1088de-6d46-4d32-a6ba-0aa48eeffeb3"
      },
      "outputs": [
        {
          "output_type": "error",
          "ename": "TypeError",
          "evalue": "'tuple' object does not support item assignment",
          "traceback": [
            "\u001b[0;31m---------------------------------------------------------------------------\u001b[0m",
            "\u001b[0;31mTypeError\u001b[0m                                 Traceback (most recent call last)",
            "\u001b[0;32m<ipython-input-34-fc0dcbcc8cf7>\u001b[0m in \u001b[0;36m<cell line: 1>\u001b[0;34m()\u001b[0m\n\u001b[0;32m----> 1\u001b[0;31m \u001b[0mtarget_coordinates\u001b[0m\u001b[0;34m[\u001b[0m\u001b[0;36m1\u001b[0m\u001b[0;34m]\u001b[0m \u001b[0;34m=\u001b[0m \u001b[0;36m38\u001b[0m\u001b[0;34m\u001b[0m\u001b[0;34m\u001b[0m\u001b[0m\n\u001b[0m",
            "\u001b[0;31mTypeError\u001b[0m: 'tuple' object does not support item assignment"
          ]
        }
      ],
      "source": [
        "target_coordinates[1] = 38"
      ]
    },
    {
      "cell_type": "markdown",
      "metadata": {
        "hideCode": false,
        "hidePrompt": false,
        "id": "bAfBzF8Hmgg3"
      },
      "source": [
        "If you alter it to set the whole variable (try it), that's fine though - you can alter what `target_coordinates` points to, you just can't alter the tuple content itself."
      ]
    },
    {
      "cell_type": "markdown",
      "metadata": {
        "hideCode": false,
        "hidePrompt": false,
        "id": "xzqXay4qmgg3"
      },
      "source": [
        "Lists are constantly changing - length, content, type of content. Really, they aren't much like arrays in compiled languages like C or FORTRAN. They are far too flightly to be used as something like a dictionary index for example. However, supose I have a pair - exactly two elements, one a known `int` and one a known `string`, and it can't change. Well, if you stick two basic types together then why can't you do the same thing with it you can do with basic types? There's no weird changing behaviour going on, so if you freeze a list into something like that, can you use it as a dictionary index?"
      ]
    },
    {
      "cell_type": "markdown",
      "metadata": {
        "hideCode": false,
        "hidePrompt": false,
        "id": "H_H_Q5cZmgg3"
      },
      "source": [
        "In short - yes you can!"
      ]
    },
    {
      "cell_type": "code",
      "execution_count": null,
      "metadata": {
        "hideCode": false,
        "hidePrompt": false,
        "colab": {
          "base_uri": "https://localhost:8080/",
          "height": 176
        },
        "id": "bJp-ZsV7mgg4",
        "outputId": "1e4d333f-1509-4405-ca24-021c8c381ae1"
      },
      "outputs": [
        {
          "output_type": "error",
          "ename": "TypeError",
          "evalue": "unhashable type: 'list'",
          "traceback": [
            "\u001b[0;31m---------------------------------------------------------------------------\u001b[0m",
            "\u001b[0;31mTypeError\u001b[0m                                 Traceback (most recent call last)",
            "\u001b[0;32m<ipython-input-35-b7ebf92207f5>\u001b[0m in \u001b[0;36m<cell line: 3>\u001b[0;34m()\u001b[0m\n\u001b[1;32m      1\u001b[0m \u001b[0mbattleships\u001b[0m \u001b[0;34m=\u001b[0m \u001b[0;34m{\u001b[0m\u001b[0;34m}\u001b[0m  \u001b[0;31m# new dict\u001b[0m\u001b[0;34m\u001b[0m\u001b[0;34m\u001b[0m\u001b[0m\n\u001b[1;32m      2\u001b[0m \u001b[0mcoordinates\u001b[0m \u001b[0;34m=\u001b[0m \u001b[0;34m[\u001b[0m\u001b[0;36m3\u001b[0m\u001b[0;34m,\u001b[0m \u001b[0;36m2\u001b[0m\u001b[0;34m]\u001b[0m\u001b[0;34m\u001b[0m\u001b[0;34m\u001b[0m\u001b[0m\n\u001b[0;32m----> 3\u001b[0;31m \u001b[0mbattleships\u001b[0m\u001b[0;34m[\u001b[0m\u001b[0mcoordinates\u001b[0m\u001b[0;34m]\u001b[0m \u001b[0;34m=\u001b[0m \u001b[0;34m\"HIT\"\u001b[0m\u001b[0;34m\u001b[0m\u001b[0;34m\u001b[0m\u001b[0m\n\u001b[0m",
            "\u001b[0;31mTypeError\u001b[0m: unhashable type: 'list'"
          ]
        }
      ],
      "source": [
        "battleships = {}  # new dict\n",
        "coordinates = [3, 2]\n",
        "battleships[coordinates] = \"HIT\""
      ]
    },
    {
      "cell_type": "markdown",
      "metadata": {
        "hideCode": false,
        "hidePrompt": false,
        "id": "bkujFNJ4mgg4"
      },
      "source": [
        "So it doesn't work with a list - try it now with a tuple - swap the square brackets on the *second* line for parens () and re-run"
      ]
    },
    {
      "cell_type": "code",
      "execution_count": null,
      "metadata": {
        "hideCode": false,
        "hidePrompt": false,
        "colab": {
          "base_uri": "https://localhost:8080/",
          "height": 141
        },
        "id": "Efet8CWEmgg4",
        "outputId": "c97d00a3-578c-4bc7-b736-53ce7e0afac8"
      },
      "outputs": [
        {
          "output_type": "error",
          "ename": "TypeError",
          "evalue": "unhashable type: 'list'",
          "traceback": [
            "\u001b[0;31m---------------------------------------------------------------------------\u001b[0m",
            "\u001b[0;31mTypeError\u001b[0m                                 Traceback (most recent call last)",
            "\u001b[0;32m<ipython-input-36-81a39933a920>\u001b[0m in \u001b[0;36m<cell line: 1>\u001b[0;34m()\u001b[0m\n\u001b[0;32m----> 1\u001b[0;31m \u001b[0mprint\u001b[0m\u001b[0;34m(\u001b[0m\u001b[0;34m\"At\"\u001b[0m\u001b[0;34m,\u001b[0m \u001b[0mcoordinates\u001b[0m\u001b[0;34m,\u001b[0m \u001b[0;34m\"we have a\"\u001b[0m\u001b[0;34m,\u001b[0m \u001b[0mbattleships\u001b[0m\u001b[0;34m[\u001b[0m\u001b[0mcoordinates\u001b[0m\u001b[0;34m]\u001b[0m\u001b[0;34m)\u001b[0m\u001b[0;34m\u001b[0m\u001b[0;34m\u001b[0m\u001b[0m\n\u001b[0m",
            "\u001b[0;31mTypeError\u001b[0m: unhashable type: 'list'"
          ]
        }
      ],
      "source": [
        "print(\"At\", coordinates, \"we have a\", battleships[coordinates])"
      ]
    },
    {
      "cell_type": "markdown",
      "metadata": {
        "hideCode": false,
        "hidePrompt": false,
        "id": "OW1MN3gXmgg4"
      },
      "source": [
        "**Aside**: A *hashable* type can be used as an index in a dict - tuples are, lists aren't (because they can change, aka are *mutable*)"
      ]
    },
    {
      "cell_type": "markdown",
      "metadata": {
        "id": "Fa7kx5bTmgg4"
      },
      "source": [
        "## Sets"
      ]
    },
    {
      "cell_type": "markdown",
      "metadata": {
        "id": "0aILTPRbmgg4"
      },
      "source": [
        "Sets are the final standard collection type - they sound a bit like lists, but share more in common with dictionary keys: they are unordered bags with unique entries. They even get their own operators:"
      ]
    },
    {
      "cell_type": "code",
      "execution_count": null,
      "metadata": {
        "colab": {
          "base_uri": "https://localhost:8080/"
        },
        "id": "xFpTDjEUmgg4",
        "outputId": "35d75826-10c4-4cbc-fdd0-5600d2a5c8f1"
      },
      "outputs": [
        {
          "output_type": "execute_result",
          "data": {
            "text/plain": [
              "{1, 2, 3}"
            ]
          },
          "metadata": {},
          "execution_count": 37
        }
      ],
      "source": [
        "my_set = set([1, 2, 3])\n",
        "my_set"
      ]
    },
    {
      "cell_type": "code",
      "execution_count": null,
      "metadata": {
        "colab": {
          "base_uri": "https://localhost:8080/"
        },
        "id": "cTqaaOcEmgg5",
        "outputId": "b40fa2bc-6367-49b6-a080-506a99163f5c"
      },
      "outputs": [
        {
          "output_type": "execute_result",
          "data": {
            "text/plain": [
              "{1, 3, 5}"
            ]
          },
          "metadata": {},
          "execution_count": 38
        }
      ],
      "source": [
        "your_set = set([1, 3, 5, 3]) # Even though 3 appears twice in the list used to create it, the set has it once\n",
        "your_set"
      ]
    },
    {
      "cell_type": "code",
      "execution_count": null,
      "metadata": {
        "colab": {
          "base_uri": "https://localhost:8080/"
        },
        "id": "ujlori0umgg5",
        "outputId": "55cce6ad-f3c4-4c1f-fbaf-fbcd8daec470"
      },
      "outputs": [
        {
          "output_type": "execute_result",
          "data": {
            "text/plain": [
              "({1, 3}, {1, 2, 3, 5})"
            ]
          },
          "metadata": {},
          "execution_count": 39
        }
      ],
      "source": [
        "we_both_have = my_set & your_set\n",
        "one_of_us_has = my_set | your_set\n",
        "\n",
        "we_both_have, one_of_us_has"
      ]
    },
    {
      "cell_type": "markdown",
      "metadata": {
        "id": "0fpU9EP4mgg5"
      },
      "source": [
        "Sets can be created using the same syntax as dictionaries, without the colons: `{1, 3, 4}`\n",
        "\n",
        "They can be a handy way of deduplicating succinctly: `total_unique_entries = len(set([1, 2, 3, 4, 5, 6, 2, 1, 5]))`"
      ]
    },
    {
      "cell_type": "markdown",
      "metadata": {
        "hideCode": false,
        "hidePrompt": false,
        "id": "Rg5L5dEomgg5"
      },
      "source": [
        "# Lambdas & Generators\n",
        "## Functional Approaches"
      ]
    },
    {
      "cell_type": "markdown",
      "metadata": {
        "hideCode": false,
        "hidePrompt": false,
        "id": "TfYysy8Omgg5"
      },
      "source": [
        "These are best understood in practice but I will give a couple of definitions."
      ]
    },
    {
      "cell_type": "markdown",
      "metadata": {
        "hideCode": false,
        "hidePrompt": false,
        "id": "ppMH_i26mgg5"
      },
      "source": [
        "__lamdba__ : a very short bit of code, a single action, used as a function"
      ]
    },
    {
      "cell_type": "code",
      "execution_count": null,
      "metadata": {
        "hideCode": false,
        "hidePrompt": false,
        "colab": {
          "base_uri": "https://localhost:8080/"
        },
        "id": "qLeHiwd5mgg5",
        "outputId": "befac560-abdd-4cbc-f2c7-745d1acc7e68"
      },
      "outputs": [
        {
          "output_type": "execute_result",
          "data": {
            "text/plain": [
              "19"
            ]
          },
          "metadata": {},
          "execution_count": 40
        }
      ],
      "source": [
        "mylambda = (lambda x: x + 18)\n",
        "mylambda(1)"
      ]
    },
    {
      "cell_type": "markdown",
      "metadata": {
        "hideCode": false,
        "hidePrompt": false,
        "id": "7XEPjPnjmgg6"
      },
      "source": [
        "We don't really need the parens on the first line, but they are just to show you that the RHS is entirely a single entity - a lambda. It is assigned to the variable `mylambda`."
      ]
    },
    {
      "cell_type": "code",
      "execution_count": null,
      "metadata": {
        "hideCode": false,
        "hidePrompt": false,
        "colab": {
          "base_uri": "https://localhost:8080/"
        },
        "id": "Shu6zwIsmgg6",
        "outputId": "a2816353-95e8-4dae-ad03-675f95df6891"
      },
      "outputs": [
        {
          "output_type": "execute_result",
          "data": {
            "text/plain": [
              "19"
            ]
          },
          "metadata": {},
          "execution_count": 41
        }
      ],
      "source": [
        "mylambda = lambda x: x + 18 # same thing\n",
        "mylambda(1)"
      ]
    },
    {
      "cell_type": "markdown",
      "metadata": {
        "hideCode": false,
        "hidePrompt": false,
        "id": "UGSJ7ZeImgg6"
      },
      "source": [
        "Lambdas are handy for passing around very short functions that return a useful value within one single statement. For example, passing a sorting function to a sorting algorithm, or a filtering function that returns a boolean to a data pruning method. In fact, any function, defined with `def` can be assigned to a variable and passed around."
      ]
    },
    {
      "cell_type": "code",
      "execution_count": null,
      "metadata": {
        "hideCode": false,
        "hidePrompt": false,
        "colab": {
          "base_uri": "https://localhost:8080/"
        },
        "id": "_kWMqUjjmgg6",
        "outputId": "31cfe38f-61ae-49ab-d842-ae075c332031"
      },
      "outputs": [
        {
          "output_type": "execute_result",
          "data": {
            "text/plain": [
              "['is', 'this sentence', 'really well sorted']"
            ]
          },
          "metadata": {},
          "execution_count": 42
        }
      ],
      "source": [
        "sentence = [\"this sentence\", \"is\", \"really well sorted\"]\n",
        "key_function = lambda s: s.count(' ')\n",
        "sorted(sentence, key=key_function)"
      ]
    },
    {
      "cell_type": "code",
      "execution_count": null,
      "metadata": {
        "hideCode": false,
        "hidePrompt": false,
        "colab": {
          "base_uri": "https://localhost:8080/"
        },
        "id": "gfWsD8ZVmgg6",
        "outputId": "7123e93a-0947-4b60-fd5d-ca719c545ac6"
      },
      "outputs": [
        {
          "output_type": "execute_result",
          "data": {
            "text/plain": [
              "['memyself', 'youyourself']"
            ]
          },
          "metadata": {},
          "execution_count": 43
        }
      ],
      "source": [
        "dictionary = {'me': 'myself', 'you': 'yourself'}\n",
        "list(map(lambda pair: pair[0] + pair[1], dictionary.items()))"
      ]
    },
    {
      "cell_type": "markdown",
      "metadata": {
        "hideCode": false,
        "hidePrompt": false,
        "id": "XLTF0oAamgg7"
      },
      "source": [
        "### Exercise: Three's a Crowd"
      ]
    },
    {
      "cell_type": "markdown",
      "metadata": {
        "hideCode": false,
        "hidePrompt": false,
        "id": "GYWfZB4Xmgg7"
      },
      "source": [
        "Can you write a lambda to filter out all numbers divisible by 3 _or_ more than 3 digits long?"
      ]
    },
    {
      "cell_type": "code",
      "execution_count": null,
      "metadata": {
        "hideCode": false,
        "hidePrompt": false,
        "colab": {
          "base_uri": "https://localhost:8080/"
        },
        "id": "DLAz8HUomgg7",
        "outputId": "9d354182-f840-4fad-82d5-90e74f7dbc00"
      },
      "outputs": [
        {
          "output_type": "execute_result",
          "data": {
            "text/plain": [
              "[1, 34, 14]"
            ]
          },
          "metadata": {},
          "execution_count": 45
        }
      ],
      "source": [
        "filter_function = lambda n: (n % 3 != 0) and (n < 1000) # INSERT FUNCTION HERE - SHOULD EVALUATE TO TRUE or FALSE\n",
        "list(filter(filter_function, [1, 234, 129123, 15, 34, 41991, 14])) # Should give [1, 34, 14]"
      ]
    },
    {
      "cell_type": "markdown",
      "metadata": {
        "hideCode": false,
        "hidePrompt": false,
        "id": "bMxlzhtXmgg7"
      },
      "source": [
        "### Extension Exercise: Calling a Halt"
      ]
    },
    {
      "cell_type": "markdown",
      "metadata": {
        "hideCode": false,
        "hidePrompt": false,
        "id": "B3d9dw_8mgg7"
      },
      "source": [
        "This folder contains a list of NI Railways Rail Halts in Northern Ireland (`halts.geojson`). Can you complete the snippet below to produce a list:\n",
        "\n",
        "    ['ADELAIDE', 'BALMORAL', 'BRIDGE END', 'CITY HOSPITAL', 'SYDENHAM']\n",
        "    \n",
        "You should use `lambda`, `filter`, `map` and the string methods `startswith` and `endswith`. For reference, a halt is a small station (basically)."
      ]
    },
    {
      "cell_type": "code",
      "source": [
        "halts_list = ['ADELAIDE', 'BALMORAL', 'BRIDGE END', 'CITY HOSPITAL', 'SYDENHAM']"
      ],
      "metadata": {
        "id": "9C8awTGhx0x3"
      },
      "execution_count": null,
      "outputs": []
    },
    {
      "cell_type": "code",
      "execution_count": null,
      "metadata": {
        "hideCode": false,
        "hidePrompt": false,
        "colab": {
          "base_uri": "https://localhost:8080/"
        },
        "id": "ecsc6XStmgg7",
        "outputId": "fa8bdccb-9c55-4634-cb40-4034b3a9d90b"
      },
      "outputs": [
        {
          "output_type": "execute_result",
          "data": {
            "text/plain": [
              "['ADELAIDE', 'BALMORAL', 'BRIDGE END', 'CITY HOSPITAL', 'SYDENHAM']"
            ]
          },
          "metadata": {},
          "execution_count": 51
        }
      ],
      "source": [
        "import json\n",
        "with open('halts.geojson', 'r') as halts_f:\n",
        "    halts_geojson = json.load(halts_f)\n",
        "\n",
        "all_halts = halts_geojson['features']\n",
        "halt_names = map(lambda feature: feature['properties']['Station'], all_halts)\n",
        "belfast_halts = filter(lambda name: name.startswith('BELFAST'), halt_names) # replace this line\n",
        "belfast_halts = map(lambda name: name.replace('BELFAST - ', '').replace(' RAIL HALT', ''), belfast_halts)\n",
        "\n",
        "sorted(belfast_halts)"
      ]
    },
    {
      "cell_type": "code",
      "source": [
        "type(halts_geojson)"
      ],
      "metadata": {
        "colab": {
          "base_uri": "https://localhost:8080/"
        },
        "id": "DEo1oEv5x_s8",
        "outputId": "04d623f3-32d2-46c7-e2d1-e1b2059f6a95"
      },
      "execution_count": null,
      "outputs": [
        {
          "output_type": "execute_result",
          "data": {
            "text/plain": [
              "dict"
            ]
          },
          "metadata": {},
          "execution_count": 50
        }
      ]
    },
    {
      "cell_type": "markdown",
      "metadata": {
        "hideCode": false,
        "hidePrompt": false,
        "id": "-xrg_d8hmgg7"
      },
      "source": [
        "## List Comprehensions\n",
        "\n",
        "These are __loops inside lists__ ..."
      ]
    },
    {
      "cell_type": "markdown",
      "metadata": {
        "hideCode": false,
        "hidePrompt": false,
        "id": "RzVcBtCcmgg8"
      },
      "source": [
        "This expands on the idea of iterables - entities that churn out successive values, whether strings giving characters, lists of objects, ranges of numbers. So far, all of those have been pre-known before we loop over them. But why? Couldn't we have something that chucks out values as we keep asking?"
      ]
    },
    {
      "cell_type": "code",
      "execution_count": null,
      "metadata": {
        "hideCode": false,
        "hidePrompt": false,
        "colab": {
          "base_uri": "https://localhost:8080/"
        },
        "id": "ISNace0Zmgg8",
        "outputId": "015ae089-78aa-4dd3-e35f-0278cd1e822a"
      },
      "outputs": [
        {
          "output_type": "execute_result",
          "data": {
            "text/plain": [
              "[0, 2, 4, 6, 8, 10, 12, 14, 16, 18]"
            ]
          },
          "metadata": {},
          "execution_count": 52
        }
      ],
      "source": [
        "mylist = [x * 2 for x in range(10)]\n",
        "mylist"
      ]
    },
    {
      "cell_type": "code",
      "execution_count": null,
      "metadata": {
        "hideCode": false,
        "hidePrompt": false,
        "colab": {
          "base_uri": "https://localhost:8080/"
        },
        "id": "LZwwIiy_mgg8",
        "outputId": "f0bb070d-6706-45bc-889a-c629cb824c03"
      },
      "outputs": [
        {
          "output_type": "execute_result",
          "data": {
            "text/plain": [
              "[0.0, 1.0, -1.0]"
            ]
          },
          "metadata": {},
          "execution_count": 53
        }
      ],
      "source": [
        "from math import pi, sin\n",
        "[sin(pi * x) for x in [0, 0.5, -0.5]]"
      ]
    },
    {
      "cell_type": "markdown",
      "metadata": {
        "hideCode": false,
        "hidePrompt": false,
        "id": "33ij2FqNmgg8"
      },
      "source": [
        "This approach can be used in a number of scenarios, not just creating lists (this specific usage is a _list comprehension_ ). Another example is creating dictionaries:"
      ]
    },
    {
      "cell_type": "code",
      "execution_count": null,
      "metadata": {
        "hideCode": false,
        "hidePrompt": false,
        "colab": {
          "base_uri": "https://localhost:8080/"
        },
        "id": "q0KgFknkmgg8",
        "outputId": "c543b5d1-a2b5-4ce3-edab-be999130fec3"
      },
      "outputs": [
        {
          "output_type": "execute_result",
          "data": {
            "text/plain": [
              "{'type': 'Feature',\n",
              " 'properties': {'Station': 'BELFAST - ADELAIDE RAIL HALT',\n",
              "  'ID': 13,\n",
              "  'Type': 'R',\n",
              "  'Type~Def': '',\n",
              "  'Easting': 332254,\n",
              "  'Northing': 371972},\n",
              " 'geometry': {'type': 'Point',\n",
              "  'coordinates': [-5.955437428473338, 54.57871560269907]}}"
            ]
          },
          "metadata": {},
          "execution_count": 60
        }
      ],
      "source": [
        "with open('halts.geojson', 'r') as halts_f:\n",
        "    halts_geojson = json.load(halts_f)\n",
        "\n",
        "# Note the KEY: VALUE format appearing before the \"for\"\n",
        "halts_dictionary = {h['properties']['Station']: h for h in halts_geojson['features']}\n",
        "halts_dictionary['BELFAST - ADELAIDE RAIL HALT']"
      ]
    },
    {
      "cell_type": "code",
      "source": [
        "halts_geojson"
      ],
      "metadata": {
        "colab": {
          "base_uri": "https://localhost:8080/"
        },
        "id": "1OwIkZCWAiJe",
        "outputId": "d39e853c-e7bd-4180-ae39-ebaca1196a8b"
      },
      "execution_count": null,
      "outputs": [
        {
          "output_type": "execute_result",
          "data": {
            "text/plain": [
              "{'type': 'FeatureCollection',\n",
              " 'crs': {'type': 'name',\n",
              "  'properties': {'name': 'urn:ogc:def:crs:OGC:1.3:CRS84'}},\n",
              " 'features': [{'type': 'Feature',\n",
              "   'properties': {'Station': 'BELFAST - ADELAIDE RAIL HALT',\n",
              "    'ID': 13,\n",
              "    'Type': 'R',\n",
              "    'Type~Def': '',\n",
              "    'Easting': 332254,\n",
              "    'Northing': 371972},\n",
              "   'geometry': {'type': 'Point',\n",
              "    'coordinates': [-5.955437428473338, 54.57871560269907]}},\n",
              "  {'type': 'Feature',\n",
              "   'properties': {'Station': 'BELFAST - CITY HOSPITAL RAIL HALT',\n",
              "    'ID': 18,\n",
              "    'Type': 'R',\n",
              "    'Type~Def': '',\n",
              "    'Easting': 333163,\n",
              "    'Northing': 373131},\n",
              "   'geometry': {'type': 'Point',\n",
              "    'coordinates': [-5.940299027187508, 54.58877579877649]}},\n",
              "  {'type': 'Feature',\n",
              "   'properties': {'Station': 'BELFAST - BALMORAL RAIL HALT',\n",
              "    'ID': 14,\n",
              "    'Type': 'R',\n",
              "    'Type~Def': '',\n",
              "    'Easting': 331456,\n",
              "    'Northing': 370851},\n",
              "   'geometry': {'type': 'Point',\n",
              "    'coordinates': [-5.968279586557941, 54.56885673674175]}},\n",
              "  {'type': 'Feature',\n",
              "   'properties': {'Station': 'BELFAST - BRIDGE END RAIL HALT',\n",
              "    'ID': 16,\n",
              "    'Type': 'R',\n",
              "    'Type~Def': '',\n",
              "    'Easting': 335340,\n",
              "    'Northing': 374643},\n",
              "   'geometry': {'type': 'Point',\n",
              "    'coordinates': [-5.906524410655043, 54.60187224278238]}},\n",
              "  {'type': 'Feature',\n",
              "   'properties': {'Station': 'BELFAST - SYDENHAM RAIL HALT',\n",
              "    'ID': 20,\n",
              "    'Type': 'R',\n",
              "    'Type~Def': '',\n",
              "    'Easting': 336625,\n",
              "    'Northing': 375090},\n",
              "   'geometry': {'type': 'Point',\n",
              "    'coordinates': [-5.886439028702296, 54.60553772015698]}},\n",
              "  {'type': 'Feature',\n",
              "   'properties': {'Station': 'DUNMURRY RAIL HALT',\n",
              "    'ID': 40,\n",
              "    'Type': 'R',\n",
              "    'Type~Def': '',\n",
              "    'Easting': 329249,\n",
              "    'Northing': 369061},\n",
              "   'geometry': {'type': 'Point',\n",
              "    'coordinates': [-6.003165502028699, 54.55335836004234]}},\n",
              "  {'type': 'Feature',\n",
              "   'properties': {'Station': 'DERRIAGHY RAIL HALT',\n",
              "    'ID': 36,\n",
              "    'Type': 'R',\n",
              "    'Type~Def': '',\n",
              "    'Easting': 328318,\n",
              "    'Northing': 367752},\n",
              "   'geometry': {'type': 'Point',\n",
              "    'coordinates': [-6.018112962940367, 54.54183702611459]}},\n",
              "  {'type': 'Feature',\n",
              "   'properties': {'Station': 'FINAGHY RAIL HALT',\n",
              "    'ID': 42,\n",
              "    'Type': 'R',\n",
              "    'Type~Def': '',\n",
              "    'Easting': 330275,\n",
              "    'Northing': 370254},\n",
              "   'geometry': {'type': 'Point',\n",
              "    'coordinates': [-5.986779356476255, 54.563799283087]}},\n",
              "  {'type': 'Feature',\n",
              "   'properties': {'Station': 'LAMBEG RAIL HALT',\n",
              "    'ID': 53,\n",
              "    'Type': 'R',\n",
              "    'Type~Def': '',\n",
              "    'Easting': 327616,\n",
              "    'Northing': 366385},\n",
              "   'geometry': {'type': 'Point',\n",
              "    'coordinates': [-6.029546191531564, 54.52974232371766]}},\n",
              "  {'type': 'Feature',\n",
              "   'properties': {'Station': 'HILDEN RAIL HALT',\n",
              "    'ID': 47,\n",
              "    'Type': 'R',\n",
              "    'Type~Def': '',\n",
              "    'Easting': 327651,\n",
              "    'Northing': 365560},\n",
              "   'geometry': {'type': 'Point',\n",
              "    'coordinates': [-6.029356397826791, 54.52232479553542]}},\n",
              "  {'type': 'Feature',\n",
              "   'properties': {'Station': 'WHITEABBEY RAIL HALT',\n",
              "    'ID': 78,\n",
              "    'Type': 'R',\n",
              "    'Type~Def': 'HALT',\n",
              "    'Easting': 335239,\n",
              "    'Northing': 382491},\n",
              "   'geometry': {'type': 'Point',\n",
              "    'coordinates': [-5.904456204174812, 54.672354744865736]}},\n",
              "  {'type': 'Feature',\n",
              "   'properties': {'Station': 'TROOPERSLANE RAIL HALT',\n",
              "    'ID': 77,\n",
              "    'Type': 'R',\n",
              "    'Type~Def': '',\n",
              "    'Easting': 338702,\n",
              "    'Northing': 386846},\n",
              "   'geometry': {'type': 'Point',\n",
              "    'coordinates': [-5.848758254028238, 54.710502995359896]}},\n",
              "  {'type': 'Feature',\n",
              "   'properties': {'Station': 'DOWNSHIRE RAIL HALT',\n",
              "    'ID': 38,\n",
              "    'Type': 'R',\n",
              "    'Type~Def': '',\n",
              "    'Easting': 342459,\n",
              "    'Northing': 388145},\n",
              "   'geometry': {'type': 'Point',\n",
              "    'coordinates': [-5.789883927272109, 54.72111676355771]}},\n",
              "  {'type': 'Feature',\n",
              "   'properties': {'Station': 'CLIPPERSTOWN RAIL HALT',\n",
              "    'ID': 27,\n",
              "    'Type': 'R',\n",
              "    'Type~Def': '',\n",
              "    'Easting': 340755,\n",
              "    'Northing': 387682},\n",
              "   'geometry': {'type': 'Point',\n",
              "    'coordinates': [-5.816523431014697, 54.71743651749125]}},\n",
              "  {'type': 'Feature',\n",
              "   'properties': {'Station': 'WHITEHEAD RAIL HALT',\n",
              "    'ID': 79,\n",
              "    'Type': 'R',\n",
              "    'Type~Def': '',\n",
              "    'Easting': 347510,\n",
              "    'Northing': 391838},\n",
              "   'geometry': {'type': 'Point',\n",
              "    'coordinates': [-5.709686802660552, 54.75281108416051]}},\n",
              "  {'type': 'Feature',\n",
              "   'properties': {'Station': 'BALLYCARRY RAIL HALT',\n",
              "    'ID': 5,\n",
              "    'Type': 'R',\n",
              "    'Type~Def': '',\n",
              "    'Easting': 346402,\n",
              "    'Northing': 394455},\n",
              "   'geometry': {'type': 'Point',\n",
              "    'coordinates': [-5.725569853106984, 54.776620152748315]}},\n",
              "  {'type': 'Feature',\n",
              "   'properties': {'Station': 'MAGHERAMORNE RAIL HALT',\n",
              "    'ID': 62,\n",
              "    'Type': 'R',\n",
              "    'Type~Def': '',\n",
              "    'Easting': 343608,\n",
              "    'Northing': 398706},\n",
              "   'geometry': {'type': 'Point',\n",
              "    'coordinates': [-5.76684603747889, 54.815590324119114]}},\n",
              "  {'type': 'Feature',\n",
              "   'properties': {'Station': 'GLYNN RAIL HALT',\n",
              "    'ID': 44,\n",
              "    'Type': 'R',\n",
              "    'Type~Def': '',\n",
              "    'Easting': 340982,\n",
              "    'Northing': 399919},\n",
              "   'geometry': {'type': 'Point',\n",
              "    'coordinates': [-5.807066008648389, 54.8272213298175]}},\n",
              "  {'type': 'Feature',\n",
              "   'properties': {'Station': 'HOLLYWOOD RAIL HALT',\n",
              "    'ID': 48,\n",
              "    'Type': 'R',\n",
              "    'Type~Def': '',\n",
              "    'Easting': 339566,\n",
              "    'Northing': 379167},\n",
              "   'geometry': {'type': 'Point',\n",
              "    'coordinates': [-5.839023645243199, 54.641331866551724]}},\n",
              "  {'type': 'Feature',\n",
              "   'properties': {'Station': 'MARINO RAIL HALT',\n",
              "    'ID': 63,\n",
              "    'Type': 'R',\n",
              "    'Type~Def': '',\n",
              "    'Easting': 340901,\n",
              "    'Northing': 379815},\n",
              "   'geometry': {'type': 'Point',\n",
              "    'coordinates': [-5.818046003780471, 54.64678186694097]}},\n",
              "  {'type': 'Feature',\n",
              "   'properties': {'Station': 'CULTRA RAIL HALT',\n",
              "    'ID': 35,\n",
              "    'Type': 'R',\n",
              "    'Type~Def': '',\n",
              "    'Easting': 341713,\n",
              "    'Northing': 380465},\n",
              "   'geometry': {'type': 'Point',\n",
              "    'coordinates': [-5.805171541005157, 54.65239160352423]}},\n",
              "  {'type': 'Feature',\n",
              "   'properties': {'Station': 'SEAHILL RAIL HALT',\n",
              "    'ID': 76,\n",
              "    'Type': 'R',\n",
              "    'Type~Def': '',\n",
              "    'Easting': 344061,\n",
              "    'Northing': 381462},\n",
              "   'geometry': {'type': 'Point',\n",
              "    'coordinates': [-5.76832556680846, 54.660675297739246]}},\n",
              "  {'type': 'Feature',\n",
              "   'properties': {'Station': \"HELEN'S BAY RAIL HALT\",\n",
              "    'ID': 46,\n",
              "    'Type': 'R',\n",
              "    'Type~Def': '',\n",
              "    'Easting': 345785,\n",
              "    'Northing': 382163},\n",
              "   'geometry': {'type': 'Point',\n",
              "    'coordinates': [-5.74129186336661, 54.666474159114266]}},\n",
              "  {'type': 'Feature',\n",
              "   'properties': {'Station': 'CARNALEA RAIL HALT',\n",
              "    'ID': 24,\n",
              "    'Type': 'R',\n",
              "    'Type~Def': '',\n",
              "    'Easting': 348063,\n",
              "    'Northing': 382183},\n",
              "   'geometry': {'type': 'Point',\n",
              "    'coordinates': [-5.706005307640937, 54.66598413483226]}},\n",
              "  {'type': 'Feature',\n",
              "   'properties': {'Station': 'BANGOR WEST RAIL HALT',\n",
              "    'ID': 12,\n",
              "    'Type': 'R',\n",
              "    'Type~Def': '',\n",
              "    'Easting': 348922,\n",
              "    'Northing': 381489},\n",
              "   'geometry': {'type': 'Point',\n",
              "    'coordinates': [-5.69304865954291, 54.65950893047023]}},\n",
              "  {'type': 'Feature',\n",
              "   'properties': {'Station': 'KNOCKMORE RAIL HALT',\n",
              "    'ID': 50,\n",
              "    'Type': 'R',\n",
              "    'Type~Def': '',\n",
              "    'Easting': 325198,\n",
              "    'Northing': 364265},\n",
              "   'geometry': {'type': 'Point',\n",
              "    'coordinates': [-6.067763364779338, 54.51131585450469]}},\n",
              "  {'type': 'Feature',\n",
              "   'properties': {'Station': 'MOIRA RAIL HALT',\n",
              "    'ID': 64,\n",
              "    'Type': 'R',\n",
              "    'Type~Def': '',\n",
              "    'Easting': 315819,\n",
              "    'Northing': 361885},\n",
              "   'geometry': {'type': 'Point',\n",
              "    'coordinates': [-6.213425221787849, 54.49216503450455]}},\n",
              "  {'type': 'Feature',\n",
              "   'properties': {'Station': 'SCARVA RAIL HALT',\n",
              "    'ID': 75,\n",
              "    'Type': 'R',\n",
              "    'Type~Def': '',\n",
              "    'Easting': 306367,\n",
              "    'Northing': 343842},\n",
              "   'geometry': {'type': 'Point',\n",
              "    'coordinates': [-6.365675428943175, 54.33221898023369]}},\n",
              "  {'type': 'Feature',\n",
              "   'properties': {'Station': 'POYNTZPASS RAIL HALT',\n",
              "    'ID': 74,\n",
              "    'Type': 'R',\n",
              "    'Type~Def': '',\n",
              "    'Easting': 306049,\n",
              "    'Northing': 339455},\n",
              "   'geometry': {'type': 'Point',\n",
              "    'coordinates': [-6.372126674457975, 54.29288659988583]}},\n",
              "  {'type': 'Feature',\n",
              "   'properties': {'Station': 'MOSSLEY WEST RAIL HALT',\n",
              "    'ID': 65,\n",
              "    'Type': 'R',\n",
              "    'Type~Def': '',\n",
              "    'Easting': 332106,\n",
              "    'Northing': 385119},\n",
              "   'geometry': {'type': 'Point',\n",
              "    'coordinates': [-5.951809965394665, 54.696775802669585]}},\n",
              "  {'type': 'Feature',\n",
              "   'properties': {'Station': 'BALLINDERRY RAIL HALT',\n",
              "    'ID': 4,\n",
              "    'Type': 'R',\n",
              "    'Type~Def': '',\n",
              "    'Easting': 316297,\n",
              "    'Northing': 367762},\n",
              "   'geometry': {'type': 'Point',\n",
              "    'coordinates': [-6.203732023398284, 54.54482634995206]}},\n",
              "  {'type': 'Feature',\n",
              "   'properties': {'Station': 'GLENAVY RAIL HALT',\n",
              "    'ID': 43,\n",
              "    'Type': 'R',\n",
              "    'Type~Def': '',\n",
              "    'Easting': 315432,\n",
              "    'Northing': 372619},\n",
              "   'geometry': {'type': 'Point',\n",
              "    'coordinates': [-6.215193541487133, 54.58863888308633]}},\n",
              "  {'type': 'Feature',\n",
              "   'properties': {'Station': 'CRUMLIN RAIL HALT',\n",
              "    'ID': 33,\n",
              "    'Type': 'R',\n",
              "    'Type~Def': '',\n",
              "    'Easting': 315561,\n",
              "    'Northing': 376249},\n",
              "   'geometry': {'type': 'Point',\n",
              "    'coordinates': [-6.211770444572919, 54.621198071561516]}},\n",
              "  {'type': 'Feature',\n",
              "   'properties': {'Station': 'COLERAINE UNIVERSITY RAIL HALT',\n",
              "    'ID': 29,\n",
              "    'Type': 'R',\n",
              "    'Type~Def': 'HALT',\n",
              "    'Easting': 284954,\n",
              "    'Northing': 434499},\n",
              "   'geometry': {'type': 'Point',\n",
              "    'coordinates': [-6.668288356437393, 55.15036812191344]}},\n",
              "  {'type': 'Feature',\n",
              "   'properties': {'Station': 'CASTLEROCK RAIL HALT',\n",
              "    'ID': 26,\n",
              "    'Type': 'R',\n",
              "    'Type~Def': 'HALT',\n",
              "    'Easting': 277353,\n",
              "    'Northing': 435978},\n",
              "   'geometry': {'type': 'Point',\n",
              "    'coordinates': [-6.787081764431487, 55.16488638924967]}},\n",
              "  {'type': 'Feature',\n",
              "   'properties': {'Station': 'BELLARENA RAIL HALT',\n",
              "    'ID': 23,\n",
              "    'Type': 'R',\n",
              "    'Type~Def': 'HALT',\n",
              "    'Easting': 266870,\n",
              "    'Northing': 431503},\n",
              "   'geometry': {'type': 'Point',\n",
              "    'coordinates': [-6.952580703237029, 55.126228918920205]}},\n",
              "  {'type': 'Feature',\n",
              "   'properties': {'Station': 'PORTRUSH DHU VARREN RAIL HALT',\n",
              "    'ID': 73,\n",
              "    'Type': 'R',\n",
              "    'Type~Def': 'HALT',\n",
              "    'Easting': 285302,\n",
              "    'Northing': 439608},\n",
              "   'geometry': {'type': 'Point',\n",
              "    'coordinates': [-6.661291117864922, 55.1961791756512]}}]}"
            ]
          },
          "metadata": {},
          "execution_count": 62
        }
      ]
    },
    {
      "cell_type": "markdown",
      "metadata": {
        "hideCode": false,
        "hidePrompt": false,
        "id": "RIzlx4g2mgg8"
      },
      "source": [
        "Despite the odd way of creating it, this is indeed a dictionary:"
      ]
    },
    {
      "cell_type": "code",
      "source": [
        "halts_dictionary"
      ],
      "metadata": {
        "colab": {
          "base_uri": "https://localhost:8080/"
        },
        "id": "kwbsTl9u_xaf",
        "outputId": "6d2e8a42-5488-4233-c914-9b0aed6f3669"
      },
      "execution_count": null,
      "outputs": [
        {
          "output_type": "execute_result",
          "data": {
            "text/plain": [
              "{'BELFAST - ADELAIDE RAIL HALT': {'type': 'Feature',\n",
              "  'properties': {'Station': 'BELFAST - ADELAIDE RAIL HALT',\n",
              "   'ID': 13,\n",
              "   'Type': 'R',\n",
              "   'Type~Def': '',\n",
              "   'Easting': 332254,\n",
              "   'Northing': 371972},\n",
              "  'geometry': {'type': 'Point',\n",
              "   'coordinates': [-5.955437428473338, 54.57871560269907]}},\n",
              " 'BELFAST - CITY HOSPITAL RAIL HALT': {'type': 'Feature',\n",
              "  'properties': {'Station': 'BELFAST - CITY HOSPITAL RAIL HALT',\n",
              "   'ID': 18,\n",
              "   'Type': 'R',\n",
              "   'Type~Def': '',\n",
              "   'Easting': 333163,\n",
              "   'Northing': 373131},\n",
              "  'geometry': {'type': 'Point',\n",
              "   'coordinates': [-5.940299027187508, 54.58877579877649]}},\n",
              " 'BELFAST - BALMORAL RAIL HALT': {'type': 'Feature',\n",
              "  'properties': {'Station': 'BELFAST - BALMORAL RAIL HALT',\n",
              "   'ID': 14,\n",
              "   'Type': 'R',\n",
              "   'Type~Def': '',\n",
              "   'Easting': 331456,\n",
              "   'Northing': 370851},\n",
              "  'geometry': {'type': 'Point',\n",
              "   'coordinates': [-5.968279586557941, 54.56885673674175]}},\n",
              " 'BELFAST - BRIDGE END RAIL HALT': {'type': 'Feature',\n",
              "  'properties': {'Station': 'BELFAST - BRIDGE END RAIL HALT',\n",
              "   'ID': 16,\n",
              "   'Type': 'R',\n",
              "   'Type~Def': '',\n",
              "   'Easting': 335340,\n",
              "   'Northing': 374643},\n",
              "  'geometry': {'type': 'Point',\n",
              "   'coordinates': [-5.906524410655043, 54.60187224278238]}},\n",
              " 'BELFAST - SYDENHAM RAIL HALT': {'type': 'Feature',\n",
              "  'properties': {'Station': 'BELFAST - SYDENHAM RAIL HALT',\n",
              "   'ID': 20,\n",
              "   'Type': 'R',\n",
              "   'Type~Def': '',\n",
              "   'Easting': 336625,\n",
              "   'Northing': 375090},\n",
              "  'geometry': {'type': 'Point',\n",
              "   'coordinates': [-5.886439028702296, 54.60553772015698]}},\n",
              " 'DUNMURRY RAIL HALT': {'type': 'Feature',\n",
              "  'properties': {'Station': 'DUNMURRY RAIL HALT',\n",
              "   'ID': 40,\n",
              "   'Type': 'R',\n",
              "   'Type~Def': '',\n",
              "   'Easting': 329249,\n",
              "   'Northing': 369061},\n",
              "  'geometry': {'type': 'Point',\n",
              "   'coordinates': [-6.003165502028699, 54.55335836004234]}},\n",
              " 'DERRIAGHY RAIL HALT': {'type': 'Feature',\n",
              "  'properties': {'Station': 'DERRIAGHY RAIL HALT',\n",
              "   'ID': 36,\n",
              "   'Type': 'R',\n",
              "   'Type~Def': '',\n",
              "   'Easting': 328318,\n",
              "   'Northing': 367752},\n",
              "  'geometry': {'type': 'Point',\n",
              "   'coordinates': [-6.018112962940367, 54.54183702611459]}},\n",
              " 'FINAGHY RAIL HALT': {'type': 'Feature',\n",
              "  'properties': {'Station': 'FINAGHY RAIL HALT',\n",
              "   'ID': 42,\n",
              "   'Type': 'R',\n",
              "   'Type~Def': '',\n",
              "   'Easting': 330275,\n",
              "   'Northing': 370254},\n",
              "  'geometry': {'type': 'Point',\n",
              "   'coordinates': [-5.986779356476255, 54.563799283087]}},\n",
              " 'LAMBEG RAIL HALT': {'type': 'Feature',\n",
              "  'properties': {'Station': 'LAMBEG RAIL HALT',\n",
              "   'ID': 53,\n",
              "   'Type': 'R',\n",
              "   'Type~Def': '',\n",
              "   'Easting': 327616,\n",
              "   'Northing': 366385},\n",
              "  'geometry': {'type': 'Point',\n",
              "   'coordinates': [-6.029546191531564, 54.52974232371766]}},\n",
              " 'HILDEN RAIL HALT': {'type': 'Feature',\n",
              "  'properties': {'Station': 'HILDEN RAIL HALT',\n",
              "   'ID': 47,\n",
              "   'Type': 'R',\n",
              "   'Type~Def': '',\n",
              "   'Easting': 327651,\n",
              "   'Northing': 365560},\n",
              "  'geometry': {'type': 'Point',\n",
              "   'coordinates': [-6.029356397826791, 54.52232479553542]}},\n",
              " 'WHITEABBEY RAIL HALT': {'type': 'Feature',\n",
              "  'properties': {'Station': 'WHITEABBEY RAIL HALT',\n",
              "   'ID': 78,\n",
              "   'Type': 'R',\n",
              "   'Type~Def': 'HALT',\n",
              "   'Easting': 335239,\n",
              "   'Northing': 382491},\n",
              "  'geometry': {'type': 'Point',\n",
              "   'coordinates': [-5.904456204174812, 54.672354744865736]}},\n",
              " 'TROOPERSLANE RAIL HALT': {'type': 'Feature',\n",
              "  'properties': {'Station': 'TROOPERSLANE RAIL HALT',\n",
              "   'ID': 77,\n",
              "   'Type': 'R',\n",
              "   'Type~Def': '',\n",
              "   'Easting': 338702,\n",
              "   'Northing': 386846},\n",
              "  'geometry': {'type': 'Point',\n",
              "   'coordinates': [-5.848758254028238, 54.710502995359896]}},\n",
              " 'DOWNSHIRE RAIL HALT': {'type': 'Feature',\n",
              "  'properties': {'Station': 'DOWNSHIRE RAIL HALT',\n",
              "   'ID': 38,\n",
              "   'Type': 'R',\n",
              "   'Type~Def': '',\n",
              "   'Easting': 342459,\n",
              "   'Northing': 388145},\n",
              "  'geometry': {'type': 'Point',\n",
              "   'coordinates': [-5.789883927272109, 54.72111676355771]}},\n",
              " 'CLIPPERSTOWN RAIL HALT': {'type': 'Feature',\n",
              "  'properties': {'Station': 'CLIPPERSTOWN RAIL HALT',\n",
              "   'ID': 27,\n",
              "   'Type': 'R',\n",
              "   'Type~Def': '',\n",
              "   'Easting': 340755,\n",
              "   'Northing': 387682},\n",
              "  'geometry': {'type': 'Point',\n",
              "   'coordinates': [-5.816523431014697, 54.71743651749125]}},\n",
              " 'WHITEHEAD RAIL HALT': {'type': 'Feature',\n",
              "  'properties': {'Station': 'WHITEHEAD RAIL HALT',\n",
              "   'ID': 79,\n",
              "   'Type': 'R',\n",
              "   'Type~Def': '',\n",
              "   'Easting': 347510,\n",
              "   'Northing': 391838},\n",
              "  'geometry': {'type': 'Point',\n",
              "   'coordinates': [-5.709686802660552, 54.75281108416051]}},\n",
              " 'BALLYCARRY RAIL HALT': {'type': 'Feature',\n",
              "  'properties': {'Station': 'BALLYCARRY RAIL HALT',\n",
              "   'ID': 5,\n",
              "   'Type': 'R',\n",
              "   'Type~Def': '',\n",
              "   'Easting': 346402,\n",
              "   'Northing': 394455},\n",
              "  'geometry': {'type': 'Point',\n",
              "   'coordinates': [-5.725569853106984, 54.776620152748315]}},\n",
              " 'MAGHERAMORNE RAIL HALT': {'type': 'Feature',\n",
              "  'properties': {'Station': 'MAGHERAMORNE RAIL HALT',\n",
              "   'ID': 62,\n",
              "   'Type': 'R',\n",
              "   'Type~Def': '',\n",
              "   'Easting': 343608,\n",
              "   'Northing': 398706},\n",
              "  'geometry': {'type': 'Point',\n",
              "   'coordinates': [-5.76684603747889, 54.815590324119114]}},\n",
              " 'GLYNN RAIL HALT': {'type': 'Feature',\n",
              "  'properties': {'Station': 'GLYNN RAIL HALT',\n",
              "   'ID': 44,\n",
              "   'Type': 'R',\n",
              "   'Type~Def': '',\n",
              "   'Easting': 340982,\n",
              "   'Northing': 399919},\n",
              "  'geometry': {'type': 'Point',\n",
              "   'coordinates': [-5.807066008648389, 54.8272213298175]}},\n",
              " 'HOLLYWOOD RAIL HALT': {'type': 'Feature',\n",
              "  'properties': {'Station': 'HOLLYWOOD RAIL HALT',\n",
              "   'ID': 48,\n",
              "   'Type': 'R',\n",
              "   'Type~Def': '',\n",
              "   'Easting': 339566,\n",
              "   'Northing': 379167},\n",
              "  'geometry': {'type': 'Point',\n",
              "   'coordinates': [-5.839023645243199, 54.641331866551724]}},\n",
              " 'MARINO RAIL HALT': {'type': 'Feature',\n",
              "  'properties': {'Station': 'MARINO RAIL HALT',\n",
              "   'ID': 63,\n",
              "   'Type': 'R',\n",
              "   'Type~Def': '',\n",
              "   'Easting': 340901,\n",
              "   'Northing': 379815},\n",
              "  'geometry': {'type': 'Point',\n",
              "   'coordinates': [-5.818046003780471, 54.64678186694097]}},\n",
              " 'CULTRA RAIL HALT': {'type': 'Feature',\n",
              "  'properties': {'Station': 'CULTRA RAIL HALT',\n",
              "   'ID': 35,\n",
              "   'Type': 'R',\n",
              "   'Type~Def': '',\n",
              "   'Easting': 341713,\n",
              "   'Northing': 380465},\n",
              "  'geometry': {'type': 'Point',\n",
              "   'coordinates': [-5.805171541005157, 54.65239160352423]}},\n",
              " 'SEAHILL RAIL HALT': {'type': 'Feature',\n",
              "  'properties': {'Station': 'SEAHILL RAIL HALT',\n",
              "   'ID': 76,\n",
              "   'Type': 'R',\n",
              "   'Type~Def': '',\n",
              "   'Easting': 344061,\n",
              "   'Northing': 381462},\n",
              "  'geometry': {'type': 'Point',\n",
              "   'coordinates': [-5.76832556680846, 54.660675297739246]}},\n",
              " \"HELEN'S BAY RAIL HALT\": {'type': 'Feature',\n",
              "  'properties': {'Station': \"HELEN'S BAY RAIL HALT\",\n",
              "   'ID': 46,\n",
              "   'Type': 'R',\n",
              "   'Type~Def': '',\n",
              "   'Easting': 345785,\n",
              "   'Northing': 382163},\n",
              "  'geometry': {'type': 'Point',\n",
              "   'coordinates': [-5.74129186336661, 54.666474159114266]}},\n",
              " 'CARNALEA RAIL HALT': {'type': 'Feature',\n",
              "  'properties': {'Station': 'CARNALEA RAIL HALT',\n",
              "   'ID': 24,\n",
              "   'Type': 'R',\n",
              "   'Type~Def': '',\n",
              "   'Easting': 348063,\n",
              "   'Northing': 382183},\n",
              "  'geometry': {'type': 'Point',\n",
              "   'coordinates': [-5.706005307640937, 54.66598413483226]}},\n",
              " 'BANGOR WEST RAIL HALT': {'type': 'Feature',\n",
              "  'properties': {'Station': 'BANGOR WEST RAIL HALT',\n",
              "   'ID': 12,\n",
              "   'Type': 'R',\n",
              "   'Type~Def': '',\n",
              "   'Easting': 348922,\n",
              "   'Northing': 381489},\n",
              "  'geometry': {'type': 'Point',\n",
              "   'coordinates': [-5.69304865954291, 54.65950893047023]}},\n",
              " 'KNOCKMORE RAIL HALT': {'type': 'Feature',\n",
              "  'properties': {'Station': 'KNOCKMORE RAIL HALT',\n",
              "   'ID': 50,\n",
              "   'Type': 'R',\n",
              "   'Type~Def': '',\n",
              "   'Easting': 325198,\n",
              "   'Northing': 364265},\n",
              "  'geometry': {'type': 'Point',\n",
              "   'coordinates': [-6.067763364779338, 54.51131585450469]}},\n",
              " 'MOIRA RAIL HALT': {'type': 'Feature',\n",
              "  'properties': {'Station': 'MOIRA RAIL HALT',\n",
              "   'ID': 64,\n",
              "   'Type': 'R',\n",
              "   'Type~Def': '',\n",
              "   'Easting': 315819,\n",
              "   'Northing': 361885},\n",
              "  'geometry': {'type': 'Point',\n",
              "   'coordinates': [-6.213425221787849, 54.49216503450455]}},\n",
              " 'SCARVA RAIL HALT': {'type': 'Feature',\n",
              "  'properties': {'Station': 'SCARVA RAIL HALT',\n",
              "   'ID': 75,\n",
              "   'Type': 'R',\n",
              "   'Type~Def': '',\n",
              "   'Easting': 306367,\n",
              "   'Northing': 343842},\n",
              "  'geometry': {'type': 'Point',\n",
              "   'coordinates': [-6.365675428943175, 54.33221898023369]}},\n",
              " 'POYNTZPASS RAIL HALT': {'type': 'Feature',\n",
              "  'properties': {'Station': 'POYNTZPASS RAIL HALT',\n",
              "   'ID': 74,\n",
              "   'Type': 'R',\n",
              "   'Type~Def': '',\n",
              "   'Easting': 306049,\n",
              "   'Northing': 339455},\n",
              "  'geometry': {'type': 'Point',\n",
              "   'coordinates': [-6.372126674457975, 54.29288659988583]}},\n",
              " 'MOSSLEY WEST RAIL HALT': {'type': 'Feature',\n",
              "  'properties': {'Station': 'MOSSLEY WEST RAIL HALT',\n",
              "   'ID': 65,\n",
              "   'Type': 'R',\n",
              "   'Type~Def': '',\n",
              "   'Easting': 332106,\n",
              "   'Northing': 385119},\n",
              "  'geometry': {'type': 'Point',\n",
              "   'coordinates': [-5.951809965394665, 54.696775802669585]}},\n",
              " 'BALLINDERRY RAIL HALT': {'type': 'Feature',\n",
              "  'properties': {'Station': 'BALLINDERRY RAIL HALT',\n",
              "   'ID': 4,\n",
              "   'Type': 'R',\n",
              "   'Type~Def': '',\n",
              "   'Easting': 316297,\n",
              "   'Northing': 367762},\n",
              "  'geometry': {'type': 'Point',\n",
              "   'coordinates': [-6.203732023398284, 54.54482634995206]}},\n",
              " 'GLENAVY RAIL HALT': {'type': 'Feature',\n",
              "  'properties': {'Station': 'GLENAVY RAIL HALT',\n",
              "   'ID': 43,\n",
              "   'Type': 'R',\n",
              "   'Type~Def': '',\n",
              "   'Easting': 315432,\n",
              "   'Northing': 372619},\n",
              "  'geometry': {'type': 'Point',\n",
              "   'coordinates': [-6.215193541487133, 54.58863888308633]}},\n",
              " 'CRUMLIN RAIL HALT': {'type': 'Feature',\n",
              "  'properties': {'Station': 'CRUMLIN RAIL HALT',\n",
              "   'ID': 33,\n",
              "   'Type': 'R',\n",
              "   'Type~Def': '',\n",
              "   'Easting': 315561,\n",
              "   'Northing': 376249},\n",
              "  'geometry': {'type': 'Point',\n",
              "   'coordinates': [-6.211770444572919, 54.621198071561516]}},\n",
              " 'COLERAINE UNIVERSITY RAIL HALT': {'type': 'Feature',\n",
              "  'properties': {'Station': 'COLERAINE UNIVERSITY RAIL HALT',\n",
              "   'ID': 29,\n",
              "   'Type': 'R',\n",
              "   'Type~Def': 'HALT',\n",
              "   'Easting': 284954,\n",
              "   'Northing': 434499},\n",
              "  'geometry': {'type': 'Point',\n",
              "   'coordinates': [-6.668288356437393, 55.15036812191344]}},\n",
              " 'CASTLEROCK RAIL HALT': {'type': 'Feature',\n",
              "  'properties': {'Station': 'CASTLEROCK RAIL HALT',\n",
              "   'ID': 26,\n",
              "   'Type': 'R',\n",
              "   'Type~Def': 'HALT',\n",
              "   'Easting': 277353,\n",
              "   'Northing': 435978},\n",
              "  'geometry': {'type': 'Point',\n",
              "   'coordinates': [-6.787081764431487, 55.16488638924967]}},\n",
              " 'BELLARENA RAIL HALT': {'type': 'Feature',\n",
              "  'properties': {'Station': 'BELLARENA RAIL HALT',\n",
              "   'ID': 23,\n",
              "   'Type': 'R',\n",
              "   'Type~Def': 'HALT',\n",
              "   'Easting': 266870,\n",
              "   'Northing': 431503},\n",
              "  'geometry': {'type': 'Point',\n",
              "   'coordinates': [-6.952580703237029, 55.126228918920205]}},\n",
              " 'PORTRUSH DHU VARREN RAIL HALT': {'type': 'Feature',\n",
              "  'properties': {'Station': 'PORTRUSH DHU VARREN RAIL HALT',\n",
              "   'ID': 73,\n",
              "   'Type': 'R',\n",
              "   'Type~Def': 'HALT',\n",
              "   'Easting': 285302,\n",
              "   'Northing': 439608},\n",
              "  'geometry': {'type': 'Point',\n",
              "   'coordinates': [-6.661291117864922, 55.1961791756512]}}}"
            ]
          },
          "metadata": {},
          "execution_count": 61
        }
      ]
    },
    {
      "cell_type": "code",
      "execution_count": null,
      "metadata": {
        "hideCode": false,
        "hidePrompt": false,
        "colab": {
          "base_uri": "https://localhost:8080/"
        },
        "id": "CPO4oRqXmgg8",
        "outputId": "94910d90-3e2e-48e6-a639-5c711a3ba9fc"
      },
      "outputs": [
        {
          "output_type": "execute_result",
          "data": {
            "text/plain": [
              "dict"
            ]
          },
          "metadata": {},
          "execution_count": 55
        }
      ],
      "source": [
        "type(halts_dictionary)"
      ]
    },
    {
      "cell_type": "markdown",
      "metadata": {
        "hideCode": false,
        "hidePrompt": false,
        "id": "tXAvJ-eLmgg8"
      },
      "source": [
        "### Exercise: End of the Line\n",
        "\n",
        "Try to replace the ellipsis (...) below to create a dictionary that maps rail halt names to their coordinates.\n",
        "Hint: start by replacing the ellipsis with `h` to get a print-out of what each `h` has in it."
      ]
    },
    {
      "cell_type": "code",
      "source": [
        "halts_geojson"
      ],
      "metadata": {
        "colab": {
          "base_uri": "https://localhost:8080/"
        },
        "id": "ACu7WlTv_hg_",
        "outputId": "c0190fa7-e73a-4567-ebce-868c13b00f62"
      },
      "execution_count": null,
      "outputs": [
        {
          "output_type": "execute_result",
          "data": {
            "text/plain": [
              "{'type': 'FeatureCollection',\n",
              " 'crs': {'type': 'name',\n",
              "  'properties': {'name': 'urn:ogc:def:crs:OGC:1.3:CRS84'}},\n",
              " 'features': [{'type': 'Feature',\n",
              "   'properties': {'Station': 'BELFAST - ADELAIDE RAIL HALT',\n",
              "    'ID': 13,\n",
              "    'Type': 'R',\n",
              "    'Type~Def': '',\n",
              "    'Easting': 332254,\n",
              "    'Northing': 371972},\n",
              "   'geometry': {'type': 'Point',\n",
              "    'coordinates': [-5.955437428473338, 54.57871560269907]}},\n",
              "  {'type': 'Feature',\n",
              "   'properties': {'Station': 'BELFAST - CITY HOSPITAL RAIL HALT',\n",
              "    'ID': 18,\n",
              "    'Type': 'R',\n",
              "    'Type~Def': '',\n",
              "    'Easting': 333163,\n",
              "    'Northing': 373131},\n",
              "   'geometry': {'type': 'Point',\n",
              "    'coordinates': [-5.940299027187508, 54.58877579877649]}},\n",
              "  {'type': 'Feature',\n",
              "   'properties': {'Station': 'BELFAST - BALMORAL RAIL HALT',\n",
              "    'ID': 14,\n",
              "    'Type': 'R',\n",
              "    'Type~Def': '',\n",
              "    'Easting': 331456,\n",
              "    'Northing': 370851},\n",
              "   'geometry': {'type': 'Point',\n",
              "    'coordinates': [-5.968279586557941, 54.56885673674175]}},\n",
              "  {'type': 'Feature',\n",
              "   'properties': {'Station': 'BELFAST - BRIDGE END RAIL HALT',\n",
              "    'ID': 16,\n",
              "    'Type': 'R',\n",
              "    'Type~Def': '',\n",
              "    'Easting': 335340,\n",
              "    'Northing': 374643},\n",
              "   'geometry': {'type': 'Point',\n",
              "    'coordinates': [-5.906524410655043, 54.60187224278238]}},\n",
              "  {'type': 'Feature',\n",
              "   'properties': {'Station': 'BELFAST - SYDENHAM RAIL HALT',\n",
              "    'ID': 20,\n",
              "    'Type': 'R',\n",
              "    'Type~Def': '',\n",
              "    'Easting': 336625,\n",
              "    'Northing': 375090},\n",
              "   'geometry': {'type': 'Point',\n",
              "    'coordinates': [-5.886439028702296, 54.60553772015698]}},\n",
              "  {'type': 'Feature',\n",
              "   'properties': {'Station': 'DUNMURRY RAIL HALT',\n",
              "    'ID': 40,\n",
              "    'Type': 'R',\n",
              "    'Type~Def': '',\n",
              "    'Easting': 329249,\n",
              "    'Northing': 369061},\n",
              "   'geometry': {'type': 'Point',\n",
              "    'coordinates': [-6.003165502028699, 54.55335836004234]}},\n",
              "  {'type': 'Feature',\n",
              "   'properties': {'Station': 'DERRIAGHY RAIL HALT',\n",
              "    'ID': 36,\n",
              "    'Type': 'R',\n",
              "    'Type~Def': '',\n",
              "    'Easting': 328318,\n",
              "    'Northing': 367752},\n",
              "   'geometry': {'type': 'Point',\n",
              "    'coordinates': [-6.018112962940367, 54.54183702611459]}},\n",
              "  {'type': 'Feature',\n",
              "   'properties': {'Station': 'FINAGHY RAIL HALT',\n",
              "    'ID': 42,\n",
              "    'Type': 'R',\n",
              "    'Type~Def': '',\n",
              "    'Easting': 330275,\n",
              "    'Northing': 370254},\n",
              "   'geometry': {'type': 'Point',\n",
              "    'coordinates': [-5.986779356476255, 54.563799283087]}},\n",
              "  {'type': 'Feature',\n",
              "   'properties': {'Station': 'LAMBEG RAIL HALT',\n",
              "    'ID': 53,\n",
              "    'Type': 'R',\n",
              "    'Type~Def': '',\n",
              "    'Easting': 327616,\n",
              "    'Northing': 366385},\n",
              "   'geometry': {'type': 'Point',\n",
              "    'coordinates': [-6.029546191531564, 54.52974232371766]}},\n",
              "  {'type': 'Feature',\n",
              "   'properties': {'Station': 'HILDEN RAIL HALT',\n",
              "    'ID': 47,\n",
              "    'Type': 'R',\n",
              "    'Type~Def': '',\n",
              "    'Easting': 327651,\n",
              "    'Northing': 365560},\n",
              "   'geometry': {'type': 'Point',\n",
              "    'coordinates': [-6.029356397826791, 54.52232479553542]}},\n",
              "  {'type': 'Feature',\n",
              "   'properties': {'Station': 'WHITEABBEY RAIL HALT',\n",
              "    'ID': 78,\n",
              "    'Type': 'R',\n",
              "    'Type~Def': 'HALT',\n",
              "    'Easting': 335239,\n",
              "    'Northing': 382491},\n",
              "   'geometry': {'type': 'Point',\n",
              "    'coordinates': [-5.904456204174812, 54.672354744865736]}},\n",
              "  {'type': 'Feature',\n",
              "   'properties': {'Station': 'TROOPERSLANE RAIL HALT',\n",
              "    'ID': 77,\n",
              "    'Type': 'R',\n",
              "    'Type~Def': '',\n",
              "    'Easting': 338702,\n",
              "    'Northing': 386846},\n",
              "   'geometry': {'type': 'Point',\n",
              "    'coordinates': [-5.848758254028238, 54.710502995359896]}},\n",
              "  {'type': 'Feature',\n",
              "   'properties': {'Station': 'DOWNSHIRE RAIL HALT',\n",
              "    'ID': 38,\n",
              "    'Type': 'R',\n",
              "    'Type~Def': '',\n",
              "    'Easting': 342459,\n",
              "    'Northing': 388145},\n",
              "   'geometry': {'type': 'Point',\n",
              "    'coordinates': [-5.789883927272109, 54.72111676355771]}},\n",
              "  {'type': 'Feature',\n",
              "   'properties': {'Station': 'CLIPPERSTOWN RAIL HALT',\n",
              "    'ID': 27,\n",
              "    'Type': 'R',\n",
              "    'Type~Def': '',\n",
              "    'Easting': 340755,\n",
              "    'Northing': 387682},\n",
              "   'geometry': {'type': 'Point',\n",
              "    'coordinates': [-5.816523431014697, 54.71743651749125]}},\n",
              "  {'type': 'Feature',\n",
              "   'properties': {'Station': 'WHITEHEAD RAIL HALT',\n",
              "    'ID': 79,\n",
              "    'Type': 'R',\n",
              "    'Type~Def': '',\n",
              "    'Easting': 347510,\n",
              "    'Northing': 391838},\n",
              "   'geometry': {'type': 'Point',\n",
              "    'coordinates': [-5.709686802660552, 54.75281108416051]}},\n",
              "  {'type': 'Feature',\n",
              "   'properties': {'Station': 'BALLYCARRY RAIL HALT',\n",
              "    'ID': 5,\n",
              "    'Type': 'R',\n",
              "    'Type~Def': '',\n",
              "    'Easting': 346402,\n",
              "    'Northing': 394455},\n",
              "   'geometry': {'type': 'Point',\n",
              "    'coordinates': [-5.725569853106984, 54.776620152748315]}},\n",
              "  {'type': 'Feature',\n",
              "   'properties': {'Station': 'MAGHERAMORNE RAIL HALT',\n",
              "    'ID': 62,\n",
              "    'Type': 'R',\n",
              "    'Type~Def': '',\n",
              "    'Easting': 343608,\n",
              "    'Northing': 398706},\n",
              "   'geometry': {'type': 'Point',\n",
              "    'coordinates': [-5.76684603747889, 54.815590324119114]}},\n",
              "  {'type': 'Feature',\n",
              "   'properties': {'Station': 'GLYNN RAIL HALT',\n",
              "    'ID': 44,\n",
              "    'Type': 'R',\n",
              "    'Type~Def': '',\n",
              "    'Easting': 340982,\n",
              "    'Northing': 399919},\n",
              "   'geometry': {'type': 'Point',\n",
              "    'coordinates': [-5.807066008648389, 54.8272213298175]}},\n",
              "  {'type': 'Feature',\n",
              "   'properties': {'Station': 'HOLLYWOOD RAIL HALT',\n",
              "    'ID': 48,\n",
              "    'Type': 'R',\n",
              "    'Type~Def': '',\n",
              "    'Easting': 339566,\n",
              "    'Northing': 379167},\n",
              "   'geometry': {'type': 'Point',\n",
              "    'coordinates': [-5.839023645243199, 54.641331866551724]}},\n",
              "  {'type': 'Feature',\n",
              "   'properties': {'Station': 'MARINO RAIL HALT',\n",
              "    'ID': 63,\n",
              "    'Type': 'R',\n",
              "    'Type~Def': '',\n",
              "    'Easting': 340901,\n",
              "    'Northing': 379815},\n",
              "   'geometry': {'type': 'Point',\n",
              "    'coordinates': [-5.818046003780471, 54.64678186694097]}},\n",
              "  {'type': 'Feature',\n",
              "   'properties': {'Station': 'CULTRA RAIL HALT',\n",
              "    'ID': 35,\n",
              "    'Type': 'R',\n",
              "    'Type~Def': '',\n",
              "    'Easting': 341713,\n",
              "    'Northing': 380465},\n",
              "   'geometry': {'type': 'Point',\n",
              "    'coordinates': [-5.805171541005157, 54.65239160352423]}},\n",
              "  {'type': 'Feature',\n",
              "   'properties': {'Station': 'SEAHILL RAIL HALT',\n",
              "    'ID': 76,\n",
              "    'Type': 'R',\n",
              "    'Type~Def': '',\n",
              "    'Easting': 344061,\n",
              "    'Northing': 381462},\n",
              "   'geometry': {'type': 'Point',\n",
              "    'coordinates': [-5.76832556680846, 54.660675297739246]}},\n",
              "  {'type': 'Feature',\n",
              "   'properties': {'Station': \"HELEN'S BAY RAIL HALT\",\n",
              "    'ID': 46,\n",
              "    'Type': 'R',\n",
              "    'Type~Def': '',\n",
              "    'Easting': 345785,\n",
              "    'Northing': 382163},\n",
              "   'geometry': {'type': 'Point',\n",
              "    'coordinates': [-5.74129186336661, 54.666474159114266]}},\n",
              "  {'type': 'Feature',\n",
              "   'properties': {'Station': 'CARNALEA RAIL HALT',\n",
              "    'ID': 24,\n",
              "    'Type': 'R',\n",
              "    'Type~Def': '',\n",
              "    'Easting': 348063,\n",
              "    'Northing': 382183},\n",
              "   'geometry': {'type': 'Point',\n",
              "    'coordinates': [-5.706005307640937, 54.66598413483226]}},\n",
              "  {'type': 'Feature',\n",
              "   'properties': {'Station': 'BANGOR WEST RAIL HALT',\n",
              "    'ID': 12,\n",
              "    'Type': 'R',\n",
              "    'Type~Def': '',\n",
              "    'Easting': 348922,\n",
              "    'Northing': 381489},\n",
              "   'geometry': {'type': 'Point',\n",
              "    'coordinates': [-5.69304865954291, 54.65950893047023]}},\n",
              "  {'type': 'Feature',\n",
              "   'properties': {'Station': 'KNOCKMORE RAIL HALT',\n",
              "    'ID': 50,\n",
              "    'Type': 'R',\n",
              "    'Type~Def': '',\n",
              "    'Easting': 325198,\n",
              "    'Northing': 364265},\n",
              "   'geometry': {'type': 'Point',\n",
              "    'coordinates': [-6.067763364779338, 54.51131585450469]}},\n",
              "  {'type': 'Feature',\n",
              "   'properties': {'Station': 'MOIRA RAIL HALT',\n",
              "    'ID': 64,\n",
              "    'Type': 'R',\n",
              "    'Type~Def': '',\n",
              "    'Easting': 315819,\n",
              "    'Northing': 361885},\n",
              "   'geometry': {'type': 'Point',\n",
              "    'coordinates': [-6.213425221787849, 54.49216503450455]}},\n",
              "  {'type': 'Feature',\n",
              "   'properties': {'Station': 'SCARVA RAIL HALT',\n",
              "    'ID': 75,\n",
              "    'Type': 'R',\n",
              "    'Type~Def': '',\n",
              "    'Easting': 306367,\n",
              "    'Northing': 343842},\n",
              "   'geometry': {'type': 'Point',\n",
              "    'coordinates': [-6.365675428943175, 54.33221898023369]}},\n",
              "  {'type': 'Feature',\n",
              "   'properties': {'Station': 'POYNTZPASS RAIL HALT',\n",
              "    'ID': 74,\n",
              "    'Type': 'R',\n",
              "    'Type~Def': '',\n",
              "    'Easting': 306049,\n",
              "    'Northing': 339455},\n",
              "   'geometry': {'type': 'Point',\n",
              "    'coordinates': [-6.372126674457975, 54.29288659988583]}},\n",
              "  {'type': 'Feature',\n",
              "   'properties': {'Station': 'MOSSLEY WEST RAIL HALT',\n",
              "    'ID': 65,\n",
              "    'Type': 'R',\n",
              "    'Type~Def': '',\n",
              "    'Easting': 332106,\n",
              "    'Northing': 385119},\n",
              "   'geometry': {'type': 'Point',\n",
              "    'coordinates': [-5.951809965394665, 54.696775802669585]}},\n",
              "  {'type': 'Feature',\n",
              "   'properties': {'Station': 'BALLINDERRY RAIL HALT',\n",
              "    'ID': 4,\n",
              "    'Type': 'R',\n",
              "    'Type~Def': '',\n",
              "    'Easting': 316297,\n",
              "    'Northing': 367762},\n",
              "   'geometry': {'type': 'Point',\n",
              "    'coordinates': [-6.203732023398284, 54.54482634995206]}},\n",
              "  {'type': 'Feature',\n",
              "   'properties': {'Station': 'GLENAVY RAIL HALT',\n",
              "    'ID': 43,\n",
              "    'Type': 'R',\n",
              "    'Type~Def': '',\n",
              "    'Easting': 315432,\n",
              "    'Northing': 372619},\n",
              "   'geometry': {'type': 'Point',\n",
              "    'coordinates': [-6.215193541487133, 54.58863888308633]}},\n",
              "  {'type': 'Feature',\n",
              "   'properties': {'Station': 'CRUMLIN RAIL HALT',\n",
              "    'ID': 33,\n",
              "    'Type': 'R',\n",
              "    'Type~Def': '',\n",
              "    'Easting': 315561,\n",
              "    'Northing': 376249},\n",
              "   'geometry': {'type': 'Point',\n",
              "    'coordinates': [-6.211770444572919, 54.621198071561516]}},\n",
              "  {'type': 'Feature',\n",
              "   'properties': {'Station': 'COLERAINE UNIVERSITY RAIL HALT',\n",
              "    'ID': 29,\n",
              "    'Type': 'R',\n",
              "    'Type~Def': 'HALT',\n",
              "    'Easting': 284954,\n",
              "    'Northing': 434499},\n",
              "   'geometry': {'type': 'Point',\n",
              "    'coordinates': [-6.668288356437393, 55.15036812191344]}},\n",
              "  {'type': 'Feature',\n",
              "   'properties': {'Station': 'CASTLEROCK RAIL HALT',\n",
              "    'ID': 26,\n",
              "    'Type': 'R',\n",
              "    'Type~Def': 'HALT',\n",
              "    'Easting': 277353,\n",
              "    'Northing': 435978},\n",
              "   'geometry': {'type': 'Point',\n",
              "    'coordinates': [-6.787081764431487, 55.16488638924967]}},\n",
              "  {'type': 'Feature',\n",
              "   'properties': {'Station': 'BELLARENA RAIL HALT',\n",
              "    'ID': 23,\n",
              "    'Type': 'R',\n",
              "    'Type~Def': 'HALT',\n",
              "    'Easting': 266870,\n",
              "    'Northing': 431503},\n",
              "   'geometry': {'type': 'Point',\n",
              "    'coordinates': [-6.952580703237029, 55.126228918920205]}},\n",
              "  {'type': 'Feature',\n",
              "   'properties': {'Station': 'PORTRUSH DHU VARREN RAIL HALT',\n",
              "    'ID': 73,\n",
              "    'Type': 'R',\n",
              "    'Type~Def': 'HALT',\n",
              "    'Easting': 285302,\n",
              "    'Northing': 439608},\n",
              "   'geometry': {'type': 'Point',\n",
              "    'coordinates': [-6.661291117864922, 55.1961791756512]}}]}"
            ]
          },
          "metadata": {},
          "execution_count": 58
        }
      ]
    },
    {
      "cell_type": "code",
      "source": [],
      "metadata": {
        "id": "M-rqF3Be_ha1"
      },
      "execution_count": null,
      "outputs": []
    },
    {
      "cell_type": "code",
      "execution_count": null,
      "metadata": {
        "hideCode": false,
        "hidePrompt": false,
        "colab": {
          "base_uri": "https://localhost:8080/"
        },
        "collapsed": true,
        "id": "pTcCr7kUmgg8",
        "outputId": "e24d65f7-b888-49cc-c916-3d4304dc640a"
      },
      "outputs": [
        {
          "output_type": "execute_result",
          "data": {
            "text/plain": [
              "{'BELFAST - ADELAIDE RAIL HALT': {'type': 'Feature',\n",
              "  'properties': {'Station': 'BELFAST - ADELAIDE RAIL HALT',\n",
              "   'ID': 13,\n",
              "   'Type': 'R',\n",
              "   'Type~Def': '',\n",
              "   'Easting': 332254,\n",
              "   'Northing': 371972},\n",
              "  'geometry': {'type': 'Point',\n",
              "   'coordinates': [-5.955437428473338, 54.57871560269907]}},\n",
              " 'BELFAST - CITY HOSPITAL RAIL HALT': {'type': 'Feature',\n",
              "  'properties': {'Station': 'BELFAST - CITY HOSPITAL RAIL HALT',\n",
              "   'ID': 18,\n",
              "   'Type': 'R',\n",
              "   'Type~Def': '',\n",
              "   'Easting': 333163,\n",
              "   'Northing': 373131},\n",
              "  'geometry': {'type': 'Point',\n",
              "   'coordinates': [-5.940299027187508, 54.58877579877649]}},\n",
              " 'BELFAST - BALMORAL RAIL HALT': {'type': 'Feature',\n",
              "  'properties': {'Station': 'BELFAST - BALMORAL RAIL HALT',\n",
              "   'ID': 14,\n",
              "   'Type': 'R',\n",
              "   'Type~Def': '',\n",
              "   'Easting': 331456,\n",
              "   'Northing': 370851},\n",
              "  'geometry': {'type': 'Point',\n",
              "   'coordinates': [-5.968279586557941, 54.56885673674175]}},\n",
              " 'BELFAST - BRIDGE END RAIL HALT': {'type': 'Feature',\n",
              "  'properties': {'Station': 'BELFAST - BRIDGE END RAIL HALT',\n",
              "   'ID': 16,\n",
              "   'Type': 'R',\n",
              "   'Type~Def': '',\n",
              "   'Easting': 335340,\n",
              "   'Northing': 374643},\n",
              "  'geometry': {'type': 'Point',\n",
              "   'coordinates': [-5.906524410655043, 54.60187224278238]}},\n",
              " 'BELFAST - SYDENHAM RAIL HALT': {'type': 'Feature',\n",
              "  'properties': {'Station': 'BELFAST - SYDENHAM RAIL HALT',\n",
              "   'ID': 20,\n",
              "   'Type': 'R',\n",
              "   'Type~Def': '',\n",
              "   'Easting': 336625,\n",
              "   'Northing': 375090},\n",
              "  'geometry': {'type': 'Point',\n",
              "   'coordinates': [-5.886439028702296, 54.60553772015698]}},\n",
              " 'DUNMURRY RAIL HALT': {'type': 'Feature',\n",
              "  'properties': {'Station': 'DUNMURRY RAIL HALT',\n",
              "   'ID': 40,\n",
              "   'Type': 'R',\n",
              "   'Type~Def': '',\n",
              "   'Easting': 329249,\n",
              "   'Northing': 369061},\n",
              "  'geometry': {'type': 'Point',\n",
              "   'coordinates': [-6.003165502028699, 54.55335836004234]}},\n",
              " 'DERRIAGHY RAIL HALT': {'type': 'Feature',\n",
              "  'properties': {'Station': 'DERRIAGHY RAIL HALT',\n",
              "   'ID': 36,\n",
              "   'Type': 'R',\n",
              "   'Type~Def': '',\n",
              "   'Easting': 328318,\n",
              "   'Northing': 367752},\n",
              "  'geometry': {'type': 'Point',\n",
              "   'coordinates': [-6.018112962940367, 54.54183702611459]}},\n",
              " 'FINAGHY RAIL HALT': {'type': 'Feature',\n",
              "  'properties': {'Station': 'FINAGHY RAIL HALT',\n",
              "   'ID': 42,\n",
              "   'Type': 'R',\n",
              "   'Type~Def': '',\n",
              "   'Easting': 330275,\n",
              "   'Northing': 370254},\n",
              "  'geometry': {'type': 'Point',\n",
              "   'coordinates': [-5.986779356476255, 54.563799283087]}},\n",
              " 'LAMBEG RAIL HALT': {'type': 'Feature',\n",
              "  'properties': {'Station': 'LAMBEG RAIL HALT',\n",
              "   'ID': 53,\n",
              "   'Type': 'R',\n",
              "   'Type~Def': '',\n",
              "   'Easting': 327616,\n",
              "   'Northing': 366385},\n",
              "  'geometry': {'type': 'Point',\n",
              "   'coordinates': [-6.029546191531564, 54.52974232371766]}},\n",
              " 'HILDEN RAIL HALT': {'type': 'Feature',\n",
              "  'properties': {'Station': 'HILDEN RAIL HALT',\n",
              "   'ID': 47,\n",
              "   'Type': 'R',\n",
              "   'Type~Def': '',\n",
              "   'Easting': 327651,\n",
              "   'Northing': 365560},\n",
              "  'geometry': {'type': 'Point',\n",
              "   'coordinates': [-6.029356397826791, 54.52232479553542]}},\n",
              " 'WHITEABBEY RAIL HALT': {'type': 'Feature',\n",
              "  'properties': {'Station': 'WHITEABBEY RAIL HALT',\n",
              "   'ID': 78,\n",
              "   'Type': 'R',\n",
              "   'Type~Def': 'HALT',\n",
              "   'Easting': 335239,\n",
              "   'Northing': 382491},\n",
              "  'geometry': {'type': 'Point',\n",
              "   'coordinates': [-5.904456204174812, 54.672354744865736]}},\n",
              " 'TROOPERSLANE RAIL HALT': {'type': 'Feature',\n",
              "  'properties': {'Station': 'TROOPERSLANE RAIL HALT',\n",
              "   'ID': 77,\n",
              "   'Type': 'R',\n",
              "   'Type~Def': '',\n",
              "   'Easting': 338702,\n",
              "   'Northing': 386846},\n",
              "  'geometry': {'type': 'Point',\n",
              "   'coordinates': [-5.848758254028238, 54.710502995359896]}},\n",
              " 'DOWNSHIRE RAIL HALT': {'type': 'Feature',\n",
              "  'properties': {'Station': 'DOWNSHIRE RAIL HALT',\n",
              "   'ID': 38,\n",
              "   'Type': 'R',\n",
              "   'Type~Def': '',\n",
              "   'Easting': 342459,\n",
              "   'Northing': 388145},\n",
              "  'geometry': {'type': 'Point',\n",
              "   'coordinates': [-5.789883927272109, 54.72111676355771]}},\n",
              " 'CLIPPERSTOWN RAIL HALT': {'type': 'Feature',\n",
              "  'properties': {'Station': 'CLIPPERSTOWN RAIL HALT',\n",
              "   'ID': 27,\n",
              "   'Type': 'R',\n",
              "   'Type~Def': '',\n",
              "   'Easting': 340755,\n",
              "   'Northing': 387682},\n",
              "  'geometry': {'type': 'Point',\n",
              "   'coordinates': [-5.816523431014697, 54.71743651749125]}},\n",
              " 'WHITEHEAD RAIL HALT': {'type': 'Feature',\n",
              "  'properties': {'Station': 'WHITEHEAD RAIL HALT',\n",
              "   'ID': 79,\n",
              "   'Type': 'R',\n",
              "   'Type~Def': '',\n",
              "   'Easting': 347510,\n",
              "   'Northing': 391838},\n",
              "  'geometry': {'type': 'Point',\n",
              "   'coordinates': [-5.709686802660552, 54.75281108416051]}},\n",
              " 'BALLYCARRY RAIL HALT': {'type': 'Feature',\n",
              "  'properties': {'Station': 'BALLYCARRY RAIL HALT',\n",
              "   'ID': 5,\n",
              "   'Type': 'R',\n",
              "   'Type~Def': '',\n",
              "   'Easting': 346402,\n",
              "   'Northing': 394455},\n",
              "  'geometry': {'type': 'Point',\n",
              "   'coordinates': [-5.725569853106984, 54.776620152748315]}},\n",
              " 'MAGHERAMORNE RAIL HALT': {'type': 'Feature',\n",
              "  'properties': {'Station': 'MAGHERAMORNE RAIL HALT',\n",
              "   'ID': 62,\n",
              "   'Type': 'R',\n",
              "   'Type~Def': '',\n",
              "   'Easting': 343608,\n",
              "   'Northing': 398706},\n",
              "  'geometry': {'type': 'Point',\n",
              "   'coordinates': [-5.76684603747889, 54.815590324119114]}},\n",
              " 'GLYNN RAIL HALT': {'type': 'Feature',\n",
              "  'properties': {'Station': 'GLYNN RAIL HALT',\n",
              "   'ID': 44,\n",
              "   'Type': 'R',\n",
              "   'Type~Def': '',\n",
              "   'Easting': 340982,\n",
              "   'Northing': 399919},\n",
              "  'geometry': {'type': 'Point',\n",
              "   'coordinates': [-5.807066008648389, 54.8272213298175]}},\n",
              " 'HOLLYWOOD RAIL HALT': {'type': 'Feature',\n",
              "  'properties': {'Station': 'HOLLYWOOD RAIL HALT',\n",
              "   'ID': 48,\n",
              "   'Type': 'R',\n",
              "   'Type~Def': '',\n",
              "   'Easting': 339566,\n",
              "   'Northing': 379167},\n",
              "  'geometry': {'type': 'Point',\n",
              "   'coordinates': [-5.839023645243199, 54.641331866551724]}},\n",
              " 'MARINO RAIL HALT': {'type': 'Feature',\n",
              "  'properties': {'Station': 'MARINO RAIL HALT',\n",
              "   'ID': 63,\n",
              "   'Type': 'R',\n",
              "   'Type~Def': '',\n",
              "   'Easting': 340901,\n",
              "   'Northing': 379815},\n",
              "  'geometry': {'type': 'Point',\n",
              "   'coordinates': [-5.818046003780471, 54.64678186694097]}},\n",
              " 'CULTRA RAIL HALT': {'type': 'Feature',\n",
              "  'properties': {'Station': 'CULTRA RAIL HALT',\n",
              "   'ID': 35,\n",
              "   'Type': 'R',\n",
              "   'Type~Def': '',\n",
              "   'Easting': 341713,\n",
              "   'Northing': 380465},\n",
              "  'geometry': {'type': 'Point',\n",
              "   'coordinates': [-5.805171541005157, 54.65239160352423]}},\n",
              " 'SEAHILL RAIL HALT': {'type': 'Feature',\n",
              "  'properties': {'Station': 'SEAHILL RAIL HALT',\n",
              "   'ID': 76,\n",
              "   'Type': 'R',\n",
              "   'Type~Def': '',\n",
              "   'Easting': 344061,\n",
              "   'Northing': 381462},\n",
              "  'geometry': {'type': 'Point',\n",
              "   'coordinates': [-5.76832556680846, 54.660675297739246]}},\n",
              " \"HELEN'S BAY RAIL HALT\": {'type': 'Feature',\n",
              "  'properties': {'Station': \"HELEN'S BAY RAIL HALT\",\n",
              "   'ID': 46,\n",
              "   'Type': 'R',\n",
              "   'Type~Def': '',\n",
              "   'Easting': 345785,\n",
              "   'Northing': 382163},\n",
              "  'geometry': {'type': 'Point',\n",
              "   'coordinates': [-5.74129186336661, 54.666474159114266]}},\n",
              " 'CARNALEA RAIL HALT': {'type': 'Feature',\n",
              "  'properties': {'Station': 'CARNALEA RAIL HALT',\n",
              "   'ID': 24,\n",
              "   'Type': 'R',\n",
              "   'Type~Def': '',\n",
              "   'Easting': 348063,\n",
              "   'Northing': 382183},\n",
              "  'geometry': {'type': 'Point',\n",
              "   'coordinates': [-5.706005307640937, 54.66598413483226]}},\n",
              " 'BANGOR WEST RAIL HALT': {'type': 'Feature',\n",
              "  'properties': {'Station': 'BANGOR WEST RAIL HALT',\n",
              "   'ID': 12,\n",
              "   'Type': 'R',\n",
              "   'Type~Def': '',\n",
              "   'Easting': 348922,\n",
              "   'Northing': 381489},\n",
              "  'geometry': {'type': 'Point',\n",
              "   'coordinates': [-5.69304865954291, 54.65950893047023]}},\n",
              " 'KNOCKMORE RAIL HALT': {'type': 'Feature',\n",
              "  'properties': {'Station': 'KNOCKMORE RAIL HALT',\n",
              "   'ID': 50,\n",
              "   'Type': 'R',\n",
              "   'Type~Def': '',\n",
              "   'Easting': 325198,\n",
              "   'Northing': 364265},\n",
              "  'geometry': {'type': 'Point',\n",
              "   'coordinates': [-6.067763364779338, 54.51131585450469]}},\n",
              " 'MOIRA RAIL HALT': {'type': 'Feature',\n",
              "  'properties': {'Station': 'MOIRA RAIL HALT',\n",
              "   'ID': 64,\n",
              "   'Type': 'R',\n",
              "   'Type~Def': '',\n",
              "   'Easting': 315819,\n",
              "   'Northing': 361885},\n",
              "  'geometry': {'type': 'Point',\n",
              "   'coordinates': [-6.213425221787849, 54.49216503450455]}},\n",
              " 'SCARVA RAIL HALT': {'type': 'Feature',\n",
              "  'properties': {'Station': 'SCARVA RAIL HALT',\n",
              "   'ID': 75,\n",
              "   'Type': 'R',\n",
              "   'Type~Def': '',\n",
              "   'Easting': 306367,\n",
              "   'Northing': 343842},\n",
              "  'geometry': {'type': 'Point',\n",
              "   'coordinates': [-6.365675428943175, 54.33221898023369]}},\n",
              " 'POYNTZPASS RAIL HALT': {'type': 'Feature',\n",
              "  'properties': {'Station': 'POYNTZPASS RAIL HALT',\n",
              "   'ID': 74,\n",
              "   'Type': 'R',\n",
              "   'Type~Def': '',\n",
              "   'Easting': 306049,\n",
              "   'Northing': 339455},\n",
              "  'geometry': {'type': 'Point',\n",
              "   'coordinates': [-6.372126674457975, 54.29288659988583]}},\n",
              " 'MOSSLEY WEST RAIL HALT': {'type': 'Feature',\n",
              "  'properties': {'Station': 'MOSSLEY WEST RAIL HALT',\n",
              "   'ID': 65,\n",
              "   'Type': 'R',\n",
              "   'Type~Def': '',\n",
              "   'Easting': 332106,\n",
              "   'Northing': 385119},\n",
              "  'geometry': {'type': 'Point',\n",
              "   'coordinates': [-5.951809965394665, 54.696775802669585]}},\n",
              " 'BALLINDERRY RAIL HALT': {'type': 'Feature',\n",
              "  'properties': {'Station': 'BALLINDERRY RAIL HALT',\n",
              "   'ID': 4,\n",
              "   'Type': 'R',\n",
              "   'Type~Def': '',\n",
              "   'Easting': 316297,\n",
              "   'Northing': 367762},\n",
              "  'geometry': {'type': 'Point',\n",
              "   'coordinates': [-6.203732023398284, 54.54482634995206]}},\n",
              " 'GLENAVY RAIL HALT': {'type': 'Feature',\n",
              "  'properties': {'Station': 'GLENAVY RAIL HALT',\n",
              "   'ID': 43,\n",
              "   'Type': 'R',\n",
              "   'Type~Def': '',\n",
              "   'Easting': 315432,\n",
              "   'Northing': 372619},\n",
              "  'geometry': {'type': 'Point',\n",
              "   'coordinates': [-6.215193541487133, 54.58863888308633]}},\n",
              " 'CRUMLIN RAIL HALT': {'type': 'Feature',\n",
              "  'properties': {'Station': 'CRUMLIN RAIL HALT',\n",
              "   'ID': 33,\n",
              "   'Type': 'R',\n",
              "   'Type~Def': '',\n",
              "   'Easting': 315561,\n",
              "   'Northing': 376249},\n",
              "  'geometry': {'type': 'Point',\n",
              "   'coordinates': [-6.211770444572919, 54.621198071561516]}},\n",
              " 'COLERAINE UNIVERSITY RAIL HALT': {'type': 'Feature',\n",
              "  'properties': {'Station': 'COLERAINE UNIVERSITY RAIL HALT',\n",
              "   'ID': 29,\n",
              "   'Type': 'R',\n",
              "   'Type~Def': 'HALT',\n",
              "   'Easting': 284954,\n",
              "   'Northing': 434499},\n",
              "  'geometry': {'type': 'Point',\n",
              "   'coordinates': [-6.668288356437393, 55.15036812191344]}},\n",
              " 'CASTLEROCK RAIL HALT': {'type': 'Feature',\n",
              "  'properties': {'Station': 'CASTLEROCK RAIL HALT',\n",
              "   'ID': 26,\n",
              "   'Type': 'R',\n",
              "   'Type~Def': 'HALT',\n",
              "   'Easting': 277353,\n",
              "   'Northing': 435978},\n",
              "  'geometry': {'type': 'Point',\n",
              "   'coordinates': [-6.787081764431487, 55.16488638924967]}},\n",
              " 'BELLARENA RAIL HALT': {'type': 'Feature',\n",
              "  'properties': {'Station': 'BELLARENA RAIL HALT',\n",
              "   'ID': 23,\n",
              "   'Type': 'R',\n",
              "   'Type~Def': 'HALT',\n",
              "   'Easting': 266870,\n",
              "   'Northing': 431503},\n",
              "  'geometry': {'type': 'Point',\n",
              "   'coordinates': [-6.952580703237029, 55.126228918920205]}},\n",
              " 'PORTRUSH DHU VARREN RAIL HALT': {'type': 'Feature',\n",
              "  'properties': {'Station': 'PORTRUSH DHU VARREN RAIL HALT',\n",
              "   'ID': 73,\n",
              "   'Type': 'R',\n",
              "   'Type~Def': 'HALT',\n",
              "   'Easting': 285302,\n",
              "   'Northing': 439608},\n",
              "  'geometry': {'type': 'Point',\n",
              "   'coordinates': [-6.661291117864922, 55.1961791756512]}}}"
            ]
          },
          "metadata": {},
          "execution_count": 56
        }
      ],
      "source": [
        "with open('halts.geojson', 'r') as halts_f:\n",
        "    halts_geojson = json.load(halts_f)\n",
        "\n",
        "halts_dictionary = {h['properties']['Station']: h for h in halts_geojson['features']}\n",
        "\n",
        "halts_dictionary if halts_dictionary['BELFAST - ADELAIDE RAIL HALT'] != [-5.955437428473338, 54.57871560269907] else \"🥳\""
      ]
    },
    {
      "cell_type": "code",
      "source": [],
      "metadata": {
        "id": "yy6PQtwM_gns"
      },
      "execution_count": null,
      "outputs": []
    },
    {
      "cell_type": "code",
      "source": [
        "with open('halts.geojson', 'r') as halts_f:\n",
        "    halts_geojson = json.load(halts_f)\n",
        "\n",
        "halts_dictionary = {h['properties']['Station']: h['geometry']['coordinates'] for h in halts_geojson['features']}\n"
      ],
      "metadata": {
        "id": "tj33uHEb-y8K"
      },
      "execution_count": null,
      "outputs": []
    },
    {
      "cell_type": "code",
      "source": [
        "halts_dictionary"
      ],
      "metadata": {
        "colab": {
          "base_uri": "https://localhost:8080/"
        },
        "id": "QwSVV0d0Av_6",
        "outputId": "6bf0d631-70c7-4263-a7a5-91d0cf87606c"
      },
      "execution_count": null,
      "outputs": [
        {
          "output_type": "execute_result",
          "data": {
            "text/plain": [
              "{'BELFAST - ADELAIDE RAIL HALT': [-5.955437428473338, 54.57871560269907],\n",
              " 'BELFAST - CITY HOSPITAL RAIL HALT': [-5.940299027187508, 54.58877579877649],\n",
              " 'BELFAST - BALMORAL RAIL HALT': [-5.968279586557941, 54.56885673674175],\n",
              " 'BELFAST - BRIDGE END RAIL HALT': [-5.906524410655043, 54.60187224278238],\n",
              " 'BELFAST - SYDENHAM RAIL HALT': [-5.886439028702296, 54.60553772015698],\n",
              " 'DUNMURRY RAIL HALT': [-6.003165502028699, 54.55335836004234],\n",
              " 'DERRIAGHY RAIL HALT': [-6.018112962940367, 54.54183702611459],\n",
              " 'FINAGHY RAIL HALT': [-5.986779356476255, 54.563799283087],\n",
              " 'LAMBEG RAIL HALT': [-6.029546191531564, 54.52974232371766],\n",
              " 'HILDEN RAIL HALT': [-6.029356397826791, 54.52232479553542],\n",
              " 'WHITEABBEY RAIL HALT': [-5.904456204174812, 54.672354744865736],\n",
              " 'TROOPERSLANE RAIL HALT': [-5.848758254028238, 54.710502995359896],\n",
              " 'DOWNSHIRE RAIL HALT': [-5.789883927272109, 54.72111676355771],\n",
              " 'CLIPPERSTOWN RAIL HALT': [-5.816523431014697, 54.71743651749125],\n",
              " 'WHITEHEAD RAIL HALT': [-5.709686802660552, 54.75281108416051],\n",
              " 'BALLYCARRY RAIL HALT': [-5.725569853106984, 54.776620152748315],\n",
              " 'MAGHERAMORNE RAIL HALT': [-5.76684603747889, 54.815590324119114],\n",
              " 'GLYNN RAIL HALT': [-5.807066008648389, 54.8272213298175],\n",
              " 'HOLLYWOOD RAIL HALT': [-5.839023645243199, 54.641331866551724],\n",
              " 'MARINO RAIL HALT': [-5.818046003780471, 54.64678186694097],\n",
              " 'CULTRA RAIL HALT': [-5.805171541005157, 54.65239160352423],\n",
              " 'SEAHILL RAIL HALT': [-5.76832556680846, 54.660675297739246],\n",
              " \"HELEN'S BAY RAIL HALT\": [-5.74129186336661, 54.666474159114266],\n",
              " 'CARNALEA RAIL HALT': [-5.706005307640937, 54.66598413483226],\n",
              " 'BANGOR WEST RAIL HALT': [-5.69304865954291, 54.65950893047023],\n",
              " 'KNOCKMORE RAIL HALT': [-6.067763364779338, 54.51131585450469],\n",
              " 'MOIRA RAIL HALT': [-6.213425221787849, 54.49216503450455],\n",
              " 'SCARVA RAIL HALT': [-6.365675428943175, 54.33221898023369],\n",
              " 'POYNTZPASS RAIL HALT': [-6.372126674457975, 54.29288659988583],\n",
              " 'MOSSLEY WEST RAIL HALT': [-5.951809965394665, 54.696775802669585],\n",
              " 'BALLINDERRY RAIL HALT': [-6.203732023398284, 54.54482634995206],\n",
              " 'GLENAVY RAIL HALT': [-6.215193541487133, 54.58863888308633],\n",
              " 'CRUMLIN RAIL HALT': [-6.211770444572919, 54.621198071561516],\n",
              " 'COLERAINE UNIVERSITY RAIL HALT': [-6.668288356437393, 55.15036812191344],\n",
              " 'CASTLEROCK RAIL HALT': [-6.787081764431487, 55.16488638924967],\n",
              " 'BELLARENA RAIL HALT': [-6.952580703237029, 55.126228918920205],\n",
              " 'PORTRUSH DHU VARREN RAIL HALT': [-6.661291117864922, 55.1961791756512]}"
            ]
          },
          "metadata": {},
          "execution_count": 64
        }
      ]
    },
    {
      "cell_type": "markdown",
      "metadata": {
        "hideCode": false,
        "hidePrompt": false,
        "id": "6zA5vudmmgg9"
      },
      "source": [
        "NB - do as I say, not as I do: don't use emoji in code... 🙄"
      ]
    },
    {
      "cell_type": "markdown",
      "metadata": {
        "hideCode": false,
        "hidePrompt": false,
        "id": "6JmnvSGGmgg9"
      },
      "source": [
        "### One Answer"
      ]
    },
    {
      "cell_type": "markdown",
      "metadata": {
        "hideCode": false,
        "hidePrompt": false,
        "id": "YbGMBSBHmgg-"
      },
      "source": [
        "### Selective hearing: conditionals in comprehensions"
      ]
    },
    {
      "cell_type": "markdown",
      "metadata": {
        "hideCode": false,
        "hidePrompt": false,
        "id": "PmSgeOzEmgg-"
      },
      "source": [
        "You can also use `if` in a comprehension:"
      ]
    },
    {
      "cell_type": "code",
      "execution_count": null,
      "metadata": {
        "hideCode": false,
        "hidePrompt": false,
        "colab": {
          "base_uri": "https://localhost:8080/"
        },
        "id": "Tdm_RXTamgg-",
        "outputId": "188bd3eb-6607-4a6e-cf23-73eda1cd18f8"
      },
      "outputs": [
        {
          "output_type": "execute_result",
          "data": {
            "text/plain": [
              "[0, 2, 4, 6, 8]"
            ]
          },
          "metadata": {},
          "execution_count": 65
        }
      ],
      "source": [
        "[x for x in range(10) if x % 2 == 0]"
      ]
    },
    {
      "cell_type": "markdown",
      "metadata": {
        "hideCode": false,
        "hidePrompt": false,
        "id": "r9Q3mJGBmgg-"
      },
      "source": [
        "This is also true for dictionary comprehensions:"
      ]
    },
    {
      "cell_type": "code",
      "execution_count": null,
      "metadata": {
        "hideCode": false,
        "hidePrompt": false,
        "colab": {
          "base_uri": "https://localhost:8080/"
        },
        "id": "V-rBqaZnmgg-",
        "outputId": "11a6edd8-a737-45d9-c79f-80c5bae18d28"
      },
      "outputs": [
        {
          "output_type": "execute_result",
          "data": {
            "text/plain": [
              "{'key0': 'value0',\n",
              " 'key2': 'value2',\n",
              " 'key4': 'value4',\n",
              " 'key6': 'value6',\n",
              " 'key8': 'value8'}"
            ]
          },
          "metadata": {},
          "execution_count": 66
        }
      ],
      "source": [
        "{f'key{n}': f'value{n}' for n in range(10) if n % 2 == 0}"
      ]
    },
    {
      "cell_type": "markdown",
      "metadata": {
        "hideCode": false,
        "hidePrompt": false,
        "id": "F1biu6Vrmgg_"
      },
      "source": [
        "These can be especially useful when combined with lambdas, or short multiline functions."
      ]
    },
    {
      "cell_type": "code",
      "execution_count": null,
      "metadata": {
        "hideCode": false,
        "hidePrompt": false,
        "colab": {
          "base_uri": "https://localhost:8080/"
        },
        "id": "D_3plMHymgg_",
        "outputId": "50f5ed9d-4452-4f51-e018-355f430da87d"
      },
      "outputs": [
        {
          "output_type": "execute_result",
          "data": {
            "text/plain": [
              "{'Adelaide': [-5.955437428473338, 54.57871560269907],\n",
              " 'City Hospital': [-5.940299027187508, 54.58877579877649],\n",
              " 'Balmoral': [-5.968279586557941, 54.56885673674175],\n",
              " 'Bridge End': [-5.906524410655043, 54.60187224278238],\n",
              " 'Sydenham': [-5.886439028702296, 54.60553772015698],\n",
              " 'Dunmurry': [-6.003165502028699, 54.55335836004234],\n",
              " 'Derriaghy': [-6.018112962940367, 54.54183702611459],\n",
              " 'Finaghy': [-5.986779356476255, 54.563799283087],\n",
              " 'Lambeg': [-6.029546191531564, 54.52974232371766],\n",
              " 'Hilden': [-6.029356397826791, 54.52232479553542],\n",
              " 'Whiteabbey': [-5.904456204174812, 54.672354744865736],\n",
              " 'Trooperslane': [-5.848758254028238, 54.710502995359896],\n",
              " 'Downshire': [-5.789883927272109, 54.72111676355771],\n",
              " 'Clipperstown': [-5.816523431014697, 54.71743651749125],\n",
              " 'Whitehead': [-5.709686802660552, 54.75281108416051],\n",
              " 'Ballycarry': [-5.725569853106984, 54.776620152748315],\n",
              " 'Magheramorne': [-5.76684603747889, 54.815590324119114],\n",
              " 'Glynn': [-5.807066008648389, 54.8272213298175],\n",
              " 'Hollywood': [-5.839023645243199, 54.641331866551724],\n",
              " 'Marino': [-5.818046003780471, 54.64678186694097],\n",
              " 'Cultra': [-5.805171541005157, 54.65239160352423],\n",
              " 'Seahill': [-5.76832556680846, 54.660675297739246],\n",
              " \"Helen's Bay\": [-5.74129186336661, 54.666474159114266],\n",
              " 'Carnalea': [-5.706005307640937, 54.66598413483226],\n",
              " 'Bangor West': [-5.69304865954291, 54.65950893047023],\n",
              " 'Knockmore': [-6.067763364779338, 54.51131585450469],\n",
              " 'Moira': [-6.213425221787849, 54.49216503450455],\n",
              " 'Scarva': [-6.365675428943175, 54.33221898023369],\n",
              " 'Poyntzpass': [-6.372126674457975, 54.29288659988583],\n",
              " 'Mossley West': [-5.951809965394665, 54.696775802669585],\n",
              " 'Ballinderry': [-6.203732023398284, 54.54482634995206],\n",
              " 'Glenavy': [-6.215193541487133, 54.58863888308633],\n",
              " 'Crumlin': [-6.211770444572919, 54.621198071561516],\n",
              " 'Coleraine University': [-6.668288356437393, 55.15036812191344],\n",
              " 'Castlerock': [-6.787081764431487, 55.16488638924967],\n",
              " 'Bellarena': [-6.952580703237029, 55.126228918920205],\n",
              " 'Portrush Dhu Varren': [-6.661291117864922, 55.1961791756512]}"
            ]
          },
          "metadata": {},
          "execution_count": 67
        }
      ],
      "source": [
        "import string\n",
        "\n",
        "def get_station_name(halt):\n",
        "    name = halt['properties']['Station']\n",
        "    name = name.replace('BELFAST -', '').replace('RAIL HALT', '').strip()\n",
        "    return string.capwords(name)\n",
        "\n",
        "{get_station_name(h): h['geometry']['coordinates'] for h in halts_geojson['features']}"
      ]
    },
    {
      "cell_type": "markdown",
      "metadata": {
        "hideCode": false,
        "hidePrompt": false,
        "id": "ZKexhI3Tmgg_"
      },
      "source": [
        "You might have noticed that you can effectively... map... values from one list into another using a list comprehension. You can also use `if` to... filter... them."
      ]
    },
    {
      "cell_type": "markdown",
      "metadata": {
        "hideCode": false,
        "hidePrompt": false,
        "id": "C2Q640a8mgg_"
      },
      "source": [
        "### Exercise: Three in a Row\n",
        "\n",
        "Replace the filter function and lamba in [Exercise: Three's a Crowd](#Exercise:-Three's-a-Crowd) with a single list comprehension producing the same output."
      ]
    },
    {
      "cell_type": "code",
      "execution_count": null,
      "metadata": {
        "hideCode": false,
        "hidePrompt": false,
        "id": "AGZNAmbumgg_"
      },
      "outputs": [],
      "source": []
    },
    {
      "cell_type": "markdown",
      "metadata": {
        "hideCode": false,
        "hidePrompt": false,
        "id": "X7ePa_7WmghA"
      },
      "source": [
        "### Extension Exercise: More Training\n",
        "\n",
        "Replace the map, filter and lambda in [Exercise: Calling a Halt](#Extension-Exercise:-Calling-a-Halt) with a dictionary comprehension producing the same output."
      ]
    },
    {
      "cell_type": "code",
      "execution_count": null,
      "metadata": {
        "hideCode": false,
        "hidePrompt": false,
        "id": "k_Cjb4qlmghA"
      },
      "outputs": [],
      "source": []
    },
    {
      "cell_type": "markdown",
      "metadata": {
        "hideCode": false,
        "hidePrompt": false,
        "id": "A1Fi_3QmmghA"
      },
      "source": [
        "Lets look at what those same functions could look like if we implemented them using standard if-statements, for loops and functions:"
      ]
    },
    {
      "cell_type": "code",
      "execution_count": null,
      "metadata": {
        "hideCode": false,
        "hidePrompt": false,
        "colab": {
          "base_uri": "https://localhost:8080/"
        },
        "id": "vGw1bQCZmghA",
        "outputId": "fdba5269-856a-45ae-8c14-7c06cf8f0387"
      },
      "outputs": [
        {
          "output_type": "execute_result",
          "data": {
            "text/plain": [
              "[1, 234, 129123, 15, 34, 41991, 14]"
            ]
          },
          "metadata": {},
          "execution_count": 68
        }
      ],
      "source": [
        "my_list = [1, 234, 129123, 15, 34, 41991, 14]\n",
        "new_list = []\n",
        "for n in my_list:\n",
        "    if (n % 3 > 0) and (n < 1000):\n",
        "        new_list.append(n)\n",
        "my_list"
      ]
    },
    {
      "cell_type": "code",
      "execution_count": null,
      "metadata": {
        "hideCode": false,
        "hidePrompt": false,
        "colab": {
          "base_uri": "https://localhost:8080/"
        },
        "id": "skbCT6R1mghA",
        "outputId": "1140d4be-395b-41e4-d47d-b4b1c9ae5860"
      },
      "outputs": [
        {
          "output_type": "execute_result",
          "data": {
            "text/plain": [
              "['ADELAIDE', 'BALMORAL', 'BRIDGE END', 'CITY HOSPITAL', 'SYDENHAM']"
            ]
          },
          "metadata": {},
          "execution_count": 69
        }
      ],
      "source": [
        "all_halts = halts_geojson['features']\n",
        "\n",
        "belfast_halts = []\n",
        "for feature in all_halts:\n",
        "    halt_name = feature['properties']['Station']\n",
        "    if halt_name.startswith('BELFAST'):\n",
        "        halt_name = halt_name.replace('BELFAST - ', '').replace(' RAIL HALT', '')\n",
        "        belfast_halts.append(halt_name)\n",
        "\n",
        "sorted(belfast_halts)"
      ]
    },
    {
      "cell_type": "markdown",
      "metadata": {
        "hideCode": false,
        "hidePrompt": false,
        "id": "5riIZmMymghA"
      },
      "source": [
        "Which of the three approaches (filter/map, comprehensions, explicit) do you think would be:\n",
        "\n",
        "1. easiest-to-understand if you found it in code\n",
        "2. concise\n",
        "\n",
        "for each situation? Is it the same for both exercises?"
      ]
    },
    {
      "cell_type": "markdown",
      "metadata": {
        "hideCode": false,
        "hidePrompt": false,
        "id": "jdMJiDYkmghA"
      },
      "source": [
        "Note that, for list comprehensions and dictionary comprehensions, the entire list or dictionary is generated when you define it. This is not always what you want.\n",
        "\n",
        "When we open a large file or download, sometimes we will stream it instead of reading the entire entity into memory, so that we can apply a process to each bit without running out of space. For example, when streaming a movie - historically, the entire movie would be downloaded then shown, but video-on-demand will only download enough to show the playing snippet and forget it once it has passed, never holding the entire video into memory.\n",
        "\n",
        "We can do the same pattern with lists/dictionaries (and iteration in general). These are called _generators_, which provide values on-demand, instead of generating them all up front. An example is `range`..."
      ]
    },
    {
      "cell_type": "code",
      "execution_count": null,
      "metadata": {
        "hideCode": false,
        "hidePrompt": false,
        "colab": {
          "base_uri": "https://localhost:8080/"
        },
        "id": "xb4SN-qmmghB",
        "outputId": "9977ba66-f9d0-428c-938c-747048718559"
      },
      "outputs": [
        {
          "output_type": "execute_result",
          "data": {
            "text/plain": [
              "range(0, 10000000)"
            ]
          },
          "metadata": {},
          "execution_count": 70
        }
      ],
      "source": [
        "my_range = range(10000000)\n",
        "my_range"
      ]
    },
    {
      "cell_type": "markdown",
      "metadata": {
        "hideCode": false,
        "hidePrompt": false,
        "id": "dDDv9jGfmghB"
      },
      "source": [
        "Now we can get a value from it:"
      ]
    },
    {
      "cell_type": "code",
      "execution_count": null,
      "metadata": {
        "hideCode": false,
        "hidePrompt": false,
        "colab": {
          "base_uri": "https://localhost:8080/"
        },
        "id": "PSmSN7mxmghB",
        "outputId": "85127787-9636-4003-e2ef-5147c7f45721"
      },
      "outputs": [
        {
          "output_type": "execute_result",
          "data": {
            "text/plain": [
              "15"
            ]
          },
          "metadata": {},
          "execution_count": 71
        }
      ],
      "source": [
        "my_range[15]"
      ]
    },
    {
      "cell_type": "markdown",
      "metadata": {
        "hideCode": false,
        "hidePrompt": false,
        "id": "tlQ8kpdkmghB"
      },
      "source": [
        "That was pretty instantaneous, because range only generates the first 16 entries before returning the value - that's all it needed. If we convert it to a list... (which the `list` function or a list comprehension will do)"
      ]
    },
    {
      "cell_type": "code",
      "execution_count": null,
      "metadata": {
        "hideCode": false,
        "hidePrompt": false,
        "colab": {
          "base_uri": "https://localhost:8080/"
        },
        "id": "JSiDIrvkmghB",
        "outputId": "a22a619d-f38a-4f01-d6a6-aad5c2c51167"
      },
      "outputs": [
        {
          "output_type": "execute_result",
          "data": {
            "text/plain": [
              "15"
            ]
          },
          "metadata": {},
          "execution_count": 72
        }
      ],
      "source": [
        "my_list = list(range(10000000))\n",
        "my_list[15]"
      ]
    },
    {
      "cell_type": "code",
      "execution_count": null,
      "metadata": {
        "hideCode": false,
        "hidePrompt": false,
        "colab": {
          "base_uri": "https://localhost:8080/"
        },
        "id": "4Icv7hZdmghB",
        "outputId": "4426fe26-6196-4640-ef76-b62c54a961ce"
      },
      "outputs": [
        {
          "output_type": "execute_result",
          "data": {
            "text/plain": [
              "15"
            ]
          },
          "metadata": {},
          "execution_count": 73
        }
      ],
      "source": [
        "[x for x in range(10000000)][15]"
      ]
    },
    {
      "cell_type": "markdown",
      "metadata": {
        "hideCode": false,
        "hidePrompt": false,
        "id": "c9GUKuaqmghC"
      },
      "source": [
        "...then it takes much longer, because all the values have to be created before it gets to the next line. 10000000 might seem a big number, but if you had to loop over pixels in an image, or entries in a time-series DB, it would go very quickly."
      ]
    },
    {
      "cell_type": "code",
      "execution_count": null,
      "metadata": {
        "hideCode": false,
        "hidePrompt": false,
        "colab": {
          "base_uri": "https://localhost:8080/"
        },
        "id": "EQxEMffZmghC",
        "outputId": "1a637acc-0b64-4aa3-bd97-df853b3ec8d0"
      },
      "outputs": [
        {
          "output_type": "execute_result",
          "data": {
            "text/plain": [
              "(80000056, 48)"
            ]
          },
          "metadata": {},
          "execution_count": 74
        }
      ],
      "source": [
        "import sys\n",
        "sys.getsizeof(my_list), sys.getsizeof(my_range)"
      ]
    },
    {
      "cell_type": "markdown",
      "metadata": {
        "hideCode": false,
        "hidePrompt": false,
        "id": "-gRIGZhwmghC"
      },
      "source": [
        "Even more so, you can see the relative memory footprints of each variable. You can create your own generators, using functions with the `yield` built-in, or, alternatively, by using an identical syntax to list comprehensions (except with parentheses rather than brackets).\n",
        "\n",
        "As well as saving memory and time, streams and generators, as a pattern, can let you make condition decisions about how many elements you want to loop through, or even define infinite iterables - for example, for-looping through all the prime numbers until you find one matching a pattern."
      ]
    },
    {
      "cell_type": "markdown",
      "metadata": {
        "hideCode": false,
        "hidePrompt": false,
        "id": "7ywZBhuFmghC"
      },
      "source": [
        "### Extension Exercise: Optimal Prime\n",
        "\n",
        "One to come back to if you have finished other exercises and have some time.\n",
        "\n",
        "When you call a generator, it will carry on until it hits the first `yield` and return that value. When you request the next, it will carry on _from that yield_ until the next time it hits a yield, and return that value. It keeps returning values as requested until the function exits. Below, we use `primes` to generate a primes - as the function has a `while True` it will never exit, and will keep generating bigger and bigger primes as long as we keep asking for them."
      ]
    },
    {
      "cell_type": "code",
      "execution_count": null,
      "metadata": {
        "hideCode": false,
        "hidePrompt": false,
        "id": "uuxAqE5xmghC"
      },
      "outputs": [],
      "source": [
        "# Fix this, to tell us if n is prime\n",
        "def is_prime(n):\n",
        "    if n % 2 == 1:\n",
        "        return True\n",
        "\n",
        "# This is a home-brewed generator\n",
        "def primes():\n",
        "    n = 2\n",
        "    while True:\n",
        "        if is_prime(n):\n",
        "            yield n\n",
        "        n = n + 1"
      ]
    },
    {
      "cell_type": "code",
      "execution_count": null,
      "metadata": {
        "hideCode": false,
        "hidePrompt": false,
        "colab": {
          "base_uri": "https://localhost:8080/"
        },
        "id": "s0wLWTtAmghC",
        "outputId": "3915bc56-95bf-4eb5-eb05-0d5fa410bd93"
      },
      "outputs": [
        {
          "output_type": "stream",
          "name": "stdout",
          "text": [
            "3\n",
            "5\n",
            "7\n",
            "9\n",
            "11\n",
            "13\n",
            "15\n",
            "17\n",
            "19\n",
            "21\n",
            "23\n",
            "25\n",
            "27\n",
            "29\n",
            "31\n",
            "33\n",
            "35\n",
            "37\n",
            "39\n",
            "41\n",
            "43\n",
            "45\n",
            "47\n",
            "49\n",
            "51\n",
            "53\n",
            "55\n",
            "57\n",
            "59\n",
            "61\n",
            "63\n",
            "65\n",
            "67\n",
            "69\n",
            "71\n",
            "73\n",
            "75\n",
            "77\n",
            "79\n",
            "81\n",
            "83\n",
            "85\n",
            "87\n",
            "89\n",
            "91\n",
            "93\n",
            "95\n",
            "97\n",
            "99\n",
            "101\n",
            "103\n",
            "105\n",
            "107\n",
            "109\n",
            "111\n",
            "113\n",
            "115\n",
            "117\n",
            "119\n",
            "121\n",
            "123\n",
            "125\n",
            "127\n",
            "129\n",
            "131\n",
            "133\n",
            "135\n",
            "137\n",
            "139\n",
            "141\n",
            "143\n",
            "145\n",
            "147\n",
            "149\n",
            "151\n",
            "153\n",
            "155\n",
            "157\n",
            "159\n",
            "161\n",
            "163\n",
            "165\n",
            "167\n",
            "169\n",
            "171\n",
            "173\n",
            "175\n",
            "177\n",
            "179\n",
            "181\n",
            "183\n",
            "185\n",
            "187\n",
            "189\n",
            "191\n",
            "193\n",
            "195\n",
            "197\n",
            "199\n",
            "201\n",
            "203\n",
            "205\n",
            "207\n",
            "209\n",
            "211\n",
            "213\n",
            "215\n",
            "217\n",
            "219\n",
            "221\n",
            "223\n",
            "225\n",
            "227\n",
            "229\n",
            "231\n",
            "233\n",
            "235\n",
            "237\n",
            "239\n",
            "241\n",
            "243\n",
            "245\n",
            "247\n",
            "249\n",
            "251\n",
            "253\n",
            "255\n",
            "257\n",
            "259\n",
            "261\n",
            "263\n",
            "265\n",
            "267\n",
            "269\n",
            "271\n",
            "273\n",
            "275\n",
            "277\n",
            "279\n",
            "281\n",
            "283\n",
            "285\n",
            "287\n",
            "289\n",
            "291\n",
            "293\n",
            "295\n",
            "297\n",
            "299\n",
            "301\n",
            "303\n",
            "305\n",
            "307\n",
            "309\n",
            "311\n",
            "313\n",
            "315\n",
            "317\n",
            "319\n",
            "321\n",
            "323\n",
            "325\n",
            "327\n",
            "329\n",
            "331\n",
            "333\n",
            "335\n",
            "337\n",
            "339\n",
            "341\n",
            "343\n",
            "345\n",
            "347\n",
            "349\n",
            "351\n",
            "353\n",
            "355\n",
            "357\n",
            "359\n",
            "361\n",
            "363\n",
            "365\n",
            "367\n",
            "369\n",
            "371\n",
            "373\n",
            "375\n",
            "377\n",
            "379\n",
            "381\n",
            "383\n",
            "385\n",
            "387\n",
            "389\n",
            "391\n",
            "393\n",
            "395\n",
            "397\n",
            "399\n",
            "401\n",
            "403\n",
            "405\n",
            "407\n",
            "409\n",
            "411\n",
            "413\n",
            "415\n",
            "417\n",
            "419\n",
            "421\n",
            "423\n",
            "425\n",
            "427\n",
            "429\n",
            "431\n",
            "433\n",
            "435\n",
            "437\n",
            "439\n",
            "441\n",
            "443\n",
            "445\n",
            "447\n",
            "449\n",
            "451\n",
            "453\n",
            "455\n",
            "457\n",
            "459\n",
            "461\n",
            "463\n",
            "465\n",
            "467\n",
            "469\n",
            "471\n",
            "473\n",
            "475\n",
            "477\n",
            "479\n",
            "481\n",
            "483\n",
            "485\n",
            "487\n",
            "489\n",
            "491\n",
            "493\n",
            "495\n",
            "497\n",
            "499\n",
            "501\n",
            "503\n",
            "505\n",
            "507\n",
            "509\n",
            "511\n",
            "513\n",
            "515\n",
            "517\n",
            "519\n",
            "521\n",
            "523\n",
            "525\n",
            "527\n",
            "529\n",
            "531\n",
            "533\n",
            "535\n",
            "537\n",
            "539\n",
            "541\n",
            "543\n",
            "545\n",
            "547\n",
            "549\n",
            "551\n",
            "553\n",
            "555\n",
            "557\n",
            "559\n",
            "561\n",
            "563\n",
            "565\n",
            "567\n",
            "569\n",
            "571\n",
            "573\n",
            "575\n",
            "577\n",
            "579\n",
            "581\n",
            "583\n",
            "585\n",
            "587\n",
            "589\n",
            "591\n",
            "593\n",
            "595\n",
            "597\n",
            "599\n",
            "601\n",
            "603\n",
            "605\n",
            "607\n",
            "609\n",
            "611\n",
            "613\n",
            "615\n",
            "617\n",
            "619\n",
            "621\n",
            "623\n",
            "625\n",
            "627\n",
            "629\n",
            "631\n",
            "633\n",
            "635\n",
            "637\n",
            "639\n",
            "641\n",
            "643\n",
            "645\n",
            "647\n",
            "649\n",
            "651\n",
            "653\n",
            "655\n",
            "657\n",
            "659\n",
            "661\n",
            "663\n",
            "665\n",
            "667\n",
            "669\n",
            "671\n",
            "673\n",
            "675\n",
            "677\n",
            "679\n",
            "681\n",
            "683\n",
            "685\n",
            "687\n",
            "689\n",
            "691\n",
            "693\n",
            "695\n",
            "697\n",
            "699\n",
            "701\n",
            "703\n",
            "705\n",
            "707\n",
            "709\n",
            "711\n",
            "713\n",
            "715\n",
            "717\n",
            "719\n",
            "721\n",
            "723\n",
            "725\n",
            "727\n",
            "729\n",
            "731\n",
            "733\n",
            "735\n",
            "737\n",
            "739\n",
            "741\n",
            "743\n",
            "745\n",
            "747\n",
            "749\n",
            "751\n",
            "753\n",
            "755\n",
            "757\n",
            "759\n",
            "761\n",
            "763\n",
            "765\n",
            "767\n",
            "769\n",
            "771\n",
            "773\n",
            "775\n",
            "777\n",
            "779\n",
            "781\n",
            "783\n",
            "785\n",
            "787\n",
            "789\n",
            "791\n",
            "793\n",
            "795\n",
            "797\n",
            "799\n",
            "801\n",
            "803\n",
            "805\n",
            "807\n",
            "809\n",
            "811\n",
            "813\n",
            "815\n",
            "817\n",
            "819\n",
            "821\n",
            "823\n",
            "825\n",
            "827\n",
            "829\n",
            "831\n",
            "833\n",
            "835\n",
            "837\n",
            "839\n",
            "841\n",
            "843\n",
            "845\n",
            "847\n",
            "849\n",
            "851\n",
            "853\n",
            "855\n",
            "857\n",
            "859\n",
            "861\n",
            "863\n",
            "865\n",
            "867\n",
            "869\n",
            "871\n",
            "873\n",
            "875\n",
            "877\n",
            "879\n",
            "881\n",
            "883\n",
            "885\n",
            "887\n",
            "889\n",
            "891\n",
            "893\n",
            "895\n",
            "897\n",
            "899\n",
            "901\n",
            "903\n",
            "905\n",
            "907\n",
            "909\n",
            "911\n",
            "913\n",
            "915\n",
            "917\n",
            "919\n",
            "921\n",
            "923\n",
            "925\n",
            "927\n",
            "929\n",
            "931\n",
            "933\n",
            "935\n",
            "937\n",
            "939\n",
            "941\n",
            "943\n",
            "945\n",
            "947\n",
            "949\n",
            "951\n",
            "953\n",
            "955\n",
            "957\n",
            "959\n",
            "961\n",
            "963\n",
            "965\n",
            "967\n",
            "969\n",
            "971\n",
            "973\n",
            "975\n",
            "977\n",
            "979\n",
            "981\n",
            "983\n",
            "985\n",
            "987\n",
            "989\n",
            "991\n",
            "993\n",
            "995\n",
            "997\n",
            "999\n"
          ]
        }
      ],
      "source": [
        "# Print all the primes below 1000\n",
        "for prime in primes():\n",
        "    if prime > 1000:\n",
        "        break\n",
        "    print(prime)"
      ]
    },
    {
      "cell_type": "markdown",
      "metadata": {
        "id": "M6FZIVCamghD"
      },
      "source": [
        "# Decorators"
      ]
    },
    {
      "cell_type": "markdown",
      "metadata": {
        "id": "1F1E4Q7BmghD"
      },
      "source": [
        "Decorators will be explored more as time permits, but to help you recognise them as we move through, a brief explanation: these are brief annotations directly above `def` (for functions and methods). They tell Python to wrap the function/method with a function-of-a-function. In another phrasing, a decorator takes a function and soups it up. This looks like:\n",
        "\n",
        "```python\n",
        "@mydecorator\n",
        "def afunction():\n",
        "  ...\n",
        "```  \n",
        "\n",
        "In this case `mydecorator` will somehow modify the function's attributes or effects - examples are `@coroutine` for marking a function as async, `@staticmethod` for marking a class's method as static, and `@timer` for timing a function when it is called. You can even make your own - decorators are usually functions with a function as an argument, so you know all the syntax you need. It might look something like this:"
      ]
    },
    {
      "cell_type": "code",
      "execution_count": null,
      "metadata": {
        "id": "5EH0Rz-PmghD"
      },
      "outputs": [],
      "source": [
        "def val2string(f):\n",
        "    def modified_f(val1, val2):\n",
        "        normal_result = f(val1, val2)\n",
        "        return str(normal_result)\n",
        "    return modified_f"
      ]
    },
    {
      "cell_type": "markdown",
      "metadata": {
        "id": "MnasciPVmghD"
      },
      "source": [
        "The above creates a new function called `modified_f` (note that function definitions can live anywhere, including in a function, just like any other variable definition). It is a two-argument function, which returns the stringified version of the original function, called with the same arguments. For instance:"
      ]
    },
    {
      "cell_type": "code",
      "execution_count": null,
      "metadata": {
        "colab": {
          "base_uri": "https://localhost:8080/",
          "height": 35
        },
        "id": "nEi5KVTXmghE",
        "outputId": "c05bca16-61e6-4958-a7f0-482bcf551ea6"
      },
      "outputs": [
        {
          "output_type": "execute_result",
          "data": {
            "text/plain": [
              "'4'"
            ],
            "application/vnd.google.colaboratory.intrinsic+json": {
              "type": "string"
            }
          },
          "metadata": {},
          "execution_count": 79
        }
      ],
      "source": [
        "@val2string\n",
        "def add(a, b):\n",
        "    return a + b\n",
        "\n",
        "@val2string\n",
        "def mul(a, b):\n",
        "    return a * b\n",
        "add(1, 3)"
      ]
    },
    {
      "cell_type": "code",
      "execution_count": null,
      "metadata": {
        "colab": {
          "base_uri": "https://localhost:8080/",
          "height": 35
        },
        "id": "apCjTMiHmghE",
        "outputId": "4d7daf77-83c2-4913-96e7-84ba3d8a3810"
      },
      "outputs": [
        {
          "output_type": "execute_result",
          "data": {
            "text/plain": [
              "\"['this', 'that']\""
            ],
            "application/vnd.google.colaboratory.intrinsic+json": {
              "type": "string"
            }
          },
          "metadata": {},
          "execution_count": 80
        }
      ],
      "source": [
        "add(['this'], ['that'])"
      ]
    },
    {
      "cell_type": "code",
      "execution_count": null,
      "metadata": {
        "colab": {
          "base_uri": "https://localhost:8080/",
          "height": 35
        },
        "id": "LuHuw-gMmghE",
        "outputId": "8d38c479-8ce3-45df-8fee-a309957aca10"
      },
      "outputs": [
        {
          "output_type": "execute_result",
          "data": {
            "text/plain": [
              "'12'"
            ],
            "application/vnd.google.colaboratory.intrinsic+json": {
              "type": "string"
            }
          },
          "metadata": {},
          "execution_count": 81
        }
      ],
      "source": [
        "mul(6, 2)"
      ]
    },
    {
      "cell_type": "markdown",
      "metadata": {
        "hideCode": false,
        "hidePrompt": false,
        "id": "K4bZklrvmghE"
      },
      "source": [
        "# Wrap-up\n",
        "\n",
        "This has covered (briefly):"
      ]
    },
    {
      "cell_type": "markdown",
      "metadata": {
        "hideCode": false,
        "hidePrompt": false,
        "id": "BQWs8uACmghE"
      },
      "source": [
        "* classes"
      ]
    },
    {
      "cell_type": "markdown",
      "metadata": {
        "hideCode": false,
        "hidePrompt": false,
        "id": "VrP16NH4mghE"
      },
      "source": [
        "* exceptions"
      ]
    },
    {
      "cell_type": "markdown",
      "metadata": {
        "hideCode": false,
        "hidePrompt": false,
        "id": "clzYhjLvmghE"
      },
      "source": [
        "* lambdas"
      ]
    },
    {
      "cell_type": "markdown",
      "metadata": {
        "hideCode": false,
        "hidePrompt": false,
        "id": "GBQcg5aUmghF"
      },
      "source": [
        "* comprehensions"
      ]
    },
    {
      "cell_type": "markdown",
      "metadata": {
        "hideCode": false,
        "hidePrompt": false,
        "id": "w41Z4zeqmghF"
      },
      "source": [
        "# PS: an introduction to objects..."
      ]
    },
    {
      "cell_type": "markdown",
      "metadata": {
        "hideCode": false,
        "hidePrompt": false,
        "id": "mANZJuLKmghF"
      },
      "source": [
        "# Objects"
      ]
    },
    {
      "cell_type": "markdown",
      "metadata": {
        "hideCode": false,
        "hidePrompt": false,
        "id": "o4zeuWEpmghF"
      },
      "source": [
        "## Totally class"
      ]
    },
    {
      "cell_type": "markdown",
      "metadata": {
        "hideCode": false,
        "hidePrompt": false,
        "id": "9KLK-OsXmghF"
      },
      "source": [
        "If you haven't done object oriented coding before, I am afraid I am not going to give you the magic bullet now. It is an important concept to get to grips with, but for the moment, we will keep it fairly functional. Do take time to look through it later - Python is an excellent language for playing around with it and getting an intuition for what an object is. A number of you will be very familiar with this so please bear with me and the very rough introductory description I will give - for those who are not so familiar, this is worth getting the basics down early.\n",
        "\n",
        "In real life, everything has properties, and many things have things they can do. In Python these properties are called attributes and the things an object can do are called methods. Together these are called members and, in Python, are accessed by putting a dot after the object and the attribute or method name. Everything else is just like any other variable or function, respectively.\n",
        "\n",
        "For instance, my dog Freddie has properties - he has a colour, which is black (technically, he is imaginary, but in my head he is definitely black). In Python terms, this would be:"
      ]
    },
    {
      "cell_type": "markdown",
      "metadata": {
        "hideCode": false,
        "hidePrompt": false,
        "id": "26kRoZR0mghF"
      },
      "source": [
        "**Attribute**: `freddie.colour = black`"
      ]
    },
    {
      "cell_type": "markdown",
      "metadata": {
        "hideCode": false,
        "hidePrompt": false,
        "id": "sVg2jSfRmghG"
      },
      "source": [
        "I can tell Freddie to roll-over. When I do so, I am, in some sense, calling Freddie's method:"
      ]
    },
    {
      "cell_type": "markdown",
      "metadata": {
        "hideCode": false,
        "hidePrompt": false,
        "id": "QAjMIGRsmghG"
      },
      "source": [
        "**Method**: `freddie.roll_over()`"
      ]
    },
    {
      "cell_type": "markdown",
      "metadata": {
        "hideCode": false,
        "hidePrompt": false,
        "id": "SYIMWHXRmghG"
      },
      "source": [
        "I have another dog, Nitwit. Nitwit can also roll over..."
      ]
    },
    {
      "cell_type": "markdown",
      "metadata": {
        "hideCode": false,
        "hidePrompt": false,
        "id": "LYQYLLeemghG"
      },
      "source": [
        "**Method**: `nitwit.roll_over()`"
      ]
    },
    {
      "cell_type": "markdown",
      "metadata": {
        "hideCode": false,
        "hidePrompt": false,
        "id": "g3Pb4BrGmghH"
      },
      "source": [
        "Both dogs can shake hands, but I need to tell them which paw..."
      ]
    },
    {
      "cell_type": "markdown",
      "metadata": {
        "hideCode": false,
        "hidePrompt": false,
        "id": "ggLTRn9XmghH"
      },
      "source": [
        "**Method**: `freddie.shake_paw('left')`"
      ]
    },
    {
      "cell_type": "markdown",
      "metadata": {
        "hideCode": false,
        "hidePrompt": false,
        "id": "MKnZbiFnmghH"
      },
      "source": [
        "At this point, you're probably wondering what exactly *is* the set of attributes and methods that my dogs have? This template, showing what attributes and methods a dog of mine can be expected to have, is called a class."
      ]
    },
    {
      "cell_type": "markdown",
      "metadata": {
        "hideCode": false,
        "hidePrompt": false,
        "id": "JkQsSIm-mghH"
      },
      "source": [
        "# A simple class"
      ]
    },
    {
      "cell_type": "code",
      "execution_count": null,
      "metadata": {
        "hideCode": false,
        "hidePrompt": false,
        "id": "gQMb_aI5mghH"
      },
      "outputs": [],
      "source": [
        "class PhilsDog:\n",
        "    name = \"\"\n",
        "    colour = \"\"\n",
        "    def shake_paw(self, side):\n",
        "        print(\"My name is\", self.name, \"and I am shaking my\", side, \"paw like a good dog\")"
      ]
    },
    {
      "cell_type": "markdown",
      "metadata": {
        "hideCode": false,
        "hidePrompt": false,
        "id": "rB0KOcnOmghH"
      },
      "source": [
        "Here we create a class called `PhilsDog` that all of my dogs *implement* (that is, they are of that type). It indicates that they will have a colour and that they have a method called `shake_paw`. Think of this from the perspective of the dog - the first argument, `self`, is a little Python magic that refers to the dog itself. This lets the dog use it's name and colour (and any other methods) in the `shake_paw` method. The second argument is which paw I told my dog to shake. In response, any dog of mine says \"Shaking left/right paw like a good dog\". That's quite impressive, but I'd rather they just learned to zip it and actually shake their paws instead."
      ]
    },
    {
      "cell_type": "markdown",
      "metadata": {
        "hideCode": false,
        "hidePrompt": false,
        "id": "YIhCWc5hmghI"
      },
      "source": [
        "Now, that's just the template for one of my dogs, so how do I use it?"
      ]
    },
    {
      "cell_type": "code",
      "execution_count": null,
      "metadata": {
        "hideCode": false,
        "hidePrompt": false,
        "colab": {
          "base_uri": "https://localhost:8080/"
        },
        "id": "nm_jj6UHmghI",
        "outputId": "4a0a86c0-f9b8-45b2-e4b0-ab82dfe10f78"
      },
      "outputs": [
        {
          "output_type": "stream",
          "name": "stdout",
          "text": [
            "Freddie is black while Nitwit is brown\n"
          ]
        }
      ],
      "source": [
        "freddie = PhilsDog()\n",
        "freddie.name = \"Freddie\"\n",
        "freddie.colour = \"black\"\n",
        "\n",
        "nitwit = PhilsDog()\n",
        "nitwit.name = \"Nitwit\"\n",
        "nitwit.colour = \"brown\"\n",
        "\n",
        "print(\"Freddie is\", freddie.colour, \"while Nitwit is\", nitwit.colour)"
      ]
    },
    {
      "cell_type": "markdown",
      "metadata": {
        "hideCode": false,
        "hidePrompt": false,
        "id": "YedSbk1XmghI"
      },
      "source": [
        "I call the class like a function. This creates a new PhilsDog object - in computing terminology, I **instantiate** the class, creating a new **instance** of PhilsDog. Freddie is an instance of PhilsDog and so is Nitwit. But PhilsDog is just a template - as you can see, both Freddie and Nitwit have their own colour and name. I can update these just as any variable, and Freddie's doesn't affect Nitwit's, and I can read both back out again."
      ]
    },
    {
      "cell_type": "code",
      "execution_count": null,
      "metadata": {
        "hideCode": false,
        "hidePrompt": false,
        "colab": {
          "base_uri": "https://localhost:8080/"
        },
        "id": "lQYq_xnDmghI",
        "outputId": "d920d441-fec1-4eb4-9b4a-840b0d06a219"
      },
      "outputs": [
        {
          "output_type": "stream",
          "name": "stdout",
          "text": [
            "My name is Freddie and I am shaking my left paw like a good dog\n",
            "My name is Nitwit and I am shaking my right paw like a good dog\n"
          ]
        }
      ],
      "source": [
        "freddie.shake_paw('left')\n",
        "nitwit.shake_paw('right')"
      ]
    },
    {
      "cell_type": "markdown",
      "metadata": {
        "hideCode": false,
        "hidePrompt": false,
        "id": "qiz0EQjAmghI"
      },
      "source": [
        "Good dogs. Here we see the `shake_paw` method being called for each dog and with a different `side` parameter. To remind you, the body of the method was:\n",
        "\n",
        "```python\n",
        "    def shake_paw(self, side):\n",
        "        print(\"My name is\", self.name, \"and I am shaking my\", side, \"paw like a good dog\")\n",
        "```"
      ]
    },
    {
      "cell_type": "markdown",
      "metadata": {
        "hideCode": false,
        "hidePrompt": false,
        "id": "4BEKPC4jmghI"
      },
      "source": [
        "You can see how the `self.name` matches the name I gave each dog on the previous slide.\n",
        "\n",
        "If that was familiar to you, then that was probably a very unexciting few minutes - if not, it's probably come and gone very quickly. Thankfully, we only need to know that, if we have an object, we can get its attributes and methods by adding a dot and the attribute/method name.\n",
        "\n",
        "Now why is that important..."
      ]
    },
    {
      "cell_type": "markdown",
      "metadata": {
        "hideCode": false,
        "hidePrompt": false,
        "id": "YWp2ZyYUmghI"
      },
      "source": [
        "# In Python\n",
        "## Everything is an object (nearly)"
      ]
    },
    {
      "cell_type": "code",
      "execution_count": null,
      "metadata": {
        "hideCode": false,
        "hidePrompt": false,
        "colab": {
          "base_uri": "https://localhost:8080/",
          "height": 35
        },
        "id": "k4iPjltLmghJ",
        "outputId": "5a108b8f-7cf2-4203-e298-2dfd16c58281"
      },
      "outputs": [
        {
          "output_type": "execute_result",
          "data": {
            "text/plain": [
              "'JUST A NORMAL STRING'"
            ],
            "application/vnd.google.colaboratory.intrinsic+json": {
              "type": "string"
            }
          },
          "metadata": {},
          "execution_count": 87
        }
      ],
      "source": [
        "\"just a normal string\".upper()"
      ]
    },
    {
      "cell_type": "code",
      "execution_count": null,
      "metadata": {
        "hideCode": false,
        "hidePrompt": false,
        "colab": {
          "base_uri": "https://localhost:8080/"
        },
        "id": "tGzv0XgDmghJ",
        "outputId": "9e8a098d-cd0f-4b5f-8fea-f309a1747f15"
      },
      "outputs": [
        {
          "output_type": "execute_result",
          "data": {
            "text/plain": [
              "False"
            ]
          },
          "metadata": {},
          "execution_count": 88
        }
      ],
      "source": [
        "\"Another string\".islower()"
      ]
    },
    {
      "cell_type": "markdown",
      "metadata": {
        "hideCode": false,
        "hidePrompt": false,
        "id": "00rJn4nbmghJ"
      },
      "source": [
        "# Two useful tools"
      ]
    },
    {
      "cell_type": "code",
      "execution_count": null,
      "metadata": {
        "hideCode": false,
        "hidePrompt": false,
        "scrolled": true,
        "colab": {
          "base_uri": "https://localhost:8080/"
        },
        "id": "Tnq2MjLTmghJ",
        "outputId": "a44b753a-6061-4a74-cd41-c274c64895b2"
      },
      "outputs": [
        {
          "output_type": "execute_result",
          "data": {
            "text/plain": [
              "__main__.PhilsDog"
            ]
          },
          "metadata": {},
          "execution_count": 89
        }
      ],
      "source": [
        "type(freddie)"
      ]
    },
    {
      "cell_type": "markdown",
      "metadata": {
        "hideCode": false,
        "hidePrompt": false,
        "id": "WoyxppLimghJ"
      },
      "source": [
        "\"`type`\" lets you examine what class an object is. Don't worry about that `__main__` just for the moment."
      ]
    },
    {
      "cell_type": "code",
      "execution_count": null,
      "metadata": {
        "hideCode": false,
        "hidePrompt": false,
        "colab": {
          "base_uri": "https://localhost:8080/"
        },
        "id": "4USWiy2RmghJ",
        "outputId": "80be3fa5-4f82-432a-c167-a1ce992d6d88"
      },
      "outputs": [
        {
          "output_type": "execute_result",
          "data": {
            "text/plain": [
              "['colour', 'name', 'shake_paw']"
            ]
          },
          "metadata": {},
          "execution_count": 90
        }
      ],
      "source": [
        "dir(freddie)[-3:]"
      ]
    },
    {
      "cell_type": "markdown",
      "metadata": {
        "hideCode": false,
        "hidePrompt": false,
        "id": "PGk4dRo3mghJ"
      },
      "source": [
        "This is a list of all the members of `freddie`. If he hasn't had any added on the fly (which is possible in Python), this is the same as the members of the `PhilsDog` class. That syntax in the brackets is coming up in a couple of slides, but basically it means, the last three items. Python denotes somewhat magic functions with double-underscores on either side (they are all the previous items I'm hiding away) - there is good reason for these being here, but they aren't essential just now. Try removing the bit in brackets, including the brackets, to see what you get."
      ]
    }
  ],
  "metadata": {
    "hide_code_all_hidden": false,
    "kernelspec": {
      "display_name": "Python 3",
      "language": "python",
      "name": "python3"
    },
    "language_info": {
      "codemirror_mode": {
        "name": "ipython",
        "version": 3
      },
      "file_extension": ".py",
      "mimetype": "text/x-python",
      "name": "python",
      "nbconvert_exporter": "python",
      "pygments_lexer": "ipython3",
      "version": "3.7.11"
    },
    "livereveal": {
      "theme": "beige",
      "transition": "cascade"
    },
    "colab": {
      "provenance": []
    }
  },
  "nbformat": 4,
  "nbformat_minor": 0
}