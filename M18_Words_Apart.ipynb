{
  "cells": [
    {
      "cell_type": "markdown",
      "metadata": {
        "id": "ZQNsTYilxw6E"
      },
      "source": [
        "# Words Apart\n",
        "## Levenshtein Distance"
      ]
    },
    {
      "cell_type": "markdown",
      "metadata": {
        "id": "G57Oydtcxw6G"
      },
      "source": [
        "## How far do you say?\n",
        "### Measuring the gaps between words"
      ]
    },
    {
      "cell_type": "markdown",
      "metadata": {
        "id": "AMaDQ2T-xw6H"
      },
      "source": [
        "Bioinformatics studies the building blocks of life. To examine a few more Python tools, we will look at the most basic building block of bioinformatics - [edit distance](https://en.wikipedia.org/wiki/Edit_distance)."
      ]
    },
    {
      "cell_type": "markdown",
      "metadata": {
        "id": "Xg6eEcVsxw6H"
      },
      "source": [
        "This is how you can measure the separation between two strings of letters. If you remember the sci-fi film Gattica (about a world gone genetic-testing crazy), or even school biology, you may be aware that our genes are made up of long DNA sequences of nucleic acids, called _bases_ . There are only four bases: `G`, `A`, `T` and `C`. Guess where the film name comes from..."
      ]
    },
    {
      "cell_type": "markdown",
      "metadata": {
        "id": "AiwbknUPxw6I"
      },
      "source": [
        "This means you can understand a lot about genetic similarity by comparing long sequences and working our how far apart they are - perhaps what genetic mutations would get from one version to another, to understand what animals, plants or bacteria are related and why they differ.\n",
        "\n",
        "GGACTATCTACTACCATACGGACTATCTACTACCATACGGACTATCTACTACCATACGGACTATCTACTACCATACGGACTATCTACTACCATAC...\n",
        "GAGCTATCTACCTAGCATTCGACTAACTACTACCATTCGGACTATCTACTACCATACGGACTATCTACTACCATACGGACTATCTACTACCATAC..."
      ]
    },
    {
      "cell_type": "markdown",
      "metadata": {
        "id": "53HjRRGAxw6I"
      },
      "source": [
        "You can see these are similar, but not quite the same, but more more alike than either are to:\n",
        "GGGGGGGGGGGGGGGGGGGAAAAAAAAAAAAAAAAAAAAAAAAAATTTTTTTTTTTTTTTTTTTTTTTTTTTTTTTTTTTCCCCCCCCCCCCC..."
      ]
    },
    {
      "cell_type": "markdown",
      "metadata": {
        "id": "wJX5k8-wxw6I"
      },
      "source": [
        "How do we quantify that? One way:"
      ]
    },
    {
      "cell_type": "markdown",
      "metadata": {
        "id": "g8esY3qfxw6J"
      },
      "source": [
        "**Levenshtein Distance**: (roughly) the minimum number of single-character edits to get from the first string to the second"
      ]
    },
    {
      "cell_type": "markdown",
      "metadata": {
        "id": "c8IE7i_fxw6J"
      },
      "source": [
        "In this exercise, we will touch on some of the tools that will become more foundational in the IDE setting, with VSCode."
      ]
    },
    {
      "cell_type": "markdown",
      "metadata": {
        "id": "gEM7LLmCxw6J"
      },
      "source": [
        "## pip"
      ]
    },
    {
      "cell_type": "markdown",
      "metadata": {
        "id": "T6NOodUSxw6J"
      },
      "source": [
        "`pip` is one of a wide range of tools constituting the Python packaging ecosystem. It is hugely fragmented compared to most languages, but `pip` is a relatively simple and standard way of installing tools. You may also come across the Anaconda distribution, and its tool `conda`, which works very similarly. We need additional libraries for this exercise - you can install them as follows:"
      ]
    },
    {
      "cell_type": "code",
      "execution_count": 1,
      "metadata": {
        "colab": {
          "base_uri": "https://localhost:8080/"
        },
        "id": "kH1EF7PMxw6J",
        "outputId": "330e6fb7-5a66-42cd-af6a-0274e9928bf3"
      },
      "outputs": [
        {
          "output_type": "stream",
          "name": "stdout",
          "text": [
            "Collecting python-Levenshtein\n",
            "  Downloading python_Levenshtein-0.25.1-py3-none-any.whl (9.4 kB)\n",
            "Collecting pytest-benchmark\n",
            "  Downloading pytest_benchmark-4.0.0-py3-none-any.whl (43 kB)\n",
            "\u001b[2K     \u001b[90m━━━━━━━━━━━━━━━━━━━━━━━━━━━━━━━━━━━━━━━━\u001b[0m \u001b[32m44.0/44.0 kB\u001b[0m \u001b[31m2.2 MB/s\u001b[0m eta \u001b[36m0:00:00\u001b[0m\n",
            "\u001b[?25hCollecting Levenshtein==0.25.1 (from python-Levenshtein)\n",
            "  Downloading Levenshtein-0.25.1-cp310-cp310-manylinux_2_17_x86_64.manylinux2014_x86_64.whl (177 kB)\n",
            "\u001b[2K     \u001b[90m━━━━━━━━━━━━━━━━━━━━━━━━━━━━━━━━━━━━━━━━\u001b[0m \u001b[32m177.4/177.4 kB\u001b[0m \u001b[31m6.4 MB/s\u001b[0m eta \u001b[36m0:00:00\u001b[0m\n",
            "\u001b[?25hCollecting rapidfuzz<4.0.0,>=3.8.0 (from Levenshtein==0.25.1->python-Levenshtein)\n",
            "  Downloading rapidfuzz-3.9.4-cp310-cp310-manylinux_2_17_x86_64.manylinux2014_x86_64.whl (3.4 MB)\n",
            "\u001b[2K     \u001b[90m━━━━━━━━━━━━━━━━━━━━━━━━━━━━━━━━━━━━━━━━\u001b[0m \u001b[32m3.4/3.4 MB\u001b[0m \u001b[31m15.8 MB/s\u001b[0m eta \u001b[36m0:00:00\u001b[0m\n",
            "\u001b[?25hRequirement already satisfied: pytest>=3.8 in /usr/local/lib/python3.10/dist-packages (from pytest-benchmark) (7.4.4)\n",
            "Requirement already satisfied: py-cpuinfo in /usr/local/lib/python3.10/dist-packages (from pytest-benchmark) (9.0.0)\n",
            "Requirement already satisfied: iniconfig in /usr/local/lib/python3.10/dist-packages (from pytest>=3.8->pytest-benchmark) (2.0.0)\n",
            "Requirement already satisfied: packaging in /usr/local/lib/python3.10/dist-packages (from pytest>=3.8->pytest-benchmark) (24.1)\n",
            "Requirement already satisfied: pluggy<2.0,>=0.12 in /usr/local/lib/python3.10/dist-packages (from pytest>=3.8->pytest-benchmark) (1.5.0)\n",
            "Requirement already satisfied: exceptiongroup>=1.0.0rc8 in /usr/local/lib/python3.10/dist-packages (from pytest>=3.8->pytest-benchmark) (1.2.1)\n",
            "Requirement already satisfied: tomli>=1.0.0 in /usr/local/lib/python3.10/dist-packages (from pytest>=3.8->pytest-benchmark) (2.0.1)\n",
            "Installing collected packages: rapidfuzz, pytest-benchmark, Levenshtein, python-Levenshtein\n",
            "Successfully installed Levenshtein-0.25.1 pytest-benchmark-4.0.0 python-Levenshtein-0.25.1 rapidfuzz-3.9.4\n"
          ]
        }
      ],
      "source": [
        "!pip install python-Levenshtein pytest-benchmark"
      ]
    },
    {
      "cell_type": "markdown",
      "metadata": {
        "id": "k5T06vFfxw6L"
      },
      "source": [
        "Good practice is to have a requirements file, where version limits can be set for each package - to avoid accidental breaking upgrades (a common standard is to pin the major version number, as under semantic versioning practice, minor versions should not introduce major breaking changes). Then, when you clone down the repository, one way of installing dependencies is:"
      ]
    },
    {
      "cell_type": "code",
      "execution_count": 2,
      "metadata": {
        "colab": {
          "base_uri": "https://localhost:8080/"
        },
        "id": "ScxvlBfnxw6L",
        "outputId": "f7ba2403-c7a6-436b-bedb-0518175afe05"
      },
      "outputs": [
        {
          "output_type": "stream",
          "name": "stdout",
          "text": [
            "Requirement already satisfied: numpy in /usr/local/lib/python3.10/dist-packages (from -r requirements.txt (line 1)) (1.25.2)\n",
            "Requirement already satisfied: pytest in /usr/local/lib/python3.10/dist-packages (from -r requirements.txt (line 2)) (7.4.4)\n",
            "Collecting pytest-benchmark==3.2.* (from -r requirements.txt (line 3))\n",
            "  Downloading pytest_benchmark-3.2.3-py2.py3-none-any.whl (49 kB)\n",
            "\u001b[2K     \u001b[90m━━━━━━━━━━━━━━━━━━━━━━━━━━━━━━━━━━━━━━━━\u001b[0m \u001b[32m49.1/49.1 kB\u001b[0m \u001b[31m2.5 MB/s\u001b[0m eta \u001b[36m0:00:00\u001b[0m\n",
            "\u001b[?25hCollecting python-levenshtein<0.13,>=0.10 (from -r requirements.txt (line 4))\n",
            "  Downloading python-Levenshtein-0.12.2.tar.gz (50 kB)\n",
            "\u001b[2K     \u001b[90m━━━━━━━━━━━━━━━━━━━━━━━━━━━━━━━━━━━━━━━━\u001b[0m \u001b[32m50.5/50.5 kB\u001b[0m \u001b[31m5.4 MB/s\u001b[0m eta \u001b[36m0:00:00\u001b[0m\n",
            "\u001b[?25h  Preparing metadata (setup.py) ... \u001b[?25l\u001b[?25hdone\n",
            "Requirement already satisfied: py-cpuinfo in /usr/local/lib/python3.10/dist-packages (from pytest-benchmark==3.2.*->-r requirements.txt (line 3)) (9.0.0)\n",
            "Requirement already satisfied: iniconfig in /usr/local/lib/python3.10/dist-packages (from pytest->-r requirements.txt (line 2)) (2.0.0)\n",
            "Requirement already satisfied: packaging in /usr/local/lib/python3.10/dist-packages (from pytest->-r requirements.txt (line 2)) (24.1)\n",
            "Requirement already satisfied: pluggy<2.0,>=0.12 in /usr/local/lib/python3.10/dist-packages (from pytest->-r requirements.txt (line 2)) (1.5.0)\n",
            "Requirement already satisfied: exceptiongroup>=1.0.0rc8 in /usr/local/lib/python3.10/dist-packages (from pytest->-r requirements.txt (line 2)) (1.2.1)\n",
            "Requirement already satisfied: tomli>=1.0.0 in /usr/local/lib/python3.10/dist-packages (from pytest->-r requirements.txt (line 2)) (2.0.1)\n",
            "Requirement already satisfied: setuptools in /usr/local/lib/python3.10/dist-packages (from python-levenshtein<0.13,>=0.10->-r requirements.txt (line 4)) (67.7.2)\n",
            "Building wheels for collected packages: python-levenshtein\n",
            "  Building wheel for python-levenshtein (setup.py) ... \u001b[?25l\u001b[?25hdone\n",
            "  Created wheel for python-levenshtein: filename=python_Levenshtein-0.12.2-cp310-cp310-linux_x86_64.whl size=159972 sha256=44c29f03ae6ce10a6c99d269b3b962ae336c3aaffc3dd92c28bbc5580aba18ff\n",
            "  Stored in directory: /root/.cache/pip/wheels/7b/c3/05/60b4747cf52e0f6b6ee52022088a4de07d755016493e86373d\n",
            "Successfully built python-levenshtein\n",
            "Installing collected packages: python-levenshtein, pytest-benchmark\n",
            "  Attempting uninstall: python-levenshtein\n",
            "    Found existing installation: python-Levenshtein 0.25.1\n",
            "    Uninstalling python-Levenshtein-0.25.1:\n",
            "      Successfully uninstalled python-Levenshtein-0.25.1\n",
            "  Attempting uninstall: pytest-benchmark\n",
            "    Found existing installation: pytest-benchmark 4.0.0\n",
            "    Uninstalling pytest-benchmark-4.0.0:\n",
            "      Successfully uninstalled pytest-benchmark-4.0.0\n",
            "Successfully installed pytest-benchmark-3.2.3 python-levenshtein-0.12.2\n"
          ]
        }
      ],
      "source": [
        "!pip install -r requirements.txt"
      ]
    },
    {
      "cell_type": "code",
      "execution_count": 3,
      "metadata": {
        "colab": {
          "base_uri": "https://localhost:8080/"
        },
        "id": "QuVXkavgxw6L",
        "outputId": "5a805647-e8e3-43c4-f6f0-22738d795136"
      },
      "outputs": [
        {
          "output_type": "stream",
          "name": "stdout",
          "text": [
            "numpy\n",
            "pytest\n",
            "pytest-benchmark ==3.2.*\n",
            "python-levenshtein >=0.10, <0.13\n"
          ]
        }
      ],
      "source": [
        "!cat requirements.txt"
      ]
    },
    {
      "cell_type": "markdown",
      "metadata": {
        "id": "4uNIwOB1xw6M"
      },
      "source": [
        "You can see here that `pytest-benchmark` and `python-levenshtein` are pinned - ideally being generous down the way, but not giving _too_ much flexibility up the way (you don't know if a breaking change will come in a dependency's new version), will help ensure your dependencies can be met but the risk of third-party breakages is reduced. In production deployment, exact pinning and dedicated repositories are strongly recommended - some language tools do this in a more streamlined way (package.lock for npm, for example). However... narrowly pinning development code can prevent security patches being brought in, or conflicts when your module is later used with other code - the dependency versions conflict."
      ]
    },
    {
      "cell_type": "markdown",
      "metadata": {
        "id": "iRIMrN1wxw6M"
      },
      "source": [
        "## pytest"
      ]
    },
    {
      "cell_type": "markdown",
      "metadata": {
        "id": "gwJ6fNYrxw6M"
      },
      "source": [
        "This is the first contact with `pytest`. It automatically seeks out files starting with `test_` -- I'll walk you through `test_levenshtein.py` now..."
      ]
    },
    {
      "cell_type": "markdown",
      "metadata": {
        "id": "leurSgnixw6M"
      },
      "source": [
        "You can run these tests from the command line:"
      ]
    },
    {
      "cell_type": "code",
      "source": [
        "!pip install pytest"
      ],
      "metadata": {
        "colab": {
          "base_uri": "https://localhost:8080/"
        },
        "id": "yJXn0yxD0ZXn",
        "outputId": "7203a341-b277-45ba-d14f-76a9fb0e51b6"
      },
      "execution_count": 5,
      "outputs": [
        {
          "output_type": "stream",
          "name": "stdout",
          "text": [
            "Requirement already satisfied: pytest in /usr/local/lib/python3.10/dist-packages (7.4.4)\n",
            "Requirement already satisfied: iniconfig in /usr/local/lib/python3.10/dist-packages (from pytest) (2.0.0)\n",
            "Requirement already satisfied: packaging in /usr/local/lib/python3.10/dist-packages (from pytest) (24.1)\n",
            "Requirement already satisfied: pluggy<2.0,>=0.12 in /usr/local/lib/python3.10/dist-packages (from pytest) (1.5.0)\n",
            "Requirement already satisfied: exceptiongroup>=1.0.0rc8 in /usr/local/lib/python3.10/dist-packages (from pytest) (1.2.1)\n",
            "Requirement already satisfied: tomli>=1.0.0 in /usr/local/lib/python3.10/dist-packages (from pytest) (2.0.1)\n"
          ]
        }
      ]
    },
    {
      "cell_type": "code",
      "source": [
        "# Create a file named test_sample.py\n",
        "with open('test_sample.py', 'w') as f:\n",
        "    f.write(\"\"\"\n",
        "def test_addition():\n",
        "    assert 1 + 1 == 2\n",
        "\n",
        "def test_subtraction():\n",
        "    assert 2 - 1 == 1\n",
        "\"\"\")\n"
      ],
      "metadata": {
        "id": "RWpbkj6W0maW"
      },
      "execution_count": 6,
      "outputs": []
    },
    {
      "cell_type": "code",
      "source": [
        "!pip install --upgrade pytest pytest-benchmark"
      ],
      "metadata": {
        "colab": {
          "base_uri": "https://localhost:8080/"
        },
        "id": "afUpVZW-1FmD",
        "outputId": "53cbffe8-fc7f-4087-8fd9-2bc21717b5cb"
      },
      "execution_count": 8,
      "outputs": [
        {
          "output_type": "stream",
          "name": "stdout",
          "text": [
            "Requirement already satisfied: pytest in /usr/local/lib/python3.10/dist-packages (7.4.4)\n",
            "Collecting pytest\n",
            "  Downloading pytest-8.2.2-py3-none-any.whl (339 kB)\n",
            "\u001b[2K     \u001b[90m━━━━━━━━━━━━━━━━━━━━━━━━━━━━━━━━━━━━━━━━\u001b[0m \u001b[32m339.9/339.9 kB\u001b[0m \u001b[31m5.4 MB/s\u001b[0m eta \u001b[36m0:00:00\u001b[0m\n",
            "\u001b[?25hRequirement already satisfied: pytest-benchmark in /usr/local/lib/python3.10/dist-packages (3.2.3)\n",
            "Collecting pytest-benchmark\n",
            "  Using cached pytest_benchmark-4.0.0-py3-none-any.whl (43 kB)\n",
            "Requirement already satisfied: iniconfig in /usr/local/lib/python3.10/dist-packages (from pytest) (2.0.0)\n",
            "Requirement already satisfied: packaging in /usr/local/lib/python3.10/dist-packages (from pytest) (24.1)\n",
            "Requirement already satisfied: pluggy<2.0,>=1.5 in /usr/local/lib/python3.10/dist-packages (from pytest) (1.5.0)\n",
            "Requirement already satisfied: exceptiongroup>=1.0.0rc8 in /usr/local/lib/python3.10/dist-packages (from pytest) (1.2.1)\n",
            "Requirement already satisfied: tomli>=1 in /usr/local/lib/python3.10/dist-packages (from pytest) (2.0.1)\n",
            "Requirement already satisfied: py-cpuinfo in /usr/local/lib/python3.10/dist-packages (from pytest-benchmark) (9.0.0)\n",
            "Installing collected packages: pytest, pytest-benchmark\n",
            "  Attempting uninstall: pytest\n",
            "    Found existing installation: pytest 7.4.4\n",
            "    Uninstalling pytest-7.4.4:\n",
            "      Successfully uninstalled pytest-7.4.4\n",
            "  Attempting uninstall: pytest-benchmark\n",
            "    Found existing installation: pytest-benchmark 3.2.3\n",
            "    Uninstalling pytest-benchmark-3.2.3:\n",
            "      Successfully uninstalled pytest-benchmark-3.2.3\n",
            "Successfully installed pytest-8.2.2 pytest-benchmark-4.0.0\n"
          ]
        }
      ]
    },
    {
      "cell_type": "code",
      "source": [
        "!pytest test_sample.py"
      ],
      "metadata": {
        "colab": {
          "base_uri": "https://localhost:8080/"
        },
        "id": "1crwnP2q0wvm",
        "outputId": "ccb242e3-3f10-4d7b-b3d2-877dfa7973d6"
      },
      "execution_count": 9,
      "outputs": [
        {
          "output_type": "stream",
          "name": "stdout",
          "text": [
            "\u001b[1m======================================= test session starts ========================================\u001b[0m\n",
            "platform linux -- Python 3.10.12, pytest-8.2.2, pluggy-1.5.0\n",
            "benchmark: 4.0.0 (defaults: timer=time.perf_counter disable_gc=False min_rounds=5 min_time=0.000005 max_time=1.0 calibration_precision=10 warmup=False warmup_iterations=100000)\n",
            "rootdir: /content\n",
            "plugins: benchmark-4.0.0, anyio-3.7.1\n",
            "\u001b[1mcollecting ... \u001b[0m\u001b[1m\rcollected 2 items                                                                                  \u001b[0m\n",
            "\n",
            "test_sample.py \u001b[32m.\u001b[0m\u001b[32m.\u001b[0m\u001b[32m                                                                            [100%]\u001b[0m\n",
            "\n",
            "\u001b[32m======================================== \u001b[32m\u001b[1m2 passed\u001b[0m\u001b[32m in 0.02s\u001b[0m\u001b[32m =========================================\u001b[0m\n"
          ]
        }
      ]
    },
    {
      "cell_type": "code",
      "source": [
        "!pytest test_levenshtein.py"
      ],
      "metadata": {
        "colab": {
          "base_uri": "https://localhost:8080/"
        },
        "id": "sfb-v0dKy6yW",
        "outputId": "78ebcc6c-7992-44f0-880e-d0bb04d0f009"
      },
      "execution_count": 10,
      "outputs": [
        {
          "output_type": "stream",
          "name": "stdout",
          "text": [
            "\u001b[1m======================================= test session starts ========================================\u001b[0m\n",
            "platform linux -- Python 3.10.12, pytest-8.2.2, pluggy-1.5.0\n",
            "benchmark: 4.0.0 (defaults: timer=time.perf_counter disable_gc=False min_rounds=5 min_time=0.000005 max_time=1.0 calibration_precision=10 warmup=False warmup_iterations=100000)\n",
            "rootdir: /content\n",
            "plugins: benchmark-4.0.0, anyio-3.7.1\n",
            "\u001b[1mcollecting ... \u001b[0m\u001b[1m\rcollected 5 items                                                                                  \u001b[0m\n",
            "\n",
            "test_levenshtein.py \u001b[32m.\u001b[0m\u001b[31mF\u001b[0m\u001b[31mF\u001b[0m\u001b[31mF\u001b[0m\u001b[31mF\u001b[0m\u001b[31m                                                                    [100%]\u001b[0m\n",
            "\n",
            "============================================= FAILURES =============================================\n",
            "\u001b[31m\u001b[1m___________________________ test_different_strings_have_correct_distance ___________________________\u001b[0m\n",
            "\n",
            "string1 = 'actga', string2 = 'ccgga'\n",
            "\n",
            "    \u001b[0m\u001b[94mdef\u001b[39;49;00m \u001b[92mtest_different_strings_have_correct_distance\u001b[39;49;00m(string1, string2):\u001b[90m\u001b[39;49;00m\n",
            "        edit_distance = my_levenshtein.calculate_levenshtein(string1, string2)\u001b[90m\u001b[39;49;00m\n",
            ">       \u001b[94massert\u001b[39;49;00m edit_distance == levenshtein_module.distance(string1, string2)\u001b[90m\u001b[39;49;00m\n",
            "\u001b[1m\u001b[31mE       AssertionError: assert 0 == 2\u001b[0m\n",
            "\u001b[1m\u001b[31mE        +  where 2 = <built-in function distance>('actga', 'ccgga')\u001b[0m\n",
            "\u001b[1m\u001b[31mE        +    where <built-in function distance> = levenshtein_module.distance\u001b[0m\n",
            "\n",
            "\u001b[1m\u001b[31mtest_levenshtein.py\u001b[0m:41: AssertionError\n",
            "\u001b[31m\u001b[1m__________________________________ test_asdf_asfd_distance_is_two __________________________________\u001b[0m\n",
            "\n",
            "    \u001b[0m\u001b[94mdef\u001b[39;49;00m \u001b[92mtest_asdf_asfd_distance_is_two\u001b[39;49;00m():\u001b[90m\u001b[39;49;00m\n",
            "        edit_distance = my_levenshtein.calculate_levenshtein(\u001b[33m\"\u001b[39;49;00m\u001b[33masdf\u001b[39;49;00m\u001b[33m\"\u001b[39;49;00m, \u001b[33m\"\u001b[39;49;00m\u001b[33masfd\u001b[39;49;00m\u001b[33m\"\u001b[39;49;00m)\u001b[90m\u001b[39;49;00m\n",
            ">       \u001b[94massert\u001b[39;49;00m edit_distance == \u001b[94m2\u001b[39;49;00m\u001b[90m\u001b[39;49;00m\n",
            "\u001b[1m\u001b[31mE       assert 0 == 2\u001b[0m\n",
            "\n",
            "\u001b[1m\u001b[31mtest_levenshtein.py\u001b[0m:45: AssertionError\n",
            "\u001b[31m\u001b[1m__________________________________ test_asf_asfd_distance_is_one ___________________________________\u001b[0m\n",
            "\n",
            "    \u001b[0m\u001b[94mdef\u001b[39;49;00m \u001b[92mtest_asf_asfd_distance_is_one\u001b[39;49;00m():\u001b[90m\u001b[39;49;00m\n",
            "        edit_distance = my_levenshtein.calculate_levenshtein(\u001b[33m\"\u001b[39;49;00m\u001b[33masf\u001b[39;49;00m\u001b[33m\"\u001b[39;49;00m, \u001b[33m\"\u001b[39;49;00m\u001b[33masfd\u001b[39;49;00m\u001b[33m\"\u001b[39;49;00m)\u001b[90m\u001b[39;49;00m\n",
            ">       \u001b[94massert\u001b[39;49;00m edit_distance == \u001b[94m1\u001b[39;49;00m\u001b[90m\u001b[39;49;00m\n",
            "\u001b[1m\u001b[31mE       assert 0 == 1\u001b[0m\n",
            "\n",
            "\u001b[1m\u001b[31mtest_levenshtein.py\u001b[0m:49: AssertionError\n",
            "\u001b[31m\u001b[1m______________________________ test_amazon_aazonia_distance_is_three _______________________________\u001b[0m\n",
            "\n",
            "    \u001b[0m\u001b[94mdef\u001b[39;49;00m \u001b[92mtest_amazon_aazonia_distance_is_three\u001b[39;49;00m():\u001b[90m\u001b[39;49;00m\n",
            "        edit_distance = my_levenshtein.calculate_levenshtein(\u001b[33m\"\u001b[39;49;00m\u001b[33mamazon\u001b[39;49;00m\u001b[33m\"\u001b[39;49;00m, \u001b[33m\"\u001b[39;49;00m\u001b[33maazonia\u001b[39;49;00m\u001b[33m\"\u001b[39;49;00m)\u001b[90m\u001b[39;49;00m\n",
            ">       \u001b[94massert\u001b[39;49;00m edit_distance == \u001b[94m3\u001b[39;49;00m\u001b[90m\u001b[39;49;00m\n",
            "\u001b[1m\u001b[31mE       assert 0 == 3\u001b[0m\n",
            "\n",
            "\u001b[1m\u001b[31mtest_levenshtein.py\u001b[0m:53: AssertionError\n",
            "\u001b[36m\u001b[1m===================================== short test summary info ======================================\u001b[0m\n",
            "\u001b[31mFAILED\u001b[0m test_levenshtein.py::\u001b[1mtest_different_strings_have_correct_distance\u001b[0m - AssertionError: assert 0 == 2\n",
            "\u001b[31mFAILED\u001b[0m test_levenshtein.py::\u001b[1mtest_asdf_asfd_distance_is_two\u001b[0m - assert 0 == 2\n",
            "\u001b[31mFAILED\u001b[0m test_levenshtein.py::\u001b[1mtest_asf_asfd_distance_is_one\u001b[0m - assert 0 == 1\n",
            "\u001b[31mFAILED\u001b[0m test_levenshtein.py::\u001b[1mtest_amazon_aazonia_distance_is_three\u001b[0m - assert 0 == 3\n",
            "\u001b[31m=================================== \u001b[31m\u001b[1m4 failed\u001b[0m, \u001b[32m1 passed\u001b[0m\u001b[31m in 0.40s\u001b[0m\u001b[31m ====================================\u001b[0m\n"
          ]
        }
      ]
    },
    {
      "cell_type": "code",
      "source": [],
      "metadata": {
        "id": "GHEFeslUy7Io"
      },
      "execution_count": null,
      "outputs": []
    },
    {
      "cell_type": "markdown",
      "metadata": {
        "id": "6iee0YZVxw6M"
      },
      "source": [
        "### Exercise: Gene Hacking"
      ]
    },
    {
      "cell_type": "markdown",
      "metadata": {
        "id": "ikMb8XDYxw6N"
      },
      "source": [
        "There is a link there to Wikipedia, which has a standard textbook description of two algorithms - we will test which is faster. Can you fill in `my_levenshtein.py` to implement the _recursive_ `calculate_levenshtein` algorithm? Re-run the `pytest` command above until it passes!"
      ]
    },
    {
      "cell_type": "code",
      "source": [
        "!pytest test_levenshtein.py"
      ],
      "metadata": {
        "colab": {
          "base_uri": "https://localhost:8080/"
        },
        "id": "c-TB40Hi2SWW",
        "outputId": "0a014959-d660-4b19-c8e0-1a84072214f7"
      },
      "execution_count": 11,
      "outputs": [
        {
          "output_type": "stream",
          "name": "stdout",
          "text": [
            "\u001b[1m======================================= test session starts ========================================\u001b[0m\n",
            "platform linux -- Python 3.10.12, pytest-8.2.2, pluggy-1.5.0\n",
            "benchmark: 4.0.0 (defaults: timer=time.perf_counter disable_gc=False min_rounds=5 min_time=0.000005 max_time=1.0 calibration_precision=10 warmup=False warmup_iterations=100000)\n",
            "rootdir: /content\n",
            "plugins: benchmark-4.0.0, anyio-3.7.1\n",
            "\u001b[1mcollecting ... \u001b[0m\u001b[1m\rcollected 5 items                                                                                  \u001b[0m\n",
            "\n",
            "test_levenshtein.py \u001b[32m.\u001b[0m\u001b[32m.\u001b[0m\u001b[32m.\u001b[0m\u001b[32m.\u001b[0m\u001b[32m.\u001b[0m\u001b[32m                                                                    [100%]\u001b[0m\n",
            "\n",
            "\u001b[32m======================================== \u001b[32m\u001b[1m5 passed\u001b[0m\u001b[32m in 0.18s\u001b[0m\u001b[32m =========================================\u001b[0m\n"
          ]
        }
      ]
    },
    {
      "cell_type": "markdown",
      "metadata": {
        "id": "w9MNhYsExw6N"
      },
      "source": [
        "### Extension: Gene Wilder\n",
        "\n",
        "Going one further, can you implement the matrix version, using numpy, in the routine below? (algorithm also available from the same source)"
      ]
    },
    {
      "cell_type": "code",
      "source": [
        "# Iterative approach\n",
        "def calculate_levenshtein_matrix(a, b):\n",
        "    k = len(a) + 1\n",
        "    l = len(b) + 1\n",
        "    matrix = np.zeros((k, l), dtype=int)\n",
        "\n",
        "    for i in range(1, k):\n",
        "        matrix[i, 0] = i\n",
        "\n",
        "    for j in range(1, l):\n",
        "        matrix[0, j] = j\n",
        "\n",
        "    for i in range(1, k):\n",
        "        for j in range(1, l):\n",
        "            if a[i - 1] == b[j - 1]:\n",
        "                cost = 0\n",
        "            else:\n",
        "                cost = 1\n",
        "\n",
        "            matrix[i, j] = min(\n",
        "                matrix[i - 1, j] + 1,\n",
        "                matrix[i, j - 1] + 1,\n",
        "                matrix[i - 1, j - 1] + cost\n",
        "            )\n",
        "\n",
        "    return matrix[-1, -1]"
      ],
      "metadata": {
        "id": "ha81SPQ52W1b"
      },
      "execution_count": 12,
      "outputs": []
    },
    {
      "cell_type": "markdown",
      "metadata": {
        "id": "7zU3i_ojxw6N"
      },
      "source": [
        "### Extension: Gene E Us"
      ]
    },
    {
      "cell_type": "markdown",
      "metadata": {
        "id": "i-Ht-2p8xw6N"
      },
      "source": [
        "Can you write a version that passes all the tests, but does not work in general? Can you add a test to catch your \"mistake\"? How much more robust can you make the testing?\n",
        "\n",
        "This highlights a challenge with testing numerical or ML algorithms - that enumerating all possible cases is not necessarily possible. How might you break it up your testing, or your algorithm, to be able to more reliably test it?"
      ]
    },
    {
      "cell_type": "markdown",
      "metadata": {
        "id": "2L67mKAQxw6N"
      },
      "source": [
        "## pylint"
      ]
    },
    {
      "cell_type": "markdown",
      "metadata": {
        "id": "Pp-TO8Jvxw6N"
      },
      "source": [
        "Pylint exists to help make sure your code is compliant with the PEP8 style guide (and a few others) - you can run it like so:"
      ]
    },
    {
      "cell_type": "code",
      "source": [
        "!pip install pylint"
      ],
      "metadata": {
        "colab": {
          "base_uri": "https://localhost:8080/"
        },
        "id": "YqGokUoO21Kx",
        "outputId": "51c3f125-c18a-4085-fbfc-713677bdfe7f"
      },
      "execution_count": 14,
      "outputs": [
        {
          "output_type": "stream",
          "name": "stdout",
          "text": [
            "Collecting pylint\n",
            "  Downloading pylint-3.2.5-py3-none-any.whl (519 kB)\n",
            "\u001b[?25l     \u001b[90m━━━━━━━━━━━━━━━━━━━━━━━━━━━━━━━━━━━━━━━━\u001b[0m \u001b[32m0.0/519.6 kB\u001b[0m \u001b[31m?\u001b[0m eta \u001b[36m-:--:--\u001b[0m\r\u001b[2K     \u001b[91m━━━━━━━━━━━━━━━\u001b[0m\u001b[91m╸\u001b[0m\u001b[90m━━━━━━━━━━━━━━━━━━━━━━━━\u001b[0m \u001b[32m204.8/519.6 kB\u001b[0m \u001b[31m6.0 MB/s\u001b[0m eta \u001b[36m0:00:01\u001b[0m\r\u001b[2K     \u001b[91m━━━━━━━━━━━━━━━━━━━━━━━━━━━━━━━━━━━━━━━\u001b[0m\u001b[90m╺\u001b[0m \u001b[32m512.0/519.6 kB\u001b[0m \u001b[31m7.6 MB/s\u001b[0m eta \u001b[36m0:00:01\u001b[0m\r\u001b[2K     \u001b[90m━━━━━━━━━━━━━━━━━━━━━━━━━━━━━━━━━━━━━━━━\u001b[0m \u001b[32m519.6/519.6 kB\u001b[0m \u001b[31m6.1 MB/s\u001b[0m eta \u001b[36m0:00:00\u001b[0m\n",
            "\u001b[?25hRequirement already satisfied: platformdirs>=2.2.0 in /usr/local/lib/python3.10/dist-packages (from pylint) (4.2.2)\n",
            "Collecting astroid<=3.3.0-dev0,>=3.2.2 (from pylint)\n",
            "  Downloading astroid-3.2.3-py3-none-any.whl (276 kB)\n",
            "\u001b[2K     \u001b[90m━━━━━━━━━━━━━━━━━━━━━━━━━━━━━━━━━━━━━━━━\u001b[0m \u001b[32m276.3/276.3 kB\u001b[0m \u001b[31m8.5 MB/s\u001b[0m eta \u001b[36m0:00:00\u001b[0m\n",
            "\u001b[?25hCollecting isort!=5.13.0,<6,>=4.2.5 (from pylint)\n",
            "  Downloading isort-5.13.2-py3-none-any.whl (92 kB)\n",
            "\u001b[2K     \u001b[90m━━━━━━━━━━━━━━━━━━━━━━━━━━━━━━━━━━━━━━━━\u001b[0m \u001b[32m92.3/92.3 kB\u001b[0m \u001b[31m9.1 MB/s\u001b[0m eta \u001b[36m0:00:00\u001b[0m\n",
            "\u001b[?25hCollecting mccabe<0.8,>=0.6 (from pylint)\n",
            "  Downloading mccabe-0.7.0-py2.py3-none-any.whl (7.3 kB)\n",
            "Collecting tomlkit>=0.10.1 (from pylint)\n",
            "  Downloading tomlkit-0.13.0-py3-none-any.whl (37 kB)\n",
            "Collecting dill>=0.2 (from pylint)\n",
            "  Downloading dill-0.3.8-py3-none-any.whl (116 kB)\n",
            "\u001b[2K     \u001b[90m━━━━━━━━━━━━━━━━━━━━━━━━━━━━━━━━━━━━━━━━\u001b[0m \u001b[32m116.3/116.3 kB\u001b[0m \u001b[31m6.1 MB/s\u001b[0m eta \u001b[36m0:00:00\u001b[0m\n",
            "\u001b[?25hRequirement already satisfied: tomli>=1.1.0 in /usr/local/lib/python3.10/dist-packages (from pylint) (2.0.1)\n",
            "Requirement already satisfied: typing-extensions>=4.0.0 in /usr/local/lib/python3.10/dist-packages (from astroid<=3.3.0-dev0,>=3.2.2->pylint) (4.12.2)\n",
            "Installing collected packages: tomlkit, mccabe, isort, dill, astroid, pylint\n",
            "Successfully installed astroid-3.2.3 dill-0.3.8 isort-5.13.2 mccabe-0.7.0 pylint-3.2.5 tomlkit-0.13.0\n"
          ]
        }
      ]
    },
    {
      "cell_type": "code",
      "execution_count": 15,
      "metadata": {
        "colab": {
          "base_uri": "https://localhost:8080/"
        },
        "id": "CJw-h9Qcxw6N",
        "outputId": "d27323d7-d8be-4d5b-c3de-02f6b33959d7"
      },
      "outputs": [
        {
          "output_type": "stream",
          "name": "stdout",
          "text": [
            "************* Module my_levenshtein\n",
            "my_levenshtein.py:12:0: C0116: Missing function or method docstring (missing-function-docstring)\n",
            "my_levenshtein.py:13:4: R1705: Unnecessary \"elif\" after \"return\", remove the leading \"el\" from \"elif\" (no-else-return)\n",
            "my_levenshtein.py:30:0: C0116: Missing function or method docstring (missing-function-docstring)\n",
            "my_levenshtein.py:35:4: W2301: Unnecessary ellipsis constant (unnecessary-ellipsis)\n",
            "\n",
            "-----------------------------------\n",
            "Your code has been rated at 7.89/10\n",
            "\n"
          ]
        }
      ],
      "source": [
        "!pylint my_levenshtein.py"
      ]
    },
    {
      "cell_type": "markdown",
      "metadata": {
        "id": "C04ACxGlxw6O"
      },
      "source": [
        "It's a pain, but once your code passes it, it's a breeze! It is recommended to include it in a continuous integration pipeline, just like testing - some developers include it in the githooks (automated code that is run when code is either committed locally, or pushed remotely)."
      ]
    },
    {
      "cell_type": "markdown",
      "metadata": {
        "id": "wftgQ5Vgxw6O"
      },
      "source": [
        "### Exercise: Code Hy-gene\n",
        "\n",
        "Try to adapt your code until it passes. Are all the checks useful? Are there some you would switch off?"
      ]
    },
    {
      "cell_type": "code",
      "source": [
        "!pylint my_levenshtein_pass.py"
      ],
      "metadata": {
        "colab": {
          "base_uri": "https://localhost:8080/"
        },
        "id": "yS81-Hzf3uy8",
        "outputId": "35983b00-8397-4f6e-bfba-a629c9825665"
      },
      "execution_count": 16,
      "outputs": [
        {
          "output_type": "stream",
          "name": "stdout",
          "text": [
            "************* Module my_levenshtein_pass\n",
            "my_levenshtein_pass.py:30:0: C0301: Line too long (101/100) (line-too-long)\n",
            "my_levenshtein_pass.py:1:0: C0114: Missing module docstring (missing-module-docstring)\n",
            "my_levenshtein_pass.py:79:4: C0103: Constant name \"str1\" doesn't conform to UPPER_CASE naming style (invalid-name)\n",
            "my_levenshtein_pass.py:80:4: C0103: Constant name \"str2\" doesn't conform to UPPER_CASE naming style (invalid-name)\n",
            "\n",
            "-----------------------------------\n",
            "Your code has been rated at 8.75/10\n",
            "\n"
          ]
        }
      ]
    },
    {
      "cell_type": "code",
      "source": [
        "!pylint my_levenshtein_pass.py"
      ],
      "metadata": {
        "colab": {
          "base_uri": "https://localhost:8080/"
        },
        "id": "tAOjL8tq3wW3",
        "outputId": "81db9230-d737-4216-ae22-038e9d81a2e9"
      },
      "execution_count": 17,
      "outputs": [
        {
          "output_type": "stream",
          "name": "stdout",
          "text": [
            "************* Module my_levenshtein_pass\n",
            "my_levenshtein_pass.py:34:0: C0301: Line too long (101/100) (line-too-long)\n",
            "my_levenshtein_pass.py:1:0: C0114: Missing module docstring (missing-module-docstring)\n",
            "my_levenshtein_pass.py:4:0: W0105: String statement has no effect (pointless-string-statement)\n",
            "\n",
            "------------------------------------------------------------------\n",
            "Your code has been rated at 9.09/10 (previous run: 8.75/10, +0.34)\n",
            "\n"
          ]
        }
      ]
    },
    {
      "cell_type": "code",
      "source": [
        "!pylint my_levenshtein_pass.py"
      ],
      "metadata": {
        "colab": {
          "base_uri": "https://localhost:8080/"
        },
        "id": "fNta_JCp4OBP",
        "outputId": "eaab250b-b34a-4018-bc91-8a6d3deb4c85"
      },
      "execution_count": 18,
      "outputs": [
        {
          "output_type": "stream",
          "name": "stdout",
          "text": [
            "************* Module my_levenshtein_pass\n",
            "my_levenshtein_pass.py:35:0: C0301: Line too long (101/100) (line-too-long)\n",
            "\n",
            "------------------------------------------------------------------\n",
            "Your code has been rated at 9.69/10 (previous run: 9.09/10, +0.60)\n",
            "\n"
          ]
        }
      ]
    },
    {
      "cell_type": "code",
      "source": [
        "!pylint my_levenshtein_pass.py"
      ],
      "metadata": {
        "colab": {
          "base_uri": "https://localhost:8080/"
        },
        "id": "xVjwo9vR4VNr",
        "outputId": "4e4a0183-3ea8-4909-d291-161c7d9ad298"
      },
      "execution_count": 20,
      "outputs": [
        {
          "output_type": "stream",
          "name": "stdout",
          "text": [
            "\n",
            "-------------------------------------------------------------------\n",
            "Your code has been rated at 10.00/10 (previous run: 9.71/10, +0.29)\n",
            "\n"
          ]
        }
      ]
    },
    {
      "cell_type": "code",
      "source": [],
      "metadata": {
        "id": "FGlbi8Kw4lyC"
      },
      "execution_count": null,
      "outputs": []
    }
  ],
  "metadata": {
    "celltoolbar": "Slideshow",
    "kernelspec": {
      "display_name": "Python 3",
      "language": "python",
      "name": "python3"
    },
    "language_info": {
      "codemirror_mode": {
        "name": "ipython",
        "version": 3
      },
      "file_extension": ".py",
      "mimetype": "text/x-python",
      "name": "python",
      "nbconvert_exporter": "python",
      "pygments_lexer": "ipython3",
      "version": "3.7.3"
    },
    "livereveal": {
      "theme": "beige",
      "transition": "cascade"
    },
    "colab": {
      "provenance": []
    }
  },
  "nbformat": 4,
  "nbformat_minor": 0
}