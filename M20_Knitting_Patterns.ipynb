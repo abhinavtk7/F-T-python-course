{
  "cells": [
    {
      "cell_type": "markdown",
      "metadata": {
        "id": "3E93fJuxqS31"
      },
      "source": [
        "# Patterns"
      ]
    },
    {
      "cell_type": "markdown",
      "metadata": {
        "id": "wvbhaSqhqS33"
      },
      "source": [
        "## Knitting Code Beautifully"
      ]
    },
    {
      "cell_type": "markdown",
      "metadata": {
        "id": "jxNhyVLaqS34"
      },
      "source": [
        "We discussed Pythonic as being an ethos, rather than enforced rules - a subjective achievement that works by consensus. And that that is fundamental to how and why Python as an ecosystem or a language, works."
      ]
    },
    {
      "cell_type": "markdown",
      "metadata": {
        "id": "DM7aA7dxqS35"
      },
      "source": [
        "Design patterns are of a similar nature, and are seen in many languages in different ways - although tend to be discussed much more commonly in traditional enterprise languages, such as C# or Java. Nonetheless, they are highly relevant and, perhaps, an undervalued way of thinking about code quality in Python. Equivalently, and perhaps more importantly, anti-patterns - habits that make code worse or could be considered \"Code Smells\", indicators of deeper problems.\n",
        "\n",
        "One helpful language-independent resource from a leading author, is Martin Fowler's website: https://martinfowler.com/bliki/CodeSmell.html for instance. His wiki is a bit like TV Tropes for software projects."
      ]
    },
    {
      "cell_type": "markdown",
      "metadata": {
        "id": "8hTODcA4qS35"
      },
      "source": [
        "These are not laws - Pythonic philosophy states that practicality beats purity and a hard-to-explain implementation is a bad idea. A literal reading of some design patterns would frequently be at odds with this, so it always comes down to judgement - in my opinion, Pythonic beats established design patterns, when in Python. Some design patterns have language assumptions (such as exception-handling being expensive) that contravene the underlying design principles of Python. The one thing that's critical, as all authors agree on, is that **thinking it through it is the key objective**, not your conclusion."
      ]
    },
    {
      "cell_type": "markdown",
      "metadata": {
        "id": "3iSwjTJXqS36"
      },
      "source": [
        "One final caveat: I know experienced programmers who say that design patterns are an anti-pattern themselves. This is based on the precept that languages should enforce or at least guide good coding practice, and that design patterns are a sticking plaster - certainly, Python goes the other philosophical direction, giving great freedom to the programmer and trusting that they use it wisely. As they say, with great power..."
      ]
    },
    {
      "cell_type": "markdown",
      "metadata": {
        "id": "5Nn3kgfWqS36"
      },
      "source": [
        "## Domain-Driven Design"
      ]
    },
    {
      "cell_type": "markdown",
      "metadata": {
        "id": "Jo8Vk5tBqS36"
      },
      "source": [
        "This will be a whistle-stop tour - we can delve a bit more into individual concepts in subsequent days, but I am keen that the terms and notions are at least familiar. The first and perhaps more under-described here, is domain-driven design. Tens of thousands of pages have been written about it, debate rages about what the \"ubiquitous language\" concept that underlies it is, or whether it's useful, but DDD (as it's affectionately known) boils down to:"
      ]
    },
    {
      "cell_type": "markdown",
      "metadata": {
        "id": "aHN9Xm6IqS36"
      },
      "source": [
        "### The terminology you use in the code should reflect the terminology of the user"
      ]
    },
    {
      "cell_type": "markdown",
      "metadata": {
        "id": "__6Gn-FDqS36"
      },
      "source": [
        "Going a little deeper, this is implemented by creating a conceptual \"domain model\", that is, a conceptual model of the business domain. Then, this is reflected in the code. A follow-on is that you start separating your code more cleanly into layers - a huge number of DDD patterns exist around how best to do this, but sticking to the basics is better than getting bogged down! But, you generally see at least:\n",
        "\n",
        "* an *application layer*: code handling presentation through UI or APIs; and\n",
        "* a *domain layer*: code implementing \"business logic\", i.e. logic rules of the application;\n",
        "* an *infrastructure layer*: code that deals with DBs, logging, etc"
      ]
    },
    {
      "cell_type": "markdown",
      "metadata": {
        "id": "bgyKby6AqS37"
      },
      "source": [
        "Sometimes it is confused with UML, but UML is only a tool that may or may not be useful - DDD is a way of thinking. I would highly recommend Martin Fowler's work on this, for a broader understanding and deep-dive: https://martinfowler.com/tags/domain%20driven%20design.html"
      ]
    },
    {
      "cell_type": "markdown",
      "metadata": {
        "id": "AAD260KSqS37"
      },
      "source": [
        "DDD is prevalent in C#, where a lot of best-practice theory in the language ecosystem draws from DDD literature. Perhaps surprisingly for some, PHP's renaissance owed a huge amount to the purism of DDD advocates - PHP syntactically is (IMO) the best wide-spread scripting language for encouraging good programming practice. When PHP advocates in the late 2000s saw the damage poor code was doing to the language's reputation (and theirs!), library writers upped the bar high - the core PHP libraries have extremely strong principles around language style, idiom and design patterns. Modern web frameworks, such as Laravel and (especially) Symfony are excellent for educating new coders in those. But there's a long legacy to shake..."
      ]
    },
    {
      "cell_type": "markdown",
      "metadata": {
        "id": "2pUJWmlsqS37"
      },
      "source": [
        "Strangely, Python, which is a beautiful language, is much laxer about this, and gives little guidance or assistance. However, DDD, at its highest level, is a simple concept to start with."
      ]
    },
    {
      "cell_type": "markdown",
      "metadata": {
        "id": "W220JzDpqS38"
      },
      "source": [
        "The first step is building a domain model - this is entirely offline. To start, a concept of \"entities\" is useful: these are conceptual nouns that the domain-expert keeps referring to (also may be thought of as a stakeholder, or client, perhaps). The best way to tease these out is discussion - spot how they use words, what they refer to. The next concept is \"relationships\" - if they are a bridge-building company, they may talk about how many Arches (an entity) a Bridge (another entity) has. You can tell that one *bridge* has many *arches*. Perhaps a *surveyor* periodically \"surveys\" a bridge and \"signs it off\". Finally, there is the business logic: perhaps an application should insist that every *bridge* has an *arch* - this is a business rule - or that a surveyor only signs off a bridge if it is \"structurally sound\"."
      ]
    },
    {
      "cell_type": "markdown",
      "metadata": {
        "id": "OD8P2YX4qS38"
      },
      "source": [
        "A basic way of pulling together a diagram of this is PlantUML (abusing its class diagram syntax...):"
      ]
    },
    {
      "cell_type": "code",
      "source": [
        "!pip install iplantuml"
      ],
      "metadata": {
        "colab": {
          "base_uri": "https://localhost:8080/"
        },
        "id": "119wpyIlqgTe",
        "outputId": "e1320f14-1f15-4249-c3b9-48bf0c4d7b23"
      },
      "execution_count": null,
      "outputs": [
        {
          "output_type": "stream",
          "name": "stdout",
          "text": [
            "Collecting iplantuml\n",
            "  Downloading IPlantUML-0.1.1.tar.gz (5.5 kB)\n",
            "  Preparing metadata (setup.py) ... \u001b[?25l\u001b[?25hdone\n",
            "Collecting plantweb (from iplantuml)\n",
            "  Downloading plantweb-1.2.1-py3-none-any.whl (20 kB)\n",
            "Requirement already satisfied: six in /usr/local/lib/python3.10/dist-packages (from plantweb->iplantuml) (1.16.0)\n",
            "Requirement already satisfied: requests in /usr/local/lib/python3.10/dist-packages (from plantweb->iplantuml) (2.31.0)\n",
            "Requirement already satisfied: docutils in /usr/local/lib/python3.10/dist-packages (from plantweb->iplantuml) (0.18.1)\n",
            "Requirement already satisfied: charset-normalizer<4,>=2 in /usr/local/lib/python3.10/dist-packages (from requests->plantweb->iplantuml) (3.3.2)\n",
            "Requirement already satisfied: idna<4,>=2.5 in /usr/local/lib/python3.10/dist-packages (from requests->plantweb->iplantuml) (3.7)\n",
            "Requirement already satisfied: urllib3<3,>=1.21.1 in /usr/local/lib/python3.10/dist-packages (from requests->plantweb->iplantuml) (2.0.7)\n",
            "Requirement already satisfied: certifi>=2017.4.17 in /usr/local/lib/python3.10/dist-packages (from requests->plantweb->iplantuml) (2024.6.2)\n",
            "Building wheels for collected packages: iplantuml\n",
            "  Building wheel for iplantuml (setup.py) ... \u001b[?25l\u001b[?25hdone\n",
            "  Created wheel for iplantuml: filename=IPlantUML-0.1.1-py2.py3-none-any.whl size=4891 sha256=ca1a7ab21f1273f32f05405eb88993d3dd7c05efe26b45900c00b08784c19916\n",
            "  Stored in directory: /root/.cache/pip/wheels/fb/ff/c9/f1038346df983069dcb2f712a840ca9cee735e8a5f6ffc6a83\n",
            "Successfully built iplantuml\n",
            "Installing collected packages: plantweb, iplantuml\n",
            "Successfully installed iplantuml-0.1.1 plantweb-1.2.1\n"
          ]
        }
      ]
    },
    {
      "cell_type": "code",
      "execution_count": null,
      "metadata": {
        "id": "VzF1secVqS38"
      },
      "outputs": [],
      "source": [
        "import iplantuml"
      ]
    },
    {
      "cell_type": "code",
      "execution_count": null,
      "metadata": {
        "colab": {
          "base_uri": "https://localhost:8080/",
          "height": 414
        },
        "id": "XMNlr53hqS39",
        "outputId": "0cfac69e-c156-4e61-fd81-72af4f3e0e21"
      },
      "outputs": [
        {
          "output_type": "execute_result",
          "data": {
            "text/plain": [
              "<IPython.core.display.SVG object>"
            ],
            "image/svg+xml": "<svg xmlns=\"http://www.w3.org/2000/svg\" xmlns:xlink=\"http://www.w3.org/1999/xlink\" contentStyleType=\"text/css\" height=\"393px\" preserveAspectRatio=\"none\" style=\"width:184px;height:393px;background:#FFFFFF;\" version=\"1.1\" viewBox=\"0 0 184 393\" width=\"184px\" zoomAndPan=\"magnify\"><defs/><g><!--class Bridge--><g id=\"elem_Bridge\"><rect codeLine=\"1\" fill=\"#F1F1F1\" height=\"96.8906\" id=\"Bridge\" rx=\"2.5\" ry=\"2.5\" style=\"stroke:#181818;stroke-width:0.5;\" width=\"170.4707\" x=\"7\" y=\"148.29\"/><ellipse cx=\"65.167\" cy=\"164.29\" fill=\"#ADD1B2\" rx=\"11\" ry=\"11\" style=\"stroke:#181818;stroke-width:1.0;\"/><path d=\"M68.1357,169.9306 Q67.5576,170.2275 66.917,170.3681 Q66.2764,170.5244 65.5732,170.5244 Q63.0732,170.5244 61.7451,168.8838 Q60.4326,167.2275 60.4326,164.1025 Q60.4326,160.9775 61.7451,159.3213 Q63.0732,157.665 65.5732,157.665 Q66.2764,157.665 66.917,157.8213 Q67.5732,157.9775 68.1357,158.2744 L68.1357,160.9931 Q67.5107,160.415 66.917,160.1494 Q66.3232,159.8681 65.6982,159.8681 Q64.3545,159.8681 63.667,160.9463 Q62.9795,162.0088 62.9795,164.1025 Q62.9795,166.1963 63.667,167.2744 Q64.3545,168.3369 65.6982,168.3369 Q66.3232,168.3369 66.917,168.0713 Q67.5107,167.79 68.1357,167.2119 L68.1357,169.9306 Z \" fill=\"#000000\"/><text fill=\"#000000\" font-family=\"sans-serif\" font-size=\"14\" lengthAdjust=\"spacing\" textLength=\"45.6367\" x=\"85.667\" y=\"169.1367\">Bridge</text><line style=\"stroke:#181818;stroke-width:0.5;\" x1=\"8\" x2=\"176.4707\" y1=\"180.29\" y2=\"180.29\"/><text fill=\"#000000\" font-family=\"sans-serif\" font-size=\"14\" lengthAdjust=\"spacing\" textLength=\"44.625\" x=\"13\" y=\"197.2851\">length</text><text fill=\"#000000\" font-family=\"sans-serif\" font-size=\"14\" lengthAdjust=\"spacing\" textLength=\"44.625\" x=\"13\" y=\"213.582\">height</text><line style=\"stroke:#181818;stroke-width:1.0;\" x1=\"8\" x2=\"176.4707\" y1=\"220.8838\" y2=\"220.8838\"/><text fill=\"#000000\" font-family=\"sans-serif\" font-size=\"14\" lengthAdjust=\"spacing\" textLength=\"158.4707\" x=\"13\" y=\"237.8789\">is_structurally_sound()</text></g><!--class Surveyor--><g id=\"elem_Surveyor\"><rect codeLine=\"8\" fill=\"#F1F1F1\" height=\"64.2969\" id=\"Surveyor\" rx=\"2.5\" ry=\"2.5\" style=\"stroke:#181818;stroke-width:0.5;\" width=\"95.0205\" x=\"44.73\" y=\"7\"/><ellipse cx=\"59.73\" cy=\"23\" fill=\"#ADD1B2\" rx=\"11\" ry=\"11\" style=\"stroke:#181818;stroke-width:1.0;\"/><path d=\"M62.6988,28.6406 Q62.1206,28.9375 61.48,29.0781 Q60.8394,29.2344 60.1363,29.2344 Q57.6363,29.2344 56.3081,27.5938 Q54.9956,25.9375 54.9956,22.8125 Q54.9956,19.6875 56.3081,18.0313 Q57.6363,16.375 60.1363,16.375 Q60.8394,16.375 61.48,16.5313 Q62.1363,16.6875 62.6988,16.9844 L62.6988,19.7031 Q62.0738,19.125 61.48,18.8594 Q60.8863,18.5781 60.2613,18.5781 Q58.9175,18.5781 58.23,19.6563 Q57.5425,20.7188 57.5425,22.8125 Q57.5425,24.9063 58.23,25.9844 Q58.9175,27.0469 60.2613,27.0469 Q60.8863,27.0469 61.48,26.7813 Q62.0738,26.5 62.6988,25.9219 L62.6988,28.6406 Z \" fill=\"#000000\"/><text fill=\"#000000\" font-family=\"sans-serif\" font-size=\"14\" lengthAdjust=\"spacing\" textLength=\"63.0205\" x=\"73.73\" y=\"27.8467\">Surveyor</text><line style=\"stroke:#181818;stroke-width:0.5;\" x1=\"45.73\" x2=\"138.7505\" y1=\"39\" y2=\"39\"/><text fill=\"#000000\" font-family=\"sans-serif\" font-size=\"14\" lengthAdjust=\"spacing\" textLength=\"39.7031\" x=\"50.73\" y=\"55.9951\">name</text><line style=\"stroke:#181818;stroke-width:0.5;\" x1=\"45.73\" x2=\"138.7505\" y1=\"63.2969\" y2=\"63.2969\"/></g><!--class Arch--><g id=\"elem_Arch\"><rect codeLine=\"12\" fill=\"#F1F1F1\" height=\"64.2969\" id=\"Arch\" rx=\"2.5\" ry=\"2.5\" style=\"stroke:#181818;stroke-width:0.5;\" width=\"75.4648\" x=\"54.5\" y=\"322.18\"/><ellipse cx=\"74.7027\" cy=\"338.18\" fill=\"#ADD1B2\" rx=\"11\" ry=\"11\" style=\"stroke:#181818;stroke-width:1.0;\"/><path d=\"M77.6714,343.8206 Q77.0933,344.1175 76.4527,344.2581 Q75.8121,344.4144 75.1089,344.4144 Q72.6089,344.4144 71.2808,342.7738 Q69.9683,341.1175 69.9683,337.9925 Q69.9683,334.8675 71.2808,333.2113 Q72.6089,331.555 75.1089,331.555 Q75.8121,331.555 76.4527,331.7113 Q77.1089,331.8675 77.6714,332.1644 L77.6714,334.8831 Q77.0464,334.305 76.4527,334.0394 Q75.8589,333.7581 75.2339,333.7581 Q73.8902,333.7581 73.2027,334.8363 Q72.5152,335.8988 72.5152,337.9925 Q72.5152,340.0863 73.2027,341.1644 Q73.8902,342.2269 75.2339,342.2269 Q75.8589,342.2269 76.4527,341.9613 Q77.0464,341.68 77.6714,341.1019 L77.6714,343.8206 Z \" fill=\"#000000\"/><text fill=\"#000000\" font-family=\"sans-serif\" font-size=\"14\" lengthAdjust=\"spacing\" textLength=\"31.9033\" x=\"89.8588\" y=\"343.0267\">Arch</text><line style=\"stroke:#181818;stroke-width:0.5;\" x1=\"55.5\" x2=\"128.9648\" y1=\"354.18\" y2=\"354.18\"/><text fill=\"#000000\" font-family=\"sans-serif\" font-size=\"14\" lengthAdjust=\"spacing\" textLength=\"63.4648\" x=\"60.5\" y=\"371.1751\">diameter</text><line style=\"stroke:#181818;stroke-width:0.5;\" x1=\"55.5\" x2=\"128.9648\" y1=\"378.4769\" y2=\"378.4769\"/></g><!--link Bridge to Arch--><g id=\"link_Bridge_Arch\"><path codeLine=\"16\" d=\"M92.24,245.27 C92.24,270.11 92.24,293.84 92.24,315.82 \" fill=\"none\" id=\"Bridge-to-Arch\" style=\"stroke:#181818;stroke-width:1.0;\"/><polygon fill=\"#181818\" points=\"92.24,321.82,96.24,312.82,92.24,316.82,88.24,312.82,92.24,321.82\" style=\"stroke:#181818;stroke-width:1.0;\"/><text fill=\"#000000\" font-family=\"sans-serif\" font-size=\"13\" lengthAdjust=\"spacing\" textLength=\"22.9785\" x=\"93.24\" y=\"288.2469\">has</text></g><!--link Surveyor to Bridge--><g id=\"link_Surveyor_Bridge\"><path codeLine=\"17\" d=\"M60.47,71.58 C53.44,80.47 46.98,90.64 43.24,101.29 C37.73,116.98 39.2499,128.0574 47.2999,142.6374 \" fill=\"none\" id=\"Surveyor-to-Bridge\" style=\"stroke:#181818;stroke-width:1.0;\"/><polygon fill=\"#181818\" points=\"50.2,147.89,49.3516,138.0778,47.7833,143.5129,42.3482,141.9445,50.2,147.89\" style=\"stroke:#181818;stroke-width:1.0;\"/><text fill=\"#000000\" font-family=\"sans-serif\" font-size=\"13\" lengthAdjust=\"spacing\" textLength=\"50.5146\" x=\"44.24\" y=\"114.3569\">surveys</text></g><!--link Surveyor to Bridge--><g id=\"link_Surveyor_Bridge\"><path codeLine=\"18\" d=\"M96.52,71.51 C97.64,81.05 98.68,91.58 99.24,101.29 C100.11,116.56 99.9104,127.2201 98.6804,142.2201 \" fill=\"none\" id=\"Surveyor-to-Bridge-1\" style=\"stroke:#181818;stroke-width:1.0;\"/><polygon fill=\"#181818\" points=\"98.19,148.2,102.9122,139.557,98.5986,143.2167,94.9389,138.9032,98.19,148.2\" style=\"stroke:#181818;stroke-width:1.0;\"/><text fill=\"#000000\" font-family=\"sans-serif\" font-size=\"13\" lengthAdjust=\"spacing\" textLength=\"54.8882\" x=\"100.24\" y=\"114.3569\">signs off</text></g><!--SRC=[TOr12iCW54Jtdk8lcuKNoABGNg472A8_Vi4g_A-5K7ht6YFjAhCQvWqpDXeHk7Dm7k6je2bYyeMw9GoUIhUwgPiWYnIkjbGsCMwBv9hSPL8VfMmVUrH-uPRvc4lcYNzsOqlZneL62l8Enx_MrwCn0nbHlw4z7vKPfAUdDFWaaDVr2m00]--></g></svg>"
          },
          "metadata": {},
          "execution_count": 5
        }
      ],
      "source": [
        "%%plantuml\n",
        "\n",
        "@startuml\n",
        "class Bridge {\n",
        "    length\n",
        "    height\n",
        "    ----\n",
        "    is_structurally_sound()\n",
        "}\n",
        "\n",
        "class Surveyor {\n",
        "   name\n",
        "}\n",
        "\n",
        "class Arch {\n",
        "    diameter\n",
        "}\n",
        "\n",
        "Bridge --> Arch : has\n",
        "Surveyor --> Bridge : surveys\n",
        "Surveyor --> Bridge : signs off\n",
        "@enduml"
      ]
    },
    {
      "cell_type": "markdown",
      "metadata": {
        "id": "HAmHo67zqS3_"
      },
      "source": [
        "* a **surveyor** can only **sign off** a **bridge** if it is **structurally sound**\n",
        "* a **bridge** can have several **arches**\n",
        "* a **bridge** must have at least one **arch**\n",
        "* the total of all **diameters** of a **bridge**'s **arches** must be less than the **width** of the **bridge**"
      ]
    },
    {
      "cell_type": "markdown",
      "metadata": {
        "id": "Atch_0iBqS3_"
      },
      "source": [
        "---"
      ]
    },
    {
      "cell_type": "markdown",
      "metadata": {
        "id": "7-ENEfwrqS3_"
      },
      "source": [
        "Strictly, in DDD, class diagrams are not really encouraged (partially because DDD has better tools for breaking down problems too complex for this monolithic approach), but they're adequate for getting you thinking along those lines."
      ]
    },
    {
      "cell_type": "markdown",
      "metadata": {
        "id": "rP8NUOvMqS3_"
      },
      "source": [
        "A simple example:"
      ]
    },
    {
      "cell_type": "markdown",
      "metadata": {
        "id": "vADxt1baqS3_"
      },
      "source": [
        "### Exercise: Knit Wit"
      ]
    },
    {
      "cell_type": "markdown",
      "metadata": {
        "id": "ZzoXCyomqS3_"
      },
      "source": [
        "You have been commissioned to build a web application for choosing knitting patterns. Perhaps a gallery, but maybe different types of wool, or techniques, will show different patterns? Do you want to link out to sales sites? Do you have users?\n",
        "\n",
        "* Split up into 2 groups. Within your group, nominate one person as a \"product owner\" and one person as an \"architect\"\n",
        "* The product owner is commissioning the app - their word is law! But... (for this exercise) they do not participate in the app design. The other team members should quiz them to understand what the needs are - what entities do they talk about? How are they related? What business rules are there? (e.g. who should see what? does thick wool show the same designs as fine wool?)\n",
        "* The other team members should guide the architect (who screenshares this notebook) in producing a simple domain model diagram, and bullet point list of business logic rules - don't overcomplicate it! But make sure to use the _language_ of the product owner (entities and relationships)"
      ]
    },
    {
      "cell_type": "code",
      "execution_count": null,
      "metadata": {
        "colab": {
          "base_uri": "https://localhost:8080/",
          "height": 208
        },
        "id": "fvxd0L7VqS3_",
        "outputId": "30105fe8-0873-421d-e9cd-1e2943143d0f"
      },
      "outputs": [
        {
          "output_type": "execute_result",
          "data": {
            "text/plain": [
              "<IPython.core.display.SVG object>"
            ],
            "image/svg+xml": "<svg xmlns=\"http://www.w3.org/2000/svg\" xmlns:xlink=\"http://www.w3.org/1999/xlink\" contentStyleType=\"text/css\" height=\"187px\" preserveAspectRatio=\"none\" style=\"width:215px;height:187px;background:#FFFFFF;\" version=\"1.1\" viewBox=\"0 0 215 187\" width=\"215px\" zoomAndPan=\"magnify\"><defs/><g><!--class AnEntity--><g id=\"elem_AnEntity\"><rect codeLine=\"1\" fill=\"#F1F1F1\" height=\"48\" id=\"AnEntity\" rx=\"2.5\" ry=\"2.5\" style=\"stroke:#181818;stroke-width:0.5;\" width=\"91.3223\" x=\"25.65\" y=\"7\"/><ellipse cx=\"40.65\" cy=\"23\" fill=\"#ADD1B2\" rx=\"11\" ry=\"11\" style=\"stroke:#181818;stroke-width:1.0;\"/><path d=\"M43.6188,28.6406 Q43.0406,28.9375 42.4,29.0781 Q41.7594,29.2344 41.0563,29.2344 Q38.5563,29.2344 37.2281,27.5938 Q35.9156,25.9375 35.9156,22.8125 Q35.9156,19.6875 37.2281,18.0313 Q38.5563,16.375 41.0563,16.375 Q41.7594,16.375 42.4,16.5313 Q43.0563,16.6875 43.6188,16.9844 L43.6188,19.7031 Q42.9938,19.125 42.4,18.8594 Q41.8063,18.5781 41.1813,18.5781 Q39.8375,18.5781 39.15,19.6563 Q38.4625,20.7188 38.4625,22.8125 Q38.4625,24.9063 39.15,25.9844 Q39.8375,27.0469 41.1813,27.0469 Q41.8063,27.0469 42.4,26.7813 Q42.9938,26.5 43.6188,25.9219 L43.6188,28.6406 Z \" fill=\"#000000\"/><text fill=\"#000000\" font-family=\"sans-serif\" font-size=\"14\" lengthAdjust=\"spacing\" textLength=\"59.3223\" x=\"54.65\" y=\"27.8467\">AnEntity</text><line style=\"stroke:#181818;stroke-width:0.5;\" x1=\"26.65\" x2=\"115.9723\" y1=\"39\" y2=\"39\"/><line style=\"stroke:#181818;stroke-width:0.5;\" x1=\"26.65\" x2=\"115.9723\" y1=\"47\" y2=\"47\"/></g><!--class AnotherEntity--><g id=\"elem_AnotherEntity\"><rect codeLine=\"4\" fill=\"#F1F1F1\" height=\"48\" id=\"AnotherEntity\" rx=\"2.5\" ry=\"2.5\" style=\"stroke:#181818;stroke-width:0.5;\" width=\"128.6191\" x=\"7\" y=\"132\"/><ellipse cx=\"22\" cy=\"148\" fill=\"#ADD1B2\" rx=\"11\" ry=\"11\" style=\"stroke:#181818;stroke-width:1.0;\"/><path d=\"M24.9688,153.6406 Q24.3906,153.9375 23.75,154.0781 Q23.1094,154.2344 22.4063,154.2344 Q19.9063,154.2344 18.5781,152.5938 Q17.2656,150.9375 17.2656,147.8125 Q17.2656,144.6875 18.5781,143.0313 Q19.9063,141.375 22.4063,141.375 Q23.1094,141.375 23.75,141.5313 Q24.4063,141.6875 24.9688,141.9844 L24.9688,144.7031 Q24.3438,144.125 23.75,143.8594 Q23.1563,143.5781 22.5313,143.5781 Q21.1875,143.5781 20.5,144.6563 Q19.8125,145.7188 19.8125,147.8125 Q19.8125,149.9063 20.5,150.9844 Q21.1875,152.0469 22.5313,152.0469 Q23.1563,152.0469 23.75,151.7813 Q24.3438,151.5 24.9688,150.9219 L24.9688,153.6406 Z \" fill=\"#000000\"/><text fill=\"#000000\" font-family=\"sans-serif\" font-size=\"14\" lengthAdjust=\"spacing\" textLength=\"96.6191\" x=\"36\" y=\"152.8467\">AnotherEntity</text><line style=\"stroke:#181818;stroke-width:0.5;\" x1=\"8\" x2=\"134.6191\" y1=\"164\" y2=\"164\"/><line style=\"stroke:#181818;stroke-width:0.5;\" x1=\"8\" x2=\"134.6191\" y1=\"172\" y2=\"172\"/></g><!--link AnEntity to AnotherEntity--><g id=\"link_AnEntity_AnotherEntity\"><path codeLine=\"7\" d=\"M71.31,55.42 C71.31,77.31 71.31,103.8 71.31,125.66 \" fill=\"none\" id=\"AnEntity-to-AnotherEntity\" style=\"stroke:#181818;stroke-width:1.0;\"/><polygon fill=\"#181818\" points=\"71.31,131.66,75.31,122.66,71.31,126.66,67.31,122.66,71.31,131.66\" style=\"stroke:#181818;stroke-width:1.0;\"/><text fill=\"#000000\" font-family=\"sans-serif\" font-size=\"13\" lengthAdjust=\"spacing\" textLength=\"135.6494\" x=\"72.31\" y=\"98.0669\">does something with</text></g><!--SRC=[Iyv9B2vMSCnppIl9BAbKgEQgvU9AXehbbsIa5Y5Bm9NfwjgXoLifAANafnOh5EVdffPaPEQbAvHdbcGe0G00]--></g></svg>"
          },
          "metadata": {},
          "execution_count": 6
        }
      ],
      "source": [
        "%%plantuml\n",
        "\n",
        "class AnEntity {\n",
        "}\n",
        "\n",
        "class AnotherEntity {\n",
        "}\n",
        "\n",
        "AnEntity --> AnotherEntity : \"does something with\""
      ]
    },
    {
      "cell_type": "markdown",
      "metadata": {
        "id": "xyCkb7o3qS4A"
      },
      "source": [
        "* Rule 1 about **AnEntity** ....\n",
        "* Rule 2...."
      ]
    },
    {
      "cell_type": "markdown",
      "metadata": {
        "id": "6vQZFBmjqS4A"
      },
      "source": [
        "----"
      ]
    },
    {
      "cell_type": "markdown",
      "metadata": {
        "id": "BKgcPANvqS4B"
      },
      "source": [
        "The second phase is as follows:"
      ]
    },
    {
      "cell_type": "markdown",
      "metadata": {
        "id": "grbB7bP_qS4B"
      },
      "source": [
        "* Pass the entity relationship to the other group (architects can save their notebook in the Shared folder)\n",
        "* Architects: create an Etherpad link that your own group can share between them: https://pad.riseup.net/\n",
        "* In your groups, try and take the other group's diagram and create classes based on it, relating to entities, and to give them methods and properties using only, where possible, the language that you have been given. Don't worry about implementing them! Just add a comment to the method body to explain what it does. Use the Etherpad link created by your architect to work on it collaboratively."
      ]
    },
    {
      "cell_type": "markdown",
      "metadata": {
        "id": "kHZKBSwcqS4B"
      },
      "source": [
        "### Additional Resources"
      ]
    },
    {
      "cell_type": "markdown",
      "metadata": {
        "id": "EDrUzLF3qS4B"
      },
      "source": [
        "* https://github.com/valignatev/ddd-dynamic\n",
        "* https://github.com/Softwarepark/exercises/blob/master/transport-tycoon.md - programming challenges and solutions, including in Python, with DDD, using Transport Tycoon scenarios as motivation"
      ]
    },
    {
      "cell_type": "markdown",
      "metadata": {
        "id": "YZqkI4i3qS4B"
      },
      "source": [
        "## Anaemic Domain Model\n",
        "\n",
        "This anti-pattern or code smell is about the use of OOP to disguise procedural programming. That is, using core classes as simple data stores, and not thinking hard about them representing some sort of entity - for instance, if I have a User:"
      ]
    },
    {
      "cell_type": "code",
      "execution_count": null,
      "metadata": {
        "colab": {
          "base_uri": "https://localhost:8080/",
          "height": 35
        },
        "id": "H-t1tzaXqS4B",
        "outputId": "d907d9ca-e035-4192-c09c-ef1f3144d2c6"
      },
      "outputs": [
        {
          "output_type": "execute_result",
          "data": {
            "text/plain": [
              "'Hi, my name is Ash'"
            ],
            "application/vnd.google.colaboratory.intrinsic+json": {
              "type": "string"
            }
          },
          "metadata": {},
          "execution_count": 7
        }
      ],
      "source": [
        "class User:\n",
        "    def __init__(self, name):\n",
        "        self.name = name\n",
        "\n",
        "def user_greeting(user):\n",
        "    return f\"Hi, my name is {user.name}\"\n",
        "\n",
        "def check_user_has_name(user):\n",
        "    if not user.name:\n",
        "        raise RuntimeException(\"User has no name\")\n",
        "\n",
        "ash = User('Ash')\n",
        "check_user_has_name(ash)\n",
        "user_greeting(ash)"
      ]
    },
    {
      "cell_type": "markdown",
      "metadata": {
        "id": "QHdgJuQzqS4B"
      },
      "source": [
        "This User doesn't do anything! They are only a name, with no actions. But yet... we have a function that makes a user \"greet\". An obvious question is, if a \"user greets someone\", why is \"greeting\" not a \"User\" method? This is a simplistic example, but you should question a class that has no methods, or business logic in it...\n",
        "\n",
        "There is a use case for largely methodless classes, \"Value Objects\", as they are known, but the rule of thumb is that they should only be used when they have no conceptual existence beyond their value - for example, two colours are interchangeable if they have the same hex-code (often a value object), but two users are not interchangeable just because they have the same name!\n",
        "\n",
        "Another question is why business logic specific to a user shouldn't be part of a user class - could check_user_has_name be something inherent to a user?"
      ]
    },
    {
      "cell_type": "code",
      "execution_count": null,
      "metadata": {
        "colab": {
          "base_uri": "https://localhost:8080/",
          "height": 35
        },
        "id": "r6d1hhL2qS4C",
        "outputId": "c1feeb17-eee4-4d66-c1b0-009829f72f85"
      },
      "outputs": [
        {
          "output_type": "execute_result",
          "data": {
            "text/plain": [
              "'Hi, my name is Ash'"
            ],
            "application/vnd.google.colaboratory.intrinsic+json": {
              "type": "string"
            }
          },
          "metadata": {},
          "execution_count": 8
        }
      ],
      "source": [
        "class User:\n",
        "    def __init__(self, name):\n",
        "        self.name = name\n",
        "\n",
        "    def greet(self):\n",
        "        return f\"Hi, my name is {self.name}\"\n",
        "\n",
        "    def check_has_name(self):\n",
        "        if not self.name:\n",
        "            raise RuntimeException(\"I have no name\")\n",
        "\n",
        "ash = User('Ash')\n",
        "ash.check_has_name()\n",
        "ash.greet()"
      ]
    },
    {
      "cell_type": "markdown",
      "metadata": {
        "id": "aVOKsGA0qS4C"
      },
      "source": [
        "## Call Super"
      ]
    },
    {
      "cell_type": "markdown",
      "metadata": {
        "id": "UVrAN_N_qS4C"
      },
      "source": [
        "This one is particularly tempting in Python - it's not a massive issue, but it touches on a number of underlying OOP principles."
      ]
    },
    {
      "cell_type": "markdown",
      "metadata": {
        "id": "eZOo5HWlqS4C"
      },
      "source": [
        "Lets suppose that we have a library that defines a User that sits in a chair (odd library, but hey)."
      ]
    },
    {
      "cell_type": "code",
      "execution_count": null,
      "metadata": {
        "id": "Ft3BkbqhqS4C"
      },
      "outputs": [],
      "source": [
        "class User:\n",
        "    in_chair = True\n",
        "\n",
        "    def stand_up(self):\n",
        "        self.in_chair = False\n",
        "\n",
        "    # Don't forget to call this go_to_door method if overriding!!\n",
        "    def go_to_door(self):\n",
        "        self.stand_up()"
      ]
    },
    {
      "cell_type": "markdown",
      "metadata": {
        "id": "QU9XuI5kqS4C"
      },
      "source": [
        "We wish to use this user in our own class."
      ]
    },
    {
      "cell_type": "code",
      "execution_count": null,
      "metadata": {
        "id": "x55QtviAqS4P"
      },
      "outputs": [],
      "source": [
        "# In my own class\n",
        "class Receptionist(User):\n",
        "    behind_desk = True\n",
        "\n",
        "    def go_to_door(self):\n",
        "        self.behind_desk = False\n",
        "        super(Receptionist).go_to_door()"
      ]
    },
    {
      "cell_type": "markdown",
      "metadata": {
        "id": "5Z9RWxCPqS4P"
      },
      "source": [
        "Here, any subclass of User, must remember to run `super(MyClass).go_to_door()` or else..."
      ]
    },
    {
      "cell_type": "code",
      "execution_count": null,
      "metadata": {
        "colab": {
          "base_uri": "https://localhost:8080/"
        },
        "id": "dDQKQ8sOqS4P",
        "outputId": "1ed81f56-0a01-4e7c-e5e7-42d519f71b26"
      },
      "outputs": [
        {
          "output_type": "execute_result",
          "data": {
            "text/plain": [
              "(True, False)"
            ]
          },
          "metadata": {},
          "execution_count": 11
        }
      ],
      "source": [
        "class Receptionist(User):\n",
        "    behind_desk = True\n",
        "\n",
        "    def go_to_door(self):\n",
        "        self.behind_desk = False\n",
        "\n",
        "dan = Receptionist()\n",
        "dan.go_to_door()\n",
        "dan.in_chair, dan.behind_desk"
      ]
    },
    {
      "cell_type": "markdown",
      "metadata": {
        "id": "sMd-tTP9qS4Q"
      },
      "source": [
        "🤔"
      ]
    },
    {
      "cell_type": "markdown",
      "metadata": {
        "id": "XiV0FRp6qS4Q"
      },
      "source": [
        "All subclasses must remember to call the superclass's method - if they forget, or misread the docs, an inconsistent state is created. This is a specific case of a wider principle. Quoting Martin Fowler:\n",
        "\n",
        "> Whenever you have to remember to do something every time, that's a sign of a bad API."
      ]
    },
    {
      "cell_type": "markdown",
      "metadata": {
        "id": "Tl-w3-sRqS4Q"
      },
      "source": [
        "How do you deal with that? One option is to use a \"hook\"."
      ]
    },
    {
      "cell_type": "code",
      "execution_count": null,
      "metadata": {
        "id": "iOUkiCQFqS4Q"
      },
      "outputs": [],
      "source": [
        "class User:\n",
        "    in_chair = True\n",
        "\n",
        "    def stand_up(self):\n",
        "        self.in_chair = False\n",
        "\n",
        "    def go_to_door(self):\n",
        "        self.stand_up()\n",
        "        self.do_going_to_door()\n",
        "\n",
        "    # Override this!\n",
        "    def do_going_to_door(self):\n",
        "        pass"
      ]
    },
    {
      "cell_type": "code",
      "execution_count": null,
      "metadata": {
        "colab": {
          "base_uri": "https://localhost:8080/"
        },
        "id": "ru-v5cGSqS4Q",
        "outputId": "c37c4283-3a0f-40b6-b219-07eb0d558dd9"
      },
      "outputs": [
        {
          "output_type": "execute_result",
          "data": {
            "text/plain": [
              "(False, False)"
            ]
          },
          "metadata": {},
          "execution_count": 13
        }
      ],
      "source": [
        "class Receptionist(User):\n",
        "    behind_desk = True\n",
        "\n",
        "    def do_going_to_door(self):\n",
        "        self.behind_desk = False\n",
        "\n",
        "dan = Receptionist()\n",
        "dan.go_to_door()\n",
        "dan.in_chair, dan.behind_desk"
      ]
    },
    {
      "cell_type": "markdown",
      "metadata": {
        "id": "EP9JkNzIqS4R"
      },
      "source": [
        "Success - Dan is at the door, and not still sitting down or behind a desk."
      ]
    },
    {
      "cell_type": "markdown",
      "metadata": {
        "id": "TteG8aNAqS4R"
      },
      "source": [
        "### Getters and Setters"
      ]
    },
    {
      "cell_type": "markdown",
      "metadata": {
        "id": "_GCHnKaQqS4R"
      },
      "source": [
        "Particularly tempting if you are coming from a Java or C# background, Python discourages lots of getter and setter methods in code. In part, because Python (for better or worse) philosophically puts much less emphasis on privacy of class members. In part, because it has more Pythonic ways of doing it..."
      ]
    },
    {
      "cell_type": "code",
      "execution_count": null,
      "metadata": {
        "colab": {
          "base_uri": "https://localhost:8080/"
        },
        "id": "8QFxrDciqS4R",
        "outputId": "58c9cc57-98cc-46d9-bb81-7e6b7d41b1a2"
      },
      "outputs": [
        {
          "output_type": "execute_result",
          "data": {
            "text/plain": [
              "0.9"
            ]
          },
          "metadata": {},
          "execution_count": 14
        }
      ],
      "source": [
        "class Biscuit:\n",
        "    crumbliness_coefficient = 0.3\n",
        "\n",
        "    def get_crumbliness_coefficient(self):\n",
        "        return self.crumbliness_coefficient\n",
        "\n",
        "    def set_crumbliness_coefficient(self, crumble):\n",
        "        self.crumbliness_coefficient = crumble\n",
        "\n",
        "flapjack = Biscuit()\n",
        "flapjack.set_crumbliness_coefficient(0.9)\n",
        "flapjack.get_crumbliness_coefficient()"
      ]
    },
    {
      "cell_type": "markdown",
      "metadata": {
        "id": "HVQWusxPqS4S"
      },
      "source": [
        "Python is more focused on succinctness and clarity:"
      ]
    },
    {
      "cell_type": "code",
      "execution_count": null,
      "metadata": {
        "colab": {
          "base_uri": "https://localhost:8080/"
        },
        "id": "Uw0iEX2mqS4S",
        "outputId": "967f789a-a6b7-4ec2-af17-ef05a4d10ae4"
      },
      "outputs": [
        {
          "output_type": "execute_result",
          "data": {
            "text/plain": [
              "0.9"
            ]
          },
          "metadata": {},
          "execution_count": 15
        }
      ],
      "source": [
        "class Biscuit:\n",
        "    crumbliness_coefficient = 0.3\n",
        "\n",
        "flapjack = Biscuit()\n",
        "flapjack.crumbliness_coefficient = 0.9\n",
        "flapjack.crumbliness_coefficient"
      ]
    },
    {
      "cell_type": "markdown",
      "metadata": {
        "id": "_T4khQ8tqS4S"
      },
      "source": [
        "Of course, there are some cases when this breach of encapsulation is a bit too much, or you need to do some processing."
      ]
    },
    {
      "cell_type": "code",
      "execution_count": null,
      "metadata": {
        "colab": {
          "base_uri": "https://localhost:8080/"
        },
        "id": "-DJ1I1VXqS4S",
        "outputId": "058e8203-8db9-4414-e682-7cca586c3fd0"
      },
      "outputs": [
        {
          "output_type": "execute_result",
          "data": {
            "text/plain": [
              "0.9"
            ]
          },
          "metadata": {},
          "execution_count": 16
        }
      ],
      "source": [
        "class Biscuit:\n",
        "    _crumbliness_coefficient = 0.3\n",
        "\n",
        "    @property\n",
        "    def crumbliness_coefficient(self):\n",
        "        return self._crumbliness_coefficient\n",
        "\n",
        "    @crumbliness_coefficient.setter\n",
        "    def crumbliness_coefficient(self, crumble):\n",
        "        self._crumbliness_coefficient = crumble\n",
        "\n",
        "flapjack = Biscuit()\n",
        "flapjack.crumbliness_coefficient = 0.9\n",
        "flapjack.crumbliness_coefficient"
      ]
    },
    {
      "cell_type": "markdown",
      "metadata": {
        "id": "JdtkF1OmqS4T"
      },
      "source": [
        "Note the use of an underscore to indicate that `_crumbliness_coefficient` should be protected within the class..."
      ]
    },
    {
      "cell_type": "code",
      "execution_count": null,
      "metadata": {
        "colab": {
          "base_uri": "https://localhost:8080/"
        },
        "id": "vJatm5JoqS4T",
        "outputId": "5088602b-2f2b-4130-8f0f-016e0c0b820e"
      },
      "outputs": [
        {
          "output_type": "execute_result",
          "data": {
            "text/plain": [
              "0.9"
            ]
          },
          "metadata": {},
          "execution_count": 17
        }
      ],
      "source": [
        "flapjack._crumbliness_coefficient"
      ]
    },
    {
      "cell_type": "markdown",
      "metadata": {
        "id": "usHtsFm2qS4T"
      },
      "source": [
        "...but that is convention. Not generally recommended, but we can go one step further (especially if talking about strictly private methods), and use a double-underscore - Python will enforce this."
      ]
    },
    {
      "cell_type": "code",
      "execution_count": null,
      "metadata": {
        "colab": {
          "base_uri": "https://localhost:8080/"
        },
        "id": "ml4uKNK7qS4T",
        "outputId": "95c3b3d9-ea7c-47be-d395-9b4072f23b0a"
      },
      "outputs": [
        {
          "output_type": "execute_result",
          "data": {
            "text/plain": [
              "0.9"
            ]
          },
          "metadata": {},
          "execution_count": 18
        }
      ],
      "source": [
        "class Biscuit:\n",
        "    __crumbliness_coefficient = 0.3\n",
        "\n",
        "    @property\n",
        "    def crumbliness_coefficient(self):\n",
        "        return self.__crumbliness_coefficient\n",
        "\n",
        "    @crumbliness_coefficient.setter\n",
        "    def crumbliness_coefficient(self, crumble):\n",
        "        self.__crumbliness_coefficient = crumble\n",
        "\n",
        "flapjack = Biscuit()\n",
        "flapjack.crumbliness_coefficient = 0.9\n",
        "flapjack.crumbliness_coefficient"
      ]
    },
    {
      "cell_type": "code",
      "execution_count": null,
      "metadata": {
        "colab": {
          "base_uri": "https://localhost:8080/",
          "height": 141
        },
        "id": "G04Lc8vDqS4U",
        "outputId": "812cb289-749a-49f3-cefa-44e0bfe72d70"
      },
      "outputs": [
        {
          "output_type": "error",
          "ename": "AttributeError",
          "evalue": "'Biscuit' object has no attribute '__crumbliness_coefficient'",
          "traceback": [
            "\u001b[0;31m---------------------------------------------------------------------------\u001b[0m",
            "\u001b[0;31mAttributeError\u001b[0m                            Traceback (most recent call last)",
            "\u001b[0;32m<ipython-input-19-22680e1d863d>\u001b[0m in \u001b[0;36m<cell line: 1>\u001b[0;34m()\u001b[0m\n\u001b[0;32m----> 1\u001b[0;31m \u001b[0mflapjack\u001b[0m\u001b[0;34m.\u001b[0m\u001b[0m__crumbliness_coefficient\u001b[0m\u001b[0;34m\u001b[0m\u001b[0;34m\u001b[0m\u001b[0m\n\u001b[0m",
            "\u001b[0;31mAttributeError\u001b[0m: 'Biscuit' object has no attribute '__crumbliness_coefficient'"
          ]
        }
      ],
      "source": [
        "flapjack.__crumbliness_coefficient"
      ]
    },
    {
      "cell_type": "code",
      "source": [
        "flapjack._Biscuit__crumbliness_coefficient"
      ],
      "metadata": {
        "colab": {
          "base_uri": "https://localhost:8080/"
        },
        "id": "QW2AWxeTtY0e",
        "outputId": "df281f8d-6f47-4ddb-a669-cccf97db7a5a"
      },
      "execution_count": null,
      "outputs": [
        {
          "output_type": "execute_result",
          "data": {
            "text/plain": [
              "0.9"
            ]
          },
          "metadata": {},
          "execution_count": 20
        }
      ]
    },
    {
      "cell_type": "markdown",
      "metadata": {
        "id": "gQDwYP60qS4U"
      },
      "source": [
        "# Mix-and-match Types"
      ]
    },
    {
      "cell_type": "markdown",
      "metadata": {
        "id": "HQw2gFY4qS4U"
      },
      "source": [
        "Realistically, there are occasions where this one is necessary or even desirable, but far fewer than you would see in the wild. In contrast to the previous, coming from a Java or C# background should make you less susceptible..."
      ]
    },
    {
      "cell_type": "code",
      "execution_count": null,
      "metadata": {
        "id": "BBWXTwFjqS4U"
      },
      "outputs": [],
      "source": [
        "class Prisoner:\n",
        "    def __init__(self, name):\n",
        "        self.name = name\n",
        "\n",
        "    def get_number(self):\n",
        "        if self.name == 'Valjean':\n",
        "            return 24601\n",
        "        elif self.name == 'Number Six':\n",
        "            return 6\n",
        "        elif self.name == 'Bird man of Alcatraz':\n",
        "            return '#594'\n",
        "        else:\n",
        "            return None"
      ]
    },
    {
      "cell_type": "markdown",
      "metadata": {
        "id": "w35k1E6MqS4U"
      },
      "source": [
        "While there are a couple of issues there, this succinctly shows a method that can return three different types. Why is that an issue?"
      ]
    },
    {
      "cell_type": "code",
      "execution_count": null,
      "metadata": {
        "colab": {
          "base_uri": "https://localhost:8080/",
          "height": 35
        },
        "id": "WTcRvFAbqS4U",
        "outputId": "680f21e2-8567-499f-bacb-adf0776818f8"
      },
      "outputs": [
        {
          "output_type": "execute_result",
          "data": {
            "text/plain": [
              "'Prison number: #594'"
            ],
            "application/vnd.google.colaboratory.intrinsic+json": {
              "type": "string"
            }
          },
          "metadata": {},
          "execution_count": 22
        }
      ],
      "source": [
        "robert_stroud = Prisoner('Bird man of Alcatraz')\n",
        "'Prison number: ' + robert_stroud.get_number()"
      ]
    },
    {
      "cell_type": "markdown",
      "metadata": {
        "id": "wpUIO7ghqS4U"
      },
      "source": [
        "That all seems fine in a test, but..."
      ]
    },
    {
      "cell_type": "code",
      "execution_count": null,
      "metadata": {
        "colab": {
          "base_uri": "https://localhost:8080/",
          "height": 158
        },
        "id": "pDzbRzXMqS4V",
        "outputId": "76a44d5c-876f-44a0-b660-05ef654b76c7"
      },
      "outputs": [
        {
          "output_type": "error",
          "ename": "TypeError",
          "evalue": "can only concatenate str (not \"int\") to str",
          "traceback": [
            "\u001b[0;31m---------------------------------------------------------------------------\u001b[0m",
            "\u001b[0;31mTypeError\u001b[0m                                 Traceback (most recent call last)",
            "\u001b[0;32m<ipython-input-23-bcb97be1f9ed>\u001b[0m in \u001b[0;36m<cell line: 2>\u001b[0;34m()\u001b[0m\n\u001b[1;32m      1\u001b[0m \u001b[0mmayor_madeleine\u001b[0m \u001b[0;34m=\u001b[0m \u001b[0mPrisoner\u001b[0m\u001b[0;34m(\u001b[0m\u001b[0;34m'Valjean'\u001b[0m\u001b[0;34m)\u001b[0m\u001b[0;34m\u001b[0m\u001b[0;34m\u001b[0m\u001b[0m\n\u001b[0;32m----> 2\u001b[0;31m \u001b[0;34m'Prison number: '\u001b[0m \u001b[0;34m+\u001b[0m \u001b[0mmayor_madeleine\u001b[0m\u001b[0;34m.\u001b[0m\u001b[0mget_number\u001b[0m\u001b[0;34m(\u001b[0m\u001b[0;34m)\u001b[0m\u001b[0;34m\u001b[0m\u001b[0;34m\u001b[0m\u001b[0m\n\u001b[0m",
            "\u001b[0;31mTypeError\u001b[0m: can only concatenate str (not \"int\") to str"
          ]
        }
      ],
      "source": [
        "mayor_madeleine = Prisoner('Valjean')\n",
        "'Prison number: ' + mayor_madeleine.get_number()"
      ]
    },
    {
      "cell_type": "markdown",
      "metadata": {
        "id": "5v4gL08qqS4V"
      },
      "source": [
        "or..."
      ]
    },
    {
      "cell_type": "code",
      "execution_count": null,
      "metadata": {
        "colab": {
          "base_uri": "https://localhost:8080/",
          "height": 158
        },
        "id": "aQZjTFOvqS4V",
        "outputId": "62e813da-48b3-45b8-c05c-a31191edae5e"
      },
      "outputs": [
        {
          "output_type": "error",
          "ename": "TypeError",
          "evalue": "can only concatenate str (not \"NoneType\") to str",
          "traceback": [
            "\u001b[0;31m---------------------------------------------------------------------------\u001b[0m",
            "\u001b[0;31mTypeError\u001b[0m                                 Traceback (most recent call last)",
            "\u001b[0;32m<ipython-input-24-9f69c30e84c4>\u001b[0m in \u001b[0;36m<cell line: 2>\u001b[0;34m()\u001b[0m\n\u001b[1;32m      1\u001b[0m \u001b[0mmary_stuart\u001b[0m \u001b[0;34m=\u001b[0m \u001b[0mPrisoner\u001b[0m\u001b[0;34m(\u001b[0m\u001b[0;34m'Mary Queen of Scots'\u001b[0m\u001b[0;34m)\u001b[0m\u001b[0;34m\u001b[0m\u001b[0;34m\u001b[0m\u001b[0m\n\u001b[0;32m----> 2\u001b[0;31m \u001b[0;34m'Prison number: '\u001b[0m \u001b[0;34m+\u001b[0m \u001b[0mmary_stuart\u001b[0m\u001b[0;34m.\u001b[0m\u001b[0mget_number\u001b[0m\u001b[0;34m(\u001b[0m\u001b[0;34m)\u001b[0m\u001b[0;34m\u001b[0m\u001b[0;34m\u001b[0m\u001b[0m\n\u001b[0m",
            "\u001b[0;31mTypeError\u001b[0m: can only concatenate str (not \"NoneType\") to str"
          ]
        }
      ],
      "source": [
        "mary_stuart = Prisoner('Mary Queen of Scots')\n",
        "'Prison number: ' + mary_stuart.get_number()"
      ]
    },
    {
      "cell_type": "markdown",
      "metadata": {
        "id": "OO6oQ10FqS4V"
      },
      "source": [
        "One approach for helping constrain types going in and out of a function or method is Python's relatively recent typing syntax."
      ]
    },
    {
      "cell_type": "code",
      "execution_count": null,
      "metadata": {
        "id": "Na7dYWtmqS4V"
      },
      "outputs": [],
      "source": [
        "class Prisoner:\n",
        "    def __init__(self, name: str):\n",
        "        self.name = name\n",
        "\n",
        "    def get_number(self) -> str:\n",
        "        if self.name == 'Valjean':\n",
        "            return 24601\n",
        "        elif self.name == 'Number Six':\n",
        "            return 6\n",
        "        elif self.name == 'Bird man of Alcatraz':\n",
        "            return '#594'\n",
        "        else:\n",
        "            return None\n",
        "\n",
        "\n",
        "cell_content = In[-1]"
      ]
    },
    {
      "cell_type": "markdown",
      "metadata": {
        "id": "zWV8SPGwqS4V"
      },
      "source": [
        "Python's type-checking is actually very powerful, allowing C++-style templating of types to be checked - for instance, a sequence of floats or Prisoners (that will throw an exception if it is passed a list with an int in it). A static type-checker is then able to check for these kind of issues - a good example is `mypy`, which is normally run for the command line. If we dump out the previous cell to a file, we can try it..."
      ]
    },
    {
      "cell_type": "code",
      "source": [
        "!pip install mypy"
      ],
      "metadata": {
        "colab": {
          "base_uri": "https://localhost:8080/"
        },
        "id": "W85HSI6vuDv1",
        "outputId": "9b57f066-e91a-443a-b2ef-ccafefe0cd5a"
      },
      "execution_count": null,
      "outputs": [
        {
          "output_type": "stream",
          "name": "stdout",
          "text": [
            "Collecting mypy\n",
            "  Downloading mypy-1.10.1-cp310-cp310-manylinux_2_17_x86_64.manylinux2014_x86_64.whl (12.7 MB)\n",
            "\u001b[2K     \u001b[90m━━━━━━━━━━━━━━━━━━━━━━━━━━━━━━━━━━━━━━━━\u001b[0m \u001b[32m12.7/12.7 MB\u001b[0m \u001b[31m52.9 MB/s\u001b[0m eta \u001b[36m0:00:00\u001b[0m\n",
            "\u001b[?25hRequirement already satisfied: typing-extensions>=4.1.0 in /usr/local/lib/python3.10/dist-packages (from mypy) (4.12.2)\n",
            "Collecting mypy-extensions>=1.0.0 (from mypy)\n",
            "  Downloading mypy_extensions-1.0.0-py3-none-any.whl (4.7 kB)\n",
            "Requirement already satisfied: tomli>=1.1.0 in /usr/local/lib/python3.10/dist-packages (from mypy) (2.0.1)\n",
            "Installing collected packages: mypy-extensions, mypy\n",
            "Successfully installed mypy-1.10.1 mypy-extensions-1.0.0\n"
          ]
        }
      ]
    },
    {
      "cell_type": "code",
      "execution_count": null,
      "metadata": {
        "id": "ZRsG8wXkqS4V"
      },
      "outputs": [],
      "source": [
        "with open('prisoner.py', 'w') as f:\n",
        "    f.write(cell_content)"
      ]
    },
    {
      "cell_type": "code",
      "execution_count": null,
      "metadata": {
        "colab": {
          "base_uri": "https://localhost:8080/"
        },
        "id": "xTgj_27jqS4V",
        "outputId": "d39ac32f-b739-4bde-996f-e035dae0545b"
      },
      "outputs": [
        {
          "output_type": "stream",
          "name": "stdout",
          "text": [
            "prisoner.py:7: \u001b[1m\u001b[31merror:\u001b[m Incompatible return value type (got \u001b[m\u001b[1m\"int\"\u001b[m, expected \u001b[m\u001b[1m\"str\"\u001b[m)  \u001b[m\u001b[33m[return-value]\u001b[m\n",
            "prisoner.py:9: \u001b[1m\u001b[31merror:\u001b[m Incompatible return value type (got \u001b[m\u001b[1m\"int\"\u001b[m, expected \u001b[m\u001b[1m\"str\"\u001b[m)  \u001b[m\u001b[33m[return-value]\u001b[m\n",
            "prisoner.py:13: \u001b[1m\u001b[31merror:\u001b[m Incompatible return value type (got \u001b[m\u001b[1m\"None\"\u001b[m, expected \u001b[m\u001b[1m\"str\"\u001b[m)  \u001b[m\u001b[33m[return-value]\u001b[m\n",
            "prisoner.py:16: \u001b[1m\u001b[31merror:\u001b[m Name \u001b[m\u001b[1m\"In\"\u001b[m is not defined  \u001b[m\u001b[33m[name-defined]\u001b[m\n",
            "\u001b[1m\u001b[31mFound 4 errors in 1 file (checked 1 source file)\u001b[m\n"
          ]
        }
      ],
      "source": [
        "!mypy prisoner.py"
      ]
    },
    {
      "cell_type": "markdown",
      "metadata": {
        "id": "HYZQUhM5qS4W"
      },
      "source": [
        "### Exercise: Typing Practice"
      ]
    },
    {
      "cell_type": "markdown",
      "metadata": {
        "id": "o4I8CrtjqS4W"
      },
      "source": [
        "Create a `Game` class - it should create a property, its `board` that is a 3x3 list of lists or numpy array. You should have a method `move` that can take a string `x` or a string `o`. It should also return a nice board representation when `board_to_string` is called (make it fancy if you like!)."
      ]
    },
    {
      "cell_type": "code",
      "source": [
        "class Game:\n",
        "    def __init__(self):\n",
        "        self.board = [\n",
        "            [None, None, None],\n",
        "            [None, None, None],\n",
        "            [None, None, None]\n",
        "        ]\n",
        "\n",
        "    def move(self, counter, i, j):\n",
        "        self.board[i][j] = counter\n",
        "\n",
        "    def board_to_string(self):\n",
        "        board = '-' * 5 + '\\n'\n",
        "        for row in self.board:\n",
        "            board += '|'\n",
        "            board += ''.join([counter if counter else ' ' for counter in row])\n",
        "            board += '|\\n'\n",
        "        board += '-' * 5\n",
        "\n",
        "        return board"
      ],
      "metadata": {
        "id": "ReTWf1Luugxm"
      },
      "execution_count": null,
      "outputs": []
    },
    {
      "cell_type": "code",
      "execution_count": null,
      "metadata": {
        "colab": {
          "base_uri": "https://localhost:8080/"
        },
        "id": "csITmwEoqS4W",
        "outputId": "a3a37773-7a9a-471b-b7c1-de2a94896487"
      },
      "outputs": [
        {
          "output_type": "stream",
          "name": "stdout",
          "text": [
            "-----\n",
            "|o  |\n",
            "|xo |\n",
            "|   |\n",
            "-----\n"
          ]
        }
      ],
      "source": [
        "my_game = Game()\n",
        "my_game.move('x', 0, 0)\n",
        "my_game.move('o', 1, 1)\n",
        "my_game.move('x', 1, 0)\n",
        "my_game.move('o', 0, 0)\n",
        "\n",
        "print(my_game.board_to_string())"
      ]
    },
    {
      "cell_type": "code",
      "execution_count": null,
      "metadata": {
        "hideCode": true,
        "id": "2WoabLLfqS4W"
      },
      "outputs": [],
      "source": []
    },
    {
      "cell_type": "markdown",
      "metadata": {
        "id": "jWV2aX-KqS4W"
      },
      "source": [
        "### Extension 0"
      ]
    },
    {
      "cell_type": "markdown",
      "metadata": {
        "id": "yFYiT1SjqS4W"
      },
      "source": [
        "*Throw* an exception if the cell you wish to move to already has a counter in it."
      ]
    },
    {
      "cell_type": "code",
      "source": [
        "class Game:\n",
        "    def __init__(self):\n",
        "        self.board = [\n",
        "            [None, None, None],\n",
        "            [None, None, None],\n",
        "            [None, None, None]\n",
        "        ]\n",
        "\n",
        "    def move(self, counter, i, j):\n",
        "        if self.board[i][j] is not None:\n",
        "            raise ValueError(f\"Cell ({i}, {j}) is already occupied.\")\n",
        "        self.board[i][j] = counter\n",
        "\n",
        "\n",
        "    def board_to_string(self):\n",
        "        board = '-' * 5 + '\\n'\n",
        "        for row in self.board:\n",
        "            board += '|'\n",
        "            board += ''.join([counter if counter else ' ' for counter in row])\n",
        "            board += '|\\n'\n",
        "        board += '-' * 5\n",
        "\n",
        "        return board"
      ],
      "metadata": {
        "id": "USP0MnKWwEzh"
      },
      "execution_count": null,
      "outputs": []
    },
    {
      "cell_type": "code",
      "source": [
        "my_game = Game()\n",
        "my_game.move('x', 0, 0)\n",
        "my_game.move('o', 1, 1)\n",
        "my_game.move('x', 1, 0)\n",
        "my_game.move('o', 0, 0)\n",
        "\n",
        "print(my_game.board_to_string())"
      ],
      "metadata": {
        "colab": {
          "base_uri": "https://localhost:8080/",
          "height": 332
        },
        "id": "mW9apfuvwWj8",
        "outputId": "97580c8c-76b2-4828-9fca-b530c008a0b4"
      },
      "execution_count": null,
      "outputs": [
        {
          "output_type": "error",
          "ename": "ValueError",
          "evalue": "Cell (0, 0) is already occupied.",
          "traceback": [
            "\u001b[0;31m---------------------------------------------------------------------------\u001b[0m",
            "\u001b[0;31mValueError\u001b[0m                                Traceback (most recent call last)",
            "\u001b[0;32m<ipython-input-48-b266b59b72d4>\u001b[0m in \u001b[0;36m<cell line: 5>\u001b[0;34m()\u001b[0m\n\u001b[1;32m      3\u001b[0m \u001b[0mmy_game\u001b[0m\u001b[0;34m.\u001b[0m\u001b[0mmove\u001b[0m\u001b[0;34m(\u001b[0m\u001b[0;34m'o'\u001b[0m\u001b[0;34m,\u001b[0m \u001b[0;36m1\u001b[0m\u001b[0;34m,\u001b[0m \u001b[0;36m1\u001b[0m\u001b[0;34m)\u001b[0m\u001b[0;34m\u001b[0m\u001b[0;34m\u001b[0m\u001b[0m\n\u001b[1;32m      4\u001b[0m \u001b[0mmy_game\u001b[0m\u001b[0;34m.\u001b[0m\u001b[0mmove\u001b[0m\u001b[0;34m(\u001b[0m\u001b[0;34m'x'\u001b[0m\u001b[0;34m,\u001b[0m \u001b[0;36m1\u001b[0m\u001b[0;34m,\u001b[0m \u001b[0;36m0\u001b[0m\u001b[0;34m)\u001b[0m\u001b[0;34m\u001b[0m\u001b[0;34m\u001b[0m\u001b[0m\n\u001b[0;32m----> 5\u001b[0;31m \u001b[0mmy_game\u001b[0m\u001b[0;34m.\u001b[0m\u001b[0mmove\u001b[0m\u001b[0;34m(\u001b[0m\u001b[0;34m'o'\u001b[0m\u001b[0;34m,\u001b[0m \u001b[0;36m0\u001b[0m\u001b[0;34m,\u001b[0m \u001b[0;36m0\u001b[0m\u001b[0;34m)\u001b[0m\u001b[0;34m\u001b[0m\u001b[0;34m\u001b[0m\u001b[0m\n\u001b[0m\u001b[1;32m      6\u001b[0m \u001b[0;34m\u001b[0m\u001b[0m\n\u001b[1;32m      7\u001b[0m \u001b[0mprint\u001b[0m\u001b[0;34m(\u001b[0m\u001b[0mmy_game\u001b[0m\u001b[0;34m.\u001b[0m\u001b[0mboard_to_string\u001b[0m\u001b[0;34m(\u001b[0m\u001b[0;34m)\u001b[0m\u001b[0;34m)\u001b[0m\u001b[0;34m\u001b[0m\u001b[0;34m\u001b[0m\u001b[0m\n",
            "\u001b[0;32m<ipython-input-46-970911c6cb92>\u001b[0m in \u001b[0;36mmove\u001b[0;34m(self, counter, i, j)\u001b[0m\n\u001b[1;32m     17\u001b[0m     \u001b[0;32mdef\u001b[0m \u001b[0mmove\u001b[0m\u001b[0;34m(\u001b[0m\u001b[0mself\u001b[0m\u001b[0;34m,\u001b[0m \u001b[0mcounter\u001b[0m\u001b[0;34m,\u001b[0m \u001b[0mi\u001b[0m\u001b[0;34m,\u001b[0m \u001b[0mj\u001b[0m\u001b[0;34m)\u001b[0m\u001b[0;34m:\u001b[0m\u001b[0;34m\u001b[0m\u001b[0;34m\u001b[0m\u001b[0m\n\u001b[1;32m     18\u001b[0m         \u001b[0;32mif\u001b[0m \u001b[0mself\u001b[0m\u001b[0;34m.\u001b[0m\u001b[0mboard\u001b[0m\u001b[0;34m[\u001b[0m\u001b[0mi\u001b[0m\u001b[0;34m]\u001b[0m\u001b[0;34m[\u001b[0m\u001b[0mj\u001b[0m\u001b[0;34m]\u001b[0m \u001b[0;32mis\u001b[0m \u001b[0;32mnot\u001b[0m \u001b[0;32mNone\u001b[0m\u001b[0;34m:\u001b[0m\u001b[0;34m\u001b[0m\u001b[0;34m\u001b[0m\u001b[0m\n\u001b[0;32m---> 19\u001b[0;31m             \u001b[0;32mraise\u001b[0m \u001b[0mValueError\u001b[0m\u001b[0;34m(\u001b[0m\u001b[0;34mf\"Cell ({i}, {j}) is already occupied.\"\u001b[0m\u001b[0;34m)\u001b[0m\u001b[0;34m\u001b[0m\u001b[0;34m\u001b[0m\u001b[0m\n\u001b[0m\u001b[1;32m     20\u001b[0m         \u001b[0;32mif\u001b[0m \u001b[0mcounter\u001b[0m \u001b[0;32mnot\u001b[0m \u001b[0;32min\u001b[0m \u001b[0;34m[\u001b[0m\u001b[0;34m'x'\u001b[0m\u001b[0;34m,\u001b[0m \u001b[0;34m'o'\u001b[0m\u001b[0;34m]\u001b[0m\u001b[0;34m:\u001b[0m\u001b[0;34m\u001b[0m\u001b[0;34m\u001b[0m\u001b[0m\n\u001b[1;32m     21\u001b[0m             \u001b[0;32mraise\u001b[0m \u001b[0mValueError\u001b[0m\u001b[0;34m(\u001b[0m\u001b[0;34m\"Counter must be either 'x' or 'o'.\"\u001b[0m\u001b[0;34m)\u001b[0m\u001b[0;34m\u001b[0m\u001b[0;34m\u001b[0m\u001b[0m\n",
            "\u001b[0;31mValueError\u001b[0m: Cell (0, 0) is already occupied."
          ]
        }
      ]
    },
    {
      "cell_type": "markdown",
      "metadata": {
        "id": "TblCmT6MqS4W"
      },
      "source": [
        "Now, create two exceptions by subclassing RuntimeError - one for winning, and one for a draw. The move method should fire either of these if appropriate."
      ]
    },
    {
      "cell_type": "code",
      "source": [
        "class WinError(RuntimeError):\n",
        "    def __init__(self, counter):\n",
        "        super().__init__(f\"'{counter}' has won the game!\")\n",
        "\n",
        "class DrawError(RuntimeError):\n",
        "    def __init__(self):\n",
        "        super().__init__(\"The game is a draw!\")\n",
        "\n",
        "class Game:\n",
        "    def __init__(self):\n",
        "        self.board = [\n",
        "            [None, None, None],\n",
        "            [None, None, None],\n",
        "            [None, None, None]\n",
        "        ]\n",
        "\n",
        "    def move(self, counter, i, j):\n",
        "        if self.board[i][j] is not None:\n",
        "            raise ValueError(f\"Cell ({i}, {j}) is already occupied.\")\n",
        "        self.board[i][j] = counter\n",
        "        if self.check_win(counter):\n",
        "            raise WinError(counter)\n",
        "        if self.check_draw():\n",
        "            raise DrawError()\n",
        "\n",
        "    def check_win(self, counter):\n",
        "        # Check rows and columns\n",
        "        for i in range(3):\n",
        "            if all(self.board[i][j] == counter for j in range(3)) or all(self.board[j][i] == counter for j in range(3)):\n",
        "                return True\n",
        "        # Check diagonals\n",
        "        if all(self.board[i][i] == counter for i in range(3)) or all(self.board[i][2-i] == counter for i in range(3)):\n",
        "            return True\n",
        "        return False\n",
        "\n",
        "    def check_draw(self):\n",
        "        return all(cell is not None for row in self.board for cell in row)\n",
        "\n",
        "    def board_to_string(self):\n",
        "        board_str = '-' * 9 + '\\n'\n",
        "        for row in self.board:\n",
        "            board_str += '| '\n",
        "            board_str += ' | '.join([counter if counter else ' ' for counter in row])\n",
        "            board_str += ' |\\n'\n",
        "            board_str += '-' * 9 + '\\n'\n",
        "        return board_str"
      ],
      "metadata": {
        "id": "phdIn34GyW42"
      },
      "execution_count": null,
      "outputs": []
    },
    {
      "cell_type": "code",
      "source": [
        "game = Game()\n",
        "try:\n",
        "    game.move('x', 0, 0)\n",
        "    game.move('o', 1, 1)\n",
        "    game.move('x', 0, 1)\n",
        "    game.move('o', 1, 2)\n",
        "    game.move('x', 0, 2)\n",
        "except (WinError, DrawError) as e:\n",
        "    print(e)"
      ],
      "metadata": {
        "colab": {
          "base_uri": "https://localhost:8080/"
        },
        "id": "0IBd9TBcyWv2",
        "outputId": "226955ae-5819-48f2-f614-0755698a16d8"
      },
      "execution_count": null,
      "outputs": [
        {
          "output_type": "stream",
          "name": "stdout",
          "text": [
            "'x' has won the game!\n"
          ]
        }
      ]
    },
    {
      "cell_type": "markdown",
      "metadata": {
        "id": "naZ-lttJqS4X"
      },
      "source": [
        "### Extension 1"
      ]
    },
    {
      "cell_type": "markdown",
      "metadata": {
        "id": "VeLZxHybqS4X"
      },
      "source": [
        "Try adding type-checking to every method of game - both arguments (except `self`) and return values (with `->`) [link text](https://)"
      ]
    },
    {
      "cell_type": "code",
      "source": [
        "from typing import Optional, List\n",
        "\n",
        "class WinError(RuntimeError):\n",
        "    def __init__(self, counter: str):\n",
        "        super().__init__(f\"'{counter}' has won the game!\")\n",
        "\n",
        "class DrawError(RuntimeError):\n",
        "    def __init__(self):\n",
        "        super().__init__(\"The game is a draw!\")\n",
        "\n",
        "class Game:\n",
        "    def __init__(self):\n",
        "        self.board: List[List[Optional[str]]] = [\n",
        "            [None, None, None],\n",
        "            [None, None, None],\n",
        "            [None, None, None]\n",
        "        ]\n",
        "\n",
        "    def move(self, counter: str, i: int, j: int) -> None:\n",
        "        if self.board[i][j] is not None:\n",
        "            raise ValueError(f\"Cell ({i}, {j}) is already occupied.\")\n",
        "        if counter not in ['x', 'o']:\n",
        "            raise ValueError(\"Counter must be either 'x' or 'o'.\")\n",
        "        self.board[i][j] = counter\n",
        "        if self.check_win(counter):\n",
        "            raise WinError(counter)\n",
        "        if self.check_draw():\n",
        "            raise DrawError()\n",
        "\n",
        "    def check_win(self, counter: str) -> bool:\n",
        "        # Check rows and columns\n",
        "        for i in range(3):\n",
        "            if all(self.board[i][j] == counter for j in range(3)) or all(self.board[j][i] == counter for j in range(3)):\n",
        "                return True\n",
        "        # Check diagonals\n",
        "        if all(self.board[i][i] == counter for i in range(3)) or all(self.board[i][2-i] == counter for i in range(3)):\n",
        "            return True\n",
        "        return False\n",
        "\n",
        "    def check_draw(self) -> bool:\n",
        "        return all(cell is not None for row in self.board for cell in row)\n",
        "\n",
        "    def board_to_string(self) -> str:\n",
        "        board_str = '-' * 9 + '\\n'\n",
        "        for row in self.board:\n",
        "            board_str += '| '\n",
        "            board_str += ' | '.join([counter if counter else ' ' for counter in row])\n",
        "            board_str += ' |\\n'\n",
        "            board_str += '-' * 9 + '\\n'\n",
        "        return board_str\n",
        "\n",
        "game = Game()\n",
        "try:\n",
        "    game.move('o', 0, 0)\n",
        "    game.move('x', 1, 1)\n",
        "    game.move('o', 0, 1)\n",
        "    game.move('x', 1, 2)\n",
        "    game.move('o', 0, 2)\n",
        "except (WinError, DrawError) as e:\n",
        "    print(e)\n"
      ],
      "metadata": {
        "colab": {
          "base_uri": "https://localhost:8080/"
        },
        "id": "4fFWQDTh1Vx0",
        "outputId": "2cf86f52-9112-450b-c220-0534632ad463"
      },
      "execution_count": null,
      "outputs": [
        {
          "output_type": "stream",
          "name": "stdout",
          "text": [
            "'o' has won the game!\n"
          ]
        }
      ]
    },
    {
      "cell_type": "markdown",
      "metadata": {
        "id": "v7Ea2XReqS4X"
      },
      "source": [
        "### Extension 2"
      ]
    },
    {
      "cell_type": "markdown",
      "metadata": {
        "id": "iVbAbFVyqS4X"
      },
      "source": [
        "A useful class that can help constrain values to a discrete set is `Enum`."
      ]
    },
    {
      "cell_type": "code",
      "execution_count": null,
      "metadata": {
        "id": "D28boOZvqS4X"
      },
      "outputs": [],
      "source": [
        "from enum import Enum\n",
        "\n",
        "class Counter(Enum):\n",
        "    X = 'x'\n",
        "    O = 'o'\n",
        "\n",
        "X = Counter.X\n",
        "O = Counter.O"
      ]
    },
    {
      "cell_type": "code",
      "execution_count": null,
      "metadata": {
        "colab": {
          "base_uri": "https://localhost:8080/",
          "height": 35
        },
        "id": "du3uV-nXqS4X",
        "outputId": "a64715cb-5abb-4cdd-c9d1-7233813ceedf"
      },
      "outputs": [
        {
          "output_type": "execute_result",
          "data": {
            "text/plain": [
              "'x'"
            ],
            "application/vnd.google.colaboratory.intrinsic+json": {
              "type": "string"
            }
          },
          "metadata": {},
          "execution_count": 59
        }
      ],
      "source": [
        "X.value"
      ]
    },
    {
      "cell_type": "markdown",
      "metadata": {
        "id": "-uXWV23eqS4Y"
      },
      "source": [
        "Can you adapt your `my_game.board_to_string` to use your Counters? Hint: `X.value` is the string `x`."
      ]
    },
    {
      "cell_type": "markdown",
      "metadata": {
        "id": "WurVmXuaqS4Y"
      },
      "source": [
        "For your type-checking to work, you will need to now check that the first non-self argument to `move` is a Counter. Have a look at the type-hints docs to see how to do that."
      ]
    },
    {
      "cell_type": "markdown",
      "metadata": {
        "id": "-WywI4K9qS4Y"
      },
      "source": [
        "### Extension Squared"
      ]
    },
    {
      "cell_type": "markdown",
      "metadata": {
        "id": "Z890ucbqqS4Y"
      },
      "source": [
        "If you're feeling brave, can you implement a simple AI to play against you? It will move (and call the `move` method for its own move) when you call a `Game.play` method. To begin with, get it to pick the first empty cell and set its counter there. You should throw an exception if `move` is called on its move, or `play` is called on yours."
      ]
    },
    {
      "cell_type": "markdown",
      "metadata": {
        "id": "mvx9AJUmqS4Y"
      },
      "source": [
        "Once you have that working, try to get it to play a sensible algorithm. Theoretically, if it goes first and takes the centre cell, and always blocks you getting three, it will at least always draw!"
      ]
    },
    {
      "cell_type": "markdown",
      "metadata": {
        "id": "NXlhN3CuqS4Y"
      },
      "source": [
        "# Sequential Coupling"
      ]
    },
    {
      "cell_type": "markdown",
      "metadata": {
        "id": "kPZeoTZpqS4Y"
      },
      "source": [
        "This is an easy-to-fall-into trap, where methods must be called in a certain order to work. Sometimes it is unavoidable, but a common workaround is to use that hook pattern we saw earlier."
      ]
    },
    {
      "cell_type": "code",
      "execution_count": null,
      "metadata": {
        "colab": {
          "base_uri": "https://localhost:8080/"
        },
        "id": "utCwJRQ-qS4Z",
        "outputId": "f6b2d907-439c-42de-f8cf-bf685916eacd"
      },
      "outputs": [
        {
          "output_type": "execute_result",
          "data": {
            "text/plain": [
              "10"
            ]
          },
          "metadata": {},
          "execution_count": 39
        }
      ],
      "source": [
        "class Model:\n",
        "    def build(self):\n",
        "        self.vector = [1, 2, 3, 4]\n",
        "\n",
        "    def run(self):\n",
        "        return sum(self.vector)\n",
        "\n",
        "model = Model()\n",
        "model.build()\n",
        "model.run()"
      ]
    },
    {
      "cell_type": "code",
      "execution_count": null,
      "metadata": {
        "colab": {
          "base_uri": "https://localhost:8080/",
          "height": 297
        },
        "id": "Ub2bpj1GqS4Z",
        "outputId": "10f72d28-6a0e-4a0a-d145-5b1b980a8bf6"
      },
      "outputs": [
        {
          "output_type": "error",
          "ename": "AttributeError",
          "evalue": "'Model' object has no attribute 'vector'",
          "traceback": [
            "\u001b[0;31m---------------------------------------------------------------------------\u001b[0m",
            "\u001b[0;31mAttributeError\u001b[0m                            Traceback (most recent call last)",
            "\u001b[0;32m<ipython-input-40-a9a8bd0033b8>\u001b[0m in \u001b[0;36m<cell line: 2>\u001b[0;34m()\u001b[0m\n\u001b[1;32m      1\u001b[0m \u001b[0mmodel\u001b[0m \u001b[0;34m=\u001b[0m \u001b[0mModel\u001b[0m\u001b[0;34m(\u001b[0m\u001b[0;34m)\u001b[0m\u001b[0;34m\u001b[0m\u001b[0;34m\u001b[0m\u001b[0m\n\u001b[0;32m----> 2\u001b[0;31m \u001b[0mmodel\u001b[0m\u001b[0;34m.\u001b[0m\u001b[0mrun\u001b[0m\u001b[0;34m(\u001b[0m\u001b[0;34m)\u001b[0m\u001b[0;34m\u001b[0m\u001b[0;34m\u001b[0m\u001b[0m\n\u001b[0m\u001b[1;32m      3\u001b[0m \u001b[0mmodel\u001b[0m\u001b[0;34m.\u001b[0m\u001b[0mbuild\u001b[0m\u001b[0;34m(\u001b[0m\u001b[0;34m)\u001b[0m\u001b[0;34m\u001b[0m\u001b[0;34m\u001b[0m\u001b[0m\n",
            "\u001b[0;32m<ipython-input-39-b94346577222>\u001b[0m in \u001b[0;36mrun\u001b[0;34m(self)\u001b[0m\n\u001b[1;32m      4\u001b[0m \u001b[0;34m\u001b[0m\u001b[0m\n\u001b[1;32m      5\u001b[0m     \u001b[0;32mdef\u001b[0m \u001b[0mrun\u001b[0m\u001b[0;34m(\u001b[0m\u001b[0mself\u001b[0m\u001b[0;34m)\u001b[0m\u001b[0;34m:\u001b[0m\u001b[0;34m\u001b[0m\u001b[0;34m\u001b[0m\u001b[0m\n\u001b[0;32m----> 6\u001b[0;31m         \u001b[0;32mreturn\u001b[0m \u001b[0msum\u001b[0m\u001b[0;34m(\u001b[0m\u001b[0mself\u001b[0m\u001b[0;34m.\u001b[0m\u001b[0mvector\u001b[0m\u001b[0;34m)\u001b[0m\u001b[0;34m\u001b[0m\u001b[0;34m\u001b[0m\u001b[0m\n\u001b[0m\u001b[1;32m      7\u001b[0m \u001b[0;34m\u001b[0m\u001b[0m\n\u001b[1;32m      8\u001b[0m \u001b[0mmodel\u001b[0m \u001b[0;34m=\u001b[0m \u001b[0mModel\u001b[0m\u001b[0;34m(\u001b[0m\u001b[0;34m)\u001b[0m\u001b[0;34m\u001b[0m\u001b[0;34m\u001b[0m\u001b[0m\n",
            "\u001b[0;31mAttributeError\u001b[0m: 'Model' object has no attribute 'vector'"
          ]
        }
      ],
      "source": [
        "model = Model()\n",
        "model.run()\n",
        "model.build()"
      ]
    },
    {
      "cell_type": "markdown",
      "metadata": {
        "id": "ebqGdGk4qS4Z"
      },
      "source": [
        "One option is to have a governing method that can call the sequence - a subclass, if needed, only needs to override the \"hooks\" and the order is still guaranteed."
      ]
    },
    {
      "cell_type": "code",
      "execution_count": null,
      "metadata": {
        "colab": {
          "base_uri": "https://localhost:8080/"
        },
        "id": "tkrv-KAPqS4Z",
        "outputId": "710c6ea2-4ab6-45a3-c76d-7edc374df277"
      },
      "outputs": [
        {
          "output_type": "execute_result",
          "data": {
            "text/plain": [
              "10"
            ]
          },
          "metadata": {},
          "execution_count": 41
        }
      ],
      "source": [
        "class Model:\n",
        "    def execute(self):\n",
        "        self.build()\n",
        "        return self.run()\n",
        "\n",
        "    def build(self):\n",
        "        self.vector = [1, 2, 3, 4]\n",
        "\n",
        "    def run(self):\n",
        "        return sum(self.vector)\n",
        "\n",
        "model = Model()\n",
        "model.execute()"
      ]
    },
    {
      "cell_type": "markdown",
      "metadata": {
        "id": "fYwQiUBIqS4Z"
      },
      "source": [
        "Sometimes the issue is resolvable by moving more of the program's functionality inside the class, if steps need to be conducted between method calls. At the least, checking necessary state or steps have occured when a method is called is a way to highlight ordering issues."
      ]
    },
    {
      "cell_type": "code",
      "execution_count": null,
      "metadata": {
        "colab": {
          "base_uri": "https://localhost:8080/",
          "height": 315
        },
        "id": "i5kK6eTLqS4Z",
        "outputId": "95327cab-d87c-47a8-83c5-4b1d3816635f"
      },
      "outputs": [
        {
          "output_type": "error",
          "ename": "RuntimeError",
          "evalue": "The model has not been built - please call build() first.",
          "traceback": [
            "\u001b[0;31m---------------------------------------------------------------------------\u001b[0m",
            "\u001b[0;31mRuntimeError\u001b[0m                              Traceback (most recent call last)",
            "\u001b[0;32m<ipython-input-44-8e872aba75e3>\u001b[0m in \u001b[0;36m<cell line: 14>\u001b[0;34m()\u001b[0m\n\u001b[1;32m     12\u001b[0m \u001b[0;34m\u001b[0m\u001b[0m\n\u001b[1;32m     13\u001b[0m \u001b[0mmodel\u001b[0m \u001b[0;34m=\u001b[0m \u001b[0mModel\u001b[0m\u001b[0;34m(\u001b[0m\u001b[0;34m)\u001b[0m\u001b[0;34m\u001b[0m\u001b[0;34m\u001b[0m\u001b[0m\n\u001b[0;32m---> 14\u001b[0;31m \u001b[0mmodel\u001b[0m\u001b[0;34m.\u001b[0m\u001b[0mrun\u001b[0m\u001b[0;34m(\u001b[0m\u001b[0;34m)\u001b[0m\u001b[0;34m\u001b[0m\u001b[0;34m\u001b[0m\u001b[0m\n\u001b[0m\u001b[1;32m     15\u001b[0m \u001b[0mmodel\u001b[0m\u001b[0;34m.\u001b[0m\u001b[0mbuild\u001b[0m\u001b[0;34m(\u001b[0m\u001b[0;34m)\u001b[0m\u001b[0;34m\u001b[0m\u001b[0;34m\u001b[0m\u001b[0m\n",
            "\u001b[0;32m<ipython-input-44-8e872aba75e3>\u001b[0m in \u001b[0;36mrun\u001b[0;34m(self)\u001b[0m\n\u001b[1;32m      8\u001b[0m     \u001b[0;32mdef\u001b[0m \u001b[0mrun\u001b[0m\u001b[0;34m(\u001b[0m\u001b[0mself\u001b[0m\u001b[0;34m)\u001b[0m\u001b[0;34m:\u001b[0m\u001b[0;34m\u001b[0m\u001b[0;34m\u001b[0m\u001b[0m\n\u001b[1;32m      9\u001b[0m         \u001b[0;32mif\u001b[0m \u001b[0;32mnot\u001b[0m \u001b[0mself\u001b[0m\u001b[0;34m.\u001b[0m\u001b[0mmodel_built\u001b[0m\u001b[0;34m:\u001b[0m\u001b[0;34m\u001b[0m\u001b[0;34m\u001b[0m\u001b[0m\n\u001b[0;32m---> 10\u001b[0;31m             \u001b[0;32mraise\u001b[0m \u001b[0mRuntimeError\u001b[0m\u001b[0;34m(\u001b[0m\u001b[0;34m'The model has not been built - please call build() first.'\u001b[0m\u001b[0;34m)\u001b[0m\u001b[0;34m\u001b[0m\u001b[0;34m\u001b[0m\u001b[0m\n\u001b[0m\u001b[1;32m     11\u001b[0m         \u001b[0;32mreturn\u001b[0m \u001b[0msum\u001b[0m\u001b[0;34m(\u001b[0m\u001b[0mself\u001b[0m\u001b[0;34m.\u001b[0m\u001b[0mvector\u001b[0m\u001b[0;34m)\u001b[0m\u001b[0;34m\u001b[0m\u001b[0;34m\u001b[0m\u001b[0m\n\u001b[1;32m     12\u001b[0m \u001b[0;34m\u001b[0m\u001b[0m\n",
            "\u001b[0;31mRuntimeError\u001b[0m: The model has not been built - please call build() first."
          ]
        }
      ],
      "source": [
        "class Model:\n",
        "    model_built = False\n",
        "\n",
        "    def build(self):\n",
        "        self.vector = [1, 2, 3, 4]\n",
        "        self.model_built = True\n",
        "\n",
        "    def run(self):\n",
        "        if not self.model_built:\n",
        "            raise RuntimeError('The model has not been built - please call build() first.')\n",
        "        return sum(self.vector)\n",
        "\n",
        "model = Model()\n",
        "model.run()\n",
        "model.build()"
      ]
    },
    {
      "cell_type": "code",
      "source": [
        "class Model:\n",
        "    model_built = False\n",
        "\n",
        "    def build(self):\n",
        "        self.vector = [1, 2, 3, 4]\n",
        "        self.model_built = True\n",
        "\n",
        "    def run(self):\n",
        "        if not self.model_built:\n",
        "            raise RuntimeError('The model has not been built - please call build() first.')\n",
        "        return sum(self.vector)\n",
        "\n",
        "model = Model()\n",
        "model.build()\n",
        "model.run()\n"
      ],
      "metadata": {
        "colab": {
          "base_uri": "https://localhost:8080/"
        },
        "id": "SlLcgoaex6NQ",
        "outputId": "10cbd6ff-7f26-4c32-d6b9-7326ec282f42"
      },
      "execution_count": null,
      "outputs": [
        {
          "output_type": "execute_result",
          "data": {
            "text/plain": [
              "10"
            ]
          },
          "metadata": {},
          "execution_count": 45
        }
      ]
    },
    {
      "cell_type": "markdown",
      "metadata": {
        "id": "ZbwFdWxAqS4Z"
      },
      "source": [
        "# Yo-Yo Problem\n",
        "## Or too much abstraction in general"
      ]
    },
    {
      "cell_type": "markdown",
      "metadata": {
        "id": "Z8fZ_xTxqS4a"
      },
      "source": [
        "Python tends to reduce abstraction compared to statically typed languages - this is part of its paradigm, and comes back to \"concise and clear\" as principle. The Yo-Yo problem is the idea that too much subclassing can make it very hard to debug code."
      ]
    },
    {
      "cell_type": "markdown",
      "metadata": {
        "id": "yKtLued-qS4a"
      },
      "source": [
        "`Lifeform -> Animal -> Cow -> Jersey -> MilkingJersey -> MilkingJerseyCalledDaisy`"
      ]
    },
    {
      "cell_type": "markdown",
      "metadata": {
        "id": "erwWi2qDqS4a"
      },
      "source": [
        "Possibly better: `Animal -> Cow[type=Jersey, state=milking, name=Daisy]`"
      ]
    }
  ],
  "metadata": {
    "kernelspec": {
      "display_name": "Python 3",
      "language": "python",
      "name": "python3"
    },
    "language_info": {
      "codemirror_mode": {
        "name": "ipython",
        "version": 3
      },
      "file_extension": ".py",
      "mimetype": "text/x-python",
      "name": "python",
      "nbconvert_exporter": "python",
      "pygments_lexer": "ipython3",
      "version": "3.7.3"
    },
    "colab": {
      "provenance": []
    }
  },
  "nbformat": 4,
  "nbformat_minor": 0
}