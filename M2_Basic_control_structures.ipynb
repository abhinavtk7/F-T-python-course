{
  "cells": [
    {
      "cell_type": "markdown",
      "metadata": {
        "id": "YuS0XMXUkS3h"
      },
      "source": [
        "# Basic control structures and variables I\n",
        "\n",
        "## Nails for the hammer"
      ]
    },
    {
      "cell_type": "markdown",
      "metadata": {
        "id": "tPbdzQdXkS3k"
      },
      "source": [
        "Since we only have a short course, and you already have used some Python, to varying degrees, I will move through this introductory session fairly quickly, so you have the tools to explore a wide variety of Python aspects by the end of Days 2 and 3.\n",
        "\n",
        "My recommendation is that the first time I run a cell, you do so too - I will show you how in a moment. This means everything I define and later use, you will have defined and can later use too."
      ]
    },
    {
      "cell_type": "markdown",
      "metadata": {
        "id": "t0pdE6kMkS3l"
      },
      "source": [
        "# First experiment with Jupyter"
      ]
    },
    {
      "cell_type": "markdown",
      "metadata": {
        "id": "mQswwhXUkS3m"
      },
      "source": [
        "* Find which line number you used in Etherpad (https://bit.ly/py-ether)\n",
        "* Click the blank box below saying `In [ ]`\n",
        "* Change the box below to read `x = LINENUM` (e.g. `x = 15`)\n",
        "* Press *Ctrl+Return*"
      ]
    },
    {
      "cell_type": "code",
      "execution_count": null,
      "metadata": {
        "id": "5j03h7kLkS3m"
      },
      "outputs": [],
      "source": [
        "x = 7"
      ]
    },
    {
      "cell_type": "markdown",
      "metadata": {
        "id": "18vbcS-4kS3n"
      },
      "source": [
        "Note that `#` is the comment symbol in Python - all text after it is ignored.\n",
        "\n",
        "This lets you to make notes-to-self in your code. However, above, we want to Python to run that line, so don't forget to delete the `#` symbol before pressing _Ctrl+Return_"
      ]
    },
    {
      "cell_type": "markdown",
      "metadata": {
        "id": "F72w363vkS3n"
      },
      "source": [
        "This just set the variable `x` (globally for this notebook) to the number of your Etherpad line"
      ]
    },
    {
      "cell_type": "markdown",
      "metadata": {
        "id": "j1G2O_B3kS3o"
      },
      "source": [
        "Click to edit the next `In [ ]` and press *Ctrl+Return* (without changing anything this time)"
      ]
    },
    {
      "cell_type": "code",
      "execution_count": null,
      "metadata": {
        "scrolled": true,
        "colab": {
          "base_uri": "https://localhost:8080/"
        },
        "id": "k5AVWyLEkS3o",
        "outputId": "26a2f331-778e-4d3f-9dd5-d3bdfb7bc2bb"
      },
      "outputs": [
        {
          "output_type": "execute_result",
          "data": {
            "text/plain": [
              "14"
            ]
          },
          "metadata": {},
          "execution_count": 3
        }
      ],
      "source": [
        "2 * x"
      ]
    },
    {
      "cell_type": "markdown",
      "metadata": {
        "id": "PoNpDwDDkS3o"
      },
      "source": [
        "Hopefully, you should notice that *x* is indeed what you input. This should all be pretty familiar, unless you come from statically-typed languages (C/C++/Java) where you would have to declare a variable. Python lets you effectively declare it, and its type, by assigning to it.\n",
        "\n",
        "Note you can also use _Shift+Return_, which will move you onto the next cell when it runs the current one."
      ]
    },
    {
      "cell_type": "markdown",
      "metadata": {
        "id": "OscvvDYSkS3p"
      },
      "source": [
        "We can refer to this output as `Out[2]`, using it like any variable, without having to re-run everything so far."
      ]
    },
    {
      "cell_type": "markdown",
      "metadata": {
        "id": "Q8SgqhhvkS3p"
      },
      "source": [
        "Do the same trick in the next `In [ ]` (edit and *Ctrl+Return*)"
      ]
    },
    {
      "cell_type": "code",
      "execution_count": null,
      "metadata": {
        "colab": {
          "base_uri": "https://localhost:8080/"
        },
        "id": "3O5P3mydkS3p",
        "outputId": "fe7321f0-84c3-43ef-c1a1-6df4056973cb"
      },
      "outputs": [
        {
          "output_type": "stream",
          "name": "stdout",
          "text": [
            "0.6666666666666666\n"
          ]
        }
      ],
      "source": [
        "if 7 / 2 == x:\n",
        "    print(\"Something else\")\n",
        "print(2/3)"
      ]
    },
    {
      "cell_type": "markdown",
      "metadata": {
        "id": "lGqpB-zJkS3p"
      },
      "source": [
        "There are a couple of things here to dissect. Many languages need braces `{}`, brackets `[]` or parentheses `()` to draw boundaries around the argument of the `if` statement, or the body. In Python, symbols are reduced in favour of words and spaces, for readability. To achieve the same effect, Python separates the condition from the body with the colon `:` and the indentation (four spaces, by convention)\n",
        "\n",
        "Indentation is Python's Marmite for other programmers. As they are keen to point out, most whitespace does *not* matter: e.g. I could write\n",
        "\n",
        "`Out[2] / 2           ==    x  :`\n",
        "\n",
        "and it's the same as\n",
        "\n",
        "`Out[2] / 2 = x:`\n",
        "\n",
        "However, indentation (whitespace at the start of a line) does. It is an extremely visually clear way to show where blocks of code, like the body of this `if` statement, start and end. For scientists, it forces a very good programming practice - basic code style - your code doesn't run without if it isn't visually clear (well... neatly indented). One of the reasons I got into Python was that my PhD C++ code was so unreadable, dodgily indented and unwieldy, it was easier to rewrite in Python than try and extend it - once I had modification was easy, I could see how everything was laid out, where functions started and ended, before even reading a character.\n",
        "\n",
        "Another thing to note is that you can print with `print`. Here we are running Python3, the latest version. If you've played with Python2, you will notice this syntax is a bit different - it has parentheses (aka. parens) around the argument. A whole raft of changes came in with Python3 and, like Windows XP, Python2 has stayed around for a long time through sheer momentum. However it has long reached end-of-life, so you should make sure to develop new software for Python3. Good porting tools exist for moving old code and, if required, you can write code that will work in both.\n",
        "\n",
        "To summarize those key points:"
      ]
    },
    {
      "cell_type": "markdown",
      "metadata": {
        "id": "emJ0SMgykS3q"
      },
      "source": [
        "* Indentation separates bodies of functions, conditionals, loops from the outside code\n",
        "* Basic boolean operators are `==`, `or`, `and`, `not`, `>`, `<`, etc.\n",
        "* This is Python3 syntax (very slightly different to Python2)"
      ]
    },
    {
      "cell_type": "markdown",
      "metadata": {
        "id": "lO3oxlnxkS3q"
      },
      "source": [
        "# Debugging\n",
        "## Ladder for the hole"
      ]
    },
    {
      "cell_type": "markdown",
      "metadata": {
        "id": "zVGwXmWKkS3q"
      },
      "source": [
        "Now we can edit and run code, the inevitable consequence is that we get a bug!"
      ]
    },
    {
      "cell_type": "markdown",
      "metadata": {
        "id": "oCnREMM3kS3q"
      },
      "source": [
        "Try running the line below (without correcting it):"
      ]
    },
    {
      "cell_type": "code",
      "execution_count": null,
      "metadata": {
        "colab": {
          "base_uri": "https://localhost:8080/",
          "height": 106
        },
        "id": "cIgGjIKokS3q",
        "outputId": "6e26a7d4-02b8-43c1-b825-1102add7f484"
      },
      "outputs": [
        {
          "output_type": "error",
          "ename": "SyntaxError",
          "evalue": "unterminated string literal (detected at line 4) (<ipython-input-6-99ec3910c8ac>, line 4)",
          "traceback": [
            "\u001b[0;36m  File \u001b[0;32m\"<ipython-input-6-99ec3910c8ac>\"\u001b[0;36m, line \u001b[0;32m4\u001b[0m\n\u001b[0;31m    print(\"Yes I do')\u001b[0m\n\u001b[0m          ^\u001b[0m\n\u001b[0;31mSyntaxError\u001b[0m\u001b[0;31m:\u001b[0m unterminated string literal (detected at line 4)\n"
          ]
        }
      ],
      "source": [
        "if (x < 2) or (x > 100):\n",
        "    print(\"Do I know you?\")\n",
        "else:\n",
        "    print(\"Yes I do')"
      ]
    },
    {
      "cell_type": "markdown",
      "metadata": {
        "id": "6KFtux89kS3q"
      },
      "source": [
        "In general, the most immediately useful information is on the very last line: `SyntaxError`. Above it, is the last \"frame\" called - that is, level of function. Say you call a function, and it calls another, and so forth until the innermost function hits an error. Here, it will list all the functions in that sequence, so you can track exactly how you got to the dodgy line.\n",
        "\n",
        "In Jupyter, the filename is not very informative - but you can see the input number (e.g. `ipython-input-4` &lrarr; `In [4]`).\n",
        "\n",
        "Bonus mark if you spotted the error (not that we actually have marks, but hey) - have a look and see if you can fix it and re-run the command, the same way you ran it the first time. Feel free to discuss, use Etherpad chat, whichever. Note that the `In [4]` changes to `In [5]`, and so forth, each time you run that \"cell\".\n",
        "\n",
        "In general, \"a string\" and 'a string' are equivalent - Python does not mind whether single or double quotes are used, as long as they match at either end."
      ]
    },
    {
      "cell_type": "markdown",
      "metadata": {
        "id": "ftaWBqJnkS3q"
      },
      "source": [
        "* Check the error at the bottom\n",
        "* Check the caret (^) showing where Python sees a problem\n",
        "* Look at the syntax highlighting in the cell"
      ]
    },
    {
      "cell_type": "markdown",
      "metadata": {
        "id": "DcnubvugkS3r"
      },
      "source": [
        "# Functions\n",
        "\n",
        "## Painting the Black Box"
      ]
    },
    {
      "cell_type": "markdown",
      "metadata": {
        "id": "AF7LIK1EkS3r"
      },
      "source": [
        "Like every language, Python has functions... they are defined like so:"
      ]
    },
    {
      "cell_type": "code",
      "execution_count": null,
      "metadata": {
        "id": "ANQAwX8DkS3r"
      },
      "outputs": [],
      "source": [
        "def tell_me_if_im_old(name, age):\n",
        "    print(\"...checking if\", name, \"is old...\")\n",
        "\n",
        "    if age < 100:\n",
        "        return False\n",
        "    else:\n",
        "        return True"
      ]
    },
    {
      "cell_type": "markdown",
      "metadata": {
        "id": "pv2gZTqLkS3r"
      },
      "source": [
        "Couple things to note: (i) this has nested blocks, we just indented twice for the inner ones (`if` and `else` bodies). (ii) this *didn't* specify a type for `age` (or `name`) - all it cares is that we can compare `age` to an *int*. Similarly, we don't specify a return type - it is up to us to return something intuitive and sensible. Let's use it:"
      ]
    },
    {
      "cell_type": "code",
      "execution_count": null,
      "metadata": {
        "colab": {
          "base_uri": "https://localhost:8080/"
        },
        "id": "WIVOTNfSkS3t",
        "outputId": "8cebb764-0159-45cb-ac4d-4e4fa08dbe75"
      },
      "outputs": [
        {
          "output_type": "stream",
          "name": "stdout",
          "text": [
            "I am 35 - am I old?\n",
            "...checking if Phil is old...\n",
            "Not at all, spring chicken.\n"
          ]
        }
      ],
      "source": [
        "phils_age = 35\n",
        "name = \"Phil\"\n",
        "\n",
        "print(\"I am\", phils_age, \"- am I old?\")\n",
        "\n",
        "if tell_me_if_im_old(name, phils_age):\n",
        "    print(\"Yup, it's a fact.\")\n",
        "else:\n",
        "    print(\"Not at all, spring chicken.\")"
      ]
    },
    {
      "cell_type": "markdown",
      "metadata": {
        "id": "EYfMl7U2kS3t"
      },
      "source": [
        "We also have methods on objects - nearly everything in Python is an object (even classes themselves), and so have methods:"
      ]
    },
    {
      "cell_type": "code",
      "execution_count": null,
      "metadata": {
        "colab": {
          "base_uri": "https://localhost:8080/",
          "height": 35
        },
        "id": "uVKofh8LkS3t",
        "outputId": "87088233-8971-409c-f4a8-57f596472de9"
      },
      "outputs": [
        {
          "output_type": "execute_result",
          "data": {
            "text/plain": [
              "'JUST A NORMAL STRING'"
            ],
            "application/vnd.google.colaboratory.intrinsic+json": {
              "type": "string"
            }
          },
          "metadata": {},
          "execution_count": 9
        }
      ],
      "source": [
        "\"just a normal string\".upper()"
      ]
    },
    {
      "cell_type": "code",
      "execution_count": null,
      "metadata": {
        "scrolled": true,
        "id": "Dw3CclrxkS3t"
      },
      "outputs": [],
      "source": [
        "if \"Another string\".islower():\n",
        "    print(\"The string was lowercase\")"
      ]
    },
    {
      "cell_type": "code",
      "source": [
        "\"Another string\".islower()"
      ],
      "metadata": {
        "colab": {
          "base_uri": "https://localhost:8080/"
        },
        "id": "4_jJhXKaxRI8",
        "outputId": "5e39aa81-c4dd-4c53-e47c-1476edf57806"
      },
      "execution_count": null,
      "outputs": [
        {
          "output_type": "execute_result",
          "data": {
            "text/plain": [
              "False"
            ]
          },
          "metadata": {},
          "execution_count": 13
        }
      ]
    },
    {
      "cell_type": "markdown",
      "metadata": {
        "id": "Dpw_3UlckS3t"
      },
      "source": [
        "# Something for Nothing\n",
        "\n",
        "How do we express _no_ value? Not zero, or false, but the complete absence of any meaningful type or value. This is covered by `null` in C-like languages, but in Python, we call it `None`."
      ]
    },
    {
      "cell_type": "code",
      "execution_count": null,
      "metadata": {
        "id": "MsqXCfdmkS3t"
      },
      "outputs": [],
      "source": [
        "if None:\n",
        "    print('Nothing doing')"
      ]
    },
    {
      "cell_type": "markdown",
      "metadata": {
        "id": "C958brtTkS3u"
      },
      "source": [
        "None, perhaps unsurprisingly, is treated as \"false-y\" in a conditional expression like `if`. It doesn't play well with other types either..."
      ]
    },
    {
      "cell_type": "code",
      "execution_count": null,
      "metadata": {
        "colab": {
          "base_uri": "https://localhost:8080/",
          "height": 141
        },
        "id": "cp7BpnSykS3u",
        "outputId": "459b7c38-2ae0-4dbc-a776-ecfc5c34fa92"
      },
      "outputs": [
        {
          "output_type": "error",
          "ename": "TypeError",
          "evalue": "unsupported operand type(s) for +: 'NoneType' and 'int'",
          "traceback": [
            "\u001b[0;31m---------------------------------------------------------------------------\u001b[0m",
            "\u001b[0;31mTypeError\u001b[0m                                 Traceback (most recent call last)",
            "\u001b[0;32m<ipython-input-15-3fd8740bf8ab>\u001b[0m in \u001b[0;36m<cell line: 1>\u001b[0;34m()\u001b[0m\n\u001b[0;32m----> 1\u001b[0;31m \u001b[0;32mNone\u001b[0m \u001b[0;34m+\u001b[0m \u001b[0;36m1\u001b[0m\u001b[0;34m\u001b[0m\u001b[0;34m\u001b[0m\u001b[0m\n\u001b[0m",
            "\u001b[0;31mTypeError\u001b[0m: unsupported operand type(s) for +: 'NoneType' and 'int'"
          ]
        }
      ],
      "source": [
        "None + 1"
      ]
    },
    {
      "cell_type": "markdown",
      "metadata": {
        "id": "slAkByDekS3u"
      },
      "source": [
        "Side-note: for those already familiar with Python functions, you may wish to note that a function with no return value, implicitly returns `None`."
      ]
    },
    {
      "cell_type": "markdown",
      "metadata": {
        "id": "TBecA7oBkS3u"
      },
      "source": [
        "# Lists and dicts\n",
        "## Conveyor belts and storage units"
      ]
    },
    {
      "cell_type": "markdown",
      "metadata": {
        "id": "gYoKyQYukS3u"
      },
      "source": [
        "Like any language, often need to be able to group things in Python."
      ]
    },
    {
      "cell_type": "markdown",
      "metadata": {
        "id": "vGpuW7QjkS3u"
      },
      "source": [
        "We can create a `list`, which is like a one-dimensional C or FORTRAN array, as follows (don't forget to execute it!):"
      ]
    },
    {
      "cell_type": "code",
      "execution_count": null,
      "metadata": {
        "id": "ZRwLZhbMkS3u"
      },
      "outputs": [],
      "source": [
        "things_to_do = ['Learn Python', 'Finish PhD', 'Publish research',\n",
        "                'Accept Nobel prize', 'Inspire a new generation']"
      ]
    },
    {
      "cell_type": "markdown",
      "metadata": {
        "id": "vPR91zPdkS3v"
      },
      "source": [
        "The syntax here is the same as for the more basic types we saw so far, `variable = value`, and our list is a comma-separated series of *things*, bounded by brackets `[]`."
      ]
    },
    {
      "cell_type": "markdown",
      "metadata": {
        "id": "f8Tbt99dkS3v"
      },
      "source": [
        "Once you execute the cell above, you should be able to try this:"
      ]
    },
    {
      "cell_type": "code",
      "execution_count": null,
      "metadata": {
        "colab": {
          "base_uri": "https://localhost:8080/"
        },
        "id": "cv8Z05jxkS3w",
        "outputId": "aa9f91d4-a2d6-4c6d-ba36-19dd11abcc47"
      },
      "outputs": [
        {
          "output_type": "execute_result",
          "data": {
            "text/plain": [
              "['Accept Nobel prize',\n",
              " 'Finish PhD',\n",
              " 'Inspire a new generation',\n",
              " 'Learn Python',\n",
              " 'Publish research']"
            ]
          },
          "metadata": {},
          "execution_count": 17
        }
      ],
      "source": [
        "sorted(things_to_do)"
      ]
    },
    {
      "cell_type": "markdown",
      "metadata": {
        "id": "mJZ07NcEkS3w"
      },
      "source": [
        "...and get an alphabetical list of tasks. Note that `sorted` doesn't update the original object, so if you re-run without `sorted`, it's back to the previous order."
      ]
    },
    {
      "cell_type": "code",
      "source": [
        "things_to_do"
      ],
      "metadata": {
        "colab": {
          "base_uri": "https://localhost:8080/"
        },
        "id": "uwtQQXG5xodJ",
        "outputId": "0bf49e90-b21e-4a3d-86a7-8aa8e8919fb5"
      },
      "execution_count": null,
      "outputs": [
        {
          "output_type": "execute_result",
          "data": {
            "text/plain": [
              "['Learn Python',\n",
              " 'Finish PhD',\n",
              " 'Publish research',\n",
              " 'Accept Nobel prize',\n",
              " 'Inspire a new generation']"
            ]
          },
          "metadata": {},
          "execution_count": 18
        }
      ]
    },
    {
      "cell_type": "markdown",
      "metadata": {
        "id": "EkXyK-tokS3w"
      },
      "source": [
        "To do this, you use a slightly different technique *or* you just assign: `things_to_do = sorted(things_to_do)`.\n",
        "\n",
        "`sorted` guesses the ordering you want, based on the type of data. It doesn't all have to be strings, you could have mixture of strings and integers, say. `sorted` can take optional arguments, letting you force it to do things the way you want, or even provide your own ordering function."
      ]
    },
    {
      "cell_type": "code",
      "source": [
        "things_to_do = sorted(things_to_do)\n",
        "things_to_do"
      ],
      "metadata": {
        "colab": {
          "base_uri": "https://localhost:8080/"
        },
        "id": "9LYOeZE3xrDH",
        "outputId": "ddf8929a-aa73-4a42-e233-29e39e34f01b"
      },
      "execution_count": null,
      "outputs": [
        {
          "output_type": "execute_result",
          "data": {
            "text/plain": [
              "['Accept Nobel prize',\n",
              " 'Finish PhD',\n",
              " 'Inspire a new generation',\n",
              " 'Learn Python',\n",
              " 'Publish research']"
            ]
          },
          "metadata": {},
          "execution_count": 19
        }
      ]
    },
    {
      "cell_type": "markdown",
      "metadata": {
        "id": "68i9UR_AkS3w"
      },
      "source": [
        "# So how do we get things out of a list?"
      ]
    },
    {
      "cell_type": "markdown",
      "metadata": {
        "id": "9wNbIrfRkS3w"
      },
      "source": [
        "Lists are ordered, so you can say, \"I'd like the fifth item, please\". You put it in brackets after the list name:"
      ]
    },
    {
      "cell_type": "code",
      "execution_count": null,
      "metadata": {
        "colab": {
          "base_uri": "https://localhost:8080/",
          "height": 35
        },
        "id": "flte9_XykS3w",
        "outputId": "94c4e1e7-b247-4a07-f130-8c763de80e2c"
      },
      "outputs": [
        {
          "output_type": "execute_result",
          "data": {
            "text/plain": [
              "'Publish research'"
            ],
            "application/vnd.google.colaboratory.intrinsic+json": {
              "type": "string"
            }
          },
          "metadata": {},
          "execution_count": 20
        }
      ],
      "source": [
        "things_to_do[4]"
      ]
    },
    {
      "cell_type": "markdown",
      "metadata": {
        "id": "_H_RfWE_kS3w"
      },
      "source": [
        "However, note that..."
      ]
    },
    {
      "cell_type": "markdown",
      "metadata": {
        "id": "667Dh81RkS3w"
      },
      "source": [
        "## PYTHON LISTS COUNT FROM 0\n",
        "(PYTHON IS ZERO-INDEXED)"
      ]
    },
    {
      "cell_type": "markdown",
      "metadata": {
        "id": "MLDbkMaXkS3x"
      },
      "source": [
        "Like C, but unlike MATLAB or FORTRAN. The first item in a list is \"`things_to_do[0]`\""
      ]
    },
    {
      "cell_type": "markdown",
      "metadata": {
        "id": "gHxAhsshkS3x"
      },
      "source": [
        "By the way, did you notice that `In[]` is a list?"
      ]
    },
    {
      "cell_type": "code",
      "execution_count": null,
      "metadata": {
        "colab": {
          "base_uri": "https://localhost:8080/",
          "height": 35
        },
        "id": "O597vbjXkS3x",
        "outputId": "c9698b59-8d8e-4a82-fdd8-3af4bf2ea108"
      },
      "outputs": [
        {
          "output_type": "execute_result",
          "data": {
            "text/plain": [
              "'if Out[1] / 2 == x:\\n    print(\"Something else\")\\nprint(2/3)'"
            ],
            "application/vnd.google.colaboratory.intrinsic+json": {
              "type": "string"
            }
          },
          "metadata": {},
          "execution_count": 23
        }
      ],
      "source": [
        "In[4]"
      ]
    },
    {
      "cell_type": "markdown",
      "metadata": {
        "id": "1iAUTZtxkS3x"
      },
      "source": [
        "You can try `len` as well"
      ]
    },
    {
      "cell_type": "markdown",
      "metadata": {
        "id": "8VNGvalskS3x"
      },
      "source": [
        "# Slicing\n"
      ]
    },
    {
      "cell_type": "markdown",
      "metadata": {
        "id": "lKbyFRJhkS3x"
      },
      "source": [
        "Suppose I want a bit of a list, like the middle 3 items, or the first 2..."
      ]
    },
    {
      "cell_type": "code",
      "execution_count": null,
      "metadata": {
        "colab": {
          "base_uri": "https://localhost:8080/"
        },
        "id": "qi-tcnfIkS3x",
        "outputId": "04b1406c-e6e0-4a3e-a765-a2e5d125e421"
      },
      "outputs": [
        {
          "output_type": "stream",
          "name": "stdout",
          "text": [
            "['Accept Nobel prize', 'Finish PhD', 'Inspire a new generation', 'Learn Python', 'Publish research']\n"
          ]
        },
        {
          "output_type": "execute_result",
          "data": {
            "text/plain": [
              "['Finish PhD', 'Inspire a new generation', 'Learn Python']"
            ]
          },
          "metadata": {},
          "execution_count": 24
        }
      ],
      "source": [
        "print(things_to_do)\n",
        "things_to_do[1:4]"
      ]
    },
    {
      "cell_type": "markdown",
      "metadata": {
        "id": "Y_SmMxuHkS3x"
      },
      "source": [
        "...if you wonder why `things_to_do[4]` (the fifth item) didn't appear, note that that number after the colon means 'up-to-but-not-including'..."
      ]
    },
    {
      "cell_type": "code",
      "execution_count": null,
      "metadata": {
        "colab": {
          "base_uri": "https://localhost:8080/"
        },
        "id": "7mf7RP0GkS3y",
        "outputId": "6d55b7e8-11ca-43a5-ec18-80a39ba559ea"
      },
      "outputs": [
        {
          "output_type": "execute_result",
          "data": {
            "text/plain": [
              "['Accept Nobel prize', 'Finish PhD']"
            ]
          },
          "metadata": {},
          "execution_count": 25
        }
      ],
      "source": [
        "things_to_do[:2]"
      ]
    },
    {
      "cell_type": "code",
      "execution_count": null,
      "metadata": {
        "colab": {
          "base_uri": "https://localhost:8080/"
        },
        "id": "2h7RchsbkS3y",
        "outputId": "152a8dac-2fe2-4782-ab4c-090b979f4f94"
      },
      "outputs": [
        {
          "output_type": "execute_result",
          "data": {
            "text/plain": [
              "['Learn Python', 'Publish research']"
            ]
          },
          "metadata": {},
          "execution_count": 26
        }
      ],
      "source": [
        "things_to_do[3:]"
      ]
    },
    {
      "cell_type": "code",
      "execution_count": null,
      "metadata": {
        "colab": {
          "base_uri": "https://localhost:8080/"
        },
        "id": "dvyYeWMRkS3y",
        "outputId": "79920501-3e13-4fb6-cb6e-b7f2d87916e5"
      },
      "outputs": [
        {
          "output_type": "execute_result",
          "data": {
            "text/plain": [
              "['Learn Python', 'Publish research']"
            ]
          },
          "metadata": {},
          "execution_count": 27
        }
      ],
      "source": [
        "things_to_do[-2:]"
      ]
    },
    {
      "cell_type": "markdown",
      "metadata": {
        "id": "xoBGX1DfkS3y"
      },
      "source": [
        "A slightly more niche extension of slicing is to set a step - in case we want to leapfrog our way from the start to the end:"
      ]
    },
    {
      "cell_type": "code",
      "execution_count": null,
      "metadata": {
        "colab": {
          "base_uri": "https://localhost:8080/"
        },
        "id": "2TzErF6CkS3y",
        "outputId": "05e525b9-cac3-4a7a-f7a9-cc110e3fa939"
      },
      "outputs": [
        {
          "output_type": "execute_result",
          "data": {
            "text/plain": [
              "['Accept Nobel prize', 'Publish research']"
            ]
          },
          "metadata": {},
          "execution_count": 28
        }
      ],
      "source": [
        "things_to_do[::4]"
      ]
    },
    {
      "cell_type": "code",
      "execution_count": null,
      "metadata": {
        "colab": {
          "base_uri": "https://localhost:8080/"
        },
        "id": "HCGTc3vkkS3y",
        "outputId": "3d7fe624-bf72-4ce8-dd77-0cdc0c8a3018"
      },
      "outputs": [
        {
          "output_type": "execute_result",
          "data": {
            "text/plain": [
              "['Finish PhD', 'Learn Python']"
            ]
          },
          "metadata": {},
          "execution_count": 29
        }
      ],
      "source": [
        "things_to_do[1::2]"
      ]
    },
    {
      "cell_type": "markdown",
      "metadata": {
        "id": "hRfRIgPikS3y"
      },
      "source": [
        "We can _even_ use this to step backwards through the list:"
      ]
    },
    {
      "cell_type": "code",
      "execution_count": null,
      "metadata": {
        "colab": {
          "base_uri": "https://localhost:8080/"
        },
        "id": "HudJEL2MkS3z",
        "outputId": "c4326dc7-9807-4a50-e96f-b1a5bc07abf3"
      },
      "outputs": [
        {
          "output_type": "execute_result",
          "data": {
            "text/plain": [
              "['Publish research',\n",
              " 'Learn Python',\n",
              " 'Inspire a new generation',\n",
              " 'Finish PhD',\n",
              " 'Accept Nobel prize']"
            ]
          },
          "metadata": {},
          "execution_count": 30
        }
      ],
      "source": [
        "things_to_do[::-1]"
      ]
    },
    {
      "cell_type": "markdown",
      "metadata": {
        "id": "HmJgOBfhkS3z"
      },
      "source": [
        "We can use negative numbers to count back from the end instead..."
      ]
    },
    {
      "cell_type": "markdown",
      "metadata": {
        "id": "yzaW3ElokS3z"
      },
      "source": [
        "Which is \"start two from the end, and give me everything from there onwards\""
      ]
    },
    {
      "cell_type": "code",
      "source": [
        "things_to_do[-2::-1]"
      ],
      "metadata": {
        "colab": {
          "base_uri": "https://localhost:8080/"
        },
        "id": "RHBwmOAU0WzQ",
        "outputId": "bea8172b-c86c-4b2e-cad6-868f3e882ca1"
      },
      "execution_count": null,
      "outputs": [
        {
          "output_type": "execute_result",
          "data": {
            "text/plain": [
              "['Learn Python',\n",
              " 'Inspire a new generation',\n",
              " 'Finish PhD',\n",
              " 'Accept Nobel prize']"
            ]
          },
          "metadata": {},
          "execution_count": 31
        }
      ]
    },
    {
      "cell_type": "markdown",
      "metadata": {
        "id": "Jp86B90LkS3z"
      },
      "source": [
        "# Dictionaries"
      ]
    },
    {
      "cell_type": "markdown",
      "metadata": {
        "id": "TwZHG8UXkS3z"
      },
      "source": [
        "This is fine - a list is like a conveyer belt, with a load of arbitrarily filled boxes passing by, one after the other. However, sometimes we care which item is which, and want to have a name for it, so we can drop in and grab it wherever it may be. That's where dictionaries (= dicts) come in. Try running this:"
      ]
    },
    {
      "cell_type": "code",
      "execution_count": null,
      "metadata": {
        "id": "cG969EtkkS3z"
      },
      "outputs": [],
      "source": [
        "my_meetup_dot_com_profile = {\n",
        "    \"first name\": \"Ignatius\",\n",
        "    \"favourite number\": 9,\n",
        "    \"favourite programming language\": \"FORTRAN66\",\n",
        "    3: \"is the magic number\"\n",
        "}"
      ]
    },
    {
      "cell_type": "markdown",
      "metadata": {
        "id": "BlNOB5hXkS3z"
      },
      "source": [
        "The syntax is slightly different. Instead of brackets, we use braces `{}`.\n",
        "\n",
        "Now each element has a name, followed by a colon and the element itself, which can still be basically anything. Like storage units, we now have a group of things we can address. That address could be a number, a string, or any other basic type. And keys can be different types - check the last entry."
      ]
    },
    {
      "cell_type": "markdown",
      "metadata": {
        "id": "Q81D7Q-TkS30"
      },
      "source": [
        "This is *completely unsorted*. However, you can get any element back by its name (key):"
      ]
    },
    {
      "cell_type": "code",
      "execution_count": null,
      "metadata": {
        "colab": {
          "base_uri": "https://localhost:8080/"
        },
        "id": "d4UbIYbYkS30",
        "outputId": "0d4dba42-cd3b-4e3a-a3a7-239dea0f6618"
      },
      "outputs": [
        {
          "output_type": "stream",
          "name": "stdout",
          "text": [
            "My favourite number is\n"
          ]
        },
        {
          "output_type": "execute_result",
          "data": {
            "text/plain": [
              "9"
            ]
          },
          "metadata": {},
          "execution_count": 57
        }
      ],
      "source": [
        "print(\"My favourite number is\")\n",
        "my_meetup_dot_com_profile['favourite number']"
      ]
    },
    {
      "cell_type": "markdown",
      "metadata": {
        "id": "dozCon2TkS30"
      },
      "source": [
        "And even though it is unsorted, it can have integers or so forth as keys - note the very last entry in the definition..."
      ]
    },
    {
      "cell_type": "code",
      "execution_count": null,
      "metadata": {
        "colab": {
          "base_uri": "https://localhost:8080/",
          "height": 35
        },
        "id": "S7pamZCqkS31",
        "outputId": "958cee34-a384-43fe-dac9-7e67a1b152f7"
      },
      "outputs": [
        {
          "output_type": "execute_result",
          "data": {
            "text/plain": [
              "'is the magic number'"
            ],
            "application/vnd.google.colaboratory.intrinsic+json": {
              "type": "string"
            }
          },
          "metadata": {},
          "execution_count": 58
        }
      ],
      "source": [
        "my_meetup_dot_com_profile[3]"
      ]
    },
    {
      "cell_type": "markdown",
      "metadata": {
        "id": "2xKca9JhkS31"
      },
      "source": [
        "...but not..."
      ]
    },
    {
      "cell_type": "code",
      "execution_count": null,
      "metadata": {
        "scrolled": true,
        "colab": {
          "base_uri": "https://localhost:8080/",
          "height": 141
        },
        "id": "yT8YvfFfkS31",
        "outputId": "91ea37a7-6afc-4993-a601-eeb3c2551466"
      },
      "outputs": [
        {
          "output_type": "error",
          "ename": "KeyError",
          "evalue": "2",
          "traceback": [
            "\u001b[0;31m---------------------------------------------------------------------------\u001b[0m",
            "\u001b[0;31mKeyError\u001b[0m                                  Traceback (most recent call last)",
            "\u001b[0;32m<ipython-input-59-36a84dcb3b03>\u001b[0m in \u001b[0;36m<cell line: 1>\u001b[0;34m()\u001b[0m\n\u001b[0;32m----> 1\u001b[0;31m \u001b[0mmy_meetup_dot_com_profile\u001b[0m\u001b[0;34m[\u001b[0m\u001b[0;36m2\u001b[0m\u001b[0;34m]\u001b[0m\u001b[0;34m\u001b[0m\u001b[0;34m\u001b[0m\u001b[0m\n\u001b[0m",
            "\u001b[0;31mKeyError\u001b[0m: 2"
          ]
        }
      ],
      "source": [
        "my_meetup_dot_com_profile[2]"
      ]
    },
    {
      "cell_type": "markdown",
      "metadata": {
        "id": "UtwryetkkS31"
      },
      "source": [
        "Because it doesn't exist."
      ]
    },
    {
      "cell_type": "markdown",
      "metadata": {
        "id": "NwxbWMMHkS31"
      },
      "source": [
        "# Extending lists and dicts"
      ]
    },
    {
      "cell_type": "markdown",
      "metadata": {
        "id": "SRHNvpepkS31"
      },
      "source": [
        "Extending lists is a little unwieldy, but dicts are more intuitive:"
      ]
    },
    {
      "cell_type": "code",
      "execution_count": null,
      "metadata": {
        "scrolled": true,
        "colab": {
          "base_uri": "https://localhost:8080/"
        },
        "id": "lGOzdhk-kS32",
        "outputId": "c9087636-3880-4a5a-cb11-feebab4c46e5"
      },
      "outputs": [
        {
          "output_type": "stream",
          "name": "stdout",
          "text": [
            "TODO: ['Accept Nobel prize', 'Finish PhD', 'Inspire a new generation', 'Learn Python', 'Publish research', 'Find a nice retirement village in the Galapagos Islands', 'Find a nice retirement village in the Galapagos Islands'] \n",
            "\n",
            "MEETUP: {'first name': 'Ignatius', 'favourite number': 9, 'favourite programming language': 'FORTRAN66', 3: 'is the magic number', 'Interests': ['Python2', 'Python3', 'Scientific Python', 'Pottery']}\n"
          ]
        }
      ],
      "source": [
        "things_to_do.append(\"Find a nice retirement village in the Galapagos Islands\")\n",
        "\n",
        "my_meetup_dot_com_profile[\"Interests\"] = [\"Python2\", \"Python3\", \"Scientific Python\", \"Pottery\"]\n",
        "\n",
        "print(\"TODO:\", things_to_do, \"\\n\\nMEETUP:\", my_meetup_dot_com_profile)"
      ]
    },
    {
      "cell_type": "markdown",
      "metadata": {
        "id": "UolLejSWkS32"
      },
      "source": [
        "Here, we added an `Interests` key to the `my_meetup_dot_com_profile` dictionary.\n",
        "\n",
        "Note that anything can be an *item* in a dictionary or list - in this case, a list is an item in our dict, whose key is `Interests`. Also note that, as with other languages, `\\n` signifies a newline."
      ]
    },
    {
      "cell_type": "markdown",
      "metadata": {
        "id": "Cl4fvnJQkS32"
      },
      "source": [
        "There are many other types of collections - sets, tuples, trees, deques, sets. Some of these we will touch on later. For the moment, I'll highlight only OrderedDict. One question that often gets asked is \"if dictionaries don't have a guaranteed order, how can I have a mapping that does?\""
      ]
    },
    {
      "cell_type": "code",
      "execution_count": null,
      "metadata": {
        "colab": {
          "base_uri": "https://localhost:8080/"
        },
        "id": "WCBbU8wGkS32",
        "outputId": "62a0b1f0-b73d-47d7-92b1-24b41f632709"
      },
      "outputs": [
        {
          "output_type": "execute_result",
          "data": {
            "text/plain": [
              "['key1', 'key2', 'test', 'another_test']"
            ]
          },
          "metadata": {},
          "execution_count": 61
        }
      ],
      "source": [
        "from collections import OrderedDict # we'll discuss importing shortly\n",
        "\n",
        "my_ordered_dict = OrderedDict([['key1', 'value1'], ['key2', 'value2']])\n",
        "my_ordered_dict['test'] = 'value1'\n",
        "my_ordered_dict['another_test'] = 'value2'\n",
        "\n",
        "list(my_ordered_dict)"
      ]
    },
    {
      "cell_type": "markdown",
      "metadata": {
        "id": "bpROEa7EkS32"
      },
      "source": [
        "However, this is not generally necessary and before using it, you should double-check whether it is the most self-explanatory way to write your code."
      ]
    },
    {
      "cell_type": "markdown",
      "metadata": {
        "id": "PUK1iVNQkS33"
      },
      "source": [
        "# Join\n",
        "\n",
        "## The most useful method in the str object"
      ]
    },
    {
      "cell_type": "markdown",
      "metadata": {
        "id": "2yOBbMFckS33"
      },
      "source": [
        "Different languages have different ways of collapsing a string with a separator - it is something you will need to do again and again. In Python, the approach is a little surprising - we have already seen that strings are objects (of type `str`), but it turns out Python uses this to provide a way of joining iterables (like `lists` or `dicts`):"
      ]
    },
    {
      "cell_type": "code",
      "execution_count": null,
      "metadata": {
        "colab": {
          "base_uri": "https://localhost:8080/",
          "height": 52
        },
        "id": "EVq_gEoFkS33",
        "outputId": "86424cfb-67e1-4d9e-ebbb-6507d41101d4"
      },
      "outputs": [
        {
          "output_type": "execute_result",
          "data": {
            "text/plain": [
              "'Accept Nobel prize, Finish PhD, Inspire a new generation, Learn Python, Publish research, Find a nice retirement village in the Galapagos Islands, Find a nice retirement village in the Galapagos Islands'"
            ],
            "application/vnd.google.colaboratory.intrinsic+json": {
              "type": "string"
            }
          },
          "metadata": {},
          "execution_count": 62
        }
      ],
      "source": [
        "', '.join(things_to_do)"
      ]
    },
    {
      "cell_type": "markdown",
      "metadata": {
        "id": "xfWL-_kxkS33"
      },
      "source": [
        "This way around, all the string needs to do is add itself before each item in the iterable (except the first) - as long as it can keep getting items, it doesn't care what the iterable is, a dict or anything (iterable == thing you iterate/step through)."
      ]
    },
    {
      "cell_type": "markdown",
      "metadata": {
        "id": "NJG_12fikS33"
      },
      "source": [
        "Can you see the benefit of defining this method as part of `str`, being able to pass it any possible iterable to join up, instead of having to define a method on every type of iterable and passing it a string?"
      ]
    },
    {
      "cell_type": "markdown",
      "metadata": {
        "id": "lNype21RkS34"
      },
      "source": [
        "# Quick aside\n",
        "\n",
        "## Save early, save often"
      ]
    },
    {
      "cell_type": "markdown",
      "metadata": {
        "id": "LRthYMUWkS34"
      },
      "source": [
        "Jupyter does do some automatic saving, but click the disk icon at the top left now to force an update..."
      ]
    },
    {
      "cell_type": "markdown",
      "metadata": {
        "id": "yxJNbt8PkS34"
      },
      "source": [
        "# ReDebugging\n",
        "\n",
        "## Bringing it together"
      ]
    },
    {
      "cell_type": "markdown",
      "metadata": {
        "id": "kTZ4dmPNkS34"
      },
      "source": [
        "Here's another one to see if you can fix - try running and then spot the issue:"
      ]
    },
    {
      "cell_type": "code",
      "execution_count": null,
      "metadata": {
        "colab": {
          "base_uri": "https://localhost:8080/",
          "height": 193
        },
        "id": "YMpVb8YzkS34",
        "outputId": "2436c671-807c-463a-e8df-8fd33be3433d"
      },
      "outputs": [
        {
          "output_type": "error",
          "ename": "ZeroDivisionError",
          "evalue": "division by zero",
          "traceback": [
            "\u001b[0;31m---------------------------------------------------------------------------\u001b[0m",
            "\u001b[0;31mZeroDivisionError\u001b[0m                         Traceback (most recent call last)",
            "\u001b[0;32m<ipython-input-39-e80ebbbf5058>\u001b[0m in \u001b[0;36m<cell line: 2>\u001b[0;34m()\u001b[0m\n\u001b[1;32m      1\u001b[0m \u001b[0my\u001b[0m \u001b[0;34m=\u001b[0m \u001b[0;36m120\u001b[0m\u001b[0;34m\u001b[0m\u001b[0;34m\u001b[0m\u001b[0m\n\u001b[1;32m      2\u001b[0m \u001b[0;32mfor\u001b[0m \u001b[0mz\u001b[0m \u001b[0;32min\u001b[0m \u001b[0mrange\u001b[0m\u001b[0;34m(\u001b[0m\u001b[0;36m5\u001b[0m\u001b[0;34m)\u001b[0m\u001b[0;34m:\u001b[0m\u001b[0;34m\u001b[0m\u001b[0;34m\u001b[0m\u001b[0m\n\u001b[0;32m----> 3\u001b[0;31m     \u001b[0my\u001b[0m \u001b[0;34m=\u001b[0m \u001b[0my\u001b[0m \u001b[0;34m/\u001b[0m \u001b[0mz\u001b[0m\u001b[0;34m\u001b[0m\u001b[0;34m\u001b[0m\u001b[0m\n\u001b[0m\u001b[1;32m      4\u001b[0m     \u001b[0mprint\u001b[0m\u001b[0;34m(\u001b[0m\u001b[0;34m\"When z is\"\u001b[0m\u001b[0;34m,\u001b[0m \u001b[0mz\u001b[0m\u001b[0;34m,\u001b[0m \u001b[0;34m\"then y is\"\u001b[0m\u001b[0;34m,\u001b[0m \u001b[0my\u001b[0m\u001b[0;34m)\u001b[0m\u001b[0;34m\u001b[0m\u001b[0;34m\u001b[0m\u001b[0m\n",
            "\u001b[0;31mZeroDivisionError\u001b[0m: division by zero"
          ]
        }
      ],
      "source": [
        "y = 120\n",
        "for z in range(5):\n",
        "    y = y / z\n",
        "    print(\"When z is\", z, \"then y is\", y)"
      ]
    },
    {
      "cell_type": "code",
      "source": [
        "y = 120\n",
        "for z in range(1, 5):\n",
        "    y = y / z\n",
        "    print(\"When z is\", z, \"then y is\", y)"
      ],
      "metadata": {
        "colab": {
          "base_uri": "https://localhost:8080/"
        },
        "id": "vKQKYopm5Ola",
        "outputId": "597271b6-74d7-4b58-bb3a-d59567a1df0c"
      },
      "execution_count": null,
      "outputs": [
        {
          "output_type": "stream",
          "name": "stdout",
          "text": [
            "When z is 1 then y is 120.0\n",
            "When z is 2 then y is 60.0\n",
            "When z is 3 then y is 20.0\n",
            "When z is 4 then y is 5.0\n"
          ]
        }
      ]
    },
    {
      "cell_type": "code",
      "source": [
        "y = 120\n",
        "for z in range(1, 5, 2):\n",
        "    y = y / z\n",
        "    print(\"When z is\", z, \"then y is\", y)"
      ],
      "metadata": {
        "colab": {
          "base_uri": "https://localhost:8080/"
        },
        "id": "3-YeLX8T5UFR",
        "outputId": "af19e8b2-2f3d-4778-937b-c6b951609844"
      },
      "execution_count": null,
      "outputs": [
        {
          "output_type": "stream",
          "name": "stdout",
          "text": [
            "When z is 1 then y is 120.0\n",
            "When z is 3 then y is 40.0\n"
          ]
        }
      ]
    },
    {
      "cell_type": "markdown",
      "metadata": {
        "id": "3bTPlANzkS35"
      },
      "source": [
        "Output should be:\n",
        "```\n",
        "When z is 1 then y is 120.0\n",
        "When z is 2 then y is 60.0\n",
        "When z is 3 then y is 20.0\n",
        "When z is 4 then y is 5.0\n",
        "```\n",
        "\n",
        "Next challenge, output should be:\n",
        "```\n",
        "When z is 1 then y is 120.0\n",
        "When z is 3 then y is 40.0\n",
        "```"
      ]
    },
    {
      "cell_type": "markdown",
      "metadata": {
        "id": "iqSt8NNNkS35"
      },
      "source": [
        "Couple of bits of useful information:\n",
        "\n",
        "* `for` is, unsurprisingly, a `for` loop, as in other languages\n",
        "* `for` doesn't have limit arguments, like in C, say - it takes a set/list/(anything iterable) and goes through each element\n",
        "* `range` just returns a list of integers\n",
        "* `range` can take one argument or two arguments (or more, but not so relevant now)\n",
        "* `range` documentation is here : [Python3 range syntax](https://docs.python.org/3/library/functions.html#func-range) (link opens in new window, so click it!)\n",
        "\n",
        "The easiest way, IMO, to info on any Python function or library is to Google \"Python3 funcname\" and click the first python.org link. If even something seems wrong, make sure you are looking at the Python3, not Python2 docs (or v.v.)\n",
        "\n",
        "If it isn't there already, when you solve this (i.e. get the output above), please make a note in Etherpad. If you are still solving the puzzle - don't look at Etherpad unless you want the answer."
      ]
    },
    {
      "cell_type": "markdown",
      "metadata": {
        "id": "qP0iN20zkS36"
      },
      "source": [
        "Note that the `in` operator can separately be used to return a boolean: e.g. \"`list_item in alist`\", \"`key in adict`\" can be used for `if` clauses"
      ]
    },
    {
      "cell_type": "markdown",
      "metadata": {
        "id": "udDadi00kS36"
      },
      "source": [
        "To see what range actually returns, you can run:"
      ]
    },
    {
      "cell_type": "code",
      "execution_count": null,
      "metadata": {
        "colab": {
          "base_uri": "https://localhost:8080/"
        },
        "id": "8BJjn2-3kS36",
        "outputId": "eb687af1-e3be-4c64-8967-0a4cc53ba0fa"
      },
      "outputs": [
        {
          "output_type": "execute_result",
          "data": {
            "text/plain": [
              "range"
            ]
          },
          "metadata": {},
          "execution_count": 40
        }
      ],
      "source": [
        "type(range(5))"
      ]
    },
    {
      "cell_type": "markdown",
      "metadata": {
        "id": "mRyDp2DikS36"
      },
      "source": [
        "Well, that wasn't very descriptive. It turns out the `range` function returns something with (a confusingly named) type `range` - this is what `for` gets handed. Don't worry about the ins-and-outs of that type just yet - what matters is: things of type `range` look like, act like and sound like a `list`.\n",
        "\n",
        "As far as `for` is concerned, that's good enough - this is the [**duck test**](https://simple.wikipedia.org/wiki/Duck_typing), and is a key paradigm in Python - when writing code, don't require your input to be of a specific type `float`, or type `int` (for example), just complain if it doesn't *do* what you want (for example, it refuses to be added to something, or printed, by giving an error).\n",
        "\n",
        "Here, `range` can iterate, like a list, which is all `for` wants - it doesn't care that it isn't _technically_ a list, as it can do what `for` needs. Similarly with, say, the `==` comparison operator - you can compare any objects and as long as they define their comparison behaviour, the operator itself doesn't care what they are.\n",
        "\n",
        "To prove `range(5)` is what we expect it is, lets turn it into a list and see what happens..."
      ]
    },
    {
      "cell_type": "code",
      "execution_count": null,
      "metadata": {
        "colab": {
          "base_uri": "https://localhost:8080/"
        },
        "id": "1oXLc2qVkS36",
        "outputId": "0fb90cf3-eb6b-49d0-b96a-3dafff9d7282"
      },
      "outputs": [
        {
          "output_type": "execute_result",
          "data": {
            "text/plain": [
              "[0, 1, 2, 3, 4]"
            ]
          },
          "metadata": {},
          "execution_count": 43
        }
      ],
      "source": [
        "list(range(5))"
      ]
    },
    {
      "cell_type": "markdown",
      "metadata": {
        "id": "49pF1uzjkS37"
      },
      "source": [
        "Essentially, `for` sees what we see - a sequence of five numbers."
      ]
    },
    {
      "cell_type": "markdown",
      "metadata": {
        "id": "kbyehr2YkS37"
      },
      "source": [
        "Bear in mind that you can cast like this to various types. `str` will make something a string..."
      ]
    },
    {
      "cell_type": "code",
      "execution_count": null,
      "metadata": {
        "colab": {
          "base_uri": "https://localhost:8080/",
          "height": 35
        },
        "id": "0hn4A7-DkS37",
        "outputId": "6dc998d5-b05e-44e0-9e8f-d3386f8f18da"
      },
      "outputs": [
        {
          "output_type": "execute_result",
          "data": {
            "text/plain": [
              "'range(0, 5)'"
            ],
            "application/vnd.google.colaboratory.intrinsic+json": {
              "type": "string"
            }
          },
          "metadata": {},
          "execution_count": 44
        }
      ],
      "source": [
        "str(range(5))"
      ]
    },
    {
      "cell_type": "markdown",
      "metadata": {
        "id": "uPud8cQtkS37"
      },
      "source": [
        "However, unlike some languages, Python does care about type, so you must concatenate strings with strings or add numerical types to numerical types. To check the type of any number or variable, you can use the built-in, `type`:"
      ]
    },
    {
      "cell_type": "code",
      "execution_count": null,
      "metadata": {
        "id": "9upXnOPkkS37"
      },
      "outputs": [],
      "source": [
        "3.14 + \" is almost pi\""
      ]
    },
    {
      "cell_type": "code",
      "execution_count": null,
      "metadata": {
        "colab": {
          "base_uri": "https://localhost:8080/"
        },
        "id": "4x01Ns-MkS38",
        "outputId": "3459c0df-8327-49eb-8b3b-107b6ce960ba"
      },
      "outputs": [
        {
          "output_type": "execute_result",
          "data": {
            "text/plain": [
              "str"
            ]
          },
          "metadata": {},
          "execution_count": 45
        }
      ],
      "source": [
        "type(str(3.14))"
      ]
    },
    {
      "cell_type": "markdown",
      "metadata": {
        "id": "r7mkbag5kS38"
      },
      "source": [
        "A string is, well, a list of characters, - so \"`for`\" can iterate over that too:"
      ]
    },
    {
      "cell_type": "code",
      "execution_count": null,
      "metadata": {
        "colab": {
          "base_uri": "https://localhost:8080/"
        },
        "id": "LDAnO7PgkS38",
        "outputId": "792b5ef5-0d1a-49d9-d253-7a337c496549"
      },
      "outputs": [
        {
          "output_type": "stream",
          "name": "stdout",
          "text": [
            "Let me hear you say Y.M.C.A.  Let me hear you say Y.M.C.A.  \n"
          ]
        }
      ],
      "source": [
        "lyric = \"\"\n",
        "for _ in range(2):\n",
        "    lyric += \"Let me hear you say \"\n",
        "    for character in \"YMCA\":\n",
        "        lyric += character + '.'\n",
        "    lyric += \"  \"\n",
        "print(lyric)"
      ]
    },
    {
      "cell_type": "markdown",
      "metadata": {
        "id": "p7O7clgvkS38"
      },
      "source": [
        "Note the '`for character in \"YMCA\"`'. We also snuck in a nested loop - you just keep indenting each time you nest - no more complicated than that.\n",
        "\n",
        "And, a new operator has appeared: \"`+=`\". Familiar to most languages it is equivalent to `lyric = lyric + blah`. Note that we therefore have to have `lyric` defined before the first `+=`, as \"`lyric = lyric + anything`\" doesn't make sense if `lyric` does not already exist. This is the reason for our first line: \"`lyric = \"\"`\".\n",
        "\n",
        "Finally, note that we have looped twice using `range`, just as above, but our loop variable `i` is never used - it is effectively a placeholder. All we want from that line is to have the body below run twice.\n",
        "\n",
        "*Sidenote*: some people use an underscore \"`_`\" as a loop variable in this case, to indicate to someone reading that the variable is nothing more than that and never used - as far as Python is concerned, \"`_`\" is as good a name for a variable as any other, so this is entirely about readability."
      ]
    },
    {
      "cell_type": "markdown",
      "metadata": {
        "id": "bwL6AAkgkS38"
      },
      "source": [
        "Just to prove that \"`for`\" will iterate over any list, numeric, string or otherwise, we can try it with our todo list:"
      ]
    },
    {
      "cell_type": "code",
      "execution_count": null,
      "metadata": {
        "colab": {
          "base_uri": "https://localhost:8080/"
        },
        "id": "yywNrTaEkS38",
        "outputId": "49c8d745-cad5-4bc0-a480-54be85db1072"
      },
      "outputs": [
        {
          "output_type": "stream",
          "name": "stdout",
          "text": [
            "Accept Nobel prize :\n",
            "  using Python, this task will take 18 months to complete\n",
            "Finish PhD :\n",
            "  using Python, this task will take 10 months to complete\n",
            "Inspire a new generation :\n",
            "  using Python, this task will take 24 months to complete\n",
            "Learn Python :\n",
            "  using Python, this task will take 12 months to complete\n",
            "Publish research :\n",
            "  using Python, this task will take 16 months to complete\n",
            "Find a nice retirement village in the Galapagos Islands :\n",
            "  using Python, this task will take 55 months to complete\n",
            "You cannot retire for at least 11 years\n"
          ]
        }
      ],
      "source": [
        "total_months = 0\n",
        "for task in things_to_do:\n",
        "    total_months += len(task)\n",
        "    print(task, \":\")\n",
        "    print(\"  using Python, this task will take\", len(task), \"months to complete\")\n",
        "print(\"You cannot retire for at least\", total_months // 12, \"years\")"
      ]
    },
    {
      "cell_type": "markdown",
      "metadata": {
        "id": "drsDFerZkS38"
      },
      "source": [
        "Here we have added one or two minor surprises. One is the *horrendously* misleading use of *len* (hint: you are unlikely to get a Nobel Prize by 2020), which in reality calculates the number of items in any \"`iterable`\". Reminder: this is the general term for something sort-of-list-like. According to my script, tasks take as long as the number of items in their \"list\", i.e. characters in the string.\n",
        "\n",
        "Another aspect is the double slash. This is an important difference between Python3 and Python2 (and many other languages). [Dividing non-divisible integers](https://en.wikipedia.org/wiki/Division_%28mathematics%29#Of_integers) with one slash, as normal, gives a float in Python3. If you want to get an integer (that is, whatever the float answer is with the decimal chopped off), you can use double-slash. Try removing the second slash and re-running to see the exact non-integer answer. In Python2, using one slash *always* gives an integer, unless you cast the bottom or top to a float (as in C, say)."
      ]
    },
    {
      "cell_type": "markdown",
      "metadata": {
        "id": "ZZinmBl-kS39"
      },
      "source": [
        "While we have looked at strings and lists, and one or two of their methods - functions within individual string and list objects - there are a few dictionary ones that are relevant to loops too."
      ]
    },
    {
      "cell_type": "code",
      "execution_count": null,
      "metadata": {
        "colab": {
          "base_uri": "https://localhost:8080/"
        },
        "id": "8qpFxPV5kS39",
        "outputId": "2f7981fc-d4ff-4c21-f4a6-f1eee3c064c1"
      },
      "outputs": [
        {
          "output_type": "stream",
          "name": "stdout",
          "text": [
            "first name\n",
            "favourite number\n",
            "favourite programming language\n",
            "3\n",
            "Interests\n"
          ]
        }
      ],
      "source": [
        "for field in my_meetup_dot_com_profile.keys():\n",
        "    print(field)"
      ]
    },
    {
      "cell_type": "code",
      "execution_count": null,
      "metadata": {
        "colab": {
          "base_uri": "https://localhost:8080/"
        },
        "id": "IcCgLrMIkS39",
        "outputId": "dbe4fb9b-f0c6-4ca5-d569-172aa91b872d"
      },
      "outputs": [
        {
          "output_type": "stream",
          "name": "stdout",
          "text": [
            "Ignatius\n",
            "9\n",
            "FORTRAN66\n",
            "is the magic number\n",
            "['Python2', 'Python3', 'Scientific Python', 'Pottery']\n"
          ]
        }
      ],
      "source": [
        "for value in my_meetup_dot_com_profile.values():\n",
        "    print(value)"
      ]
    },
    {
      "cell_type": "code",
      "execution_count": null,
      "metadata": {
        "colab": {
          "base_uri": "https://localhost:8080/"
        },
        "id": "A-3U71b7kS39",
        "outputId": "f826a47a-c316-4760-b3aa-0a60bbddc9ac"
      },
      "outputs": [
        {
          "output_type": "stream",
          "name": "stdout",
          "text": [
            "first name = Ignatius\n",
            "favourite number = 9\n",
            "favourite programming language = FORTRAN66\n",
            "3 = is the magic number\n",
            "Interests = ['Python2', 'Python3', 'Scientific Python', 'Pottery']\n"
          ]
        }
      ],
      "source": [
        "for pair in my_meetup_dot_com_profile.items():\n",
        "    print(pair[0], \"=\", pair[1])"
      ]
    },
    {
      "cell_type": "markdown",
      "metadata": {
        "id": "jgrWkRVikS39"
      },
      "source": [
        "#### Advanced Note\n",
        "\n",
        "If you know the number of values being assigned to a pair (or triple, etc.), you can comma-separate multiple new variable names to assign them all at once in the `for` loop, instead of having to manually assign them human-readable names afterwards."
      ]
    },
    {
      "cell_type": "code",
      "execution_count": null,
      "metadata": {
        "colab": {
          "base_uri": "https://localhost:8080/"
        },
        "id": "rDs3MYpEkS39",
        "outputId": "dcee6353-ffdd-413f-f312-4b73a57fdb7f"
      },
      "outputs": [
        {
          "output_type": "stream",
          "name": "stdout",
          "text": [
            "key1 = 123 short\n",
            "key2 = 234 short\n",
            "key3 = 345 short\n",
            "key1 = 123 long\n",
            "key2 = 234 long\n",
            "key3 = 345 long\n",
            "...or even nested...\n",
            "key1 = 1 2 3\n",
            "key2 = a b c\n",
            "key3 = do re mi\n"
          ]
        }
      ],
      "source": [
        "my_dict = {'key1': 123, 'key2': 234, 'key3': 345}\n",
        "\n",
        "for key, value in my_dict.items():\n",
        "    print(key, '=', value, 'short')\n",
        "\n",
        "# is the same as\n",
        "\n",
        "for pair in my_dict.items():\n",
        "    key = pair[0]\n",
        "    value = pair[1]\n",
        "    print(key, '=', value, 'long')\n",
        "\n",
        "print('...or even nested...')\n",
        "\n",
        "my_dict = {'key1': [1, 2, 3], 'key2': ['a', 'b', 'c'], 'key3': ['do', 're', 'mi']}\n",
        "\n",
        "for key, (first, another, yet_another) in my_dict.items():\n",
        "    print(key, '=', first, another, yet_another)"
      ]
    },
    {
      "cell_type": "markdown",
      "metadata": {
        "id": "lWGhd8n_kS39"
      },
      "source": [
        "In fact, any standard form of assignment allows for this:"
      ]
    },
    {
      "cell_type": "code",
      "execution_count": null,
      "metadata": {
        "colab": {
          "base_uri": "https://localhost:8080/"
        },
        "id": "FTJnknF6kS39",
        "outputId": "3428863e-ba41-4349-f095-2f463d12ba4b"
      },
      "outputs": [
        {
          "output_type": "stream",
          "name": "stdout",
          "text": [
            "stalk flesh\n"
          ]
        }
      ],
      "source": [
        "pear = ['stalk', 'flesh']\n",
        "# Assigning a group variables at once\n",
        "this, that = pear\n",
        "print(this, that)"
      ]
    },
    {
      "cell_type": "markdown",
      "metadata": {
        "id": "h92SbcLEkS39"
      },
      "source": [
        "# Exercise: Strung together"
      ]
    },
    {
      "cell_type": "markdown",
      "metadata": {
        "id": "ZdYUUOy_kS3-"
      },
      "source": [
        "Use the cell below to create a function that takes a dictionary as an argument (like `name` and `age` were in an earlier example), and returns a new dictionary, with the same keys, but where each original item has been converted to a string.\n",
        "\n",
        "Any items of a ``list`` type should become a single string with entries separated by commas and no brackets at either side (e.g. \"one, two, kumquat, four\").\n",
        "\n",
        "Call your function with \"**`my_meetup_dot_com_profile`**\" as an argument and print each entry on a separate line like so:\n",
        "\n",
        "    FAVOURITE PROGRAMMING LANGUAGE : FORTRAN66\n",
        "    FIRST NAME : Ignatius\n",
        "    ...\n",
        "\n",
        "where each key is capitalized and item value printed beside it. The order of lines is not important."
      ]
    },
    {
      "cell_type": "code",
      "source": [
        "my_meetup_dot_com_profile"
      ],
      "metadata": {
        "colab": {
          "base_uri": "https://localhost:8080/",
          "height": 103
        },
        "id": "G7gsrbmHBfzT",
        "outputId": "50b22e05-5547-49b7-bdea-b2ee81aa2766"
      },
      "execution_count": null,
      "outputs": [
        {
          "output_type": "execute_result",
          "data": {
            "text/plain": [
              "<function __main__.my_meetup_dot_com_profile(my_dict)>"
            ],
            "text/html": [
              "<div style=\"max-width:800px; border: 1px solid var(--colab-border-color);\"><style>\n",
              "      pre.function-repr-contents {\n",
              "        overflow-x: auto;\n",
              "        padding: 8px 12px;\n",
              "        max-height: 500px;\n",
              "      }\n",
              "\n",
              "      pre.function-repr-contents.function-repr-contents-collapsed {\n",
              "        cursor: pointer;\n",
              "        max-height: 100px;\n",
              "      }\n",
              "    </style>\n",
              "    <pre style=\"white-space: initial; background:\n",
              "         var(--colab-secondary-surface-color); padding: 8px 12px;\n",
              "         border-bottom: 1px solid var(--colab-border-color);\"><b>my_meetup_dot_com_profile</b><br/>def my_meetup_dot_com_profile(my_dict)</pre><pre class=\"function-repr-contents function-repr-contents-collapsed\" style=\"\"><a class=\"filepath\" style=\"display:none\" href=\"#\">/content/&lt;ipython-input-53-6c163642cb3d&gt;</a>&lt;no docstring&gt;</pre></div>"
            ]
          },
          "metadata": {},
          "execution_count": 54
        }
      ]
    },
    {
      "cell_type": "code",
      "execution_count": null,
      "metadata": {
        "id": "6jdF06CJkS4A"
      },
      "outputs": [],
      "source": [
        "# Use this cell\n",
        "def dict_fun(my_dict):\n",
        "  for k, v in my_dict.items():\n",
        "    if type(v) == list:\n",
        "      v = ', '.join(v)\n",
        "    my_dict[k] = str(v)\n",
        "  return my_dict"
      ]
    },
    {
      "cell_type": "markdown",
      "metadata": {
        "id": "3nvoXFp9kS4B"
      },
      "source": [
        "Note that you can create a blank dictionary with \"`= {}`\".\n",
        "Extension: if you get that done quickly, try making your function call itself on any (nested) items it finds of `dict` type, and turn the output into the string-value you need for your new dictionary. This is \"recursion\".\n",
        "\n",
        "Set\n",
        "```\n",
        "   my_meetup_dot_com_profile['dogs'] = {\"Freddie\": 5, \"Nitwit\": \"also a dog\"}\n",
        "```\n",
        "and run your function on \"**`my_meetup_dot_com_profile`**\" again to test your improvement."
      ]
    },
    {
      "cell_type": "code",
      "execution_count": null,
      "metadata": {
        "colab": {
          "base_uri": "https://localhost:8080/"
        },
        "id": "9_5XLVq6kS4B",
        "outputId": "b3afcb11-2195-485d-abde-fb2b880e13ed"
      },
      "outputs": [
        {
          "output_type": "stream",
          "name": "stdout",
          "text": [
            "first name : Ignatius\n",
            "favourite number : 9\n",
            "favourite programming language : FORTRAN66\n",
            "3 : is the magic number\n",
            "Interests : Python2, Python3, Scientific Python, Pottery\n"
          ]
        }
      ],
      "source": [
        "# Use this cell\n",
        "dict1 = dict_fun(my_meetup_dot_com_profile)\n",
        "\n",
        "for key, value in dict1.items():\n",
        "    print(key, \":\", value)"
      ]
    },
    {
      "cell_type": "markdown",
      "metadata": {
        "id": "I3d7HQvLkS4B"
      },
      "source": [
        "### Exercise: Zipping Up\n",
        "\n",
        "Using a for loop, write code to take two lists (of, say, 6 elements each) and make a dictionary where the first list is the keys and the second is the values."
      ]
    },
    {
      "cell_type": "code",
      "execution_count": null,
      "metadata": {
        "colab": {
          "base_uri": "https://localhost:8080/"
        },
        "id": "FXKWrBJakS4B",
        "outputId": "1f97c7cd-b098-41fb-bddc-666d0442e5cf"
      },
      "outputs": [
        {
          "output_type": "stream",
          "name": "stdout",
          "text": [
            "{'a': 1, 'b': 2, 'c': 3, 'd': 4, 'e': 5, 'f': 6}\n"
          ]
        }
      ],
      "source": [
        "# Loop through them to make a dictionary, where the first list is the keys,\n",
        "# and the second list is the values.\n",
        "# You might want to make this into a function where the first argument is\n",
        "# the first list, and the second argument is the second list\n",
        "my_list_of_keys = ['a', 'b', 'c', 'd', 'e', 'f']\n",
        "my_list_of_values = [1, 2, 3, 4, 5, 6]\n",
        "my_dict = {}\n",
        "for key, value in zip(my_list_of_keys, my_list_of_values):\n",
        "    my_dict[key] = value\n",
        "print(my_dict)"
      ]
    },
    {
      "cell_type": "markdown",
      "metadata": {
        "id": "J4VRWbeQkS4B"
      },
      "source": [
        "A handy function Python provides is `zip` - it lets you take multiple iterables, and pair them together in sequence:"
      ]
    },
    {
      "cell_type": "code",
      "execution_count": null,
      "metadata": {
        "colab": {
          "base_uri": "https://localhost:8080/"
        },
        "id": "KhI-g0TckS4C",
        "outputId": "87fee9fb-aee5-4692-dcd9-a330d8ac9d0b"
      },
      "outputs": [
        {
          "output_type": "stream",
          "name": "stdout",
          "text": [
            "<zip object at 0x789070b75080>\n"
          ]
        },
        {
          "output_type": "execute_result",
          "data": {
            "text/plain": [
              "[('a', 1), ('b', 2), ('c', 3), ('d', 4), ('e', 5), ('f', 6)]"
            ]
          },
          "metadata": {},
          "execution_count": 68
        }
      ],
      "source": [
        "my_zip = zip(my_list_of_keys, my_list_of_values)\n",
        "print(my_zip)\n",
        "list(my_zip)"
      ]
    },
    {
      "cell_type": "markdown",
      "metadata": {
        "id": "QBi9iDbrkS4C"
      },
      "source": [
        "Above you might notice that `zip` returns a variable of type `zip` - to get a printable list, we have to \"cast\" it to a list. Why would the Python architects give us a function that returns a type that is so specific to the function? What advantage could a `zip` type have over a `list` type?"
      ]
    },
    {
      "cell_type": "markdown",
      "metadata": {
        "id": "sfRL3yttkS4C"
      },
      "source": [
        "The other approach to printing this, without casting it, is to use... `print`"
      ]
    },
    {
      "cell_type": "code",
      "execution_count": null,
      "metadata": {
        "colab": {
          "base_uri": "https://localhost:8080/"
        },
        "id": "V000JJTbkS4C",
        "outputId": "abcc9157-0869-4a6e-88c2-a7cdb836c22b"
      },
      "outputs": [
        {
          "output_type": "stream",
          "name": "stdout",
          "text": [
            "('a', 1) ('b', 2) ('c', 3) ('d', 4) ('e', 5) ('f', 6)\n"
          ]
        }
      ],
      "source": [
        "my_zip = zip(my_list_of_keys, my_list_of_values)\n",
        "print(*my_zip)"
      ]
    },
    {
      "cell_type": "markdown",
      "metadata": {
        "id": "io-6kAUrkS4C"
      },
      "source": [
        "A new bit of syntax slipped in here! This is a spread operator, a little like other languages (e.g. `f(&args...)` in C++11) -- it takes an iterable (something you can loop through) and sets each value to a new argument."
      ]
    },
    {
      "cell_type": "code",
      "execution_count": null,
      "metadata": {
        "colab": {
          "base_uri": "https://localhost:8080/"
        },
        "id": "_XF4b8n4kS4C",
        "outputId": "b59173cc-e4b5-46f7-a394-a63960c84e6f"
      },
      "outputs": [
        {
          "output_type": "execute_result",
          "data": {
            "text/plain": [
              "range(1, 3, 5)"
            ]
          },
          "metadata": {},
          "execution_count": 70
        }
      ],
      "source": [
        "args = [1, 3, 5]\n",
        "range(*args)"
      ]
    },
    {
      "cell_type": "markdown",
      "metadata": {
        "id": "oGWSvP4mkS4C"
      },
      "source": [
        "If you're feeling _very_ smart, see if you can think why this `print` does not print anything..."
      ]
    },
    {
      "cell_type": "code",
      "execution_count": null,
      "metadata": {
        "colab": {
          "base_uri": "https://localhost:8080/"
        },
        "id": "6-FbDz0kkS4C",
        "outputId": "8cb68c56-8dc3-4e76-a16b-9e9391d6c414"
      },
      "outputs": [
        {
          "output_type": "stream",
          "name": "stdout",
          "text": [
            "\n"
          ]
        }
      ],
      "source": [
        "print(*my_zip)"
      ]
    },
    {
      "cell_type": "markdown",
      "metadata": {
        "id": "7y1RM_lXkS4D"
      },
      "source": [
        "Here's another handy way to use `zip`..."
      ]
    },
    {
      "cell_type": "code",
      "execution_count": null,
      "metadata": {
        "colab": {
          "base_uri": "https://localhost:8080/"
        },
        "id": "mNM5uPQbkS4D",
        "outputId": "367a7213-1de9-4281-b93e-d39ef1dceeaf"
      },
      "outputs": [
        {
          "output_type": "execute_result",
          "data": {
            "text/plain": [
              "{'a': 1, 'b': 2, 'c': 3, 'd': 4, 'e': 5, 'f': 6}"
            ]
          },
          "metadata": {},
          "execution_count": 72
        }
      ],
      "source": [
        "dict(zip(my_list_of_keys, my_list_of_values))"
      ]
    },
    {
      "cell_type": "markdown",
      "metadata": {
        "id": "w_sBxk2LkS4D"
      },
      "source": [
        "Can you think how to create the same dictionary using only the dict function and some lists?"
      ]
    },
    {
      "cell_type": "code",
      "execution_count": null,
      "metadata": {
        "id": "FE82zflMkS4D"
      },
      "outputs": [],
      "source": []
    },
    {
      "cell_type": "markdown",
      "metadata": {
        "id": "mxoPvMfCkS4D"
      },
      "source": [
        "For mathematicians, you can think of this like a transpose function, as if it were swapping rows and columns in a matrix."
      ]
    },
    {
      "cell_type": "code",
      "execution_count": null,
      "metadata": {
        "colab": {
          "base_uri": "https://localhost:8080/"
        },
        "id": "KvHa21itkS4D",
        "outputId": "6b7bd48b-1714-45b5-82dc-85b17e53767a"
      },
      "outputs": [
        {
          "output_type": "stream",
          "name": "stdout",
          "text": [
            "['a', 'b', 'c', 'd', 'e', 'f'] [1, 2, 3, 4, 5, 6]\n"
          ]
        },
        {
          "output_type": "execute_result",
          "data": {
            "text/plain": [
              "[('a', 1), ('b', 2), ('c', 3), ('d', 4), ('e', 5), ('f', 6)]"
            ]
          },
          "metadata": {},
          "execution_count": 73
        }
      ],
      "source": [
        "print(my_list_of_keys, my_list_of_values)\n",
        "list(zip(my_list_of_keys, my_list_of_values))"
      ]
    },
    {
      "cell_type": "markdown",
      "metadata": {
        "id": "i8Pa3ZcQkS4D"
      },
      "source": [
        "# Modules\n",
        "\n",
        "## Gotta catch em all"
      ]
    },
    {
      "cell_type": "markdown",
      "metadata": {
        "id": "RPw1j6gkkS4D"
      },
      "source": [
        "## Introduction to modules"
      ]
    },
    {
      "cell_type": "markdown",
      "metadata": {
        "id": "A4bKg2OSkS4D"
      },
      "source": [
        "* Where Python gets its power"
      ]
    },
    {
      "cell_type": "markdown",
      "metadata": {
        "id": "UUoWSq94kS4E"
      },
      "source": [
        "Wealth of modules providing everything from full GUI toolkits to astrophysics simulations. Mature and reliable numerics libraries, and an evolving ecosystem that grows day by day"
      ]
    },
    {
      "cell_type": "markdown",
      "metadata": {
        "id": "YTnE-pQAkS4E"
      },
      "source": [
        "* Some modules come bundled, but you can install many more"
      ]
    },
    {
      "cell_type": "markdown",
      "metadata": {
        "id": "kQqjNxynkS4E"
      },
      "source": [
        "Python has tools so you can just specify the name and it will get it from the appropriate online repository. On Windows, this can be tricky, but a recent Python distribution, Anaconda, makes it easy, and includes thousands of packages out of the box. This seems your best bet if on Windows or Mac and I have USB sticks here for you to get going at the end of the day."
      ]
    },
    {
      "cell_type": "markdown",
      "metadata": {
        "id": "KmHkrUPZkS4E"
      },
      "source": [
        "* Some are part of Python, lots are third-party"
      ]
    },
    {
      "cell_type": "markdown",
      "metadata": {
        "id": "O62yBDlTkS4E"
      },
      "source": [
        "It is good to have an idea of which is which, as you can get (normally free) help, often at pretty short notice, by heading to the project's forums - remember, always be polite and, bear in mind, it isn't a commercial service, so an answer isn't guaranteed. For reference, when someone is really desperate they can offer a bounty for a solution or a bit of code on certain websites, not to mention people offering consultancy support, so that doesn't entirely mean there are no other options, but most of the time what's freely available is more than adequate."
      ]
    },
    {
      "cell_type": "markdown",
      "metadata": {
        "id": "ZqgMEI49kS4E"
      },
      "source": [
        "## Using modules"
      ]
    },
    {
      "cell_type": "markdown",
      "metadata": {
        "id": "enh9S0pgkS4E"
      },
      "source": [
        "First off, you *import* a module. This tells Python that it should hoke it out of its cave of treasures for upcoming use..."
      ]
    },
    {
      "cell_type": "code",
      "execution_count": null,
      "metadata": {
        "id": "yppo-l3TkS4E"
      },
      "outputs": [],
      "source": [
        "import math"
      ]
    },
    {
      "cell_type": "markdown",
      "metadata": {
        "id": "mcLM3ke5kS4F"
      },
      "source": [
        "This brings in a whole set of tools for dealing with basic mathematics. (so execute it!)"
      ]
    },
    {
      "cell_type": "markdown",
      "metadata": {
        "id": "m5bVJgXSkS4F"
      },
      "source": [
        "We reach into this with a dot..."
      ]
    },
    {
      "cell_type": "code",
      "execution_count": null,
      "metadata": {
        "colab": {
          "base_uri": "https://localhost:8080/"
        },
        "id": "GunaY9oqkS4F",
        "outputId": "4b725078-1714-4c80-e113-fcd38652430f"
      },
      "outputs": [
        {
          "output_type": "execute_result",
          "data": {
            "text/plain": [
              "3.141592653589793"
            ]
          },
          "metadata": {},
          "execution_count": 75
        }
      ],
      "source": [
        "math.pi"
      ]
    },
    {
      "cell_type": "markdown",
      "metadata": {
        "id": "9GeHHvJ3kS4F"
      },
      "source": [
        "It has functions and constants..."
      ]
    },
    {
      "cell_type": "code",
      "execution_count": null,
      "metadata": {
        "scrolled": true,
        "colab": {
          "base_uri": "https://localhost:8080/"
        },
        "id": "qVJ6zGhPkS4F",
        "outputId": "2ce27f14-3ebd-4a01-8a05-5757bdee2116"
      },
      "outputs": [
        {
          "output_type": "execute_result",
          "data": {
            "text/plain": [
              "1.0"
            ]
          },
          "metadata": {},
          "execution_count": 76
        }
      ],
      "source": [
        "math.sin(math.pi / 2)"
      ]
    },
    {
      "cell_type": "markdown",
      "metadata": {
        "id": "Gs1cSDLIkS4F"
      },
      "source": [
        "So how do you find out what is available in `math`? Like before, Google `python3 math`... try it now:\n",
        "https://www.google.ie/search?q=python3+math (this is just the Google search link)"
      ]
    },
    {
      "cell_type": "markdown",
      "metadata": {
        "id": "jtX6mhHtkS4F"
      },
      "source": [
        "For me, the closest version of Python was actually the second link (for Python 3.5) - normally, minor version differences are rarely a problem, but if what you see seems different to the manual, just add Google for \"`python 3.4 math`\", or whatever. To check the current version that Jupyter is using, go to `Help->About`."
      ]
    },
    {
      "cell_type": "markdown",
      "metadata": {
        "id": "GyV9sF65kS4F"
      },
      "source": [
        "Another useful one is `os`..."
      ]
    },
    {
      "cell_type": "code",
      "execution_count": null,
      "metadata": {
        "colab": {
          "base_uri": "https://localhost:8080/"
        },
        "id": "slZ69D6GkS4G",
        "outputId": "4ae71bb9-45cc-48f4-d003-29b8cd4bd292"
      },
      "outputs": [
        {
          "output_type": "stream",
          "name": "stdout",
          "text": [
            "False\n"
          ]
        }
      ],
      "source": [
        "import os\n",
        "print(os.path.exists('/usr/bin/python'))"
      ]
    },
    {
      "cell_type": "markdown",
      "metadata": {
        "id": "tbSi4Xx0kS4G"
      },
      "source": [
        "This is in fact using a submodule, `os.path`, we can reach in twice to get functions inside that."
      ]
    },
    {
      "cell_type": "markdown",
      "metadata": {
        "id": "ffSLJwykkS4G"
      },
      "source": [
        "Also `sys`..."
      ]
    },
    {
      "cell_type": "code",
      "execution_count": null,
      "metadata": {
        "colab": {
          "base_uri": "https://localhost:8080/"
        },
        "id": "YyzvjZ7mkS4G",
        "outputId": "d41b7f5f-6097-4e32-d188-e21915680e32"
      },
      "outputs": [
        {
          "output_type": "stream",
          "name": "stdout",
          "text": [
            "['/content', '/env/python', '/usr/lib/python310.zip', '/usr/lib/python3.10', '/usr/lib/python3.10/lib-dynload', '', '/usr/local/lib/python3.10/dist-packages', '/usr/lib/python3/dist-packages', '/usr/local/lib/python3.10/dist-packages/IPython/extensions', '/root/.ipython']\n"
          ]
        }
      ],
      "source": [
        "import sys\n",
        "print(sys.path)\n",
        "# sys.exit(1)  # Exit with error code 1"
      ]
    },
    {
      "cell_type": "markdown",
      "metadata": {
        "id": "BW9IMkKBkS4G"
      },
      "source": [
        "The last command tells your script to exit, with code 1. I don't really want to try that right now, as whatever happens won't be good."
      ]
    },
    {
      "cell_type": "markdown",
      "metadata": {
        "id": "0Stu33aykS4G"
      },
      "source": [
        "## There are four key variants of importing\n",
        "\n",
        "### You will see all four, so check back here"
      ]
    },
    {
      "cell_type": "code",
      "execution_count": null,
      "metadata": {
        "scrolled": true,
        "id": "2RZRNbHIkS4G"
      },
      "outputs": [],
      "source": [
        "import math\n",
        "print(math.e)"
      ]
    },
    {
      "cell_type": "markdown",
      "metadata": {
        "id": "P5kXty4DkS4H"
      },
      "source": [
        "This is the most succint as it just dumps everything in the `math` module into the global namespace, which saves much typing, but it can make debugging a headache, especially if there are some strange functions or variables in there that happen to have the same name as something else you later decide to use (this does happen from time to time)"
      ]
    },
    {
      "cell_type": "code",
      "execution_count": null,
      "metadata": {
        "id": "9wT5adOYkS4H"
      },
      "outputs": [],
      "source": [
        "import math as m\n",
        "print(m.e)"
      ]
    },
    {
      "cell_type": "markdown",
      "metadata": {
        "id": "Clk90_WHkS4H"
      },
      "source": [
        "...we've seen that..."
      ]
    },
    {
      "cell_type": "code",
      "execution_count": null,
      "metadata": {
        "id": "TYEXqcCqkS4H"
      },
      "outputs": [],
      "source": [
        "from math import e\n",
        "print(e)"
      ]
    },
    {
      "cell_type": "markdown",
      "metadata": {
        "id": "19wXhIVVkS4H"
      },
      "source": [
        "...in other words, give `math` an alias..."
      ]
    },
    {
      "cell_type": "code",
      "execution_count": null,
      "metadata": {
        "id": "xNLmnEL7kS4I"
      },
      "outputs": [],
      "source": [
        "from math import *\n",
        "from sympy import *\n",
        "print(sin(3))"
      ]
    },
    {
      "cell_type": "markdown",
      "metadata": {
        "id": "ZDU5uhWzkS4I"
      },
      "source": [
        "...which saves some typing if you're *sure* you don't want to use any other variable called `e`..."
      ]
    },
    {
      "cell_type": "markdown",
      "metadata": {
        "id": "YH9TU4adkS4I"
      },
      "source": [
        "## We are near the end of the walk-through\n",
        "\n",
        "Feel free to go back and forward through this. I am going to give you one final task to get you started on this topic..."
      ]
    },
    {
      "cell_type": "markdown",
      "metadata": {
        "id": "6wNybR0wkS4I"
      },
      "source": [
        "Remember your line number from Etherpad? If not, it should be in variable `x`..."
      ]
    },
    {
      "cell_type": "code",
      "execution_count": null,
      "metadata": {
        "colab": {
          "base_uri": "https://localhost:8080/"
        },
        "id": "HGrbQTHCkS4I",
        "outputId": "a575f0b6-616d-4fa6-e197-50e46107e0e4"
      },
      "outputs": [
        {
          "output_type": "stream",
          "name": "stdout",
          "text": [
            "I am on line number x = 7\n"
          ]
        }
      ],
      "source": [
        "print(\"I am on line number\", In[2])"
      ]
    },
    {
      "cell_type": "markdown",
      "metadata": {
        "id": "UVlNyvpykS4I"
      },
      "source": [
        "But double-check Etherpad..."
      ]
    },
    {
      "cell_type": "markdown",
      "metadata": {
        "id": "4rh3hXRCkS4J"
      },
      "source": [
        "Remember the post-its? So, everybody stick your star post-it somewhere I can see it..."
      ]
    },
    {
      "cell_type": "markdown",
      "metadata": {
        "id": "Ej7fXoAykS4J"
      },
      "source": [
        "Your task is to write a Jupyter cell to give you the $x^{th}$ digit of $pi$ and **write the digit at the start of that Etherpad line**, the one with your name on it. In particular, try and do this, just using `x`, without typing the number in directly. Then you can experiment to see if other numbers work too.\n",
        "\n",
        "There are several ways to do this... I've given you enough tools above to find at least one. If, when you get it working, no-one has described your approach on Etherpad, write a short description at the bottom of the notepad.\n",
        "\n",
        "When done, swap your star for an arrow."
      ]
    },
    {
      "cell_type": "code",
      "execution_count": null,
      "metadata": {
        "id": "U40zjAzokS4J"
      },
      "outputs": [],
      "source": [
        "# Overwrite this cell with your code and run it"
      ]
    },
    {
      "cell_type": "markdown",
      "metadata": {
        "id": "_6qELtGykS4J"
      },
      "source": [
        "So, hopefully, you now have a calculator for the $x^{th}$ digit of $\\pi$. How can you use this without going back and editing the cell?"
      ]
    },
    {
      "cell_type": "markdown",
      "metadata": {
        "id": "3AI8ms6KkS4J"
      },
      "source": [
        "Well... copy and paste your text below the line in the cell below:"
      ]
    },
    {
      "cell_type": "code",
      "execution_count": null,
      "metadata": {
        "id": "fWKfSb3QkS4J"
      },
      "outputs": [],
      "source": [
        "def get_xth_digit_of_pi(x):\n"
      ]
    },
    {
      "cell_type": "markdown",
      "metadata": {
        "id": "VA3pxYSIkS4J"
      },
      "source": [
        "Now indent everything beneath the `def` line by four spaces and run it. You have just defined a function! If so, this should give you a `1`:"
      ]
    },
    {
      "cell_type": "code",
      "execution_count": null,
      "metadata": {
        "id": "8uXSwN3XkS4K"
      },
      "outputs": [],
      "source": [
        "get_xth_digit_of_pi(5)"
      ]
    },
    {
      "cell_type": "markdown",
      "metadata": {
        "id": "9aKqUBBbkS4K"
      },
      "source": [
        "If you had errors that don't make sense, try the chat window, try someone beside you (my normal approach in life) or ask me."
      ]
    },
    {
      "cell_type": "markdown",
      "metadata": {
        "id": "txidNIV8kS4N"
      },
      "source": [
        "# Pythonic\n",
        "## Walks like a Python..."
      ]
    },
    {
      "cell_type": "markdown",
      "metadata": {
        "id": "oLFXUyI5kS4N"
      },
      "source": [
        "This is a fundamental principle of Python and, unusually for something for fundamental, it isn't part of the code. Python is a bit like Ultimate Frisbee - in case you haven't had the pleasure, referees are not required, even in international competitions. This is on the basis that, if you're playing the sport, then you've decided you're there with the ethos, and the players can sort out those decisions amongst themselves and get on with the game. If you're trying to take advantage of that, then the fundamental question is, why play Ultimate Frisbee?"
      ]
    },
    {
      "cell_type": "markdown",
      "metadata": {
        "id": "6EeaV42bkS4N"
      },
      "source": [
        "Good Python practice frequently diverges from what is commended in other languages. Succinctness or efficiency is not necessarily good - clarity comes before cleverness. However, using a pattern from previous experience when Python has a neater, more beautiful, more *Pythonic* way - that's something to try to avoid. The upshot of all this is that, when you come to what the community considers \"good code\", it is simple, elegant and clear."
      ]
    },
    {
      "cell_type": "markdown",
      "metadata": {
        "id": "iCQ0sNdqkS4O"
      },
      "source": [
        "## Not-so-Pythonic way:"
      ]
    },
    {
      "cell_type": "code",
      "execution_count": null,
      "metadata": {
        "id": "00bOdPy6kS4O"
      },
      "outputs": [],
      "source": [
        "for i in range(len(things_to_do)):\n",
        "    print(things_to_do[i])"
      ]
    },
    {
      "cell_type": "markdown",
      "metadata": {
        "id": "SYhr0u0ikS4O"
      },
      "source": [
        "## More Pythonic way:"
      ]
    },
    {
      "cell_type": "code",
      "execution_count": null,
      "metadata": {
        "id": "62Xj-ksLkS4O"
      },
      "outputs": [],
      "source": [
        "for task in things_to_do:\n",
        "    print(task)"
      ]
    },
    {
      "cell_type": "markdown",
      "metadata": {
        "id": "sFXfSVudkS4O"
      },
      "source": [
        "Same output, but one feels more like pseudocode, more like how you would verbally convey the idea if somebody asked."
      ]
    },
    {
      "cell_type": "markdown",
      "metadata": {
        "id": "ATCXGWrykS4P"
      },
      "source": [
        "If you want to *get* what Python is about, try this (literally):"
      ]
    },
    {
      "cell_type": "code",
      "execution_count": null,
      "metadata": {
        "id": "f8UzrDPbkS4P"
      },
      "outputs": [],
      "source": [
        "import this"
      ]
    },
    {
      "cell_type": "markdown",
      "metadata": {
        "id": "nvNJs2Z_kS4P"
      },
      "source": [
        "This is one of the hardest things to get when switching to Python, particularly from compiled languages, but it is one of Python's greatest rewards. Nothing much beats opening up a script you hacked together two years ago to see zen-like transparency - no confusion, beautifully professional, and thanks to Python's design, no extra time spent writing it, just a feel for what Pythonic *is*."
      ]
    },
    {
      "cell_type": "markdown",
      "metadata": {
        "id": "6Ive_PW-kS4Q"
      },
      "source": [
        "Going back to the pi example, here are a couple of approaches - which is more Pythonic?\n",
        "```\n",
        "1.\n",
        "    scaled_up = math.pi * (10 ** (x - 1))\n",
        "    higher_digits = 10 * (scaled_up // 10)\n",
        "    return int(scaled_up - higher_digits)\n",
        "\n",
        "2.\n",
        "    pi_as_str = str(math.pi)\n",
        "    if x == 1:\n",
        "        x = 0\n",
        "    return pi_as_str[x]\n",
        "```"
      ]
    },
    {
      "cell_type": "markdown",
      "metadata": {
        "id": "7rRObg-ykS4Q"
      },
      "source": [
        "# A couple of resources..."
      ]
    },
    {
      "cell_type": "markdown",
      "metadata": {
        "id": "s7S3NfgokS4Q"
      },
      "source": [
        "* If there is one link from this course to click: [What is Pythonic](http://blog.startifact.com/posts/older/what-is-pythonic.html)"
      ]
    },
    {
      "cell_type": "markdown",
      "metadata": {
        "id": "psC7ccEikS4Q"
      },
      "source": [
        "* [PEP](https://www.python.org/dev/peps/pep-0008/) (Python Enhancement Proposal) 8 - code style"
      ]
    },
    {
      "cell_type": "markdown",
      "metadata": {
        "id": "6GVd_f3skS4Q"
      },
      "source": [
        "These are publicly accessible design documents and nearly everything new of importance passes through here. PEP8 is, in fact, a style guide; unlike many languages, there is more or less a definitive recommended style, and this spells it out. Since I discovered *flake8* and *pylint*, I have my IDE set to highlight style errors and it has reaped dividends to the moon and back - I strongly recommend you do so too, especially if we ever have to code together."
      ]
    },
    {
      "cell_type": "markdown",
      "metadata": {
        "id": "jbLomzSAkS4Q"
      },
      "source": [
        "# What about all the other structures??"
      ]
    },
    {
      "cell_type": "markdown",
      "metadata": {
        "id": "aRvVnHtlkS4R"
      },
      "source": [
        "Well, they are not so hard once you get this far:"
      ]
    },
    {
      "cell_type": "markdown",
      "metadata": {
        "id": "jQiudoO0kS4R"
      },
      "source": [
        " but you'll come across them throughout today and tomorrow."
      ]
    },
    {
      "cell_type": "markdown",
      "metadata": {
        "id": "WaDVZsBBkS4R"
      },
      "source": [
        "* Most Python entities are objects, with methods like `obj.method(arg1, arg2)` (like routines in modules)"
      ]
    },
    {
      "cell_type": "markdown",
      "metadata": {
        "id": "08Yyz5qlkS4R"
      },
      "source": [
        "* Loops can be `while [SOME BOOLEAN]:`, as well as for"
      ]
    },
    {
      "cell_type": "markdown",
      "metadata": {
        "id": "6cC89jU8kS4R"
      },
      "source": [
        "* We will explore some actual modules after next"
      ]
    },
    {
      "cell_type": "markdown",
      "metadata": {
        "id": "nZI-rHMxkS4R"
      },
      "source": [
        "* Generators put loops inside lists"
      ]
    },
    {
      "cell_type": "markdown",
      "metadata": {
        "id": "ScH2yiRykS4S"
      },
      "source": [
        "# Summary"
      ]
    },
    {
      "cell_type": "markdown",
      "metadata": {
        "id": "WvGJsKpBkS4S"
      },
      "source": [
        "* loops & conditionals"
      ]
    },
    {
      "cell_type": "markdown",
      "metadata": {
        "id": "qhzkwka1kS4S"
      },
      "source": [
        "* lists & dictionaries"
      ]
    },
    {
      "cell_type": "markdown",
      "metadata": {
        "id": "okHLIUpokS4S"
      },
      "source": [
        "* modules & functions"
      ]
    },
    {
      "cell_type": "markdown",
      "metadata": {
        "id": "h_5LlGVRkS4S"
      },
      "source": [
        "* methods on objects & \"Pythonic\""
      ]
    }
  ],
  "metadata": {
    "celltoolbar": "Slideshow",
    "kernelspec": {
      "display_name": "Python 3 (ipykernel)",
      "language": "python",
      "name": "python3"
    },
    "language_info": {
      "codemirror_mode": {
        "name": "ipython",
        "version": 3
      },
      "file_extension": ".py",
      "mimetype": "text/x-python",
      "name": "python",
      "nbconvert_exporter": "python",
      "pygments_lexer": "ipython3",
      "version": "3.11.6"
    },
    "livereveal": {
      "theme": "beige",
      "transition": "cascade"
    },
    "colab": {
      "provenance": []
    }
  },
  "nbformat": 4,
  "nbformat_minor": 0
}