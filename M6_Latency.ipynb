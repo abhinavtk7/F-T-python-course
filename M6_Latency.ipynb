{
  "cells": [
    {
      "cell_type": "markdown",
      "metadata": {
        "id": "iV0OnscvN_8H"
      },
      "source": [
        "# Network speed test"
      ]
    },
    {
      "cell_type": "markdown",
      "metadata": {
        "id": "O2C_9_gUN_8K"
      },
      "source": [
        "## Returning to the 20th Century"
      ]
    },
    {
      "cell_type": "markdown",
      "metadata": {
        "id": "PuXgQj5EN_8L"
      },
      "source": [
        "Jupyter is all well and good, but sometimes what we want are simple Python scripts and a traditional project layout. This where VSCode comes in..."
      ]
    },
    {
      "cell_type": "markdown",
      "metadata": {
        "id": "3Tn6PYYDN_8L"
      },
      "source": [
        "## Starting VSCode\n",
        "\n",
        "**Either**, go to https://github.com/flaxandteal/python-course and, under the *Code* menu, download ZIP. Extract it somewhere handy. Then open VSCode from your Windows/Linux/Mac desktop and, from the *File* menu, select *Open Folder*. Navigate to where you extracted the ZIP, and select the **006-latency** subfolder."
      ]
    },
    {
      "cell_type": "markdown",
      "metadata": {
        "id": "IQPDGZQDN_8M"
      },
      "source": [
        "**Or** at a command line, create a new folder somewhere under your home directory, and clone the Python course into it:\n",
        "\n",
        "    git clone https://github.com/flaxandteal/python-course\n",
        "    cd python-course\n",
        "   \n",
        "Head to the 006-latency folder:\n",
        "\n",
        "    cd 006-latency\n",
        "\n",
        "Run VSCode:\n",
        "\n",
        "    code .\n",
        "    \n",
        "Open the `006-latency` directory from the file menu."
      ]
    },
    {
      "cell_type": "markdown",
      "metadata": {
        "id": "QEcMixPjN_8M"
      },
      "source": [
        "![Screenshot from VS Code](vscode-screenshot.png)"
      ]
    },
    {
      "cell_type": "markdown",
      "metadata": {
        "id": "baIIZ1edN_8N"
      },
      "source": [
        "Open `network_test_client.py` from the panel on the left. If this is your first time opening a Python file in VSCode, it may ask (bottom right) if you want to install the Python plugin. Go ahead and do so.\n",
        "\n",
        "If you do not already have a terminal at the bottom of the screen, go ahead and open one now (Ctrl+Shift+# or via Terminal menu). This will put you in the same directory as the one you opened."
      ]
    },
    {
      "cell_type": "markdown",
      "metadata": {
        "id": "jktm6p3oN_8N"
      },
      "source": [
        "# Virtualenv\n",
        "## Building sandcastles"
      ]
    },
    {
      "cell_type": "markdown",
      "metadata": {
        "id": "j00GavtpN_8N"
      },
      "source": [
        "Virtualenv provides a means of sandboxing a Python installation, that is, installing a particular version of Python and all the modules you want in a directory, and using everything from there."
      ]
    },
    {
      "cell_type": "markdown",
      "metadata": {
        "id": "0a6mGeYeN_8O"
      },
      "source": [
        "`venv` is a Python for setting up virtual environments - where you can create an \"environment\" and install completely separate packages from the system or any other environment. Basically, it's a directory with a load of Python modules"
      ]
    },
    {
      "cell_type": "markdown",
      "metadata": {
        "id": "i_rnvn7qN_8O"
      },
      "source": [
        "* In the `006-latency` directory execute **`python3 -m venv .venv`**\n",
        "  * This creates a new subdirectory called \".venv\" - note that it will be hidden by default when exploring your directory, as it starts with a dot\n",
        "  \n",
        "VSCode may prompt you, at this point, to use the new environment for your Workspace. If so, say Yes.\n",
        "\n",
        "If not, press `Ctrl+Shift+P` and you will see a command input textbox. Start typing `Python: Select Interpreter` and select it when it appears.\n",
        "\n",
        "You should see a line with `{'.venv': venv}` - pick it."
      ]
    },
    {
      "cell_type": "markdown",
      "metadata": {
        "id": "1GF6ZQR7N_8O"
      },
      "source": [
        "If you do change environments, you will still have to close the Terminal and open a new one, before running Python, pylint, pytest, etc. in there reaches the same versions as VSCode is using. Alternatively (and if not using VSCode), you can run the command:\n",
        "\n",
        "    . .venv/bin/activate\n",
        "    \n",
        "and you Terminal will now use project-specific versions of Python and its libraries."
      ]
    },
    {
      "cell_type": "markdown",
      "metadata": {
        "id": "2mKJerxVN_8O"
      },
      "source": [
        "Anaconda is a popular distribution, especially in data science - for the moment, we'll stick to the generic tools (pip, etc.), but if you are having trouble with those, it can vastly simplify Python configuration on Windows and Mac. Anaconda is a \"distribution\" of Python, which bundles a version of the Python interpreter, a whole load of modules and a similar, but slightly different, way of working with environments. Instead of `pip`, it uses a package manager called `conda`."
      ]
    },
    {
      "cell_type": "markdown",
      "metadata": {
        "id": "yB8b8WTON_8O"
      },
      "source": [
        "* Run **`pip3 install sympy pylint`**\n",
        "* Run **`which python3`**\n",
        "* Notice that the version of Python that runs by default is within the `.venv` subdirectory\n",
        "\n",
        "We have also put those into the `requirements.txt` file, so you could also run\n",
        "\n",
        "* **`pip3 install -r requirements.txt`**"
      ]
    },
    {
      "cell_type": "markdown",
      "metadata": {
        "id": "QgJv_1AZN_8O"
      },
      "source": [
        "`pip` is Python's home-grown package manager. It installs modules from [PyPI](https://pypi.python.org/pypi), the official online repository for modules. It is similar to, say, *packagist* for PHP, *rubygems* for Ruby or *Hackage* for Haskell."
      ]
    },
    {
      "cell_type": "markdown",
      "metadata": {
        "id": "gfgRkv36N_8P"
      },
      "source": [
        "* When you want to return to the normal system Python, you can execute **`deactivate`**\n",
        "* (but don't yet)"
      ]
    },
    {
      "cell_type": "markdown",
      "metadata": {
        "id": "8F3w_bFfN_8P"
      },
      "source": [
        "This session is themed on measuring latency between a server and client. Please bear in mind that this uses a fairly rough approach to accuracy - if you find a few minutes spare, feel free to improve the approach! However, the aim here is to look at the code and algorithms.\n",
        "\n",
        "More broadly, for those who are coming from an engineering end, I can say from experience that if you start to scale up your number of simulations, you will be looking for bottlenecks and profiling. There are better, tailored utilities for doing so, but this should give you an idea about how to think about the problem."
      ]
    },
    {
      "cell_type": "markdown",
      "metadata": {
        "id": "1T57hnBjN_8P"
      },
      "source": [
        "# Latency\n",
        "## Time tracking"
      ]
    },
    {
      "cell_type": "markdown",
      "metadata": {
        "id": "LQfS6TeeN_8P"
      },
      "source": [
        "On the right hand side, you will see an icon of a play button / ladybird-like bug. Click it, and notice that the left-hand side changes to a set of panels:\n",
        "\n",
        "* Variables\n",
        "* Watch\n",
        "* Call Stack\n",
        "* Breakpoints\n",
        "\n",
        "At the top of them, slightly to the left, is a green play arrow - press it. You will be asked how you wish to debug the current file. Select a `Python File` debug configuration."
      ]
    },
    {
      "cell_type": "markdown",
      "metadata": {
        "id": "rFXSoY67N_8P"
      },
      "source": [
        "Nothing here should be too shocking. On line 21, you should remove the # and replace TBC with the number on the board beside me. As this is testing on a local server, please keep connection attempt values low, bearing in mind we're multiplying several loops together.\n",
        "\n",
        "So far, this code simply sets up a few parameters and the logger, as we saw earlier. In the gap near the bottom we will put some code to calculate a variable `return_time`, which will be the average delay (from send to receive) over `repeats` number of 1K bounces off a server, (on a single socket connection)."
      ]
    },
    {
      "cell_type": "markdown",
      "metadata": {
        "id": "qZSm3ttjN_8P"
      },
      "source": [
        "You can follow along typing with me or, if you find it hard to concentrate on what I am saying while you type, open up **`network_test_client_partial_1.py`**"
      ]
    },
    {
      "cell_type": "markdown",
      "metadata": {
        "id": "HRhHxP3qN_8P"
      },
      "source": [
        "### Logging"
      ]
    },
    {
      "cell_type": "markdown",
      "metadata": {
        "id": "J03nojg8N_8P"
      },
      "source": [
        "A brief aside on logging - now that we are writing scripts instead of notebooks, there comes the question of where output goes. Sometimes output is part of our objective - for example, a graph, or a set of text results. Sometimes, we simply want a record of what happened and what issues were seen, that we can refer back to."
      ]
    },
    {
      "cell_type": "markdown",
      "metadata": {
        "id": "QlLA6vp0N_8Q"
      },
      "source": [
        "Initially, we will likely use `print`, which shows text while not interrupting our flow - this can be extremely useful for barebones debugging..."
      ]
    },
    {
      "cell_type": "code",
      "execution_count": null,
      "metadata": {
        "id": "UePfE9GFN_8Q"
      },
      "outputs": [],
      "source": [
        "def fibonacci(up_to, dest=[]):\n",
        "    dest += [1, 1]\n",
        "    for _ in range(up_to):\n",
        "        dest.append(dest[-2] + dest[-1])\n",
        "    return dest"
      ]
    },
    {
      "cell_type": "code",
      "execution_count": null,
      "metadata": {
        "colab": {
          "base_uri": "https://localhost:8080/"
        },
        "id": "bKGmD_KPN_8R",
        "outputId": "ac63a0fc-32dc-41c3-fa33-2195bee229bf"
      },
      "outputs": [
        {
          "output_type": "execute_result",
          "data": {
            "text/plain": [
              "[1, 1, 2, 3, 5, 8, 13]"
            ]
          },
          "metadata": {},
          "execution_count": 2
        }
      ],
      "source": [
        "fibonacci(5)"
      ]
    },
    {
      "cell_type": "markdown",
      "metadata": {
        "id": "XItTA28zN_8R"
      },
      "source": [
        "Sure"
      ]
    },
    {
      "cell_type": "code",
      "execution_count": null,
      "metadata": {
        "colab": {
          "base_uri": "https://localhost:8080/"
        },
        "id": "q0Kdl7bfN_8R",
        "outputId": "8874df1a-0a45-4c2d-8a80-39ad502cfebe"
      },
      "outputs": [
        {
          "output_type": "execute_result",
          "data": {
            "text/plain": [
              "['fibonacci sequence', 1, 1, 2, 3, 5, 8, 13]"
            ]
          },
          "metadata": {},
          "execution_count": 3
        }
      ],
      "source": [
        "dest = ['fibonacci sequence']\n",
        "fibonacci(5, dest=dest)"
      ]
    },
    {
      "cell_type": "markdown",
      "metadata": {
        "id": "bqYVm1nuN_8S"
      },
      "source": [
        "Sure"
      ]
    },
    {
      "cell_type": "code",
      "execution_count": null,
      "metadata": {
        "colab": {
          "base_uri": "https://localhost:8080/"
        },
        "id": "IikaCWqeN_8S",
        "outputId": "34fb8c72-fc50-46e8-955b-ce35303981c3"
      },
      "outputs": [
        {
          "output_type": "execute_result",
          "data": {
            "text/plain": [
              "[1, 1, 2, 3, 5, 8, 13, 1, 1, 2, 3, 5, 8, 13]"
            ]
          },
          "metadata": {},
          "execution_count": 4
        }
      ],
      "source": [
        "fibonacci(5)"
      ]
    },
    {
      "cell_type": "markdown",
      "metadata": {
        "id": "iQ6QjyLqN_8S"
      },
      "source": [
        "???"
      ]
    },
    {
      "cell_type": "markdown",
      "metadata": {
        "id": "NQPXmHazN_8S"
      },
      "source": [
        "In a few short lines, there are only so many places a problem might be. But in a large code base, especially if it may be running automatically, being able to toggle logging on and off in a customisable way brings several benefits:\n",
        "\n",
        "* firing text out to any real destination will slow down a program and take space\n",
        "* one big file is hard to manage, so output should be shared around to make it manageable\n",
        "* debug info (e.g. time, line #) is great but should not mean extra code on every logged line\n",
        "* turning logging on for some modules helps target output\n",
        "\n",
        "The logging module makes it easy."
      ]
    },
    {
      "cell_type": "code",
      "execution_count": null,
      "metadata": {
        "id": "EFQTfhGNN_8S"
      },
      "outputs": [],
      "source": [
        "import logging\n",
        "logging.info('Hello')"
      ]
    },
    {
      "cell_type": "markdown",
      "metadata": {
        "id": "6ENgeF_vN_8S"
      },
      "source": [
        "But not that easy. That should work in a normal script, but it's a little cleverer than `print` and so benefits from extra detail."
      ]
    },
    {
      "cell_type": "code",
      "execution_count": null,
      "metadata": {
        "colab": {
          "base_uri": "https://localhost:8080/"
        },
        "id": "XEIA7gaRN_8S",
        "outputId": "c53b56bf-ea0d-43de-e1c3-0fefe44cfae0"
      },
      "outputs": [
        {
          "output_type": "stream",
          "name": "stderr",
          "text": [
            "INFO:root:Hello again\n"
          ]
        }
      ],
      "source": [
        "logging.basicConfig(\n",
        "    level=logging.DEBUG,\n",
        "    force=True # due to Jupyter...\n",
        ")\n",
        "logging.info('Hello again')"
      ]
    },
    {
      "cell_type": "markdown",
      "metadata": {
        "id": "YDyiyxVMN_8S"
      },
      "source": [
        "Note that changing the configured log-level will switch logging of `logging.info`, `logging.error`, etc on and off everywhere."
      ]
    },
    {
      "cell_type": "markdown",
      "metadata": {
        "id": "64RLt9RzN_8S"
      },
      "source": [
        "## Time to carry on"
      ]
    },
    {
      "cell_type": "markdown",
      "metadata": {
        "id": "8-NBJlidN_8T"
      },
      "source": [
        "Now, I will start a function that we wish to time. Anyone who feels I am polluting the purity of the timing function by adding extra calls is welcome to improve their version!"
      ]
    },
    {
      "cell_type": "code",
      "execution_count": null,
      "metadata": {
        "collapsed": true,
        "id": "QftiUM3vN_8T"
      },
      "outputs": [],
      "source": [
        "# Define our actual measured operation\n",
        "def round_trip(skt):\n",
        "    # Create a random message to test our connection\n",
        "    payload = os.urandom(1024)\n",
        "\n",
        "    # Network-limited part\n",
        "    skt.sendall(payload)\n",
        "    received_payload = skt.recv(1024)\n",
        "\n",
        "    if received_payload != payload:\n",
        "        raise IOError(\"We received an incorrect echo\")"
      ]
    },
    {
      "cell_type": "markdown",
      "metadata": {
        "id": "ZhT-HXnjN_8X"
      },
      "source": [
        "We define this as a function that takes a TCP socket. It creates 1024 bytes of random data (this is the crypto-quality generator - unnecessary but useful for you to be aware of). We send our payload off down the wire, and expect to see it arrive here. Any exceptions will get thrown straight through for simplicity, but we will catch them later.\n",
        "\n",
        "We even throw our own exception, a common superclass for most IO exceptions, `IOError` when there is a problem with the payload. It is maybe helpful to subclass IOError (or a more appropriate error class) to create more specific exceptions - [see this link for a tutorial](https://docs.python.org/3/tutorial/errors.html#tut-userexceptions). Remember that the decision in an `except` statement, whether to handle an exception or pass it on it, is based on the class. Creating your own allows you to grab it (and only it) in a `try-except`."
      ]
    },
    {
      "cell_type": "code",
      "execution_count": null,
      "metadata": {
        "colab": {
          "base_uri": "https://localhost:8080/",
          "height": 211
        },
        "id": "8ci1kYWbN_8X",
        "outputId": "60a30a02-ccc8-4d09-cb66-5fd9abba8346"
      },
      "outputs": [
        {
          "output_type": "error",
          "ename": "NameError",
          "evalue": "name 'socket' is not defined",
          "traceback": [
            "\u001b[0;31m---------------------------------------------------------------------------\u001b[0m",
            "\u001b[0;31mNameError\u001b[0m                                 Traceback (most recent call last)",
            "\u001b[0;32m<ipython-input-8-c70e13f95fd9>\u001b[0m in \u001b[0;36m<cell line: 3>\u001b[0;34m()\u001b[0m\n\u001b[1;32m      1\u001b[0m \u001b[0;31m# Use a `with` context to make sure the socket automatically\u001b[0m\u001b[0;34m\u001b[0m\u001b[0;34m\u001b[0m\u001b[0m\n\u001b[1;32m      2\u001b[0m \u001b[0;31m# gets cleaned up\u001b[0m\u001b[0;34m\u001b[0m\u001b[0;34m\u001b[0m\u001b[0m\n\u001b[0;32m----> 3\u001b[0;31m \u001b[0;32mwith\u001b[0m \u001b[0msocket\u001b[0m\u001b[0;34m.\u001b[0m\u001b[0mcreate_connection\u001b[0m\u001b[0;34m(\u001b[0m\u001b[0maddress\u001b[0m\u001b[0;34m=\u001b[0m\u001b[0;34m(\u001b[0m\u001b[0mhost\u001b[0m\u001b[0;34m,\u001b[0m \u001b[0mport\u001b[0m\u001b[0;34m)\u001b[0m\u001b[0;34m,\u001b[0m \u001b[0mtimeout\u001b[0m\u001b[0;34m=\u001b[0m\u001b[0mtimeout\u001b[0m\u001b[0;34m)\u001b[0m \u001b[0;32mas\u001b[0m \u001b[0mskt\u001b[0m\u001b[0;34m:\u001b[0m\u001b[0;34m\u001b[0m\u001b[0;34m\u001b[0m\u001b[0m\n\u001b[0m\u001b[1;32m      4\u001b[0m     \u001b[0mlogger\u001b[0m\u001b[0;34m.\u001b[0m\u001b[0minfo\u001b[0m\u001b[0;34m(\u001b[0m\u001b[0;34m\"Created connection\"\u001b[0m\u001b[0;34m)\u001b[0m\u001b[0;34m\u001b[0m\u001b[0;34m\u001b[0m\u001b[0m\n\u001b[1;32m      5\u001b[0m     \u001b[0;31m# we will do some task in this gap\u001b[0m\u001b[0;34m\u001b[0m\u001b[0;34m\u001b[0m\u001b[0m\n",
            "\u001b[0;31mNameError\u001b[0m: name 'socket' is not defined"
          ]
        }
      ],
      "source": [
        "# Use a `with` context to make sure the socket automatically\n",
        "# gets cleaned up\n",
        "with socket.create_connection(address=(host, port), timeout=timeout) as skt:\n",
        "    logger.info(\"Created connection\")\n",
        "    # we will do some task in this gap\n",
        "    logger.info(\"Completed trial\")"
      ]
    },
    {
      "cell_type": "markdown",
      "metadata": {
        "id": "r49yk218N_8Y"
      },
      "source": [
        "We start writing this after our function. This is part of the main flow. I should mention, a more common pattern in Python, even in scripts, is to have virtually no global scope code like this. Instead, you would create a `main` or `run` function, like many compiled languages, and your only top-level call would be to run it. If you're feeling even more adventurous, you would wrap this in a class and create an application object, then call its `run` method, say.\n",
        "\n",
        "To create the connection, we use the `socket` library convenience function `create_connection`. This saves a few lines, creating, listening and binding, but, for those of you who care about your network code, you can do those explicitly very easily. We have also used three of our parameters.\n",
        "\n",
        "Note that `with` has made another appearance - anything with a so-called *context manager* methods works with a `with` statement. Here, the `socket` is guaranteed to be closed on exit, even if we leave via an exception. We name it `skt`."
      ]
    },
    {
      "cell_type": "code",
      "execution_count": null,
      "metadata": {
        "id": "IKfeKGa5N_8Y"
      },
      "outputs": [],
      "source": [
        "try:\n",
        "    with socket.create_connection(address=(host, port), timeout=timeout) as skt:\n",
        "        logger.info(\"Created connection\")\n",
        "        # TESTING CODE HERE\n",
        "        logger.info(\"Completed trial\")\n",
        "\n",
        "except OSError as e:\n",
        "    logger.error(\n",
        "        \"We could not create a socket connection to the \"\n",
        "        \"remote echo server\"\n",
        "    )\n",
        "    raise e"
      ]
    },
    {
      "cell_type": "markdown",
      "metadata": {
        "id": "ZlBvP110N_8Y"
      },
      "source": [
        "I mentioned earlier that `try-except` is your friend. Bear in mind, if you highlight several lines in VSCode, Tab will indent them - Shift+Tab deindents.\n",
        "\n",
        "If we get a socket error from anywhere inside the `with` (including our test routine from earlier), it will get caught here. In practice this is only being used to inject an extra logging line, but it illustrates the point. Note that we aren't catching the `IOError` I mentioned earlier. To do so, you can add an extra except clause, or turn \"`OSError as e`\" into \"`(IOError, OSError) as e`\", if we are happy to use the same one. Note that you do need the tuple parens (parens == parentheses)."
      ]
    },
    {
      "cell_type": "code",
      "execution_count": null,
      "metadata": {
        "id": "CEr_aiQRN_8Y"
      },
      "outputs": [],
      "source": [
        "        logger.info(\"Created connection\")\n",
        "        # This is going to add a bit of misleading overhead, but for this\n",
        "        # purpose we'll use lambda for simplicity\n",
        "        return_time = timeit.timeit(\n",
        "            lambda: round_trip(skt),\n",
        "            number=repeats\n",
        "        )\n",
        "        logger.info(\"Completed trial\")"
      ]
    },
    {
      "cell_type": "markdown",
      "metadata": {
        "id": "7gRwZOpKN_8Y"
      },
      "source": [
        "Finally, we make the call that will run our function. We use a module called `timeit` for this purpose. Again, this follows the Python theme of \"don't roll your own, when experts have done it for you\". If you're that ambitious, it is better to improve their code if you can than start from scratch, everybody wins. `timeit` is a core module and, supposedly, avoids a number of common function timing pitfalls.\n",
        "\n",
        "To use it, you supply a routine to test timings for as the first argument, and the number of repeats as the second. Please keep that `number` argument in there, as the default is 100,000 and I would rather you all didn't hit my server with 100M of socket traffic at the same time.\n",
        "\n",
        "Another feature of Python has been slipped in there at the same time. You can see a `lambda` function. This is a very simple construct of the form:"
      ]
    },
    {
      "cell_type": "markdown",
      "metadata": {
        "id": "qOxWrbyxN_8Z"
      },
      "source": [
        "```python\n",
        "lambda arg1, arg2: statement_using(arg1 + arg2)\n",
        "```"
      ]
    },
    {
      "cell_type": "markdown",
      "metadata": {
        "id": "g4w-Y8MoN_8Z"
      },
      "source": [
        "It is equivalent to"
      ]
    },
    {
      "cell_type": "markdown",
      "metadata": {
        "id": "xK33z_b6N_8Z"
      },
      "source": [
        "```python\n",
        "def func(arg1, arg2):\n",
        "    return statement_using(arg1 + arg2)\n",
        "```"
      ]
    },
    {
      "cell_type": "markdown",
      "metadata": {
        "id": "--6snHm-N_8Z"
      },
      "source": [
        "Basically, anywhere we would use \"func\", passing it as a callback or whatever, we can swap our anonymous lambda function. In this particular case, `timeit` will always call the function in the first argument with no arguments, but we need to pass the socket to our routine. How do we solve this? By creating a function that `timeit` can call with no arguments, but that forwards the call on to `round_trip` with the `skt` variable shoehorned in.\n",
        "\n",
        "Why don't we just name a function and forget about lambda? It is subjective, but here it is likely to confuse our code - what we need is a single line function that gets called with no arguments and calls `round_trip` with one. If we add another routine called `round_trip_caller` or something like that, on first glance we will wonder where it is being used and why, it doubles the number of `def` blocks in our code, and adds a couple of extra source lines that don't really clarify anything that a good comment wouldn't fix."
      ]
    },
    {
      "cell_type": "markdown",
      "metadata": {
        "id": "dbfJtLWAN_8Z"
      },
      "source": [
        "(If you want a reference version, or to save typing along, open ``network_test_client_complete.py``)"
      ]
    },
    {
      "cell_type": "markdown",
      "metadata": {
        "id": "3h5emz52N_8Z"
      },
      "source": [
        "Hit F5, or go to `Run->Run Without Debugging`\n",
        "\n",
        "If you get a dialog saying \"`Run Settings`\", choose \"`Execute in a new dedicated Python console`\" and continue."
      ]
    },
    {
      "cell_type": "markdown",
      "metadata": {
        "id": "mT8xvoNDN_8Z"
      },
      "source": [
        "You should now see some text appearing on the lower right hand pane. It shows the output of your code. You could also run this script from the command line with \"`python3 network_test_client_complete.py`\".\n",
        "\n",
        "The final output line should show the average time taken, and be somewhere in the 100ths of a second. Well that's fine, but suppose we want to see if that bears up under simultaneous calls, instead of just consecutive ones. This is where threading comes in.\n",
        "\n",
        "If you do not see the average time taken, then make sure you select the **``Console``** tab at the bottom right, and **``Python 1``** before running."
      ]
    },
    {
      "cell_type": "markdown",
      "metadata": {
        "id": "ntbQuORMN_8Z"
      },
      "source": [
        "# Threading our way\n",
        "## Weaving Python"
      ]
    },
    {
      "cell_type": "markdown",
      "metadata": {
        "id": "qN7OCOqEN_8Z"
      },
      "source": [
        "Python makes threading straightforward, (with a couple of caveats). We will start with a short example and expand it using the code we have already written."
      ]
    },
    {
      "cell_type": "markdown",
      "metadata": {
        "id": "th8dLOTLN_8a"
      },
      "source": [
        "Open up \"`network_test_client2.py`\""
      ]
    },
    {
      "cell_type": "markdown",
      "metadata": {
        "id": "T2LHAJR6N_8a"
      },
      "source": [
        "We have already imported the `threading` module. Now we need some threads..."
      ]
    },
    {
      "cell_type": "code",
      "execution_count": null,
      "metadata": {
        "collapsed": true,
        "id": "9zpsveDTN_8a"
      },
      "outputs": [],
      "source": [
        "# Threads are given identifiers as integers 1-N\n",
        "# This is easier to handle in numpy\n",
        "threads = [threading.Thread(target=run) for i in range(thread_count)]\n",
        "\n",
        "# The items method turns a module into pairs (tuples) of key and value\n",
        "for thread in threads:\n",
        "    thread.start()\n",
        "\n",
        "# Wait for all threads to complete\n",
        "for thread in threads:\n",
        "    thread.join()"
      ]
    },
    {
      "cell_type": "markdown",
      "metadata": {
        "id": "lqCpKiIzN_8a"
      },
      "source": [
        "First we introduce the concept of a *list comprehension*. This is a Python construct that embeds a loop in quite a few possible places. Mostly you will see them used to create lists and dicts. The format is (for basic use):"
      ]
    },
    {
      "cell_type": "markdown",
      "metadata": {
        "id": "2G2WY2YAN_8a"
      },
      "source": [
        "```python\n",
        "[fn(x) for x in iterable] --- e.g. [s.upper() for s in strings]\n",
        "```"
      ]
    },
    {
      "cell_type": "markdown",
      "metadata": {
        "id": "WNbmBXvwN_8b"
      },
      "source": [
        "This takes each item in an iterable, such as list, and does something to it to provide each entry in a new list. The example given goes through a list of, say, strings and uppercases all of them. The whole thing is another (equal size) list. In our case, we are using a bit of short-hand to say we want \"`thread_count`\" threads, each element in the list being a new instance of the `threading.Thread` class."
      ]
    },
    {
      "cell_type": "markdown",
      "metadata": {
        "id": "MPxAZfxKN_8b"
      },
      "source": [
        "We then start each thread, so a new parallel run of the `run` routine heads off. For completeness, we make sure every thread has finished before we reach the final `logging` statement. The `join` method blocks returning until that thread has completed."
      ]
    },
    {
      "cell_type": "code",
      "execution_count": null,
      "metadata": {
        "collapsed": true,
        "id": "y-eeoAGrN_8b"
      },
      "outputs": [],
      "source": [
        "def run():\n",
        "    # Get the current thread\n",
        "    currentThread = threading.currentThread()\n",
        "\n",
        "    # Send out a message\n",
        "    logging.info(\"Hi, my name is {name}\".format(\n",
        "        name=currentThread.getName()\n",
        "    ))"
      ]
    },
    {
      "cell_type": "markdown",
      "metadata": {
        "id": "GZgZlPuDN_8b"
      },
      "source": [
        "Here we add some simple text to the `run` routine. `threading` provides a handy `currentThread` function that each thread can call to get itself. When it does, we can get a name for it. We use a new method on the string class here: `format`. This is allows us to name fields in the string and is actually the recommended approach. The values themselves are passed as named arguments to `format`.\n",
        "\n",
        "Try running again - you should get a \"Hello\" from every thread."
      ]
    },
    {
      "cell_type": "markdown",
      "metadata": {
        "id": "qHsJ2emiN_8b"
      },
      "source": [
        "Unfortunately, we cannot rely on thread names to be unique and, while all threads get a unique ID, it's horrendously un-user-friendly. As such we will name our threads from 1 up to `thread_count`"
      ]
    },
    {
      "cell_type": "code",
      "execution_count": null,
      "metadata": {
        "collapsed": true,
        "id": "WGnGjlkmN_8b"
      },
      "outputs": [],
      "source": [
        "# Generate some simple numeric way to refer to these\n",
        "thread_indices = range(1, thread_count + 1)\n",
        "threads = {i: threading.Thread(target=run) for i in thread_indices}\n",
        "\n",
        "# The items method turns a module into pairs (tuples) of key and value\n",
        "for idx, thread in threads.items():\n",
        "    thread.index = idx\n",
        "    thread.start()\n",
        "\n",
        "# Wait for all threads to complete\n",
        "for thread in threads.values():\n",
        "    thread.join()"
      ]
    },
    {
      "cell_type": "markdown",
      "metadata": {
        "id": "nNTHJzYzN_8b"
      },
      "source": [
        "First of all, we change our threads list to a dict - that makes more conceptual sense if we are naming them. Our list of names are just the integers from 1 to `thread_count`, so we can use `range`. You can see on the second line a variation of the generator notation that we saw a minute ago applied to dicts. The only change is that we now supply a key and a colon before the value. This produces a dict like any other mapping `thread_count` integers to `thread_count` new threads.\n",
        "\n",
        "To loop, we introduce a couple of methods - `dict.items`, which returns a key-value tuple (pair) for each element - and `dict.values`, which returns all of the values, with no keys. As you can imagine, there is also `dict.keys`, (in fact, if you use the dict itself as the loop iterable, you will get only the keys).\n",
        "\n",
        "We cheekily slip in a dynamic modification to the thread object. This isn't extremely bad, but it's not the tidiest way of passing information - we don't know for sure that threading.Thread or its superclasses have no `index` member, for instance. However, it does highlight the fact that objects in Python, by default, can have members added on the fly."
      ]
    },
    {
      "cell_type": "code",
      "execution_count": null,
      "metadata": {
        "collapsed": true,
        "id": "z_JlIPb5N_8b"
      },
      "outputs": [],
      "source": [
        "def run():\n",
        "    currentThread = threading.currentThread()\n",
        "\n",
        "    # Send out a message\n",
        "    logging.info(\"Hi, my name is {name} and my index is {index}\".format(\n",
        "        name=currentThread.getName(),\n",
        "        index=currentThread.index\n",
        "    ))"
      ]
    },
    {
      "cell_type": "markdown",
      "metadata": {
        "id": "XocUdxzfN_8c"
      },
      "source": [
        "Now we can have updated with a minor extension of \"`run`\". Try executing the code - you should now get a unique number fom 1 to `thread_count` from each thread. Check your code matches `network_test_client2_partial2.py`"
      ]
    },
    {
      "cell_type": "markdown",
      "metadata": {
        "id": "_pEquhdVN_8c"
      },
      "source": [
        "# Challenge\n",
        "\n",
        "Combine our first code into the `run` function to produce a script that tests 10 times (timeit arg) from each of 10 threads.\n",
        "\n",
        "Use a global list `result` to store the `average_return_time` for each thread as a tuple `(index, average_return_time)`."
      ]
    },
    {
      "cell_type": "markdown",
      "metadata": {
        "id": "N_jarfEWN_8c"
      },
      "source": [
        " Don't worry about atomic operations for the moment."
      ]
    },
    {
      "cell_type": "markdown",
      "metadata": {
        "id": "XaaVqPSKN_8c"
      },
      "source": [
        "# Combined Code\n",
        "\n",
        "Compare with `network_test_client2_complete.py`"
      ]
    },
    {
      "cell_type": "code",
      "execution_count": null,
      "metadata": {
        "collapsed": true,
        "id": "Wb9AecoUN_8c"
      },
      "outputs": [],
      "source": [
        "results = []\n",
        "lock = threading.Lock()\n",
        "thread_indices = range(1, thread_count + 1)\n",
        "..."
      ]
    },
    {
      "cell_type": "markdown",
      "metadata": {
        "id": "0bLdj1ppN_8c"
      },
      "source": [
        "This is the approach I used. I told you not to worry about atomic operations (Python, for built-ins, actually looks after this itself). However, to illustrate, I have created a lock object, along with the `result` list, just before the `thread_indices` assignment"
      ]
    },
    {
      "cell_type": "code",
      "execution_count": null,
      "metadata": {
        "id": "4s8RWtoTN_8c"
      },
      "outputs": [],
      "source": [
        "    # sockets over-arching try-catch here\n",
        "\n",
        "    # Strictly, a lock isn't required for accessing a dict, but this is an\n",
        "    # opportunity to demonstrate the use of locks\n",
        "    with lock:\n",
        "        results.append((currentThread.index, average_return_time))\n",
        "\n",
        "    logger.info(\"Average time taken: {delay} s\".format(delay=average_return_time))"
      ]
    },
    {
      "cell_type": "markdown",
      "metadata": {
        "id": "9veB3PsNN_8c"
      },
      "source": [
        "Inside the `run`, we have the original try-except. At the end of it, I have updated `results` with the pair I described. This is the integer index and the average return time. This shows the diversity of `with` - here it succinctly grabs and releases the lock before accessing the global results. Clear and concise."
      ]
    },
    {
      "cell_type": "markdown",
      "metadata": {
        "id": "MebgnqoPN_8d"
      },
      "source": [
        "Now... how do we analyse this?"
      ]
    },
    {
      "cell_type": "code",
      "execution_count": null,
      "metadata": {
        "collapsed": true,
        "id": "vqmAiW9ZN_8d"
      },
      "outputs": [],
      "source": [
        "# Now we switch our results (2xthread_count) list to a numpy structure\n",
        "data = np.array(results)\n",
        "\n",
        "# However, we are likely to want to play around with the statistics, in\n",
        "# Jupyter or elsewhere, so we save them...\n",
        "np.save(output_filename, data)"
      ]
    },
    {
      "cell_type": "markdown",
      "metadata": {
        "id": "JYRUgJ1TN_8d"
      },
      "source": [
        "Right at the end, we have this. Rather than running our code for every analysis, we dump out a numpy object that we can read in in a separate script. And so you have it! Running `network_test_client2_complete.py` (or updating your own code) will output a file with this data."
      ]
    },
    {
      "cell_type": "markdown",
      "metadata": {
        "id": "vm7wwmw5N_8d"
      },
      "source": [
        "# The Ghost of Coding Future\n",
        "## Styling for future you"
      ]
    },
    {
      "cell_type": "markdown",
      "metadata": {
        "id": "tss9LM4ON_8d"
      },
      "source": [
        "Only recently, when having to work with code written by new Pythoners, and my appeals for *some* code style have fallen on deaf ears, have I realised how worthwhile emphasizing this at the start is. Not that it was worse than any other language, and as you're mostly computer scientists rather than physical scientists, decent style is just status quo.\n",
        "\n",
        "However, half the point of Python is that this *should not* be a problem in Python, and so Python-style is part of learning the language. I know for a fact, my Python was pretty ropey when I started out, and I paid the price when I went back six months later to edit some of it. However, I was simultaneously editing my six month old mathematician C++, so even with the ropey Python, I was sold on the benefits."
      ]
    },
    {
      "cell_type": "markdown",
      "metadata": {
        "id": "RKCYVaIKN_8d"
      },
      "source": [
        "To begin, I am going to give you a group 10 minute challenge:\n",
        "\n",
        " * rewrite the code in `bad_python.py` to print, when `newversion` is `True`:\n",
        "\n",
        "```\n",
        "1:PRINTING VALUES\n",
        "\n",
        "2:0.84 is sin(x), 0.54 is cos(x)\n",
        "3:0.91 is sin(x), -0.42 is cos(x)\n",
        "4:0.14 is sin(x), -0.99 is cos(x)\n",
        "5:-0.76 is sin(x), -0.65 is cos(x)\n",
        "6:-0.96 is sin(x), 0.28 is cos(x)\n",
        "7:-0.28 is sin(x), 0.96 is cos(x)\n",
        "8:0.66 is sin(x), 0.75 is cos(x)\n",
        "9:0.99 is sin(x), -0.15 is cos(x)\n",
        "10:0.41 is sin(x), -0.91 is cos(x)\n",
        "```\n",
        " * return to original functionality when `newversion` is `False`"
      ]
    },
    {
      "cell_type": "markdown",
      "metadata": {
        "id": "7t_L9b7VN_8d"
      },
      "source": [
        "There are a few new features snuck in there - use Google and ask on Etherpad to find out about them. If you have any ideas or hints, put them into Etherpad - exchange ideas! And put up your stars!\n",
        "\n",
        "This isn't just me being irritating - this is the kind of code accretion that can happen with shortcuts to include a feature - writing code rather than using libraries, taking the first solution rather than looking for a Pythonic one... it's not hard to end up with this sort of thing..."
      ]
    },
    {
      "cell_type": "markdown",
      "metadata": {
        "id": "3qir84QlN_8e"
      },
      "source": [
        "# The Revelation\n",
        "\n",
        "\"*Scrooge hung his head to hear his own words quoted by the Spirit, and was overcome with penitence and grief.*\"<br/> ~ A Christmas Carol, Ch. Dickens\n",
        "\n",
        "(also me after dealing with past-me's code)"
      ]
    },
    {
      "cell_type": "markdown",
      "metadata": {
        "id": "E_-eixKpN_8e"
      },
      "source": [
        "We will try this now with slightly more readable code. Still not ideal, and there's a few niceties left out for simplicity in this lesson, so don't take it as perfection!"
      ]
    },
    {
      "cell_type": "markdown",
      "metadata": {
        "id": "8mgQBimGN_8e"
      },
      "source": [
        "Now try it with better code:\n",
        "\n",
        " * rewrite the code in `better_python.py` to print, when `newversion` is `True`:\n",
        "\n",
        "```\n",
        "1:PRINTING VALUES OF SIN AND COS FOR x IN 1, 2,..., 9\n",
        "\n",
        "2:0.84 is sin(x), 0.54 is cos(x)\n",
        "3:0.91 is sin(x), -0.42 is cos(x)\n",
        "4:0.14 is sin(x), -0.99 is cos(x)\n",
        "5:-0.76 is sin(x), -0.65 is cos(x)\n",
        "6:-0.96 is sin(x), 0.28 is cos(x)\n",
        "7:-0.28 is sin(x), 0.96 is cos(x)\n",
        "8:0.66 is sin(x), 0.75 is cos(x)\n",
        "9:0.99 is sin(x), -0.15 is cos(x)\n",
        "10:0.41 is sin(x), -0.91 is cos(x)\n",
        "```\n",
        " * return to original functionality when `newversion` is `False`"
      ]
    },
    {
      "cell_type": "markdown",
      "metadata": {
        "id": "Yv8hCRo0N_8e"
      },
      "source": [
        "TIP 1: [zip](https://docs.python.org/3/library/functions.html#zip) pairs up items in equal length lists/arrays/etc. and turns them into a series of tuples\n",
        "\n",
        "TIP 2: the `in` operator can assign N-length tuples on the right to N comma separated variables on the left, e.g.\n",
        "```python\n",
        "x = [(1, 3, 1), (4, 2, 9), (1, 0, 10), (9, 18, 1)]\n",
        "for a, b, c in x:\n",
        "    print(\"A+B/C =\", a + b / c)\n",
        "```"
      ]
    },
    {
      "cell_type": "markdown",
      "metadata": {
        "hideOutput": false,
        "id": "qthTUG0sN_8e"
      },
      "source": [
        "# Challenge - Ease of extension\n",
        "## It is easier to extend good code than R&D funding"
      ]
    },
    {
      "cell_type": "markdown",
      "metadata": {
        "id": "lgU0AjlWN_8e"
      },
      "source": [
        "So, experiment wildly, which Python is awesome for, but also aim to write for panicking future-you, who wants to get last-minute final chapter stuff added quickly and painlessly..."
      ]
    },
    {
      "cell_type": "markdown",
      "metadata": {
        "id": "jBHOs5wIN_8e"
      },
      "source": [
        "Use `matplotlib` or `bokeh` to add plotting functionality to `better_python.py`. Note that both of them can output to a file (`bokeh` to HTML for interactivity)."
      ]
    },
    {
      "cell_type": "markdown",
      "metadata": {
        "id": "AasHuMRNN_8e"
      },
      "source": [
        "Do this whatever way you want - with title, axes labels, interactivity, line colours, separate functionality for newversion on and off (or just when on). Add notes to Etherpad to suggest original ideas for others also, and let us know your method."
      ]
    },
    {
      "cell_type": "markdown",
      "metadata": {
        "id": "JzICrzHUN_8f"
      },
      "source": [
        "# Challenge - Testing"
      ]
    },
    {
      "cell_type": "markdown",
      "metadata": {
        "id": "B0jCg1kkN_8f"
      },
      "source": [
        "Install pytest using `pip`."
      ]
    },
    {
      "cell_type": "markdown",
      "metadata": {
        "id": "tqDi6dBmN_8f"
      },
      "source": [
        "Switch `test_runner_can_generate_callers` to test with real threads, but faked (\"monkey-patched\") `run_caller` methods."
      ]
    },
    {
      "cell_type": "markdown",
      "metadata": {
        "id": "rpVOMip_N_8f"
      },
      "source": [
        "In pairs, have a look at creating tests for:\n",
        "\n",
        "* test_config : `get_config`, `ConfigManager.get` and `ConfigManager.load`\n",
        "* test_client : `HttpEchoClient.create_connection`\n",
        "* test_runner : `ParallelRunner.run_caller`"
      ]
    }
  ],
  "metadata": {
    "celltoolbar": "Slideshow",
    "kernelspec": {
      "display_name": "Python 3",
      "language": "python",
      "name": "python3"
    },
    "language_info": {
      "codemirror_mode": {
        "name": "ipython",
        "version": 3
      },
      "file_extension": ".py",
      "mimetype": "text/x-python",
      "name": "python",
      "nbconvert_exporter": "python",
      "pygments_lexer": "ipython3",
      "version": "3.7.11"
    },
    "livereveal": {
      "theme": "beige",
      "transitions": "concave"
    },
    "colab": {
      "provenance": []
    }
  },
  "nbformat": 4,
  "nbformat_minor": 0
}